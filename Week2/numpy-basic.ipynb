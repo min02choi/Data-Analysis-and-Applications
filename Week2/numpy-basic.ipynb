{
 "cells": [
  {
   "cell_type": "markdown",
   "source": [
    "## 9월 12일 Numpy"
   ],
   "metadata": {
    "collapsed": false
   },
   "id": "bd5eda428cbf303b"
  },
  {
   "cell_type": "code",
   "execution_count": 1,
   "id": "initial_id",
   "metadata": {
    "collapsed": true,
    "ExecuteTime": {
     "end_time": "2023-09-12T03:59:46.135819Z",
     "start_time": "2023-09-12T03:59:42.295491Z"
    }
   },
   "outputs": [],
   "source": [
    "import numpy as np\n"
   ]
  },
  {
   "cell_type": "code",
   "execution_count": 2,
   "outputs": [],
   "source": [
    "lst = [95., 90., 90., 70, 92, 88, 80]"
   ],
   "metadata": {
    "collapsed": false,
    "ExecuteTime": {
     "end_time": "2023-09-12T03:59:46.149615Z",
     "start_time": "2023-09-12T03:59:46.133741Z"
    }
   },
   "id": "b065fb2e681ea0d8"
  },
  {
   "cell_type": "code",
   "execution_count": 3,
   "outputs": [
    {
     "name": "stdout",
     "output_type": "stream",
     "text": [
      "[95.0, 90.0, 90.0, 70, 92, 88, 80]\n",
      "7\n",
      "<class 'list'>\n",
      "<class 'float'>\n",
      "<class 'int'>\n"
     ]
    }
   ],
   "source": [
    "print(lst)\n",
    "print(len(lst))\n",
    "print(type(lst))\n",
    "print(type(lst[0]))\n",
    "print(type(lst[4]))"
   ],
   "metadata": {
    "collapsed": false,
    "ExecuteTime": {
     "end_time": "2023-09-12T03:59:46.185470Z",
     "start_time": "2023-09-12T03:59:46.138155Z"
    }
   },
   "id": "8812e30add7ed594"
  },
  {
   "cell_type": "code",
   "execution_count": 5,
   "outputs": [],
   "source": [
    "arr = np.array(lst)"
   ],
   "metadata": {
    "collapsed": false,
    "ExecuteTime": {
     "end_time": "2023-09-12T03:59:51.143114Z",
     "start_time": "2023-09-12T03:59:51.115352Z"
    }
   },
   "id": "89d615b837de571f"
  },
  {
   "cell_type": "code",
   "execution_count": 6,
   "outputs": [
    {
     "name": "stdout",
     "output_type": "stream",
     "text": [
      "[95. 90. 90. 70. 92. 88. 80.]\n",
      "(7,)\n",
      "<class 'numpy.ndarray'>\n",
      "float64\n"
     ]
    }
   ],
   "source": [
    "print(arr)\n",
    "print(arr.shape)\n",
    "print(type(arr))\n",
    "print(arr.dtype)"
   ],
   "metadata": {
    "collapsed": false,
    "ExecuteTime": {
     "end_time": "2023-09-12T03:59:53.432393Z",
     "start_time": "2023-09-12T03:59:53.348013Z"
    }
   },
   "id": "bfc4125feceb8f50"
  },
  {
   "cell_type": "code",
   "execution_count": 7,
   "outputs": [
    {
     "name": "stdout",
     "output_type": "stream",
     "text": [
      "[[8910  655]\n",
      " [6668  534]]\n",
      "[[8550  450]\n",
      " [ 280  184]]\n",
      "[[8910  655]\n",
      " [6668  534]]\n",
      "[[8910  655]\n",
      " [6668  534]]\n"
     ]
    }
   ],
   "source": [
    "lst1 = [[95, 90], [70, 92]]\n",
    "lst2 = [[90, 5], [4, 2]]\n",
    "\n",
    "# 넘파이 리스트\n",
    "arr1 = np.array(lst1, dtype=np.int32)\n",
    "arr2 = np.array(lst2)\n",
    "print(np.matmul(arr1, arr2))        # 행렬끼리의 곱\n",
    "print(np.multiply(arr1, arr2))      # 원소끼리의 곱 \n",
    "\n",
    "# 행렬로 변환간 경우\n",
    "arr3 = np.matrix(lst1)\n",
    "arr4 = np.matrix(lst2)\n",
    "print(arr3 @ arr4)          # 행렬끼리의 곱\n",
    "print(arr3 * arr4)          # 행렬끼리의 곱"
   ],
   "metadata": {
    "collapsed": false,
    "ExecuteTime": {
     "end_time": "2023-09-12T03:59:55.028564Z",
     "start_time": "2023-09-12T03:59:54.993499Z"
    }
   },
   "id": "205a0f4fdc6d1199"
  },
  {
   "cell_type": "code",
   "execution_count": 13,
   "outputs": [
    {
     "name": "stdout",
     "output_type": "stream",
     "text": [
      "[ 0  1  2  3  4  5  6  7  8  9 10 11]\n",
      "[[ 0  1  2  3  4  5]\n",
      " [ 6  7  8  9 10 11]]\n",
      "0\n",
      "[0 1 2 3 4 5]\n",
      "0\n"
     ]
    }
   ],
   "source": [
    "arr1 = np.arange (12)\n",
    "arr2 = arr1. reshape (2, -1)\n",
    "print (arr1)\n",
    "print (arr2)\n",
    "\n",
    "print (arr1[0])\n",
    "print (arr2[0])\n",
    "\n",
    "print (arr2[0, 0])"
   ],
   "metadata": {
    "collapsed": false,
    "ExecuteTime": {
     "end_time": "2023-09-12T04:07:07.531665Z",
     "start_time": "2023-09-12T04:07:07.526493Z"
    }
   },
   "id": "c708fce5af7c9c1a"
  },
  {
   "cell_type": "code",
   "execution_count": 14,
   "outputs": [
    {
     "name": "stdout",
     "output_type": "stream",
     "text": [
      "[ 0  1  2  3  4  5  6  7  8  9 10 11]\n",
      "[[ 0  1  2  3  4  5]\n",
      " [ 6  7  8  9 10 11]]\n",
      "[2 3 4 5 6 7 8 9]\n",
      "[[ 0  1  2  3  4  5]\n",
      " [ 6  7  8  9 10 11]]\n"
     ]
    }
   ],
   "source": [
    "# Deep Copy\n",
    "arr1 = np.arange (12)\n",
    "arr2 = arr1.reshape (2, -1)\n",
    "arr3 = arr1[2:10]\n",
    "arr4 = arr2.copy()\n",
    "\n",
    "arr2[0, 0] = 0\n",
    "\n",
    "print (arr1)\n",
    "print (arr2)\n",
    "print (arr3)\n",
    "print (arr4)"
   ],
   "metadata": {
    "collapsed": false,
    "ExecuteTime": {
     "end_time": "2023-09-12T04:08:08.798044Z",
     "start_time": "2023-09-12T04:08:08.792190Z"
    }
   },
   "id": "c3d2dd1711a764ba"
  },
  {
   "cell_type": "code",
   "execution_count": 17,
   "outputs": [
    {
     "name": "stdout",
     "output_type": "stream",
     "text": [
      "[[ 0  1  2  3]\n",
      " [ 4  5  6  7]\n",
      " [ 8  9 10 11]\n",
      " [12 13 14 15]]\n",
      "7\n",
      "1\n",
      "10\n",
      "[ 7  1 10]\n"
     ]
    }
   ],
   "source": [
    "# Indexing\n",
    "arr1 = np.arange(16)\n",
    "arr2 = arr1.reshape(4, -1)\n",
    "print(arr2)\n",
    "\n",
    "print(arr2[1, 3])\n",
    "print(arr2[0, 1])\n",
    "print(arr2[2, 2])\n",
    "\n",
    "print(arr2[[1, 0, 2], [3, 1, 2]])"
   ],
   "metadata": {
    "collapsed": false,
    "ExecuteTime": {
     "end_time": "2023-09-12T04:09:52.300921Z",
     "start_time": "2023-09-12T04:09:52.294974Z"
    }
   },
   "id": "db5b5c563b7311f9"
  },
  {
   "cell_type": "code",
   "execution_count": 18,
   "outputs": [
    {
     "name": "stdout",
     "output_type": "stream",
     "text": [
      "[[ 0  1  2  3]\n",
      " [ 4  5  6  7]\n",
      " [ 8  9 10 11]\n",
      " [12 13 14 15]]\n",
      "[[ 5  6]\n",
      " [ 9 10]]\n",
      "[[ 0  1  2  3]\n",
      " [ 4  5  6  7]\n",
      " [ 8  9 10 11]\n",
      " [12 13 14 15]]\n",
      "[[ 4  5  6]\n",
      " [ 8  9 10]\n",
      " [12 13 14]]\n"
     ]
    }
   ],
   "source": [
    "arr = np.arange(16).reshape(4, 4)\n",
    "print(arr)\n",
    "print(arr[1:3, 1:3])\n",
    "print(arr[:, :])\n",
    "print(arr[1:, :-1])"
   ],
   "metadata": {
    "collapsed": false,
    "ExecuteTime": {
     "end_time": "2023-09-12T04:10:49.162279Z",
     "start_time": "2023-09-12T04:10:49.151483Z"
    }
   },
   "id": "e78558228867d6eb"
  },
  {
   "cell_type": "code",
   "execution_count": null,
   "outputs": [],
   "source": [],
   "metadata": {
    "collapsed": false
   },
   "id": "2e89b243673faf57"
  }
 ],
 "metadata": {
  "kernelspec": {
   "display_name": "Python 3",
   "language": "python",
   "name": "python3"
  },
  "language_info": {
   "codemirror_mode": {
    "name": "ipython",
    "version": 2
   },
   "file_extension": ".py",
   "mimetype": "text/x-python",
   "name": "python",
   "nbconvert_exporter": "python",
   "pygments_lexer": "ipython2",
   "version": "2.7.6"
  }
 },
 "nbformat": 4,
 "nbformat_minor": 5
}
