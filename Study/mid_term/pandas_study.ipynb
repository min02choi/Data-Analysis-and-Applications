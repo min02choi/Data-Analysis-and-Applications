{
 "cells": [
  {
   "cell_type": "code",
   "execution_count": 2,
   "id": "initial_id",
   "metadata": {
    "collapsed": true,
    "ExecuteTime": {
     "end_time": "2023-10-25T07:20:29.659409Z",
     "start_time": "2023-10-25T07:20:29.643193Z"
    }
   },
   "outputs": [],
   "source": [
    "import numpy as np\n",
    "import pandas as pd\n",
    "\n",
    "from pandas import Series, DataFrame"
   ]
  },
  {
   "cell_type": "code",
   "execution_count": 3,
   "outputs": [
    {
     "data": {
      "text/plain": "a    1\nb    2\nc    3\nd    4\ne    5\ndtype: int64"
     },
     "execution_count": 3,
     "metadata": {},
     "output_type": "execute_result"
    }
   ],
   "source": [
    "list_data = [1, 2, 3, 4, 5]\n",
    "list_name = [\"a\", \"b\" ,\"c\" ,\"d\" ,\"e\"]\n",
    "\n",
    "example_obj = Series(data=list_data, index=list_name)\n",
    "example_obj"
   ],
   "metadata": {
    "collapsed": false,
    "ExecuteTime": {
     "end_time": "2023-10-25T07:21:46.003942Z",
     "start_time": "2023-10-25T07:21:45.979141Z"
    }
   },
   "id": "70372c69c61a101a"
  },
  {
   "cell_type": "code",
   "execution_count": 4,
   "outputs": [
    {
     "data": {
      "text/plain": "id\na    1\nb    2\nc    3\nd    4\ne    5\nName: number, dtype: int64"
     },
     "execution_count": 4,
     "metadata": {},
     "output_type": "execute_result"
    }
   ],
   "source": [
    "example_obj.name = \"number\"\n",
    "example_obj.index.name = \"id\"\n",
    "example_obj"
   ],
   "metadata": {
    "collapsed": false,
    "ExecuteTime": {
     "end_time": "2023-10-25T07:23:21.402973Z",
     "start_time": "2023-10-25T07:23:21.369747Z"
    }
   },
   "id": "2a446896edb790a8"
  },
  {
   "cell_type": "code",
   "execution_count": 5,
   "outputs": [
    {
     "data": {
      "text/plain": "a    1.0\nb    2.0\nc    3.0\nd    4.0\ne    5.0\nName: example_data, dtype: float32"
     },
     "execution_count": 5,
     "metadata": {},
     "output_type": "execute_result"
    }
   ],
   "source": [
    "dict_data = { \"a\": 1, \"b\": 2, \"c\": 3, \"d\": 4, \"e\": 5 }\n",
    "example_obj = Series(dict_data, dtype=np.float32, name=\"example_data\")\n",
    "example_obj"
   ],
   "metadata": {
    "collapsed": false,
    "ExecuteTime": {
     "end_time": "2023-10-25T07:24:27.492282Z",
     "start_time": "2023-10-25T07:24:27.464380Z"
    }
   },
   "id": "52f3895003f302d9"
  },
  {
   "cell_type": "code",
   "execution_count": 6,
   "outputs": [
    {
     "data": {
      "text/plain": "  first_name last_name  age           city\n0      Jason    Miller   42  San Francisco\n1      Molly  Jacobson   52      Baltimore\n2       Tina       Ali   36          Miami\n3       Jake    Milner   24        Douglas\n4        Amy     Cooze   73         Boston",
      "text/html": "<div>\n<style scoped>\n    .dataframe tbody tr th:only-of-type {\n        vertical-align: middle;\n    }\n\n    .dataframe tbody tr th {\n        vertical-align: top;\n    }\n\n    .dataframe thead th {\n        text-align: right;\n    }\n</style>\n<table border=\"1\" class=\"dataframe\">\n  <thead>\n    <tr style=\"text-align: right;\">\n      <th></th>\n      <th>first_name</th>\n      <th>last_name</th>\n      <th>age</th>\n      <th>city</th>\n    </tr>\n  </thead>\n  <tbody>\n    <tr>\n      <th>0</th>\n      <td>Jason</td>\n      <td>Miller</td>\n      <td>42</td>\n      <td>San Francisco</td>\n    </tr>\n    <tr>\n      <th>1</th>\n      <td>Molly</td>\n      <td>Jacobson</td>\n      <td>52</td>\n      <td>Baltimore</td>\n    </tr>\n    <tr>\n      <th>2</th>\n      <td>Tina</td>\n      <td>Ali</td>\n      <td>36</td>\n      <td>Miami</td>\n    </tr>\n    <tr>\n      <th>3</th>\n      <td>Jake</td>\n      <td>Milner</td>\n      <td>24</td>\n      <td>Douglas</td>\n    </tr>\n    <tr>\n      <th>4</th>\n      <td>Amy</td>\n      <td>Cooze</td>\n      <td>73</td>\n      <td>Boston</td>\n    </tr>\n  </tbody>\n</table>\n</div>"
     },
     "execution_count": 6,
     "metadata": {},
     "output_type": "execute_result"
    }
   ],
   "source": [
    "raw_data = {\n",
    "      'first_name': ['Jason', 'Molly', 'Tina', 'Jake', 'Amy'],\n",
    "      'last_name': ['Miller', 'Jacobson', 'Ali', 'Milner', 'Cooze'],\n",
    "      'age': [42, 52, 36, 24, 73],\n",
    "      'city': ['San Francisco', 'Baltimore', 'Miami', 'Douglas', 'Boston']\n",
    "    }\n",
    "\n",
    "df = pd.DataFrame(raw_data, columns = ['first_name', 'last_name', 'age', 'city'])\n",
    "df"
   ],
   "metadata": {
    "collapsed": false,
    "ExecuteTime": {
     "end_time": "2023-10-25T07:25:57.787658Z",
     "start_time": "2023-10-25T07:25:57.758384Z"
    }
   },
   "id": "b133161d6cd7f6b8"
  },
  {
   "cell_type": "code",
   "execution_count": 7,
   "outputs": [
    {
     "data": {
      "text/plain": "0    Jason\n1    Molly\n2     Tina\n3     Jake\n4      Amy\nName: first_name, dtype: object"
     },
     "execution_count": 7,
     "metadata": {},
     "output_type": "execute_result"
    }
   ],
   "source": [
    "df[\"first_name\"]"
   ],
   "metadata": {
    "collapsed": false,
    "ExecuteTime": {
     "end_time": "2023-10-25T07:27:58.463021Z",
     "start_time": "2023-10-25T07:27:58.428852Z"
    }
   },
   "id": "da34cbe3da3b6bfe"
  },
  {
   "cell_type": "code",
   "execution_count": 8,
   "outputs": [
    {
     "data": {
      "text/plain": "  first_name\n0      Jason\n1      Molly\n2       Tina\n3       Jake\n4        Amy",
      "text/html": "<div>\n<style scoped>\n    .dataframe tbody tr th:only-of-type {\n        vertical-align: middle;\n    }\n\n    .dataframe tbody tr th {\n        vertical-align: top;\n    }\n\n    .dataframe thead th {\n        text-align: right;\n    }\n</style>\n<table border=\"1\" class=\"dataframe\">\n  <thead>\n    <tr style=\"text-align: right;\">\n      <th></th>\n      <th>first_name</th>\n    </tr>\n  </thead>\n  <tbody>\n    <tr>\n      <th>0</th>\n      <td>Jason</td>\n    </tr>\n    <tr>\n      <th>1</th>\n      <td>Molly</td>\n    </tr>\n    <tr>\n      <th>2</th>\n      <td>Tina</td>\n    </tr>\n    <tr>\n      <th>3</th>\n      <td>Jake</td>\n    </tr>\n    <tr>\n      <th>4</th>\n      <td>Amy</td>\n    </tr>\n  </tbody>\n</table>\n</div>"
     },
     "execution_count": 8,
     "metadata": {},
     "output_type": "execute_result"
    }
   ],
   "source": [
    "df[[\"first_name\"]]"
   ],
   "metadata": {
    "collapsed": false,
    "ExecuteTime": {
     "end_time": "2023-10-25T07:28:09.531773Z",
     "start_time": "2023-10-25T07:28:09.506910Z"
    }
   },
   "id": "e0836e2b21c18ac4"
  },
  {
   "cell_type": "code",
   "execution_count": 9,
   "outputs": [
    {
     "data": {
      "text/plain": "  first_name last_name  age           city\n0      Jason    Miller   42  San Francisco\n2       Tina       Ali   36          Miami\n3       Jake    Milner   24        Douglas\n4        Amy     Cooze   73         Boston",
      "text/html": "<div>\n<style scoped>\n    .dataframe tbody tr th:only-of-type {\n        vertical-align: middle;\n    }\n\n    .dataframe tbody tr th {\n        vertical-align: top;\n    }\n\n    .dataframe thead th {\n        text-align: right;\n    }\n</style>\n<table border=\"1\" class=\"dataframe\">\n  <thead>\n    <tr style=\"text-align: right;\">\n      <th></th>\n      <th>first_name</th>\n      <th>last_name</th>\n      <th>age</th>\n      <th>city</th>\n    </tr>\n  </thead>\n  <tbody>\n    <tr>\n      <th>0</th>\n      <td>Jason</td>\n      <td>Miller</td>\n      <td>42</td>\n      <td>San Francisco</td>\n    </tr>\n    <tr>\n      <th>2</th>\n      <td>Tina</td>\n      <td>Ali</td>\n      <td>36</td>\n      <td>Miami</td>\n    </tr>\n    <tr>\n      <th>3</th>\n      <td>Jake</td>\n      <td>Milner</td>\n      <td>24</td>\n      <td>Douglas</td>\n    </tr>\n    <tr>\n      <th>4</th>\n      <td>Amy</td>\n      <td>Cooze</td>\n      <td>73</td>\n      <td>Boston</td>\n    </tr>\n  </tbody>\n</table>\n</div>"
     },
     "execution_count": 9,
     "metadata": {},
     "output_type": "execute_result"
    }
   ],
   "source": [
    "df.drop(1).head()"
   ],
   "metadata": {
    "collapsed": false,
    "ExecuteTime": {
     "end_time": "2023-10-25T07:35:18.440730Z",
     "start_time": "2023-10-25T07:35:18.413842Z"
    }
   },
   "id": "79e6ffe7bc149509"
  },
  {
   "cell_type": "code",
   "execution_count": 10,
   "outputs": [
    {
     "data": {
      "text/plain": "  first_name last_name  age           city\n0      Jason    Miller   42  San Francisco\n2       Tina       Ali   36          Miami\n3       Jake    Milner   24        Douglas\n4        Amy     Cooze   73         Boston",
      "text/html": "<div>\n<style scoped>\n    .dataframe tbody tr th:only-of-type {\n        vertical-align: middle;\n    }\n\n    .dataframe tbody tr th {\n        vertical-align: top;\n    }\n\n    .dataframe thead th {\n        text-align: right;\n    }\n</style>\n<table border=\"1\" class=\"dataframe\">\n  <thead>\n    <tr style=\"text-align: right;\">\n      <th></th>\n      <th>first_name</th>\n      <th>last_name</th>\n      <th>age</th>\n      <th>city</th>\n    </tr>\n  </thead>\n  <tbody>\n    <tr>\n      <th>0</th>\n      <td>Jason</td>\n      <td>Miller</td>\n      <td>42</td>\n      <td>San Francisco</td>\n    </tr>\n    <tr>\n      <th>2</th>\n      <td>Tina</td>\n      <td>Ali</td>\n      <td>36</td>\n      <td>Miami</td>\n    </tr>\n    <tr>\n      <th>3</th>\n      <td>Jake</td>\n      <td>Milner</td>\n      <td>24</td>\n      <td>Douglas</td>\n    </tr>\n    <tr>\n      <th>4</th>\n      <td>Amy</td>\n      <td>Cooze</td>\n      <td>73</td>\n      <td>Boston</td>\n    </tr>\n  </tbody>\n</table>\n</div>"
     },
     "execution_count": 10,
     "metadata": {},
     "output_type": "execute_result"
    }
   ],
   "source": [
    "df.drop(1).head()"
   ],
   "metadata": {
    "collapsed": false,
    "ExecuteTime": {
     "end_time": "2023-10-25T07:35:24.424491Z",
     "start_time": "2023-10-25T07:35:24.395574Z"
    }
   },
   "id": "ecc18d694a4a7a8d"
  },
  {
   "cell_type": "code",
   "execution_count": 11,
   "outputs": [
    {
     "data": {
      "text/plain": "  first_name last_name  age           city\n0      Jason    Miller   42  San Francisco\n1      Molly  Jacobson   52      Baltimore\n2       Tina       Ali   36          Miami\n3       Jake    Milner   24        Douglas\n4        Amy     Cooze   73         Boston",
      "text/html": "<div>\n<style scoped>\n    .dataframe tbody tr th:only-of-type {\n        vertical-align: middle;\n    }\n\n    .dataframe tbody tr th {\n        vertical-align: top;\n    }\n\n    .dataframe thead th {\n        text-align: right;\n    }\n</style>\n<table border=\"1\" class=\"dataframe\">\n  <thead>\n    <tr style=\"text-align: right;\">\n      <th></th>\n      <th>first_name</th>\n      <th>last_name</th>\n      <th>age</th>\n      <th>city</th>\n    </tr>\n  </thead>\n  <tbody>\n    <tr>\n      <th>0</th>\n      <td>Jason</td>\n      <td>Miller</td>\n      <td>42</td>\n      <td>San Francisco</td>\n    </tr>\n    <tr>\n      <th>1</th>\n      <td>Molly</td>\n      <td>Jacobson</td>\n      <td>52</td>\n      <td>Baltimore</td>\n    </tr>\n    <tr>\n      <th>2</th>\n      <td>Tina</td>\n      <td>Ali</td>\n      <td>36</td>\n      <td>Miami</td>\n    </tr>\n    <tr>\n      <th>3</th>\n      <td>Jake</td>\n      <td>Milner</td>\n      <td>24</td>\n      <td>Douglas</td>\n    </tr>\n    <tr>\n      <th>4</th>\n      <td>Amy</td>\n      <td>Cooze</td>\n      <td>73</td>\n      <td>Boston</td>\n    </tr>\n  </tbody>\n</table>\n</div>"
     },
     "execution_count": 11,
     "metadata": {},
     "output_type": "execute_result"
    }
   ],
   "source": [
    "df"
   ],
   "metadata": {
    "collapsed": false,
    "ExecuteTime": {
     "end_time": "2023-10-25T07:35:49.681346Z",
     "start_time": "2023-10-25T07:35:49.655411Z"
    }
   },
   "id": "db4a18d349cc5312"
  },
  {
   "cell_type": "code",
   "execution_count": 12,
   "outputs": [],
   "source": [
    "df.drop(1, inplace=True)"
   ],
   "metadata": {
    "collapsed": false,
    "ExecuteTime": {
     "end_time": "2023-10-25T07:36:16.272576Z",
     "start_time": "2023-10-25T07:36:16.242290Z"
    }
   },
   "id": "f8b1243497bee755"
  },
  {
   "cell_type": "code",
   "execution_count": 13,
   "outputs": [
    {
     "data": {
      "text/plain": "  first_name last_name  age           city\n0      Jason    Miller   42  San Francisco\n2       Tina       Ali   36          Miami\n3       Jake    Milner   24        Douglas\n4        Amy     Cooze   73         Boston",
      "text/html": "<div>\n<style scoped>\n    .dataframe tbody tr th:only-of-type {\n        vertical-align: middle;\n    }\n\n    .dataframe tbody tr th {\n        vertical-align: top;\n    }\n\n    .dataframe thead th {\n        text-align: right;\n    }\n</style>\n<table border=\"1\" class=\"dataframe\">\n  <thead>\n    <tr style=\"text-align: right;\">\n      <th></th>\n      <th>first_name</th>\n      <th>last_name</th>\n      <th>age</th>\n      <th>city</th>\n    </tr>\n  </thead>\n  <tbody>\n    <tr>\n      <th>0</th>\n      <td>Jason</td>\n      <td>Miller</td>\n      <td>42</td>\n      <td>San Francisco</td>\n    </tr>\n    <tr>\n      <th>2</th>\n      <td>Tina</td>\n      <td>Ali</td>\n      <td>36</td>\n      <td>Miami</td>\n    </tr>\n    <tr>\n      <th>3</th>\n      <td>Jake</td>\n      <td>Milner</td>\n      <td>24</td>\n      <td>Douglas</td>\n    </tr>\n    <tr>\n      <th>4</th>\n      <td>Amy</td>\n      <td>Cooze</td>\n      <td>73</td>\n      <td>Boston</td>\n    </tr>\n  </tbody>\n</table>\n</div>"
     },
     "execution_count": 13,
     "metadata": {},
     "output_type": "execute_result"
    }
   ],
   "source": [
    "df"
   ],
   "metadata": {
    "collapsed": false,
    "ExecuteTime": {
     "end_time": "2023-10-25T07:36:21.251082Z",
     "start_time": "2023-10-25T07:36:21.226970Z"
    }
   },
   "id": "6d663472ba070cac"
  },
  {
   "cell_type": "code",
   "execution_count": 14,
   "outputs": [
    {
     "data": {
      "text/plain": "      Team  Rank  Year  Points\n0   Riders     1  2014     876\n1   Riders     2  2015     789\n2   Devils     2  2014     863\n3   Devils     3  2014     673\n4    Kings     3  2014     741\n5    kings     4  2015     812\n6    Kings     1  2016     756\n7    Kings     1  2017     788\n8   Riders     2  2016     694\n9   Royals     4  2014     701\n10  Royals     1  2015     804\n11  Riders     2  2017     690",
      "text/html": "<div>\n<style scoped>\n    .dataframe tbody tr th:only-of-type {\n        vertical-align: middle;\n    }\n\n    .dataframe tbody tr th {\n        vertical-align: top;\n    }\n\n    .dataframe thead th {\n        text-align: right;\n    }\n</style>\n<table border=\"1\" class=\"dataframe\">\n  <thead>\n    <tr style=\"text-align: right;\">\n      <th></th>\n      <th>Team</th>\n      <th>Rank</th>\n      <th>Year</th>\n      <th>Points</th>\n    </tr>\n  </thead>\n  <tbody>\n    <tr>\n      <th>0</th>\n      <td>Riders</td>\n      <td>1</td>\n      <td>2014</td>\n      <td>876</td>\n    </tr>\n    <tr>\n      <th>1</th>\n      <td>Riders</td>\n      <td>2</td>\n      <td>2015</td>\n      <td>789</td>\n    </tr>\n    <tr>\n      <th>2</th>\n      <td>Devils</td>\n      <td>2</td>\n      <td>2014</td>\n      <td>863</td>\n    </tr>\n    <tr>\n      <th>3</th>\n      <td>Devils</td>\n      <td>3</td>\n      <td>2014</td>\n      <td>673</td>\n    </tr>\n    <tr>\n      <th>4</th>\n      <td>Kings</td>\n      <td>3</td>\n      <td>2014</td>\n      <td>741</td>\n    </tr>\n    <tr>\n      <th>5</th>\n      <td>kings</td>\n      <td>4</td>\n      <td>2015</td>\n      <td>812</td>\n    </tr>\n    <tr>\n      <th>6</th>\n      <td>Kings</td>\n      <td>1</td>\n      <td>2016</td>\n      <td>756</td>\n    </tr>\n    <tr>\n      <th>7</th>\n      <td>Kings</td>\n      <td>1</td>\n      <td>2017</td>\n      <td>788</td>\n    </tr>\n    <tr>\n      <th>8</th>\n      <td>Riders</td>\n      <td>2</td>\n      <td>2016</td>\n      <td>694</td>\n    </tr>\n    <tr>\n      <th>9</th>\n      <td>Royals</td>\n      <td>4</td>\n      <td>2014</td>\n      <td>701</td>\n    </tr>\n    <tr>\n      <th>10</th>\n      <td>Royals</td>\n      <td>1</td>\n      <td>2015</td>\n      <td>804</td>\n    </tr>\n    <tr>\n      <th>11</th>\n      <td>Riders</td>\n      <td>2</td>\n      <td>2017</td>\n      <td>690</td>\n    </tr>\n  </tbody>\n</table>\n</div>"
     },
     "execution_count": 14,
     "metadata": {},
     "output_type": "execute_result"
    }
   ],
   "source": [
    "ipl_data = {\n",
    "      'Team': ['Riders', 'Riders', 'Devils', 'Devils', 'Kings', 'kings', 'Kings', 'Kings', 'Riders', 'Royals', 'Royals', 'Riders'],\n",
    "      'Rank': [1, 2, 2, 3, 3, 4, 1, 1, 2, 4, 1, 2],\n",
    "      'Year': [2014, 2015, 2014, 2014, 2014, 2015, 2016, 2017, 2016, 2014, 2015, 2017],\n",
    "      'Points':[876, 789, 863, 673, 741, 812, 756, 788, 694, 701, 804, 690]\n",
    "    }\n",
    "\n",
    "df = pd.DataFrame(ipl_data)\n",
    "df"
   ],
   "metadata": {
    "collapsed": false,
    "ExecuteTime": {
     "end_time": "2023-10-25T07:38:29.531016Z",
     "start_time": "2023-10-25T07:38:29.499693Z"
    }
   },
   "id": "49422dd0e5edf9ee"
  },
  {
   "cell_type": "code",
   "execution_count": 16,
   "outputs": [
    {
     "data": {
      "text/plain": "Team\nDevils    1536\nKings     2285\nRiders    3049\nRoyals    1505\nkings      812\nName: Points, dtype: int64"
     },
     "execution_count": 16,
     "metadata": {},
     "output_type": "execute_result"
    }
   ],
   "source": [
    "df.groupby(\"Team\")[\"Points\"].sum()"
   ],
   "metadata": {
    "collapsed": false,
    "ExecuteTime": {
     "end_time": "2023-10-25T07:39:11.504733Z",
     "start_time": "2023-10-25T07:39:11.490791Z"
    }
   },
   "id": "91fc5e6e50838c90"
  },
  {
   "cell_type": "code",
   "execution_count": 17,
   "outputs": [
    {
     "data": {
      "text/plain": "Year\n2014    3854\n2015    2405\n2016    1450\n2017    1478\nName: Points, dtype: int64"
     },
     "execution_count": 17,
     "metadata": {},
     "output_type": "execute_result"
    }
   ],
   "source": [
    "df.groupby(\"Year\")[\"Points\"].sum()"
   ],
   "metadata": {
    "collapsed": false,
    "ExecuteTime": {
     "end_time": "2023-10-25T07:39:35.373919Z",
     "start_time": "2023-10-25T07:39:35.348350Z"
    }
   },
   "id": "7e91b4d68ae0609a"
  },
  {
   "cell_type": "code",
   "execution_count": 18,
   "outputs": [
    {
     "data": {
      "text/plain": "Team    Year\nDevils  2014    1536\nKings   2014     741\n        2016     756\n        2017     788\nRiders  2014     876\n        2015     789\n        2016     694\n        2017     690\nRoyals  2014     701\n        2015     804\nkings   2015     812\nName: Points, dtype: int64"
     },
     "execution_count": 18,
     "metadata": {},
     "output_type": "execute_result"
    }
   ],
   "source": [
    "df.groupby([\"Team\", \"Year\"])[\"Points\"].sum()"
   ],
   "metadata": {
    "collapsed": false,
    "ExecuteTime": {
     "end_time": "2023-10-25T07:40:14.001244Z",
     "start_time": "2023-10-25T07:40:13.973136Z"
    }
   },
   "id": "1361dfaadc67b475"
  },
  {
   "cell_type": "code",
   "execution_count": 19,
   "outputs": [
    {
     "data": {
      "text/plain": "      Team  Rank  Year  Points\n0   Riders     1  2014     876\n1   Riders     2  2015     789\n4    Kings     3  2014     741\n6    Kings     1  2016     756\n7    Kings     1  2017     788\n8   Riders     2  2016     694\n11  Riders     2  2017     690",
      "text/html": "<div>\n<style scoped>\n    .dataframe tbody tr th:only-of-type {\n        vertical-align: middle;\n    }\n\n    .dataframe tbody tr th {\n        vertical-align: top;\n    }\n\n    .dataframe thead th {\n        text-align: right;\n    }\n</style>\n<table border=\"1\" class=\"dataframe\">\n  <thead>\n    <tr style=\"text-align: right;\">\n      <th></th>\n      <th>Team</th>\n      <th>Rank</th>\n      <th>Year</th>\n      <th>Points</th>\n    </tr>\n  </thead>\n  <tbody>\n    <tr>\n      <th>0</th>\n      <td>Riders</td>\n      <td>1</td>\n      <td>2014</td>\n      <td>876</td>\n    </tr>\n    <tr>\n      <th>1</th>\n      <td>Riders</td>\n      <td>2</td>\n      <td>2015</td>\n      <td>789</td>\n    </tr>\n    <tr>\n      <th>4</th>\n      <td>Kings</td>\n      <td>3</td>\n      <td>2014</td>\n      <td>741</td>\n    </tr>\n    <tr>\n      <th>6</th>\n      <td>Kings</td>\n      <td>1</td>\n      <td>2016</td>\n      <td>756</td>\n    </tr>\n    <tr>\n      <th>7</th>\n      <td>Kings</td>\n      <td>1</td>\n      <td>2017</td>\n      <td>788</td>\n    </tr>\n    <tr>\n      <th>8</th>\n      <td>Riders</td>\n      <td>2</td>\n      <td>2016</td>\n      <td>694</td>\n    </tr>\n    <tr>\n      <th>11</th>\n      <td>Riders</td>\n      <td>2</td>\n      <td>2017</td>\n      <td>690</td>\n    </tr>\n  </tbody>\n</table>\n</div>"
     },
     "execution_count": 19,
     "metadata": {},
     "output_type": "execute_result"
    }
   ],
   "source": [
    "df.groupby(\"Team\").filter(\n",
    "    lambda x: len(x) >= 3\n",
    ")"
   ],
   "metadata": {
    "collapsed": false,
    "ExecuteTime": {
     "end_time": "2023-10-25T07:45:54.674060Z",
     "start_time": "2023-10-25T07:45:54.615211Z"
    }
   },
   "id": "d64ca61854bbb1ef"
  },
  {
   "cell_type": "code",
   "execution_count": 20,
   "outputs": [
    {
     "data": {
      "text/plain": "  subject_id  test_score\n0          1          51\n1          2          15\n2          3          15\n3          4          61\n4          5          16\n5          7          14\n6          8          15\n7          9           1\n8         10          61\n9         11          16",
      "text/html": "<div>\n<style scoped>\n    .dataframe tbody tr th:only-of-type {\n        vertical-align: middle;\n    }\n\n    .dataframe tbody tr th {\n        vertical-align: top;\n    }\n\n    .dataframe thead th {\n        text-align: right;\n    }\n</style>\n<table border=\"1\" class=\"dataframe\">\n  <thead>\n    <tr style=\"text-align: right;\">\n      <th></th>\n      <th>subject_id</th>\n      <th>test_score</th>\n    </tr>\n  </thead>\n  <tbody>\n    <tr>\n      <th>0</th>\n      <td>1</td>\n      <td>51</td>\n    </tr>\n    <tr>\n      <th>1</th>\n      <td>2</td>\n      <td>15</td>\n    </tr>\n    <tr>\n      <th>2</th>\n      <td>3</td>\n      <td>15</td>\n    </tr>\n    <tr>\n      <th>3</th>\n      <td>4</td>\n      <td>61</td>\n    </tr>\n    <tr>\n      <th>4</th>\n      <td>5</td>\n      <td>16</td>\n    </tr>\n    <tr>\n      <th>5</th>\n      <td>7</td>\n      <td>14</td>\n    </tr>\n    <tr>\n      <th>6</th>\n      <td>8</td>\n      <td>15</td>\n    </tr>\n    <tr>\n      <th>7</th>\n      <td>9</td>\n      <td>1</td>\n    </tr>\n    <tr>\n      <th>8</th>\n      <td>10</td>\n      <td>61</td>\n    </tr>\n    <tr>\n      <th>9</th>\n      <td>11</td>\n      <td>16</td>\n    </tr>\n  </tbody>\n</table>\n</div>"
     },
     "execution_count": 20,
     "metadata": {},
     "output_type": "execute_result"
    }
   ],
   "source": [
    "raw_data = {\n",
    "      'subject_id': ['1', '2', '3', '4', '5', '7', '8', '9', '10', '11'],\n",
    "      'test_score': [51, 15, 15, 61, 16, 14, 15, 1, 61, 16]\n",
    "    }\n",
    "\n",
    "df_left = pd.DataFrame(raw_data, columns=['subject_id', 'test_score'])\n",
    "df_left"
   ],
   "metadata": {
    "collapsed": false,
    "ExecuteTime": {
     "end_time": "2023-10-25T07:47:23.734033Z",
     "start_time": "2023-10-25T07:47:23.701740Z"
    }
   },
   "id": "f7f4a5ce77d06940"
  },
  {
   "cell_type": "code",
   "execution_count": 21,
   "outputs": [
    {
     "data": {
      "text/plain": "  subject_id first_name last_name\n0          4      Billy    Bonder\n1          5      Brian     Black\n2          6       Bran   Balwner\n3          7      Bryce     Brice\n4          8      Betty    Btisan",
      "text/html": "<div>\n<style scoped>\n    .dataframe tbody tr th:only-of-type {\n        vertical-align: middle;\n    }\n\n    .dataframe tbody tr th {\n        vertical-align: top;\n    }\n\n    .dataframe thead th {\n        text-align: right;\n    }\n</style>\n<table border=\"1\" class=\"dataframe\">\n  <thead>\n    <tr style=\"text-align: right;\">\n      <th></th>\n      <th>subject_id</th>\n      <th>first_name</th>\n      <th>last_name</th>\n    </tr>\n  </thead>\n  <tbody>\n    <tr>\n      <th>0</th>\n      <td>4</td>\n      <td>Billy</td>\n      <td>Bonder</td>\n    </tr>\n    <tr>\n      <th>1</th>\n      <td>5</td>\n      <td>Brian</td>\n      <td>Black</td>\n    </tr>\n    <tr>\n      <th>2</th>\n      <td>6</td>\n      <td>Bran</td>\n      <td>Balwner</td>\n    </tr>\n    <tr>\n      <th>3</th>\n      <td>7</td>\n      <td>Bryce</td>\n      <td>Brice</td>\n    </tr>\n    <tr>\n      <th>4</th>\n      <td>8</td>\n      <td>Betty</td>\n      <td>Btisan</td>\n    </tr>\n  </tbody>\n</table>\n</div>"
     },
     "execution_count": 21,
     "metadata": {},
     "output_type": "execute_result"
    }
   ],
   "source": [
    "raw_data = {\n",
    "      'subject_id': ['4', '5', '6', '7', '8'],\n",
    "      'first_name': ['Billy', 'Brian', 'Bran', 'Bryce', 'Betty'],\n",
    "      'last_name': ['Bonder', 'Black', 'Balwner', 'Brice', 'Btisan']\n",
    "    }\n",
    "\n",
    "df_right = pd.DataFrame(raw_data, columns=['subject_id', 'first_name', 'last_name'])\n",
    "df_right"
   ],
   "metadata": {
    "collapsed": false,
    "ExecuteTime": {
     "end_time": "2023-10-25T07:47:31.159218Z",
     "start_time": "2023-10-25T07:47:31.132241Z"
    }
   },
   "id": "f5b164864a6bf653"
  },
  {
   "cell_type": "code",
   "execution_count": 22,
   "outputs": [
    {
     "data": {
      "text/plain": "  subject_id  test_score first_name last_name\n0          4          61      Billy    Bonder\n1          5          16      Brian     Black\n2          7          14      Bryce     Brice\n3          8          15      Betty    Btisan",
      "text/html": "<div>\n<style scoped>\n    .dataframe tbody tr th:only-of-type {\n        vertical-align: middle;\n    }\n\n    .dataframe tbody tr th {\n        vertical-align: top;\n    }\n\n    .dataframe thead th {\n        text-align: right;\n    }\n</style>\n<table border=\"1\" class=\"dataframe\">\n  <thead>\n    <tr style=\"text-align: right;\">\n      <th></th>\n      <th>subject_id</th>\n      <th>test_score</th>\n      <th>first_name</th>\n      <th>last_name</th>\n    </tr>\n  </thead>\n  <tbody>\n    <tr>\n      <th>0</th>\n      <td>4</td>\n      <td>61</td>\n      <td>Billy</td>\n      <td>Bonder</td>\n    </tr>\n    <tr>\n      <th>1</th>\n      <td>5</td>\n      <td>16</td>\n      <td>Brian</td>\n      <td>Black</td>\n    </tr>\n    <tr>\n      <th>2</th>\n      <td>7</td>\n      <td>14</td>\n      <td>Bryce</td>\n      <td>Brice</td>\n    </tr>\n    <tr>\n      <th>3</th>\n      <td>8</td>\n      <td>15</td>\n      <td>Betty</td>\n      <td>Btisan</td>\n    </tr>\n  </tbody>\n</table>\n</div>"
     },
     "execution_count": 22,
     "metadata": {},
     "output_type": "execute_result"
    }
   ],
   "source": [
    "pd.merge(left=df_left, right=df_right, how=\"inner\", on='subject_id')"
   ],
   "metadata": {
    "collapsed": false,
    "ExecuteTime": {
     "end_time": "2023-10-25T07:47:57.461040Z",
     "start_time": "2023-10-25T07:47:57.433902Z"
    }
   },
   "id": "86303833d11da1ed"
  },
  {
   "cell_type": "code",
   "execution_count": 23,
   "outputs": [
    {
     "data": {
      "text/plain": "  subject_id  test_score first_name last_name\n0          1          51        NaN       NaN\n1          2          15        NaN       NaN\n2          3          15        NaN       NaN\n3          4          61      Billy    Bonder\n4          5          16      Brian     Black\n5          7          14      Bryce     Brice\n6          8          15      Betty    Btisan\n7          9           1        NaN       NaN\n8         10          61        NaN       NaN\n9         11          16        NaN       NaN",
      "text/html": "<div>\n<style scoped>\n    .dataframe tbody tr th:only-of-type {\n        vertical-align: middle;\n    }\n\n    .dataframe tbody tr th {\n        vertical-align: top;\n    }\n\n    .dataframe thead th {\n        text-align: right;\n    }\n</style>\n<table border=\"1\" class=\"dataframe\">\n  <thead>\n    <tr style=\"text-align: right;\">\n      <th></th>\n      <th>subject_id</th>\n      <th>test_score</th>\n      <th>first_name</th>\n      <th>last_name</th>\n    </tr>\n  </thead>\n  <tbody>\n    <tr>\n      <th>0</th>\n      <td>1</td>\n      <td>51</td>\n      <td>NaN</td>\n      <td>NaN</td>\n    </tr>\n    <tr>\n      <th>1</th>\n      <td>2</td>\n      <td>15</td>\n      <td>NaN</td>\n      <td>NaN</td>\n    </tr>\n    <tr>\n      <th>2</th>\n      <td>3</td>\n      <td>15</td>\n      <td>NaN</td>\n      <td>NaN</td>\n    </tr>\n    <tr>\n      <th>3</th>\n      <td>4</td>\n      <td>61</td>\n      <td>Billy</td>\n      <td>Bonder</td>\n    </tr>\n    <tr>\n      <th>4</th>\n      <td>5</td>\n      <td>16</td>\n      <td>Brian</td>\n      <td>Black</td>\n    </tr>\n    <tr>\n      <th>5</th>\n      <td>7</td>\n      <td>14</td>\n      <td>Bryce</td>\n      <td>Brice</td>\n    </tr>\n    <tr>\n      <th>6</th>\n      <td>8</td>\n      <td>15</td>\n      <td>Betty</td>\n      <td>Btisan</td>\n    </tr>\n    <tr>\n      <th>7</th>\n      <td>9</td>\n      <td>1</td>\n      <td>NaN</td>\n      <td>NaN</td>\n    </tr>\n    <tr>\n      <th>8</th>\n      <td>10</td>\n      <td>61</td>\n      <td>NaN</td>\n      <td>NaN</td>\n    </tr>\n    <tr>\n      <th>9</th>\n      <td>11</td>\n      <td>16</td>\n      <td>NaN</td>\n      <td>NaN</td>\n    </tr>\n  </tbody>\n</table>\n</div>"
     },
     "execution_count": 23,
     "metadata": {},
     "output_type": "execute_result"
    }
   ],
   "source": [
    "pd.merge(left=df_left, right=df_right, how=\"left\", on='subject_id')"
   ],
   "metadata": {
    "collapsed": false,
    "ExecuteTime": {
     "end_time": "2023-10-25T07:48:16.874736Z",
     "start_time": "2023-10-25T07:48:16.850717Z"
    }
   },
   "id": "1ec647a8e3d9b4cf"
  },
  {
   "cell_type": "code",
   "execution_count": 24,
   "outputs": [
    {
     "data": {
      "text/plain": "  subject_id  test_score first_name last_name\n0          4        61.0      Billy    Bonder\n1          5        16.0      Brian     Black\n2          6         NaN       Bran   Balwner\n3          7        14.0      Bryce     Brice\n4          8        15.0      Betty    Btisan",
      "text/html": "<div>\n<style scoped>\n    .dataframe tbody tr th:only-of-type {\n        vertical-align: middle;\n    }\n\n    .dataframe tbody tr th {\n        vertical-align: top;\n    }\n\n    .dataframe thead th {\n        text-align: right;\n    }\n</style>\n<table border=\"1\" class=\"dataframe\">\n  <thead>\n    <tr style=\"text-align: right;\">\n      <th></th>\n      <th>subject_id</th>\n      <th>test_score</th>\n      <th>first_name</th>\n      <th>last_name</th>\n    </tr>\n  </thead>\n  <tbody>\n    <tr>\n      <th>0</th>\n      <td>4</td>\n      <td>61.0</td>\n      <td>Billy</td>\n      <td>Bonder</td>\n    </tr>\n    <tr>\n      <th>1</th>\n      <td>5</td>\n      <td>16.0</td>\n      <td>Brian</td>\n      <td>Black</td>\n    </tr>\n    <tr>\n      <th>2</th>\n      <td>6</td>\n      <td>NaN</td>\n      <td>Bran</td>\n      <td>Balwner</td>\n    </tr>\n    <tr>\n      <th>3</th>\n      <td>7</td>\n      <td>14.0</td>\n      <td>Bryce</td>\n      <td>Brice</td>\n    </tr>\n    <tr>\n      <th>4</th>\n      <td>8</td>\n      <td>15.0</td>\n      <td>Betty</td>\n      <td>Btisan</td>\n    </tr>\n  </tbody>\n</table>\n</div>"
     },
     "execution_count": 24,
     "metadata": {},
     "output_type": "execute_result"
    }
   ],
   "source": [
    "pd.merge(left=df_left, right=df_right, how=\"right\", on='subject_id')"
   ],
   "metadata": {
    "collapsed": false,
    "ExecuteTime": {
     "end_time": "2023-10-25T07:48:26.674237Z",
     "start_time": "2023-10-25T07:48:26.643791Z"
    }
   },
   "id": "4abe473fb37f2604"
  },
  {
   "cell_type": "code",
   "execution_count": 25,
   "outputs": [
    {
     "data": {
      "text/plain": "   subject_id  test_score first_name last_name\n0           1        51.0        NaN       NaN\n1           2        15.0        NaN       NaN\n2           3        15.0        NaN       NaN\n3           4        61.0      Billy    Bonder\n4           5        16.0      Brian     Black\n5           7        14.0      Bryce     Brice\n6           8        15.0      Betty    Btisan\n7           9         1.0        NaN       NaN\n8          10        61.0        NaN       NaN\n9          11        16.0        NaN       NaN\n10          6         NaN       Bran   Balwner",
      "text/html": "<div>\n<style scoped>\n    .dataframe tbody tr th:only-of-type {\n        vertical-align: middle;\n    }\n\n    .dataframe tbody tr th {\n        vertical-align: top;\n    }\n\n    .dataframe thead th {\n        text-align: right;\n    }\n</style>\n<table border=\"1\" class=\"dataframe\">\n  <thead>\n    <tr style=\"text-align: right;\">\n      <th></th>\n      <th>subject_id</th>\n      <th>test_score</th>\n      <th>first_name</th>\n      <th>last_name</th>\n    </tr>\n  </thead>\n  <tbody>\n    <tr>\n      <th>0</th>\n      <td>1</td>\n      <td>51.0</td>\n      <td>NaN</td>\n      <td>NaN</td>\n    </tr>\n    <tr>\n      <th>1</th>\n      <td>2</td>\n      <td>15.0</td>\n      <td>NaN</td>\n      <td>NaN</td>\n    </tr>\n    <tr>\n      <th>2</th>\n      <td>3</td>\n      <td>15.0</td>\n      <td>NaN</td>\n      <td>NaN</td>\n    </tr>\n    <tr>\n      <th>3</th>\n      <td>4</td>\n      <td>61.0</td>\n      <td>Billy</td>\n      <td>Bonder</td>\n    </tr>\n    <tr>\n      <th>4</th>\n      <td>5</td>\n      <td>16.0</td>\n      <td>Brian</td>\n      <td>Black</td>\n    </tr>\n    <tr>\n      <th>5</th>\n      <td>7</td>\n      <td>14.0</td>\n      <td>Bryce</td>\n      <td>Brice</td>\n    </tr>\n    <tr>\n      <th>6</th>\n      <td>8</td>\n      <td>15.0</td>\n      <td>Betty</td>\n      <td>Btisan</td>\n    </tr>\n    <tr>\n      <th>7</th>\n      <td>9</td>\n      <td>1.0</td>\n      <td>NaN</td>\n      <td>NaN</td>\n    </tr>\n    <tr>\n      <th>8</th>\n      <td>10</td>\n      <td>61.0</td>\n      <td>NaN</td>\n      <td>NaN</td>\n    </tr>\n    <tr>\n      <th>9</th>\n      <td>11</td>\n      <td>16.0</td>\n      <td>NaN</td>\n      <td>NaN</td>\n    </tr>\n    <tr>\n      <th>10</th>\n      <td>6</td>\n      <td>NaN</td>\n      <td>Bran</td>\n      <td>Balwner</td>\n    </tr>\n  </tbody>\n</table>\n</div>"
     },
     "execution_count": 25,
     "metadata": {},
     "output_type": "execute_result"
    }
   ],
   "source": [
    "pd.merge(left=df_left, right=df_right, how=\"outer\", on='subject_id')"
   ],
   "metadata": {
    "collapsed": false,
    "ExecuteTime": {
     "end_time": "2023-10-25T07:48:58.495249Z",
     "start_time": "2023-10-25T07:48:58.469038Z"
    }
   },
   "id": "164affe1e84b35c2"
  },
  {
   "cell_type": "code",
   "execution_count": null,
   "outputs": [],
   "source": [],
   "metadata": {
    "collapsed": false
   },
   "id": "a97454e9be3230c1"
  }
 ],
 "metadata": {
  "kernelspec": {
   "display_name": "Python 3",
   "language": "python",
   "name": "python3"
  },
  "language_info": {
   "codemirror_mode": {
    "name": "ipython",
    "version": 2
   },
   "file_extension": ".py",
   "mimetype": "text/x-python",
   "name": "python",
   "nbconvert_exporter": "python",
   "pygments_lexer": "ipython2",
   "version": "2.7.6"
  }
 },
 "nbformat": 4,
 "nbformat_minor": 5
}
