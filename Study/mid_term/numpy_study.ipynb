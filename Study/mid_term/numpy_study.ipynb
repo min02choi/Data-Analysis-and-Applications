{
 "cells": [
  {
   "cell_type": "code",
   "execution_count": 2,
   "id": "initial_id",
   "metadata": {
    "collapsed": true,
    "ExecuteTime": {
     "end_time": "2023-10-25T12:05:21.486361Z",
     "start_time": "2023-10-25T12:05:21.473254Z"
    }
   },
   "outputs": [],
   "source": [
    "import numpy as np"
   ]
  },
  {
   "cell_type": "code",
   "execution_count": 3,
   "outputs": [
    {
     "name": "stdout",
     "output_type": "stream",
     "text": [
      "[1. 2. 3. 4. 5. 6.]\n",
      "(6,)\n"
     ]
    }
   ],
   "source": [
    "lst = [1., 2, 3, 4, 5, 6]\n",
    "arr = np.array(lst)\n",
    "print(arr)\n",
    "print(arr.shape)"
   ],
   "metadata": {
    "collapsed": false,
    "ExecuteTime": {
     "end_time": "2023-10-25T12:05:22.747330Z",
     "start_time": "2023-10-25T12:05:22.736354Z"
    }
   },
   "id": "6667ac2798ee2182"
  },
  {
   "cell_type": "code",
   "execution_count": 4,
   "outputs": [
    {
     "name": "stdout",
     "output_type": "stream",
     "text": [
      "[[1 2 3]\n",
      " [3 4 5]]\n",
      "(2, 3)\n",
      "<class 'numpy.ndarray'>\n"
     ]
    }
   ],
   "source": [
    "lst2 = np.array([[1, 2, 3], [3, 4, 5]])\n",
    "print(lst2)\n",
    "print(lst2.shape)\n",
    "print(type(lst2))"
   ],
   "metadata": {
    "collapsed": false,
    "ExecuteTime": {
     "end_time": "2023-10-25T12:05:24.232329Z",
     "start_time": "2023-10-25T12:05:24.220662Z"
    }
   },
   "id": "927bc301cbc592ed"
  },
  {
   "cell_type": "code",
   "execution_count": 5,
   "outputs": [
    {
     "name": "stdout",
     "output_type": "stream",
     "text": [
      "[[1 2 3]\n",
      " [3 4 5]]\n",
      "<class 'numpy.matrix'>\n"
     ]
    }
   ],
   "source": [
    "mat = np.matrix(lst2)\n",
    "print(mat)\n",
    "print(type(mat))"
   ],
   "metadata": {
    "collapsed": false,
    "ExecuteTime": {
     "end_time": "2023-10-25T12:05:24.656034Z",
     "start_time": "2023-10-25T12:05:24.645573Z"
    }
   },
   "id": "dd44a99bb1814764"
  },
  {
   "cell_type": "code",
   "execution_count": 6,
   "outputs": [
    {
     "name": "stdout",
     "output_type": "stream",
     "text": [
      "[ 0  1  2  3  4  5  6  7  8  9 10 11 12 13 14 15]\n",
      "[[ 0  1]\n",
      " [ 2  3]\n",
      " [ 4  5]\n",
      " [ 6  7]\n",
      " [ 8  9]\n",
      " [10 11]\n",
      " [12 13]\n",
      " [14 15]]\n"
     ]
    }
   ],
   "source": [
    "arr1 = np.arange(16)\n",
    "arr2 = np.reshape(arr1, (8, -1))\n",
    "print(arr1)\n",
    "print(arr2)"
   ],
   "metadata": {
    "collapsed": false,
    "ExecuteTime": {
     "end_time": "2023-10-25T12:05:24.991331Z",
     "start_time": "2023-10-25T12:05:24.977237Z"
    }
   },
   "id": "471131030f36d664"
  },
  {
   "cell_type": "markdown",
   "source": [
    "### Deep Copy"
   ],
   "metadata": {
    "collapsed": false
   },
   "id": "d5961cd5c614c5c7"
  },
  {
   "cell_type": "code",
   "execution_count": 7,
   "outputs": [],
   "source": [
    "arr1 = np.arange(12)\n",
    "arr2 = arr1.reshape(2, -1)\n",
    "arr3 = arr1[2:10]\n",
    "arr4 = arr2.copy()"
   ],
   "metadata": {
    "collapsed": false,
    "ExecuteTime": {
     "end_time": "2023-10-25T12:05:25.390013Z",
     "start_time": "2023-10-25T12:05:25.381653Z"
    }
   },
   "id": "8d67fae24965ce8a"
  },
  {
   "cell_type": "code",
   "execution_count": 8,
   "outputs": [
    {
     "name": "stdout",
     "output_type": "stream",
     "text": [
      "[ 0  1  2  3  4  5  6  7  8  9 10 11]\n",
      "[[ 0  1  2  3  4  5]\n",
      " [ 6  7  8  9 10 11]]\n",
      "[2 3 4 5 6 7 8 9]\n",
      "[[ 0  1  2  3  4  5]\n",
      " [ 6  7  8  9 10 11]]\n"
     ]
    }
   ],
   "source": [
    "print(arr1)\n",
    "print(arr2)\n",
    "print(arr3)\n",
    "print(arr4)"
   ],
   "metadata": {
    "collapsed": false,
    "ExecuteTime": {
     "end_time": "2023-10-25T12:05:25.565788Z",
     "start_time": "2023-10-25T12:05:25.554003Z"
    }
   },
   "id": "643b1d6bae106595"
  },
  {
   "cell_type": "code",
   "execution_count": 9,
   "outputs": [],
   "source": [
    "arr2[0, 0] = 4"
   ],
   "metadata": {
    "collapsed": false,
    "ExecuteTime": {
     "end_time": "2023-10-25T12:05:25.736538Z",
     "start_time": "2023-10-25T12:05:25.726864Z"
    }
   },
   "id": "24cf1d44e8ffcb94"
  },
  {
   "cell_type": "code",
   "execution_count": 10,
   "outputs": [
    {
     "name": "stdout",
     "output_type": "stream",
     "text": [
      "[ 4  1  2  3  4  5  6  7  8  9 10 11]\n",
      "[[ 4  1  2  3  4  5]\n",
      " [ 6  7  8  9 10 11]]\n",
      "[2 3 4 5 6 7 8 9]\n",
      "[[ 0  1  2  3  4  5]\n",
      " [ 6  7  8  9 10 11]]\n"
     ]
    }
   ],
   "source": [
    "print(arr1)\n",
    "print(arr2)\n",
    "print(arr3)\n",
    "print(arr4)"
   ],
   "metadata": {
    "collapsed": false,
    "ExecuteTime": {
     "end_time": "2023-10-25T12:05:25.915469Z",
     "start_time": "2023-10-25T12:05:25.905997Z"
    }
   },
   "id": "639f52a5402cdc8e"
  },
  {
   "cell_type": "code",
   "execution_count": 11,
   "outputs": [
    {
     "name": "stdout",
     "output_type": "stream",
     "text": [
      "[[ 0  1  2  3]\n",
      " [ 4  5  6  7]\n",
      " [ 8  9 10 11]]\n"
     ]
    }
   ],
   "source": [
    "arr = np.arange(12)\n",
    "arr5 = np.reshape(arr, (3, -1))\n",
    "print(arr5)"
   ],
   "metadata": {
    "collapsed": false,
    "ExecuteTime": {
     "end_time": "2023-10-25T12:05:26.127795Z",
     "start_time": "2023-10-25T12:05:26.118311Z"
    }
   },
   "id": "7d466bf11b8d3474"
  },
  {
   "cell_type": "code",
   "execution_count": 12,
   "outputs": [
    {
     "name": "stdout",
     "output_type": "stream",
     "text": [
      "[12 15 18 21]\n"
     ]
    }
   ],
   "source": [
    "a = arr5.sum(axis=0)\n",
    "print(a)"
   ],
   "metadata": {
    "collapsed": false,
    "ExecuteTime": {
     "end_time": "2023-10-25T12:05:26.317402Z",
     "start_time": "2023-10-25T12:05:26.306475Z"
    }
   },
   "id": "e1ffa9956ce60ad6"
  },
  {
   "cell_type": "code",
   "execution_count": 13,
   "outputs": [
    {
     "name": "stdout",
     "output_type": "stream",
     "text": [
      "[ 6 22 38]\n"
     ]
    }
   ],
   "source": [
    "b = arr5.sum(axis=1)\n",
    "print(b)"
   ],
   "metadata": {
    "collapsed": false,
    "ExecuteTime": {
     "end_time": "2023-10-25T12:05:26.510575Z",
     "start_time": "2023-10-25T12:05:26.499922Z"
    }
   },
   "id": "f2426cd75c3fcda"
  },
  {
   "cell_type": "code",
   "execution_count": 14,
   "outputs": [
    {
     "name": "stdout",
     "output_type": "stream",
     "text": [
      "2\n",
      "0\n"
     ]
    }
   ],
   "source": [
    "print(np.argmax(b))\n",
    "print(np.argmin(b))"
   ],
   "metadata": {
    "collapsed": false,
    "ExecuteTime": {
     "end_time": "2023-10-25T12:05:26.712298Z",
     "start_time": "2023-10-25T12:05:26.701180Z"
    }
   },
   "id": "fab982490e3c3294"
  },
  {
   "cell_type": "code",
   "execution_count": 15,
   "outputs": [
    {
     "name": "stdout",
     "output_type": "stream",
     "text": [
      "3\n",
      "0\n",
      "11\n",
      "0\n"
     ]
    }
   ],
   "source": [
    "print(np.argmax(a))\n",
    "print(np.argmin(a))\n",
    "\n",
    "print(np.argmax(arr5))\n",
    "print(np.argmin(arr5))"
   ],
   "metadata": {
    "collapsed": false,
    "ExecuteTime": {
     "end_time": "2023-10-25T12:05:26.910195Z",
     "start_time": "2023-10-25T12:05:26.899972Z"
    }
   },
   "id": "3dbaa508219f37ab"
  },
  {
   "cell_type": "code",
   "execution_count": 16,
   "outputs": [
    {
     "name": "stdout",
     "output_type": "stream",
     "text": [
      "6\n",
      "5\n"
     ]
    }
   ],
   "source": [
    "arr6 = np.array([2, 4, 1, 2, 7, 0, 34, 8])\n",
    "print(np.argmax(arr6))\n",
    "print(np.argmin(arr6))"
   ],
   "metadata": {
    "collapsed": false,
    "ExecuteTime": {
     "end_time": "2023-10-25T12:05:27.100021Z",
     "start_time": "2023-10-25T12:05:27.089371Z"
    }
   },
   "id": "cd222a2e4171e3ec"
  },
  {
   "cell_type": "code",
   "execution_count": 17,
   "outputs": [
    {
     "name": "stdout",
     "output_type": "stream",
     "text": [
      "[[[0.4247431  0.76689363 0.84507838 0.77260946]\n",
      "  [0.3291811  0.15812013 0.51841293 0.47906924]\n",
      "  [0.51115862 0.32713192 0.14643367 0.63363335]]\n",
      "\n",
      " [[0.89272619 0.68395829 0.37594136 0.54447005]\n",
      "  [0.28931031 0.98142139 0.86198872 0.93111953]\n",
      "  [0.57498675 0.54791686 0.039434   0.59736756]]]\n"
     ]
    }
   ],
   "source": [
    "a = np.random.rand(2, 3, 4)\n",
    "print(a)"
   ],
   "metadata": {
    "collapsed": false,
    "ExecuteTime": {
     "end_time": "2023-10-25T12:05:27.298623Z",
     "start_time": "2023-10-25T12:05:27.288479Z"
    }
   },
   "id": "d11ada1cacf500ca"
  },
  {
   "cell_type": "code",
   "execution_count": 18,
   "outputs": [
    {
     "name": "stdout",
     "output_type": "stream",
     "text": [
      "(2, 1, 3, 4)\n"
     ]
    }
   ],
   "source": [
    "print(a[:, np.newaxis, :, :].shape)"
   ],
   "metadata": {
    "collapsed": false,
    "ExecuteTime": {
     "end_time": "2023-10-25T12:05:27.495409Z",
     "start_time": "2023-10-25T12:05:27.484776Z"
    }
   },
   "id": "1024b49009a250fe"
  },
  {
   "cell_type": "code",
   "execution_count": 19,
   "outputs": [
    {
     "name": "stdout",
     "output_type": "stream",
     "text": [
      "(2, 3, 4, 1)\n"
     ]
    }
   ],
   "source": [
    "print(a[..., np.newaxis].shape)"
   ],
   "metadata": {
    "collapsed": false,
    "ExecuteTime": {
     "end_time": "2023-10-25T12:05:27.700516Z",
     "start_time": "2023-10-25T12:05:27.690Z"
    }
   },
   "id": "c82435ddd04a6a15"
  },
  {
   "cell_type": "code",
   "execution_count": 20,
   "outputs": [
    {
     "name": "stdout",
     "output_type": "stream",
     "text": [
      "(2, 1, 3, 4)\n"
     ]
    }
   ],
   "source": [
    "print(a[:, np.newaxis].shape)"
   ],
   "metadata": {
    "collapsed": false,
    "ExecuteTime": {
     "end_time": "2023-10-25T12:05:27.939516Z",
     "start_time": "2023-10-25T12:05:27.928797Z"
    }
   },
   "id": "462f97c1e4cd7873"
  },
  {
   "cell_type": "code",
   "execution_count": 21,
   "outputs": [
    {
     "name": "stdout",
     "output_type": "stream",
     "text": [
      "[[1 2]\n",
      " [1 2]\n",
      " [1 2]\n",
      " [3 4]\n",
      " [3 4]\n",
      " [3 4]]\n",
      "[[1 1 1 2 2 2]\n",
      " [3 3 3 4 4 4]]\n"
     ]
    }
   ],
   "source": [
    "y = np.array([[1, 2], [3, 4]])\n",
    "print(np.repeat(y, 3, axis=0))\n",
    "print(np.repeat(y, 3, axis=1))"
   ],
   "metadata": {
    "collapsed": false,
    "ExecuteTime": {
     "end_time": "2023-10-25T12:05:28.128225Z",
     "start_time": "2023-10-25T12:05:28.118566Z"
    }
   },
   "id": "6f1a4c57259fafa6"
  },
  {
   "cell_type": "code",
   "execution_count": 22,
   "outputs": [
    {
     "name": "stdout",
     "output_type": "stream",
     "text": [
      "[[0.33692544 0.68697572 0.23894837 0.25313206]\n",
      " [0.12755369 0.79565927 0.54625202 0.35793299]\n",
      " [0.44813463 0.66597609 0.09403172 0.34585666]\n",
      " [0.32947151 0.20811305 0.2731209  0.58930752]\n",
      " [0.94438299 0.06264861 0.16770657 0.01668416]]\n"
     ]
    }
   ],
   "source": [
    "a1 = np.random.rand(5, 4)\n",
    "print(a1)"
   ],
   "metadata": {
    "collapsed": false,
    "ExecuteTime": {
     "end_time": "2023-10-25T12:05:28.352740Z",
     "start_time": "2023-10-25T12:05:28.343137Z"
    }
   },
   "id": "dd273f2cd6e79776"
  },
  {
   "cell_type": "code",
   "execution_count": 23,
   "outputs": [
    {
     "name": "stdout",
     "output_type": "stream",
     "text": [
      "(5, 4)\n"
     ]
    }
   ],
   "source": [
    "print(a1.shape)"
   ],
   "metadata": {
    "collapsed": false,
    "ExecuteTime": {
     "end_time": "2023-10-25T12:05:28.618223Z",
     "start_time": "2023-10-25T12:05:28.607307Z"
    }
   },
   "id": "ed1f29c9443ca74f"
  },
  {
   "cell_type": "code",
   "execution_count": 24,
   "outputs": [],
   "source": [
    "arr1 = np.arange(12)\n",
    "arr2 = arr1.reshape(2, -1)\n",
    "arr3 = arr1[0:10]\n",
    "arr4 = arr2.copy()\n",
    "\n",
    "arr2[0, 0] = 10"
   ],
   "metadata": {
    "collapsed": false,
    "ExecuteTime": {
     "end_time": "2023-10-25T12:05:28.799135Z",
     "start_time": "2023-10-25T12:05:28.789006Z"
    }
   },
   "id": "e06cde18089b8e3a"
  },
  {
   "cell_type": "code",
   "execution_count": 25,
   "outputs": [
    {
     "name": "stdout",
     "output_type": "stream",
     "text": [
      "[10  1  2  3  4  5  6  7  8  9 10 11]\n",
      "[[10  1  2  3  4  5]\n",
      " [ 6  7  8  9 10 11]]\n",
      "arr1 메모리 공간을 가리키고 있음: [10  1  2  3  4  5  6  7  8  9]\n",
      "arr2와 다른 공간을 가리키고 있음:\n",
      " [[ 0  1  2  3  4  5]\n",
      " [ 6  7  8  9 10 11]]\n"
     ]
    }
   ],
   "source": [
    "print(arr1)\n",
    "print(arr2)\n",
    "print('arr1 메모리 공간을 가리키고 있음:', arr3)\n",
    "print('arr2와 다른 공간을 가리키고 있음:\\n', arr4)"
   ],
   "metadata": {
    "collapsed": false,
    "ExecuteTime": {
     "end_time": "2023-10-25T12:05:42.080188Z",
     "start_time": "2023-10-25T12:05:42.063958Z"
    }
   },
   "id": "5b55d7c8c732bae2"
  },
  {
   "cell_type": "code",
   "execution_count": 32,
   "outputs": [
    {
     "name": "stdout",
     "output_type": "stream",
     "text": [
      "[ 0  1  2  3  4  5  6  7  8  9 10 11]\n",
      "[[ 0  1  2  3  4  5]\n",
      " [ 6  7  8  9 10 11]]\n",
      "[0 1 2 3 4 5 6 7 8 9]\n",
      "[ 0  1  2  3  4  5  6  7  8  9 10 11]\n"
     ]
    }
   ],
   "source": [
    "a = np.arange(12)\n",
    "b = a.reshape(2, -1)\n",
    "c = a[0:10]\n",
    "d = a.copy()\n",
    "\n",
    "print(a)\n",
    "print(b)\n",
    "print(c)\n",
    "print(d)"
   ],
   "metadata": {
    "collapsed": false,
    "ExecuteTime": {
     "end_time": "2023-10-25T12:09:39.090744Z",
     "start_time": "2023-10-25T12:09:39.077015Z"
    }
   },
   "id": "130d5940d3875011"
  },
  {
   "cell_type": "code",
   "execution_count": 34,
   "outputs": [],
   "source": [
    "b[0][0] = 10"
   ],
   "metadata": {
    "collapsed": false,
    "ExecuteTime": {
     "end_time": "2023-10-25T12:09:58.237735Z",
     "start_time": "2023-10-25T12:09:58.227552Z"
    }
   },
   "id": "f5cb65b7e85b7130"
  },
  {
   "cell_type": "code",
   "execution_count": 35,
   "outputs": [
    {
     "name": "stdout",
     "output_type": "stream",
     "text": [
      "[10  1  2  3  4  5  6  7  8  9 10 11]\n",
      "[[10  1  2  3  4  5]\n",
      " [ 6  7  8  9 10 11]]\n",
      "[10  1  2  3  4  5  6  7  8  9]\n",
      "[ 0  1  2  3  4  5  6  7  8  9 10 11]\n"
     ]
    }
   ],
   "source": [
    "print(a)\n",
    "print(b)\n",
    "print(c)\n",
    "print(d)"
   ],
   "metadata": {
    "collapsed": false,
    "ExecuteTime": {
     "end_time": "2023-10-25T12:09:58.913856Z",
     "start_time": "2023-10-25T12:09:58.903881Z"
    }
   },
   "id": "3e2d96c1637623b2"
  },
  {
   "cell_type": "code",
   "execution_count": null,
   "outputs": [],
   "source": [],
   "metadata": {
    "collapsed": false
   },
   "id": "c77b17a9c67976ce"
  }
 ],
 "metadata": {
  "kernelspec": {
   "display_name": "Python 3",
   "language": "python",
   "name": "python3"
  },
  "language_info": {
   "codemirror_mode": {
    "name": "ipython",
    "version": 2
   },
   "file_extension": ".py",
   "mimetype": "text/x-python",
   "name": "python",
   "nbconvert_exporter": "python",
   "pygments_lexer": "ipython2",
   "version": "2.7.6"
  }
 },
 "nbformat": 4,
 "nbformat_minor": 5
}
