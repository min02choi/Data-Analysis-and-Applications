{
 "cells": [
  {
   "cell_type": "code",
   "execution_count": 2,
   "id": "initial_id",
   "metadata": {
    "collapsed": true,
    "ExecuteTime": {
     "end_time": "2023-09-23T14:21:37.602351Z",
     "start_time": "2023-09-23T14:21:36.394996Z"
    }
   },
   "outputs": [],
   "source": [
    "import numpy as np"
   ]
  },
  {
   "cell_type": "code",
   "execution_count": 3,
   "outputs": [
    {
     "ename": "ValueError",
     "evalue": "operands could not be broadcast together with shapes (4,) (3,) ",
     "output_type": "error",
     "traceback": [
      "\u001B[0;31m---------------------------------------------------------------------------\u001B[0m",
      "\u001B[0;31mValueError\u001B[0m                                Traceback (most recent call last)",
      "\u001B[0;32m/var/folders/_p/bl5lnhrj34l9j4bhyd1mh4v00000gn/T/ipykernel_8407/102849771.py\u001B[0m in \u001B[0;36m<module>\u001B[0;34m\u001B[0m\n\u001B[1;32m      1\u001B[0m \u001B[0ma\u001B[0m \u001B[0;34m=\u001B[0m \u001B[0mnp\u001B[0m\u001B[0;34m.\u001B[0m\u001B[0marray\u001B[0m\u001B[0;34m(\u001B[0m\u001B[0;34m[\u001B[0m\u001B[0;36m0.0\u001B[0m\u001B[0;34m,\u001B[0m \u001B[0;36m10.0\u001B[0m\u001B[0;34m,\u001B[0m \u001B[0;36m20.0\u001B[0m\u001B[0;34m,\u001B[0m \u001B[0;36m30.0\u001B[0m\u001B[0;34m]\u001B[0m\u001B[0;34m)\u001B[0m\u001B[0;34m\u001B[0m\u001B[0;34m\u001B[0m\u001B[0m\n\u001B[1;32m      2\u001B[0m \u001B[0mb\u001B[0m \u001B[0;34m=\u001B[0m \u001B[0mnp\u001B[0m\u001B[0;34m.\u001B[0m\u001B[0marray\u001B[0m\u001B[0;34m(\u001B[0m\u001B[0;34m[\u001B[0m\u001B[0;36m1.0\u001B[0m\u001B[0;34m,\u001B[0m \u001B[0;36m2.0\u001B[0m\u001B[0;34m,\u001B[0m \u001B[0;36m3.0\u001B[0m\u001B[0;34m]\u001B[0m\u001B[0;34m)\u001B[0m\u001B[0;34m\u001B[0m\u001B[0;34m\u001B[0m\u001B[0m\n\u001B[0;32m----> 3\u001B[0;31m \u001B[0mprint\u001B[0m\u001B[0;34m(\u001B[0m\u001B[0ma\u001B[0m \u001B[0;34m+\u001B[0m \u001B[0mb\u001B[0m\u001B[0;34m)\u001B[0m\u001B[0;34m\u001B[0m\u001B[0;34m\u001B[0m\u001B[0m\n\u001B[0m",
      "\u001B[0;31mValueError\u001B[0m: operands could not be broadcast together with shapes (4,) (3,) "
     ]
    }
   ],
   "source": [
    "a = np.array([0.0, 10.0, 20.0, 30.0])\n",
    "b = np.array([1.0, 2.0, 3.0])\n",
    "print(a + b)"
   ],
   "metadata": {
    "collapsed": false,
    "ExecuteTime": {
     "end_time": "2023-09-23T14:21:37.621620Z",
     "start_time": "2023-09-23T14:21:37.604660Z"
    }
   },
   "id": "306a88c3bdd4eb1d"
  },
  {
   "cell_type": "code",
   "execution_count": null,
   "outputs": [],
   "source": [
    "c = np.array([0.0, 10.0, 20.0, 30.0])\n",
    "d = np.array([1.0, 2.0, 3.0])\n",
    "print(a[:, np.newaxis] + b)"
   ],
   "metadata": {
    "collapsed": false,
    "ExecuteTime": {
     "end_time": "2023-09-23T14:21:37.646760Z",
     "start_time": "2023-09-23T14:21:37.623950Z"
    }
   },
   "id": "caceb70a80f075f0"
  },
  {
   "cell_type": "markdown",
   "source": [
    "### repeat"
   ],
   "metadata": {
    "collapsed": false
   },
   "id": "333d47a4a5c70d58"
  },
  {
   "cell_type": "code",
   "execution_count": null,
   "outputs": [],
   "source": [
    "x = np.array([1, 2, 3])\n",
    "y = np.array([[1, 2], [3, 4]])\n",
    "\n",
    "print(np.repeat(x, 3))\n",
    "print(np.repeat(y, 3))\n",
    "\n",
    "print(np.repeat(y, 3, axis=0))\n",
    "print(np.repeat(y, 3, axis=1))"
   ],
   "metadata": {
    "collapsed": false,
    "ExecuteTime": {
     "start_time": "2023-09-23T14:21:37.626186Z"
    }
   },
   "id": "9a123eddecd49e72"
  },
  {
   "cell_type": "code",
   "execution_count": 5,
   "outputs": [
    {
     "name": "stdout",
     "output_type": "stream",
     "text": [
      "[1 1 1 2 2 2 3 3 3]\n",
      "[1 2 3 1 2 3 1 2 3]\n",
      "[[1 2]\n",
      " [3 4]]\n",
      "[[1 2]\n",
      " [3 4]\n",
      " [1 2]\n",
      " [3 4]]\n",
      "[[1 2 1 2 1 2]\n",
      " [3 4 3 4 3 4]]\n",
      "[[1 2 1 2 1 2 1 2]\n",
      " [3 4 3 4 3 4 3 4]\n",
      " [1 2 1 2 1 2 1 2]\n",
      " [3 4 3 4 3 4 3 4]]\n"
     ]
    }
   ],
   "source": [
    "x = np.array([1, 2, 3])\n",
    "y = np.array([[1, 2], [3, 4]])\n",
    "\n",
    "print(np.repeat(x, 3))\n",
    "print(np.tile(x, 3))\n",
    "\n",
    "print(np.tile(y, [1, 1]))\n",
    "print(np.tile(y, [2, 1]))\n",
    "print(np.tile(y, [1, 3]))\n",
    "print(np.tile(y, [2, 4]))"
   ],
   "metadata": {
    "collapsed": false,
    "ExecuteTime": {
     "end_time": "2023-09-23T14:22:30.146577Z",
     "start_time": "2023-09-23T14:22:30.141986Z"
    }
   },
   "id": "37f3a1ada214e6a5"
  },
  {
   "cell_type": "markdown",
   "source": [
    "## stack"
   ],
   "metadata": {
    "collapsed": false
   },
   "id": "d8bf0f5119dd1821"
  },
  {
   "cell_type": "code",
   "execution_count": 6,
   "outputs": [
    {
     "name": "stdout",
     "output_type": "stream",
     "text": [
      "(3, 5, 100)\n",
      "(3, 5, 100)\n",
      "(5, 3, 100)\n",
      "(5, 100, 3)\n",
      "(5, 100, 3)\n"
     ]
    }
   ],
   "source": [
    "a1 = np.random.rand(5, 100)\n",
    "a2 = np.random.rand(5, 100)\n",
    "a3 = np.random.rand(5, 100)\n",
    "\n",
    "a_stack = np.stack([a1, a2, a3])\n",
    "\n",
    "a_stack_0 = np.stack([a1, a2, a3], axis=0)\n",
    "a_stack_1 = np.stack([a1, a2, a3], axis=1)\n",
    "a_stack_2 = np.stack([a1, a2, a3], axis=2)\n",
    "a_stack_m = np.stack([a1, a2, a3], axis=-1)\n",
    "\n",
    "print(a_stack.shape)\n",
    "print(a_stack_0.shape)\n",
    "print(a_stack_1.shape)\n",
    "print(a_stack_2.shape)\n",
    "print(a_stack_m.shape)"
   ],
   "metadata": {
    "collapsed": false,
    "ExecuteTime": {
     "end_time": "2023-09-23T14:30:04.361187Z",
     "start_time": "2023-09-23T14:30:04.353896Z"
    }
   },
   "id": "c443530b20c95932"
  },
  {
   "cell_type": "markdown",
   "source": [
    "## concatenate"
   ],
   "metadata": {
    "collapsed": false
   },
   "id": "df73ea29ab2efd25"
  },
  {
   "cell_type": "code",
   "execution_count": 8,
   "outputs": [
    {
     "name": "stdout",
     "output_type": "stream",
     "text": [
      "(60, 4, 3)\n",
      "(60, 4, 3)\n",
      "(5, 60, 3)\n",
      "(5, 60, 3)\n"
     ]
    }
   ],
   "source": [
    "v1 = np.random.rand(10, 4, 3)\n",
    "v2 = np.random.rand(20, 4, 3)\n",
    "v3 = np.random.rand(30, 4, 3)\n",
    "\n",
    "h1 = np.random.rand(5, 10, 3)\n",
    "h2 = np.random.rand(5, 20, 3)\n",
    "h3 = np.random.rand(5, 30, 3)\n",
    "\n",
    "vstack0 = np.vstack([v1, v2, v3])\n",
    "concat0 = np.concatenate([v1, v2, v3], axis=0)\n",
    "\n",
    "hatack1 = np.hstack([h1, h2, h3])\n",
    "concat1 = np.concatenate([h1, h2, h3], axis=1)\n",
    "\n",
    "print(vstack0.shape)\n",
    "print(concat0.shape)\n",
    "print(hatack1.shape)\n",
    "print(concat1.shape)"
   ],
   "metadata": {
    "collapsed": false,
    "ExecuteTime": {
     "end_time": "2023-09-23T14:33:37.981757Z",
     "start_time": "2023-09-23T14:33:37.976569Z"
    }
   },
   "id": "f5b083c3405c1099"
  },
  {
   "cell_type": "code",
   "execution_count": null,
   "outputs": [],
   "source": [],
   "metadata": {
    "collapsed": false
   },
   "id": "33974989fc384a0c"
  }
 ],
 "metadata": {
  "kernelspec": {
   "display_name": "Python 3",
   "language": "python",
   "name": "python3"
  },
  "language_info": {
   "codemirror_mode": {
    "name": "ipython",
    "version": 2
   },
   "file_extension": ".py",
   "mimetype": "text/x-python",
   "name": "python",
   "nbconvert_exporter": "python",
   "pygments_lexer": "ipython2",
   "version": "2.7.6"
  }
 },
 "nbformat": 4,
 "nbformat_minor": 5
}
