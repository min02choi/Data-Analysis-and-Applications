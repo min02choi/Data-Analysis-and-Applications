{
 "cells": [
  {
   "cell_type": "markdown",
   "source": [
    "## 9월 19일"
   ],
   "metadata": {
    "collapsed": false
   },
   "id": "d4d1d384d1e1dd3b"
  },
  {
   "cell_type": "code",
   "execution_count": 1,
   "outputs": [],
   "source": [
    "import numpy as np"
   ],
   "metadata": {
    "collapsed": false,
    "ExecuteTime": {
     "end_time": "2023-09-19T03:20:51.086853Z",
     "start_time": "2023-09-19T03:20:49.872159Z"
    }
   },
   "id": "6c907c680a5ede1b"
  },
  {
   "cell_type": "code",
   "execution_count": 3,
   "id": "initial_id",
   "metadata": {
    "collapsed": true,
    "ExecuteTime": {
     "end_time": "2023-09-19T03:24:33.616822Z",
     "start_time": "2023-09-19T03:24:33.612697Z"
    }
   },
   "outputs": [
    {
     "name": "stdout",
     "output_type": "stream",
     "text": [
      "[[400 500 600]\n",
      " [500 300 500]\n",
      " [700 400 700]]\n",
      "[[500 700 700]\n",
      " [300 400 600]\n",
      " [900 200 900]]\n"
     ]
    }
   ],
   "source": [
    "a = [400, 500, 600, 500, 300, 500, 700, 400, 700]\n",
    "b = [500, 700, 700, 300, 400, 600, 900, 200, 900]\n",
    "a = np.reshape(a, (3, 3))\n",
    "b = np.reshape(b, (3, 3))\n",
    "print(a)\n",
    "print(b)"
   ]
  },
  {
   "cell_type": "code",
   "execution_count": 7,
   "outputs": [
    {
     "name": "stdout",
     "output_type": "stream",
     "text": [
      "500\n",
      "[[400 500 600]\n",
      " [500 300 500]]\n",
      "[[400 500]\n",
      " [500 300]\n",
      " [700 400]]\n"
     ]
    }
   ],
   "source": [
    "# Array Indexing(1)\n",
    "print(a[0, 1])\n",
    "print(a[0:2, :])\n",
    "print(a[:, : -1])"
   ],
   "metadata": {
    "collapsed": false,
    "ExecuteTime": {
     "end_time": "2023-09-19T03:28:05.273927Z",
     "start_time": "2023-09-19T03:28:05.268619Z"
    }
   },
   "id": "2047871500a0722f"
  },
  {
   "cell_type": "code",
   "execution_count": 8,
   "outputs": [
    {
     "name": "stdout",
     "output_type": "stream",
     "text": [
      "[[400 500 600]\n",
      " [700 400 700]]\n",
      "[[400 500 600]\n",
      " [700 400 700]]\n"
     ]
    }
   ],
   "source": [
    "# Array Indexing(2)\n",
    "c = a[[0, 2], :]\n",
    "d = a[(0, 2), :]\n",
    "print(c)\n",
    "print(d)"
   ],
   "metadata": {
    "collapsed": false,
    "ExecuteTime": {
     "end_time": "2023-09-19T03:28:48.458123Z",
     "start_time": "2023-09-19T03:28:48.447517Z"
    }
   },
   "id": "d9dc5ccd9144169"
  },
  {
   "cell_type": "code",
   "execution_count": 11,
   "outputs": [
    {
     "name": "stdout",
     "output_type": "stream",
     "text": [
      "700 900\n",
      "900\n",
      "300 200\n",
      "200\n",
      "511.1111111111111 577.7777777777778\n",
      "544.4444444444445\n"
     ]
    }
   ],
   "source": [
    "# Max, Min, Mean\n",
    "print(a.max(), b.max())         # 각각의 행렬에 대한 최댓값\n",
    "print(np.maximum(a.max(), b.max())) # 가진 것중에 더 큰 값\n",
    "\n",
    "print(a.min(), b.min())\n",
    "print(np.minimum(a.min(), b.min()))\n",
    "\n",
    "print(a.mean(), b.mean())\n",
    "print((a.mean() + b.mean()) / 2)"
   ],
   "metadata": {
    "collapsed": false,
    "ExecuteTime": {
     "end_time": "2023-09-19T03:33:52.267681Z",
     "start_time": "2023-09-19T03:33:52.261496Z"
    }
   },
   "id": "527c8af71c86a0b6"
  },
  {
   "cell_type": "code",
   "execution_count": 12,
   "outputs": [
    {
     "data": {
      "text/plain": "array([1600, 1200, 1800])"
     },
     "execution_count": 12,
     "metadata": {},
     "output_type": "execute_result"
    }
   ],
   "source": [
    "# axis(1)\n",
    "a.sum(axis=0)   # 행 방향으로 더하라"
   ],
   "metadata": {
    "collapsed": false,
    "ExecuteTime": {
     "end_time": "2023-09-19T03:34:15.649514Z",
     "start_time": "2023-09-19T03:34:15.640220Z"
    }
   },
   "id": "f3bcc16be55d8a61"
  },
  {
   "cell_type": "code",
   "execution_count": 14,
   "outputs": [
    {
     "data": {
      "text/plain": "array([1500, 1300, 1800])"
     },
     "execution_count": 14,
     "metadata": {},
     "output_type": "execute_result"
    }
   ],
   "source": [
    "# axis(2)\n",
    "a.sum(axis=1)"
   ],
   "metadata": {
    "collapsed": false,
    "ExecuteTime": {
     "end_time": "2023-09-19T03:36:08.502395Z",
     "start_time": "2023-09-19T03:36:08.498520Z"
    }
   },
   "id": "220a71f9e640e26a"
  },
  {
   "cell_type": "code",
   "execution_count": 16,
   "outputs": [
    {
     "name": "stdout",
     "output_type": "stream",
     "text": [
      "[700 500 700] [900 700 900]\n",
      "[600 500 700] [700 600 900]\n"
     ]
    }
   ],
   "source": [
    "# con.\n",
    "print(a.max(axis=0), b.max(axis=0))\n",
    "print(a.max(axis=1), b.max(axis=1))"
   ],
   "metadata": {
    "collapsed": false,
    "ExecuteTime": {
     "end_time": "2023-09-19T03:37:39.763587Z",
     "start_time": "2023-09-19T03:37:39.758104Z"
    }
   },
   "id": "a0d7aab845849a4"
  },
  {
   "cell_type": "code",
   "execution_count": 18,
   "outputs": [
    {
     "name": "stdout",
     "output_type": "stream",
     "text": [
      "[[-100 -200 -100]\n",
      " [ 200 -100 -100]\n",
      " [-200  200 -200]]\n",
      "[[100 200 100]\n",
      " [200 100 100]\n",
      " [200 200 200]]\n"
     ]
    }
   ],
   "source": [
    "# argmax\n",
    "print(a - b)\n",
    "print(np.abs(a - b))"
   ],
   "metadata": {
    "collapsed": false,
    "ExecuteTime": {
     "end_time": "2023-09-19T03:38:59.881461Z",
     "start_time": "2023-09-19T03:38:59.875365Z"
    }
   },
   "id": "69655ae7d169585e"
  },
  {
   "cell_type": "code",
   "execution_count": null,
   "outputs": [],
   "source": [],
   "metadata": {
    "collapsed": false
   },
   "id": "c5a47ec241b23ee6"
  }
 ],
 "metadata": {
  "kernelspec": {
   "display_name": "Python 3",
   "language": "python",
   "name": "python3"
  },
  "language_info": {
   "codemirror_mode": {
    "name": "ipython",
    "version": 2
   },
   "file_extension": ".py",
   "mimetype": "text/x-python",
   "name": "python",
   "nbconvert_exporter": "python",
   "pygments_lexer": "ipython2",
   "version": "2.7.6"
  }
 },
 "nbformat": 4,
 "nbformat_minor": 5
}
