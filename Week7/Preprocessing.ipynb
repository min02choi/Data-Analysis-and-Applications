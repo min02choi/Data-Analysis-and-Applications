{
 "cells": [
  {
   "cell_type": "markdown",
   "metadata": {
    "id": "view-in-github",
    "colab_type": "text"
   },
   "source": [
    "<a href=\"https://colab.research.google.com/github/min02choi/Data-Analysis-and-Applications/blob/master/Week7/Preprocessing.ipynb\" target=\"_parent\"><img src=\"https://colab.research.google.com/assets/colab-badge.svg\" alt=\"Open In Colab\"/></a>"
   ],
   "id": "b926b85eacd98003"
  },
  {
   "cell_type": "markdown",
   "source": [
    "- **데이터 전처리(data preprocessing)** : 머신러닝 모델에 훈련 데이터를 입력하기 전에 데이터를 가공\n",
    "- 넘파이나 판다스 같은 머신러닝의 핵심 도구, 맷플롯립과 시본 같은 데이터 시각화 도구를 활용하여 실제 데이터를 정리"
   ],
   "metadata": {
    "id": "jhDlko3DWkNi"
   },
   "id": "jhDlko3DWkNi"
  },
  {
   "cell_type": "markdown",
   "source": [
    "1. **결측치 (Missing data)**: 실제로 존재하지만 데이터베이스 등에 기록되지 않는 데이터\n",
    "- 결측치 처리 전략을 세워 데이터를 채워 넣거나, 신뢰할 수 없는 경우 제거 (drop)"
   ],
   "metadata": {
    "id": "BLrb3ZKxYAMb"
   },
   "id": "BLrb3ZKxYAMb"
  },
  {
   "cell_type": "code",
   "execution_count": 1,
   "id": "84b78666",
   "metadata": {
    "id": "84b78666",
    "colab": {
     "base_uri": "https://localhost:8080/",
     "height": 204
    },
    "outputId": "cd916b87-0f29-471f-ca1d-d3bbd47b5333",
    "ExecuteTime": {
     "end_time": "2023-10-31T03:16:48.809486Z",
     "start_time": "2023-10-31T03:16:48.785543Z"
    }
   },
   "outputs": [
    {
     "data": {
      "text/plain": "  first_name last_name   age  sex  preTestScore  postTestScore\n0      Jason    Miller  42.0    m           4.0           25.0\n1        NaN       NaN   NaN  NaN           NaN            NaN\n2       Tina       Ali  36.0    f           NaN            NaN\n3       Jake    Milner  24.0    m           2.0           62.0\n4        Amy     Cooze  73.0    f           3.0           70.0",
      "text/html": "<div>\n<style scoped>\n    .dataframe tbody tr th:only-of-type {\n        vertical-align: middle;\n    }\n\n    .dataframe tbody tr th {\n        vertical-align: top;\n    }\n\n    .dataframe thead th {\n        text-align: right;\n    }\n</style>\n<table border=\"1\" class=\"dataframe\">\n  <thead>\n    <tr style=\"text-align: right;\">\n      <th></th>\n      <th>first_name</th>\n      <th>last_name</th>\n      <th>age</th>\n      <th>sex</th>\n      <th>preTestScore</th>\n      <th>postTestScore</th>\n    </tr>\n  </thead>\n  <tbody>\n    <tr>\n      <th>0</th>\n      <td>Jason</td>\n      <td>Miller</td>\n      <td>42.0</td>\n      <td>m</td>\n      <td>4.0</td>\n      <td>25.0</td>\n    </tr>\n    <tr>\n      <th>1</th>\n      <td>NaN</td>\n      <td>NaN</td>\n      <td>NaN</td>\n      <td>NaN</td>\n      <td>NaN</td>\n      <td>NaN</td>\n    </tr>\n    <tr>\n      <th>2</th>\n      <td>Tina</td>\n      <td>Ali</td>\n      <td>36.0</td>\n      <td>f</td>\n      <td>NaN</td>\n      <td>NaN</td>\n    </tr>\n    <tr>\n      <th>3</th>\n      <td>Jake</td>\n      <td>Milner</td>\n      <td>24.0</td>\n      <td>m</td>\n      <td>2.0</td>\n      <td>62.0</td>\n    </tr>\n    <tr>\n      <th>4</th>\n      <td>Amy</td>\n      <td>Cooze</td>\n      <td>73.0</td>\n      <td>f</td>\n      <td>3.0</td>\n      <td>70.0</td>\n    </tr>\n  </tbody>\n</table>\n</div>"
     },
     "execution_count": 1,
     "metadata": {},
     "output_type": "execute_result"
    }
   ],
   "source": [
    "import pandas as pd\n",
    "import numpy as np\n",
    "\n",
    "raw_data = {'first_name': ['Jason', np.nan, 'Tina', 'Jake', 'Amy'],\n",
    "            'last_name': ['Miller', np.nan, 'Ali', 'Milner', 'Cooze'],\n",
    "            'age': [42, np.nan, 36, 24, 73],\n",
    "            'sex': ['m', np.nan, 'f', 'm', 'f'],\n",
    "            'preTestScore': [4, np.nan, np.nan, 2, 3],\n",
    "            'postTestScore': [25, np.nan, np.nan, 62, 70]}\n",
    "\n",
    "df = pd.DataFrame(raw_data, columns = ['first_name', 'last_name', 'age', 'sex', 'preTestScore', 'postTestScore'])\n",
    "df"
   ]
  },
  {
   "cell_type": "markdown",
   "source": [
    "- DataFrame의 **isnull 함수**를 통해 데이터 값의 NaN 여부 확인 가능"
   ],
   "metadata": {
    "id": "pEudYYESYeaQ"
   },
   "id": "pEudYYESYeaQ"
  },
  {
   "cell_type": "code",
   "source": [
    "df.isnull()"
   ],
   "metadata": {
    "id": "jjrtssRXYa7p",
    "colab": {
     "base_uri": "https://localhost:8080/",
     "height": 204
    },
    "outputId": "aa2f729d-048e-4893-c92b-e538c6cb088a",
    "ExecuteTime": {
     "end_time": "2023-10-31T03:16:48.817329Z",
     "start_time": "2023-10-31T03:16:48.808437Z"
    }
   },
   "id": "jjrtssRXYa7p",
   "execution_count": 2,
   "outputs": [
    {
     "data": {
      "text/plain": "   first_name  last_name    age    sex  preTestScore  postTestScore\n0       False      False  False  False         False          False\n1        True       True   True   True          True           True\n2       False      False  False  False          True           True\n3       False      False  False  False         False          False\n4       False      False  False  False         False          False",
      "text/html": "<div>\n<style scoped>\n    .dataframe tbody tr th:only-of-type {\n        vertical-align: middle;\n    }\n\n    .dataframe tbody tr th {\n        vertical-align: top;\n    }\n\n    .dataframe thead th {\n        text-align: right;\n    }\n</style>\n<table border=\"1\" class=\"dataframe\">\n  <thead>\n    <tr style=\"text-align: right;\">\n      <th></th>\n      <th>first_name</th>\n      <th>last_name</th>\n      <th>age</th>\n      <th>sex</th>\n      <th>preTestScore</th>\n      <th>postTestScore</th>\n    </tr>\n  </thead>\n  <tbody>\n    <tr>\n      <th>0</th>\n      <td>False</td>\n      <td>False</td>\n      <td>False</td>\n      <td>False</td>\n      <td>False</td>\n      <td>False</td>\n    </tr>\n    <tr>\n      <th>1</th>\n      <td>True</td>\n      <td>True</td>\n      <td>True</td>\n      <td>True</td>\n      <td>True</td>\n      <td>True</td>\n    </tr>\n    <tr>\n      <th>2</th>\n      <td>False</td>\n      <td>False</td>\n      <td>False</td>\n      <td>False</td>\n      <td>True</td>\n      <td>True</td>\n    </tr>\n    <tr>\n      <th>3</th>\n      <td>False</td>\n      <td>False</td>\n      <td>False</td>\n      <td>False</td>\n      <td>False</td>\n      <td>False</td>\n    </tr>\n    <tr>\n      <th>4</th>\n      <td>False</td>\n      <td>False</td>\n      <td>False</td>\n      <td>False</td>\n      <td>False</td>\n      <td>False</td>\n    </tr>\n  </tbody>\n</table>\n</div>"
     },
     "execution_count": 2,
     "metadata": {},
     "output_type": "execute_result"
    }
   ]
  },
  {
   "cell_type": "markdown",
   "source": [
    "- sum 함수로 True인 경우 모두 더하고 전체 데이터 개수로 나누어 열별 데이터 결측치 비율을 구함"
   ],
   "metadata": {
    "id": "7NRm236FYraU"
   },
   "id": "7NRm236FYraU"
  },
  {
   "cell_type": "code",
   "execution_count": 3,
   "id": "cc19664a",
   "metadata": {
    "id": "cc19664a",
    "colab": {
     "base_uri": "https://localhost:8080/"
    },
    "outputId": "5bb613cc-f37d-4bd4-eb31-0e781f0287c4",
    "ExecuteTime": {
     "end_time": "2023-10-31T03:16:48.831829Z",
     "start_time": "2023-10-31T03:16:48.816405Z"
    }
   },
   "outputs": [
    {
     "data": {
      "text/plain": "first_name       0.2\nlast_name        0.2\nage              0.2\nsex              0.2\npreTestScore     0.4\npostTestScore    0.4\ndtype: float64"
     },
     "execution_count": 3,
     "metadata": {},
     "output_type": "execute_result"
    }
   ],
   "source": [
    "df.isnull().sum() / len(df)"
   ]
  },
  {
   "cell_type": "markdown",
   "source": [
    "- DataFrame의 **dropna** 함수는 NaN이 있는 모든 데이터의 행을 제거"
   ],
   "metadata": {
    "id": "NKU_LP0wY0q9"
   },
   "id": "NKU_LP0wY0q9"
  },
  {
   "cell_type": "code",
   "execution_count": 4,
   "id": "c70ab8d9",
   "metadata": {
    "id": "c70ab8d9",
    "colab": {
     "base_uri": "https://localhost:8080/",
     "height": 142
    },
    "outputId": "c85b7d8d-4e9a-4dfc-fb55-461b0cb586bb",
    "ExecuteTime": {
     "end_time": "2023-10-31T03:16:48.863651Z",
     "start_time": "2023-10-31T03:16:48.822672Z"
    }
   },
   "outputs": [
    {
     "data": {
      "text/plain": "  first_name last_name   age sex  preTestScore  postTestScore\n0      Jason    Miller  42.0   m           4.0           25.0\n3       Jake    Milner  24.0   m           2.0           62.0\n4        Amy     Cooze  73.0   f           3.0           70.0",
      "text/html": "<div>\n<style scoped>\n    .dataframe tbody tr th:only-of-type {\n        vertical-align: middle;\n    }\n\n    .dataframe tbody tr th {\n        vertical-align: top;\n    }\n\n    .dataframe thead th {\n        text-align: right;\n    }\n</style>\n<table border=\"1\" class=\"dataframe\">\n  <thead>\n    <tr style=\"text-align: right;\">\n      <th></th>\n      <th>first_name</th>\n      <th>last_name</th>\n      <th>age</th>\n      <th>sex</th>\n      <th>preTestScore</th>\n      <th>postTestScore</th>\n    </tr>\n  </thead>\n  <tbody>\n    <tr>\n      <th>0</th>\n      <td>Jason</td>\n      <td>Miller</td>\n      <td>42.0</td>\n      <td>m</td>\n      <td>4.0</td>\n      <td>25.0</td>\n    </tr>\n    <tr>\n      <th>3</th>\n      <td>Jake</td>\n      <td>Milner</td>\n      <td>24.0</td>\n      <td>m</td>\n      <td>2.0</td>\n      <td>62.0</td>\n    </tr>\n    <tr>\n      <th>4</th>\n      <td>Amy</td>\n      <td>Cooze</td>\n      <td>73.0</td>\n      <td>f</td>\n      <td>3.0</td>\n      <td>70.0</td>\n    </tr>\n  </tbody>\n</table>\n</div>"
     },
     "execution_count": 4,
     "metadata": {},
     "output_type": "execute_result"
    }
   ],
   "source": [
    "df.dropna()"
   ]
  },
  {
   "cell_type": "code",
   "execution_count": 5,
   "id": "2fa56bab",
   "metadata": {
    "id": "2fa56bab",
    "colab": {
     "base_uri": "https://localhost:8080/",
     "height": 142
    },
    "outputId": "846c502d-1eda-4e2c-dace-f6792326efb1",
    "ExecuteTime": {
     "end_time": "2023-10-31T03:16:48.944796Z",
     "start_time": "2023-10-31T03:16:48.837434Z"
    }
   },
   "outputs": [
    {
     "data": {
      "text/plain": "  first_name last_name   age sex  preTestScore  postTestScore\n0      Jason    Miller  42.0   m           4.0           25.0\n3       Jake    Milner  24.0   m           2.0           62.0\n4        Amy     Cooze  73.0   f           3.0           70.0",
      "text/html": "<div>\n<style scoped>\n    .dataframe tbody tr th:only-of-type {\n        vertical-align: middle;\n    }\n\n    .dataframe tbody tr th {\n        vertical-align: top;\n    }\n\n    .dataframe thead th {\n        text-align: right;\n    }\n</style>\n<table border=\"1\" class=\"dataframe\">\n  <thead>\n    <tr style=\"text-align: right;\">\n      <th></th>\n      <th>first_name</th>\n      <th>last_name</th>\n      <th>age</th>\n      <th>sex</th>\n      <th>preTestScore</th>\n      <th>postTestScore</th>\n    </tr>\n  </thead>\n  <tbody>\n    <tr>\n      <th>0</th>\n      <td>Jason</td>\n      <td>Miller</td>\n      <td>42.0</td>\n      <td>m</td>\n      <td>4.0</td>\n      <td>25.0</td>\n    </tr>\n    <tr>\n      <th>3</th>\n      <td>Jake</td>\n      <td>Milner</td>\n      <td>24.0</td>\n      <td>m</td>\n      <td>2.0</td>\n      <td>62.0</td>\n    </tr>\n    <tr>\n      <th>4</th>\n      <td>Amy</td>\n      <td>Cooze</td>\n      <td>73.0</td>\n      <td>f</td>\n      <td>3.0</td>\n      <td>70.0</td>\n    </tr>\n  </tbody>\n</table>\n</div>"
     },
     "execution_count": 5,
     "metadata": {},
     "output_type": "execute_result"
    }
   ],
   "source": [
    "df_no_missing = df.dropna()\n",
    "df_no_missing"
   ]
  },
  {
   "cell_type": "markdown",
   "source": [
    "- dropna 함수의 how 인자는 하나만 NaN이 있어도 제거를 할지 ('any'), 모두 NaN이여야 제거를 할지 ('all') 결정해줄 수 있음\n",
    "- 기본값은 'any'"
   ],
   "metadata": {
    "id": "sbT9v71NZIJL"
   },
   "id": "sbT9v71NZIJL"
  },
  {
   "cell_type": "code",
   "execution_count": 6,
   "id": "052df1b9",
   "metadata": {
    "id": "052df1b9",
    "colab": {
     "base_uri": "https://localhost:8080/",
     "height": 173
    },
    "outputId": "044d6369-2ccc-415e-abd9-7e5a58b484cb",
    "ExecuteTime": {
     "end_time": "2023-10-31T03:16:48.997877Z",
     "start_time": "2023-10-31T03:16:48.847693Z"
    }
   },
   "outputs": [
    {
     "data": {
      "text/plain": "  first_name last_name   age sex  preTestScore  postTestScore\n0      Jason    Miller  42.0   m           4.0           25.0\n2       Tina       Ali  36.0   f           NaN            NaN\n3       Jake    Milner  24.0   m           2.0           62.0\n4        Amy     Cooze  73.0   f           3.0           70.0",
      "text/html": "<div>\n<style scoped>\n    .dataframe tbody tr th:only-of-type {\n        vertical-align: middle;\n    }\n\n    .dataframe tbody tr th {\n        vertical-align: top;\n    }\n\n    .dataframe thead th {\n        text-align: right;\n    }\n</style>\n<table border=\"1\" class=\"dataframe\">\n  <thead>\n    <tr style=\"text-align: right;\">\n      <th></th>\n      <th>first_name</th>\n      <th>last_name</th>\n      <th>age</th>\n      <th>sex</th>\n      <th>preTestScore</th>\n      <th>postTestScore</th>\n    </tr>\n  </thead>\n  <tbody>\n    <tr>\n      <th>0</th>\n      <td>Jason</td>\n      <td>Miller</td>\n      <td>42.0</td>\n      <td>m</td>\n      <td>4.0</td>\n      <td>25.0</td>\n    </tr>\n    <tr>\n      <th>2</th>\n      <td>Tina</td>\n      <td>Ali</td>\n      <td>36.0</td>\n      <td>f</td>\n      <td>NaN</td>\n      <td>NaN</td>\n    </tr>\n    <tr>\n      <th>3</th>\n      <td>Jake</td>\n      <td>Milner</td>\n      <td>24.0</td>\n      <td>m</td>\n      <td>2.0</td>\n      <td>62.0</td>\n    </tr>\n    <tr>\n      <th>4</th>\n      <td>Amy</td>\n      <td>Cooze</td>\n      <td>73.0</td>\n      <td>f</td>\n      <td>3.0</td>\n      <td>70.0</td>\n    </tr>\n  </tbody>\n</table>\n</div>"
     },
     "execution_count": 6,
     "metadata": {},
     "output_type": "execute_result"
    }
   ],
   "source": [
    "df_cleaned = df.dropna(how='all')   # 전부 다 nan이어야 행 삭제\n",
    "df_cleaned"
   ]
  },
  {
   "cell_type": "markdown",
   "source": [
    "- 열을 삭제하고 싶을 때는 axis=1 인자를 사용"
   ],
   "metadata": {
    "id": "RSBZzfEjZkvJ"
   },
   "id": "RSBZzfEjZkvJ"
  },
  {
   "cell_type": "code",
   "source": [
    "df['location'] = np.nan\n",
    "df"
   ],
   "metadata": {
    "id": "fwMwfqAvZgMv",
    "colab": {
     "base_uri": "https://localhost:8080/",
     "height": 204
    },
    "outputId": "8436c0d6-85b8-483e-d416-584e8ecbf558",
    "ExecuteTime": {
     "end_time": "2023-10-31T03:16:49.010418Z",
     "start_time": "2023-10-31T03:16:48.863122Z"
    }
   },
   "id": "fwMwfqAvZgMv",
   "execution_count": 7,
   "outputs": [
    {
     "data": {
      "text/plain": "  first_name last_name   age  sex  preTestScore  postTestScore  location\n0      Jason    Miller  42.0    m           4.0           25.0       NaN\n1        NaN       NaN   NaN  NaN           NaN            NaN       NaN\n2       Tina       Ali  36.0    f           NaN            NaN       NaN\n3       Jake    Milner  24.0    m           2.0           62.0       NaN\n4        Amy     Cooze  73.0    f           3.0           70.0       NaN",
      "text/html": "<div>\n<style scoped>\n    .dataframe tbody tr th:only-of-type {\n        vertical-align: middle;\n    }\n\n    .dataframe tbody tr th {\n        vertical-align: top;\n    }\n\n    .dataframe thead th {\n        text-align: right;\n    }\n</style>\n<table border=\"1\" class=\"dataframe\">\n  <thead>\n    <tr style=\"text-align: right;\">\n      <th></th>\n      <th>first_name</th>\n      <th>last_name</th>\n      <th>age</th>\n      <th>sex</th>\n      <th>preTestScore</th>\n      <th>postTestScore</th>\n      <th>location</th>\n    </tr>\n  </thead>\n  <tbody>\n    <tr>\n      <th>0</th>\n      <td>Jason</td>\n      <td>Miller</td>\n      <td>42.0</td>\n      <td>m</td>\n      <td>4.0</td>\n      <td>25.0</td>\n      <td>NaN</td>\n    </tr>\n    <tr>\n      <th>1</th>\n      <td>NaN</td>\n      <td>NaN</td>\n      <td>NaN</td>\n      <td>NaN</td>\n      <td>NaN</td>\n      <td>NaN</td>\n      <td>NaN</td>\n    </tr>\n    <tr>\n      <th>2</th>\n      <td>Tina</td>\n      <td>Ali</td>\n      <td>36.0</td>\n      <td>f</td>\n      <td>NaN</td>\n      <td>NaN</td>\n      <td>NaN</td>\n    </tr>\n    <tr>\n      <th>3</th>\n      <td>Jake</td>\n      <td>Milner</td>\n      <td>24.0</td>\n      <td>m</td>\n      <td>2.0</td>\n      <td>62.0</td>\n      <td>NaN</td>\n    </tr>\n    <tr>\n      <th>4</th>\n      <td>Amy</td>\n      <td>Cooze</td>\n      <td>73.0</td>\n      <td>f</td>\n      <td>3.0</td>\n      <td>70.0</td>\n      <td>NaN</td>\n    </tr>\n  </tbody>\n</table>\n</div>"
     },
     "execution_count": 7,
     "metadata": {},
     "output_type": "execute_result"
    }
   ]
  },
  {
   "cell_type": "code",
   "execution_count": 8,
   "id": "3115afc7",
   "metadata": {
    "id": "3115afc7",
    "colab": {
     "base_uri": "https://localhost:8080/",
     "height": 204
    },
    "outputId": "ec3e6918-73ba-4613-f4b8-12e149dc48d3",
    "ExecuteTime": {
     "end_time": "2023-10-31T03:16:49.010825Z",
     "start_time": "2023-10-31T03:16:48.875397Z"
    }
   },
   "outputs": [
    {
     "data": {
      "text/plain": "  first_name last_name   age  sex  preTestScore  postTestScore\n0      Jason    Miller  42.0    m           4.0           25.0\n1        NaN       NaN   NaN  NaN           NaN            NaN\n2       Tina       Ali  36.0    f           NaN            NaN\n3       Jake    Milner  24.0    m           2.0           62.0\n4        Amy     Cooze  73.0    f           3.0           70.0",
      "text/html": "<div>\n<style scoped>\n    .dataframe tbody tr th:only-of-type {\n        vertical-align: middle;\n    }\n\n    .dataframe tbody tr th {\n        vertical-align: top;\n    }\n\n    .dataframe thead th {\n        text-align: right;\n    }\n</style>\n<table border=\"1\" class=\"dataframe\">\n  <thead>\n    <tr style=\"text-align: right;\">\n      <th></th>\n      <th>first_name</th>\n      <th>last_name</th>\n      <th>age</th>\n      <th>sex</th>\n      <th>preTestScore</th>\n      <th>postTestScore</th>\n    </tr>\n  </thead>\n  <tbody>\n    <tr>\n      <th>0</th>\n      <td>Jason</td>\n      <td>Miller</td>\n      <td>42.0</td>\n      <td>m</td>\n      <td>4.0</td>\n      <td>25.0</td>\n    </tr>\n    <tr>\n      <th>1</th>\n      <td>NaN</td>\n      <td>NaN</td>\n      <td>NaN</td>\n      <td>NaN</td>\n      <td>NaN</td>\n      <td>NaN</td>\n    </tr>\n    <tr>\n      <th>2</th>\n      <td>Tina</td>\n      <td>Ali</td>\n      <td>36.0</td>\n      <td>f</td>\n      <td>NaN</td>\n      <td>NaN</td>\n    </tr>\n    <tr>\n      <th>3</th>\n      <td>Jake</td>\n      <td>Milner</td>\n      <td>24.0</td>\n      <td>m</td>\n      <td>2.0</td>\n      <td>62.0</td>\n    </tr>\n    <tr>\n      <th>4</th>\n      <td>Amy</td>\n      <td>Cooze</td>\n      <td>73.0</td>\n      <td>f</td>\n      <td>3.0</td>\n      <td>70.0</td>\n    </tr>\n  </tbody>\n</table>\n</div>"
     },
     "execution_count": 8,
     "metadata": {},
     "output_type": "execute_result"
    }
   ],
   "source": [
    "df.dropna(axis=1, how='all')"
   ]
  },
  {
   "cell_type": "markdown",
   "source": [
    "- DataFrame의 **fill 함수**는 반대로 NaN인 값들을 채워주는데 사용"
   ],
   "metadata": {
    "id": "lkWrAl32Z46H"
   },
   "id": "lkWrAl32Z46H"
  },
  {
   "cell_type": "code",
   "execution_count": 9,
   "id": "5291febf",
   "metadata": {
    "id": "5291febf",
    "colab": {
     "base_uri": "https://localhost:8080/",
     "height": 204
    },
    "outputId": "9cb8520c-1176-47a7-dfb5-56c8aad663b3",
    "ExecuteTime": {
     "end_time": "2023-10-31T03:16:49.058458Z",
     "start_time": "2023-10-31T03:16:48.880716Z"
    }
   },
   "outputs": [
    {
     "data": {
      "text/plain": "  first_name last_name   age sex  preTestScore  postTestScore  location\n0      Jason    Miller  42.0   m           4.0           25.0       0.0\n1          0         0   0.0   0           0.0            0.0       0.0\n2       Tina       Ali  36.0   f           0.0            0.0       0.0\n3       Jake    Milner  24.0   m           2.0           62.0       0.0\n4        Amy     Cooze  73.0   f           3.0           70.0       0.0",
      "text/html": "<div>\n<style scoped>\n    .dataframe tbody tr th:only-of-type {\n        vertical-align: middle;\n    }\n\n    .dataframe tbody tr th {\n        vertical-align: top;\n    }\n\n    .dataframe thead th {\n        text-align: right;\n    }\n</style>\n<table border=\"1\" class=\"dataframe\">\n  <thead>\n    <tr style=\"text-align: right;\">\n      <th></th>\n      <th>first_name</th>\n      <th>last_name</th>\n      <th>age</th>\n      <th>sex</th>\n      <th>preTestScore</th>\n      <th>postTestScore</th>\n      <th>location</th>\n    </tr>\n  </thead>\n  <tbody>\n    <tr>\n      <th>0</th>\n      <td>Jason</td>\n      <td>Miller</td>\n      <td>42.0</td>\n      <td>m</td>\n      <td>4.0</td>\n      <td>25.0</td>\n      <td>0.0</td>\n    </tr>\n    <tr>\n      <th>1</th>\n      <td>0</td>\n      <td>0</td>\n      <td>0.0</td>\n      <td>0</td>\n      <td>0.0</td>\n      <td>0.0</td>\n      <td>0.0</td>\n    </tr>\n    <tr>\n      <th>2</th>\n      <td>Tina</td>\n      <td>Ali</td>\n      <td>36.0</td>\n      <td>f</td>\n      <td>0.0</td>\n      <td>0.0</td>\n      <td>0.0</td>\n    </tr>\n    <tr>\n      <th>3</th>\n      <td>Jake</td>\n      <td>Milner</td>\n      <td>24.0</td>\n      <td>m</td>\n      <td>2.0</td>\n      <td>62.0</td>\n      <td>0.0</td>\n    </tr>\n    <tr>\n      <th>4</th>\n      <td>Amy</td>\n      <td>Cooze</td>\n      <td>73.0</td>\n      <td>f</td>\n      <td>3.0</td>\n      <td>70.0</td>\n      <td>0.0</td>\n    </tr>\n  </tbody>\n</table>\n</div>"
     },
     "execution_count": 9,
     "metadata": {},
     "output_type": "execute_result"
    }
   ],
   "source": [
    "df.fillna(0)"
   ]
  },
  {
   "cell_type": "code",
   "execution_count": 10,
   "id": "fd892761",
   "metadata": {
    "id": "fd892761",
    "colab": {
     "base_uri": "https://localhost:8080/",
     "height": 204
    },
    "outputId": "1d329329-1e2c-44a7-d931-06857ecd6f2e",
    "ExecuteTime": {
     "end_time": "2023-10-31T03:16:49.058894Z",
     "start_time": "2023-10-31T03:16:48.898370Z"
    }
   },
   "outputs": [
    {
     "data": {
      "text/plain": "  first_name last_name   age  sex  preTestScore  postTestScore  location\n0      Jason    Miller  42.0    m           4.0           25.0       NaN\n1        NaN       NaN   NaN  NaN           3.0            NaN       NaN\n2       Tina       Ali  36.0    f           3.0            NaN       NaN\n3       Jake    Milner  24.0    m           2.0           62.0       NaN\n4        Amy     Cooze  73.0    f           3.0           70.0       NaN",
      "text/html": "<div>\n<style scoped>\n    .dataframe tbody tr th:only-of-type {\n        vertical-align: middle;\n    }\n\n    .dataframe tbody tr th {\n        vertical-align: top;\n    }\n\n    .dataframe thead th {\n        text-align: right;\n    }\n</style>\n<table border=\"1\" class=\"dataframe\">\n  <thead>\n    <tr style=\"text-align: right;\">\n      <th></th>\n      <th>first_name</th>\n      <th>last_name</th>\n      <th>age</th>\n      <th>sex</th>\n      <th>preTestScore</th>\n      <th>postTestScore</th>\n      <th>location</th>\n    </tr>\n  </thead>\n  <tbody>\n    <tr>\n      <th>0</th>\n      <td>Jason</td>\n      <td>Miller</td>\n      <td>42.0</td>\n      <td>m</td>\n      <td>4.0</td>\n      <td>25.0</td>\n      <td>NaN</td>\n    </tr>\n    <tr>\n      <th>1</th>\n      <td>NaN</td>\n      <td>NaN</td>\n      <td>NaN</td>\n      <td>NaN</td>\n      <td>3.0</td>\n      <td>NaN</td>\n      <td>NaN</td>\n    </tr>\n    <tr>\n      <th>2</th>\n      <td>Tina</td>\n      <td>Ali</td>\n      <td>36.0</td>\n      <td>f</td>\n      <td>3.0</td>\n      <td>NaN</td>\n      <td>NaN</td>\n    </tr>\n    <tr>\n      <th>3</th>\n      <td>Jake</td>\n      <td>Milner</td>\n      <td>24.0</td>\n      <td>m</td>\n      <td>2.0</td>\n      <td>62.0</td>\n      <td>NaN</td>\n    </tr>\n    <tr>\n      <th>4</th>\n      <td>Amy</td>\n      <td>Cooze</td>\n      <td>73.0</td>\n      <td>f</td>\n      <td>3.0</td>\n      <td>70.0</td>\n      <td>NaN</td>\n    </tr>\n  </tbody>\n</table>\n</div>"
     },
     "execution_count": 10,
     "metadata": {},
     "output_type": "execute_result"
    }
   ],
   "source": [
    "df[\"preTestScore\"].fillna(df[\"preTestScore\"].mean(), inplace=True)\n",
    "df"
   ]
  },
  {
   "cell_type": "markdown",
   "source": [
    "- 열별 분포를 고려하여 채울 수 있음\n",
    "- 성별 postTestScore의 평균을 구합니다."
   ],
   "metadata": {
    "id": "M2B19vJScXTv"
   },
   "id": "M2B19vJScXTv"
  },
  {
   "cell_type": "code",
   "execution_count": 11,
   "id": "73b18b81",
   "metadata": {
    "id": "73b18b81",
    "colab": {
     "base_uri": "https://localhost:8080/"
    },
    "outputId": "974652fc-3626-4b58-8315-8533387082b8",
    "ExecuteTime": {
     "end_time": "2023-10-31T03:16:49.059134Z",
     "start_time": "2023-10-31T03:16:48.908744Z"
    }
   },
   "outputs": [
    {
     "data": {
      "text/plain": "0    43.5\n1     NaN\n2    70.0\n3    43.5\n4    70.0\nName: postTestScore, dtype: float64"
     },
     "execution_count": 11,
     "metadata": {},
     "output_type": "execute_result"
    }
   ],
   "source": [
    "df.groupby(\"sex\")[\n",
    "    \"postTestScore\"].transform(\n",
    "    \"mean\")"
   ]
  },
  {
   "cell_type": "markdown",
   "source": [
    "- 성별에 맞춰서 postTestScore의 결측치를 채워줍니다."
   ],
   "metadata": {
    "id": "8g07rUY-chgm"
   },
   "id": "8g07rUY-chgm"
  },
  {
   "cell_type": "code",
   "execution_count": 12,
   "id": "3c04e183",
   "metadata": {
    "id": "3c04e183",
    "colab": {
     "base_uri": "https://localhost:8080/",
     "height": 204
    },
    "outputId": "b68b9fe1-366d-4981-d6f4-09136eaf0359",
    "ExecuteTime": {
     "end_time": "2023-10-31T03:16:49.059471Z",
     "start_time": "2023-10-31T03:16:48.920492Z"
    }
   },
   "outputs": [
    {
     "data": {
      "text/plain": "  first_name last_name   age  sex  preTestScore  postTestScore  location\n0      Jason    Miller  42.0    m           4.0           25.0       NaN\n1        NaN       NaN   NaN  NaN           3.0            NaN       NaN\n2       Tina       Ali  36.0    f           3.0           70.0       NaN\n3       Jake    Milner  24.0    m           2.0           62.0       NaN\n4        Amy     Cooze  73.0    f           3.0           70.0       NaN",
      "text/html": "<div>\n<style scoped>\n    .dataframe tbody tr th:only-of-type {\n        vertical-align: middle;\n    }\n\n    .dataframe tbody tr th {\n        vertical-align: top;\n    }\n\n    .dataframe thead th {\n        text-align: right;\n    }\n</style>\n<table border=\"1\" class=\"dataframe\">\n  <thead>\n    <tr style=\"text-align: right;\">\n      <th></th>\n      <th>first_name</th>\n      <th>last_name</th>\n      <th>age</th>\n      <th>sex</th>\n      <th>preTestScore</th>\n      <th>postTestScore</th>\n      <th>location</th>\n    </tr>\n  </thead>\n  <tbody>\n    <tr>\n      <th>0</th>\n      <td>Jason</td>\n      <td>Miller</td>\n      <td>42.0</td>\n      <td>m</td>\n      <td>4.0</td>\n      <td>25.0</td>\n      <td>NaN</td>\n    </tr>\n    <tr>\n      <th>1</th>\n      <td>NaN</td>\n      <td>NaN</td>\n      <td>NaN</td>\n      <td>NaN</td>\n      <td>3.0</td>\n      <td>NaN</td>\n      <td>NaN</td>\n    </tr>\n    <tr>\n      <th>2</th>\n      <td>Tina</td>\n      <td>Ali</td>\n      <td>36.0</td>\n      <td>f</td>\n      <td>3.0</td>\n      <td>70.0</td>\n      <td>NaN</td>\n    </tr>\n    <tr>\n      <th>3</th>\n      <td>Jake</td>\n      <td>Milner</td>\n      <td>24.0</td>\n      <td>m</td>\n      <td>2.0</td>\n      <td>62.0</td>\n      <td>NaN</td>\n    </tr>\n    <tr>\n      <th>4</th>\n      <td>Amy</td>\n      <td>Cooze</td>\n      <td>73.0</td>\n      <td>f</td>\n      <td>3.0</td>\n      <td>70.0</td>\n      <td>NaN</td>\n    </tr>\n  </tbody>\n</table>\n</div>"
     },
     "execution_count": 12,
     "metadata": {},
     "output_type": "execute_result"
    }
   ],
   "source": [
    "df[\"postTestScore\"].fillna(\n",
    "    df.groupby(\"sex\")[\"postTestScore\"].transform(\"mean\"), inplace=True)\n",
    "df"
   ]
  },
  {
   "cell_type": "markdown",
   "source": [
    "2. 범주형 데이터 처리하기: 원핫인코딩 (one-hot encoding)\n",
    "- 범주형 데이터는 ‘A’, ‘B’, ‘C’와 같이 종류를 표시하는 데이터를 말한다. 카테고리(category) 데이터라고도 부른다. 다음과 같은 데이터는 모두 범주형 데이터의 예이다.\n",
    "\n",
    "성별: 남자, 여자\n",
    "\n",
    "혈액형: A, B, O, AB\n",
    "\n",
    "이름: 홍길동, 성춘향, …\n",
    "\n",
    "주소: 서울, 부산, 대전,\n",
    "\n",
    "- **원핫인코딩(one-hot encoding)** : 범주형 데이터의 개수만큼 가변수(dummy variable)를 생성하여 존재 유무를 1 또는 0으로 표현\n",
    "\n",
    "![image.png](data:image/png;base64,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)"
   ],
   "metadata": {
    "id": "VbpXjEsadK8S"
   },
   "id": "VbpXjEsadK8S"
  },
  {
   "cell_type": "code",
   "execution_count": 13,
   "id": "b4b64aa4",
   "metadata": {
    "id": "b4b64aa4",
    "colab": {
     "base_uri": "https://localhost:8080/",
     "height": 142
    },
    "outputId": "d138f5f1-c829-4cf9-9a71-448d99c2d751",
    "ExecuteTime": {
     "end_time": "2023-10-31T03:16:49.059728Z",
     "start_time": "2023-10-31T03:16:48.929187Z"
    }
   },
   "outputs": [
    {
     "data": {
      "text/plain": "   source  target  weight color\n0       0       2       3   red\n1       1       2       4  blue\n2       2       3       5  blue",
      "text/html": "<div>\n<style scoped>\n    .dataframe tbody tr th:only-of-type {\n        vertical-align: middle;\n    }\n\n    .dataframe tbody tr th {\n        vertical-align: top;\n    }\n\n    .dataframe thead th {\n        text-align: right;\n    }\n</style>\n<table border=\"1\" class=\"dataframe\">\n  <thead>\n    <tr style=\"text-align: right;\">\n      <th></th>\n      <th>source</th>\n      <th>target</th>\n      <th>weight</th>\n      <th>color</th>\n    </tr>\n  </thead>\n  <tbody>\n    <tr>\n      <th>0</th>\n      <td>0</td>\n      <td>2</td>\n      <td>3</td>\n      <td>red</td>\n    </tr>\n    <tr>\n      <th>1</th>\n      <td>1</td>\n      <td>2</td>\n      <td>4</td>\n      <td>blue</td>\n    </tr>\n    <tr>\n      <th>2</th>\n      <td>2</td>\n      <td>3</td>\n      <td>5</td>\n      <td>blue</td>\n    </tr>\n  </tbody>\n</table>\n</div>"
     },
     "execution_count": 13,
     "metadata": {},
     "output_type": "execute_result"
    }
   ],
   "source": [
    "edges = pd.DataFrame({'source': [0, 1, 2], 'target': [2, 2, 3],\n",
    "                      'weight': [3, 4, 5], 'color': ['red', 'blue', 'blue']})\n",
    "edges"
   ]
  },
  {
   "cell_type": "code",
   "execution_count": 14,
   "id": "fc9472db",
   "metadata": {
    "id": "fc9472db",
    "colab": {
     "base_uri": "https://localhost:8080/"
    },
    "outputId": "9a07afb9-7f91-46f4-e489-460498acf039",
    "ExecuteTime": {
     "end_time": "2023-10-31T03:16:49.089992Z",
     "start_time": "2023-10-31T03:16:48.935250Z"
    }
   },
   "outputs": [
    {
     "data": {
      "text/plain": "source     int64\ntarget     int64\nweight     int64\ncolor     object\ndtype: object"
     },
     "execution_count": 14,
     "metadata": {},
     "output_type": "execute_result"
    }
   ],
   "source": [
    "edges.dtypes"
   ]
  },
  {
   "cell_type": "markdown",
   "source": [
    "- pandas의 **get_dummies 함수**는 범주형 데이터 종류 개수만큼 가변수 (dummy variable)를 생성하여 존재 유무를 1 또는 0으로 표현해줍니다."
   ],
   "metadata": {
    "id": "Yec-5liBuGbJ"
   },
   "id": "Yec-5liBuGbJ"
  },
  {
   "cell_type": "code",
   "execution_count": 15,
   "id": "4c141476",
   "metadata": {
    "id": "4c141476",
    "colab": {
     "base_uri": "https://localhost:8080/",
     "height": 142
    },
    "outputId": "55a60200-81a3-4728-be70-670d74ff94ce",
    "ExecuteTime": {
     "end_time": "2023-10-31T03:16:49.141778Z",
     "start_time": "2023-10-31T03:16:48.941295Z"
    }
   },
   "outputs": [
    {
     "data": {
      "text/plain": "   source  target  weight  color_blue  color_red\n0       0       2       3           0          1\n1       1       2       4           1          0\n2       2       3       5           1          0",
      "text/html": "<div>\n<style scoped>\n    .dataframe tbody tr th:only-of-type {\n        vertical-align: middle;\n    }\n\n    .dataframe tbody tr th {\n        vertical-align: top;\n    }\n\n    .dataframe thead th {\n        text-align: right;\n    }\n</style>\n<table border=\"1\" class=\"dataframe\">\n  <thead>\n    <tr style=\"text-align: right;\">\n      <th></th>\n      <th>source</th>\n      <th>target</th>\n      <th>weight</th>\n      <th>color_blue</th>\n      <th>color_red</th>\n    </tr>\n  </thead>\n  <tbody>\n    <tr>\n      <th>0</th>\n      <td>0</td>\n      <td>2</td>\n      <td>3</td>\n      <td>0</td>\n      <td>1</td>\n    </tr>\n    <tr>\n      <th>1</th>\n      <td>1</td>\n      <td>2</td>\n      <td>4</td>\n      <td>1</td>\n      <td>0</td>\n    </tr>\n    <tr>\n      <th>2</th>\n      <td>2</td>\n      <td>3</td>\n      <td>5</td>\n      <td>1</td>\n      <td>0</td>\n    </tr>\n  </tbody>\n</table>\n</div>"
     },
     "execution_count": 15,
     "metadata": {},
     "output_type": "execute_result"
    }
   ],
   "source": [
    "pd.get_dummies(edges)"
   ]
  },
  {
   "cell_type": "markdown",
   "source": [
    "- 해당 열만 따로 추출해서 생성도 가능합니다."
   ],
   "metadata": {
    "id": "TiWJE4_DurzN"
   },
   "id": "TiWJE4_DurzN"
  },
  {
   "cell_type": "code",
   "execution_count": 16,
   "id": "9cc2efb5",
   "metadata": {
    "id": "9cc2efb5",
    "colab": {
     "base_uri": "https://localhost:8080/",
     "height": 142
    },
    "outputId": "bfe5fdde-2b1e-4c62-c5a8-1c09b4f5871b",
    "ExecuteTime": {
     "end_time": "2023-10-31T03:16:49.151202Z",
     "start_time": "2023-10-31T03:16:48.952638Z"
    }
   },
   "outputs": [
    {
     "data": {
      "text/plain": "   blue  red\n0     0    1\n1     1    0\n2     1    0",
      "text/html": "<div>\n<style scoped>\n    .dataframe tbody tr th:only-of-type {\n        vertical-align: middle;\n    }\n\n    .dataframe tbody tr th {\n        vertical-align: top;\n    }\n\n    .dataframe thead th {\n        text-align: right;\n    }\n</style>\n<table border=\"1\" class=\"dataframe\">\n  <thead>\n    <tr style=\"text-align: right;\">\n      <th></th>\n      <th>blue</th>\n      <th>red</th>\n    </tr>\n  </thead>\n  <tbody>\n    <tr>\n      <th>0</th>\n      <td>0</td>\n      <td>1</td>\n    </tr>\n    <tr>\n      <th>1</th>\n      <td>1</td>\n      <td>0</td>\n    </tr>\n    <tr>\n      <th>2</th>\n      <td>1</td>\n      <td>0</td>\n    </tr>\n  </tbody>\n</table>\n</div>"
     },
     "execution_count": 16,
     "metadata": {},
     "output_type": "execute_result"
    }
   ],
   "source": [
    "pd.get_dummies(edges[\"color\"])"
   ]
  },
  {
   "cell_type": "code",
   "execution_count": 17,
   "id": "cdbb0fc2",
   "metadata": {
    "id": "cdbb0fc2",
    "colab": {
     "base_uri": "https://localhost:8080/",
     "height": 142
    },
    "outputId": "48790831-862c-4743-c5ba-5d1a7eb87001",
    "ExecuteTime": {
     "end_time": "2023-10-31T03:16:49.151579Z",
     "start_time": "2023-10-31T03:16:48.961885Z"
    }
   },
   "outputs": [
    {
     "data": {
      "text/plain": "   color_blue  color_red\n0           0          1\n1           1          0\n2           1          0",
      "text/html": "<div>\n<style scoped>\n    .dataframe tbody tr th:only-of-type {\n        vertical-align: middle;\n    }\n\n    .dataframe tbody tr th {\n        vertical-align: top;\n    }\n\n    .dataframe thead th {\n        text-align: right;\n    }\n</style>\n<table border=\"1\" class=\"dataframe\">\n  <thead>\n    <tr style=\"text-align: right;\">\n      <th></th>\n      <th>color_blue</th>\n      <th>color_red</th>\n    </tr>\n  </thead>\n  <tbody>\n    <tr>\n      <th>0</th>\n      <td>0</td>\n      <td>1</td>\n    </tr>\n    <tr>\n      <th>1</th>\n      <td>1</td>\n      <td>0</td>\n    </tr>\n    <tr>\n      <th>2</th>\n      <td>1</td>\n      <td>0</td>\n    </tr>\n  </tbody>\n</table>\n</div>"
     },
     "execution_count": 17,
     "metadata": {},
     "output_type": "execute_result"
    }
   ],
   "source": [
    "pd.get_dummies(edges[[\"color\"]])"
   ]
  },
  {
   "cell_type": "markdown",
   "source": [
    "- 필요에 따라 정수형 데이터를 범주형 데이터로 처리를 해야할 때\n",
    "\n",
    "예제) 데이터를 각각 데이터를 M, L, XL로 변경하여 원핫인코딩을 적용"
   ],
   "metadata": {
    "id": "N0Aqs4GyvOFi"
   },
   "id": "N0Aqs4GyvOFi"
  },
  {
   "cell_type": "code",
   "source": [
    "weight_dict = {3:\"M\", 4:\"L\", 5:\"XL\"}\n",
    "edges[\"weight_sign\"] = edges[\"weight\"].map(weight_dict)\n",
    "edges"
   ],
   "metadata": {
    "id": "JtjbzZzpvh-E",
    "colab": {
     "base_uri": "https://localhost:8080/",
     "height": 142
    },
    "outputId": "b1a2b723-881d-47b9-ddb1-7c65f45a7214",
    "ExecuteTime": {
     "end_time": "2023-10-31T03:16:49.151852Z",
     "start_time": "2023-10-31T03:16:48.971055Z"
    }
   },
   "id": "JtjbzZzpvh-E",
   "execution_count": 18,
   "outputs": [
    {
     "data": {
      "text/plain": "   source  target  weight color weight_sign\n0       0       2       3   red           M\n1       1       2       4  blue           L\n2       2       3       5  blue          XL",
      "text/html": "<div>\n<style scoped>\n    .dataframe tbody tr th:only-of-type {\n        vertical-align: middle;\n    }\n\n    .dataframe tbody tr th {\n        vertical-align: top;\n    }\n\n    .dataframe thead th {\n        text-align: right;\n    }\n</style>\n<table border=\"1\" class=\"dataframe\">\n  <thead>\n    <tr style=\"text-align: right;\">\n      <th></th>\n      <th>source</th>\n      <th>target</th>\n      <th>weight</th>\n      <th>color</th>\n      <th>weight_sign</th>\n    </tr>\n  </thead>\n  <tbody>\n    <tr>\n      <th>0</th>\n      <td>0</td>\n      <td>2</td>\n      <td>3</td>\n      <td>red</td>\n      <td>M</td>\n    </tr>\n    <tr>\n      <th>1</th>\n      <td>1</td>\n      <td>2</td>\n      <td>4</td>\n      <td>blue</td>\n      <td>L</td>\n    </tr>\n    <tr>\n      <th>2</th>\n      <td>2</td>\n      <td>3</td>\n      <td>5</td>\n      <td>blue</td>\n      <td>XL</td>\n    </tr>\n  </tbody>\n</table>\n</div>"
     },
     "execution_count": 18,
     "metadata": {},
     "output_type": "execute_result"
    }
   ]
  },
  {
   "cell_type": "code",
   "execution_count": 19,
   "id": "23673f99",
   "metadata": {
    "id": "23673f99",
    "colab": {
     "base_uri": "https://localhost:8080/",
     "height": 142
    },
    "outputId": "a84c21bb-34e1-4892-a4f4-424850da7c73",
    "ExecuteTime": {
     "end_time": "2023-10-31T03:16:49.152117Z",
     "start_time": "2023-10-31T03:16:48.978864Z"
    }
   },
   "outputs": [
    {
     "data": {
      "text/plain": "   L  M  XL\n0  0  1   0\n1  1  0   0\n2  0  0   1",
      "text/html": "<div>\n<style scoped>\n    .dataframe tbody tr th:only-of-type {\n        vertical-align: middle;\n    }\n\n    .dataframe tbody tr th {\n        vertical-align: top;\n    }\n\n    .dataframe thead th {\n        text-align: right;\n    }\n</style>\n<table border=\"1\" class=\"dataframe\">\n  <thead>\n    <tr style=\"text-align: right;\">\n      <th></th>\n      <th>L</th>\n      <th>M</th>\n      <th>XL</th>\n    </tr>\n  </thead>\n  <tbody>\n    <tr>\n      <th>0</th>\n      <td>0</td>\n      <td>1</td>\n      <td>0</td>\n    </tr>\n    <tr>\n      <th>1</th>\n      <td>1</td>\n      <td>0</td>\n      <td>0</td>\n    </tr>\n    <tr>\n      <th>2</th>\n      <td>0</td>\n      <td>0</td>\n      <td>1</td>\n    </tr>\n  </tbody>\n</table>\n</div>"
     },
     "execution_count": 19,
     "metadata": {},
     "output_type": "execute_result"
    }
   ],
   "source": [
    "weight_sign = pd.get_dummies(edges[\"weight_sign\"])\n",
    "weight_sign"
   ]
  },
  {
   "cell_type": "code",
   "execution_count": 20,
   "id": "dc69f2a1",
   "metadata": {
    "id": "dc69f2a1",
    "colab": {
     "base_uri": "https://localhost:8080/",
     "height": 142
    },
    "outputId": "7987858a-3d14-4a2b-ea68-6f8d2a22f3bc",
    "ExecuteTime": {
     "end_time": "2023-10-31T03:16:49.155287Z",
     "start_time": "2023-10-31T03:16:48.988609Z"
    }
   },
   "outputs": [
    {
     "data": {
      "text/plain": "   source  target  weight color weight_sign  L  M  XL\n0       0       2       3   red           M  0  1   0\n1       1       2       4  blue           L  1  0   0\n2       2       3       5  blue          XL  0  0   1",
      "text/html": "<div>\n<style scoped>\n    .dataframe tbody tr th:only-of-type {\n        vertical-align: middle;\n    }\n\n    .dataframe tbody tr th {\n        vertical-align: top;\n    }\n\n    .dataframe thead th {\n        text-align: right;\n    }\n</style>\n<table border=\"1\" class=\"dataframe\">\n  <thead>\n    <tr style=\"text-align: right;\">\n      <th></th>\n      <th>source</th>\n      <th>target</th>\n      <th>weight</th>\n      <th>color</th>\n      <th>weight_sign</th>\n      <th>L</th>\n      <th>M</th>\n      <th>XL</th>\n    </tr>\n  </thead>\n  <tbody>\n    <tr>\n      <th>0</th>\n      <td>0</td>\n      <td>2</td>\n      <td>3</td>\n      <td>red</td>\n      <td>M</td>\n      <td>0</td>\n      <td>1</td>\n      <td>0</td>\n    </tr>\n    <tr>\n      <th>1</th>\n      <td>1</td>\n      <td>2</td>\n      <td>4</td>\n      <td>blue</td>\n      <td>L</td>\n      <td>1</td>\n      <td>0</td>\n      <td>0</td>\n    </tr>\n    <tr>\n      <th>2</th>\n      <td>2</td>\n      <td>3</td>\n      <td>5</td>\n      <td>blue</td>\n      <td>XL</td>\n      <td>0</td>\n      <td>0</td>\n      <td>1</td>\n    </tr>\n  </tbody>\n</table>\n</div>"
     },
     "execution_count": 20,
     "metadata": {},
     "output_type": "execute_result"
    }
   ],
   "source": [
    "pd.concat([edges, weight_sign], axis=1)"
   ]
  },
  {
   "cell_type": "markdown",
   "source": [
    "3. 범주형 데이터로 변환하여 처리하기 : 바인딩 (binding)\n",
    "\n",
    "- **바인딩 (binding)** : 연속형 데이터를 범주형 데이터로 변환"
   ],
   "metadata": {
    "id": "WGVDvEwvwKP6"
   },
   "id": "WGVDvEwvwKP6"
  },
  {
   "cell_type": "code",
   "execution_count": 21,
   "id": "bafab825",
   "metadata": {
    "id": "bafab825",
    "colab": {
     "base_uri": "https://localhost:8080/",
     "height": 421
    },
    "outputId": "dbd52e18-e7c8-4bda-e59e-6db712d88ddb",
    "ExecuteTime": {
     "end_time": "2023-10-31T03:16:49.186962Z",
     "start_time": "2023-10-31T03:16:49.000951Z"
    }
   },
   "outputs": [
    {
     "data": {
      "text/plain": "      regiment company      name  preTestScore  postTestScore\n0   Nighthawks     1st    Miller             4             25\n1   Nighthawks     1st  Jacobson            24             94\n2   Nighthawks     2nd       Ali            31             57\n3   Nighthawks     2nd    Milner             2             62\n4     Dragoons     1st     Cooze             3             70\n5     Dragoons     1st     Jacon             4             25\n6     Dragoons     2nd    Ryaner            24             94\n7     Dragoons     2nd      Sone            31             57\n8       Scouts     1st     Sloan             2             62\n9       Scouts     1st     Piger             3             70\n10      Scouts     2nd     Riani             2             62\n11      Scouts     2nd       Ali             3             70",
      "text/html": "<div>\n<style scoped>\n    .dataframe tbody tr th:only-of-type {\n        vertical-align: middle;\n    }\n\n    .dataframe tbody tr th {\n        vertical-align: top;\n    }\n\n    .dataframe thead th {\n        text-align: right;\n    }\n</style>\n<table border=\"1\" class=\"dataframe\">\n  <thead>\n    <tr style=\"text-align: right;\">\n      <th></th>\n      <th>regiment</th>\n      <th>company</th>\n      <th>name</th>\n      <th>preTestScore</th>\n      <th>postTestScore</th>\n    </tr>\n  </thead>\n  <tbody>\n    <tr>\n      <th>0</th>\n      <td>Nighthawks</td>\n      <td>1st</td>\n      <td>Miller</td>\n      <td>4</td>\n      <td>25</td>\n    </tr>\n    <tr>\n      <th>1</th>\n      <td>Nighthawks</td>\n      <td>1st</td>\n      <td>Jacobson</td>\n      <td>24</td>\n      <td>94</td>\n    </tr>\n    <tr>\n      <th>2</th>\n      <td>Nighthawks</td>\n      <td>2nd</td>\n      <td>Ali</td>\n      <td>31</td>\n      <td>57</td>\n    </tr>\n    <tr>\n      <th>3</th>\n      <td>Nighthawks</td>\n      <td>2nd</td>\n      <td>Milner</td>\n      <td>2</td>\n      <td>62</td>\n    </tr>\n    <tr>\n      <th>4</th>\n      <td>Dragoons</td>\n      <td>1st</td>\n      <td>Cooze</td>\n      <td>3</td>\n      <td>70</td>\n    </tr>\n    <tr>\n      <th>5</th>\n      <td>Dragoons</td>\n      <td>1st</td>\n      <td>Jacon</td>\n      <td>4</td>\n      <td>25</td>\n    </tr>\n    <tr>\n      <th>6</th>\n      <td>Dragoons</td>\n      <td>2nd</td>\n      <td>Ryaner</td>\n      <td>24</td>\n      <td>94</td>\n    </tr>\n    <tr>\n      <th>7</th>\n      <td>Dragoons</td>\n      <td>2nd</td>\n      <td>Sone</td>\n      <td>31</td>\n      <td>57</td>\n    </tr>\n    <tr>\n      <th>8</th>\n      <td>Scouts</td>\n      <td>1st</td>\n      <td>Sloan</td>\n      <td>2</td>\n      <td>62</td>\n    </tr>\n    <tr>\n      <th>9</th>\n      <td>Scouts</td>\n      <td>1st</td>\n      <td>Piger</td>\n      <td>3</td>\n      <td>70</td>\n    </tr>\n    <tr>\n      <th>10</th>\n      <td>Scouts</td>\n      <td>2nd</td>\n      <td>Riani</td>\n      <td>2</td>\n      <td>62</td>\n    </tr>\n    <tr>\n      <th>11</th>\n      <td>Scouts</td>\n      <td>2nd</td>\n      <td>Ali</td>\n      <td>3</td>\n      <td>70</td>\n    </tr>\n  </tbody>\n</table>\n</div>"
     },
     "execution_count": 21,
     "metadata": {},
     "output_type": "execute_result"
    }
   ],
   "source": [
    "raw_data = {'regiment': ['Nighthawks', 'Nighthawks', 'Nighthawks', 'Nighthawks', 'Dragoons', 'Dragoons', 'Dragoons', 'Dragoons', 'Scouts', 'Scouts', 'Scouts', 'Scouts'],\n",
    "            'company': ['1st', '1st', '2nd', '2nd', '1st', '1st', '2nd', '2nd','1st', '1st', '2nd', '2nd'],\n",
    "            'name': ['Miller', 'Jacobson', 'Ali', 'Milner', 'Cooze', 'Jacon', 'Ryaner', 'Sone', 'Sloan', 'Piger', 'Riani', 'Ali'],\n",
    "            'preTestScore': [4, 24, 31, 2, 3, 4, 24, 31, 2, 3, 2, 3],\n",
    "            'postTestScore': [25, 94, 57, 62, 70, 25, 94, 57, 62, 70, 62, 70]}\n",
    "\n",
    "df = pd.DataFrame(raw_data, columns = ['regiment', 'company', 'name', 'preTestScore', 'postTestScore'])\n",
    "df"
   ]
  },
  {
   "cell_type": "markdown",
   "source": [
    "- 연속된 수를 범주형으로 나눌 때는 pandas의 **cut함수**를 이용\n",
    "\n",
    "예제) 데이터 범위를 구분 : 0-25, 25-50, 50-75, 75-100으로 구분하여 'Low', 'Okay', 'Good', Great' 범주형 데이터 생성"
   ],
   "metadata": {
    "id": "ogD-WVSuwuw9"
   },
   "id": "ogD-WVSuwuw9"
  },
  {
   "cell_type": "code",
   "execution_count": 22,
   "id": "4d350ff3",
   "metadata": {
    "id": "4d350ff3",
    "colab": {
     "base_uri": "https://localhost:8080/",
     "height": 421
    },
    "outputId": "99362431-7eb6-4c9f-bd7f-d9762fba2622",
    "ExecuteTime": {
     "end_time": "2023-10-31T03:16:49.230717Z",
     "start_time": "2023-10-31T03:16:49.015085Z"
    }
   },
   "outputs": [
    {
     "data": {
      "text/plain": "      regiment company      name  preTestScore  postTestScore  grade\n0   Nighthawks     1st    Miller             4             25    Low\n1   Nighthawks     1st  Jacobson            24             94  Great\n2   Nighthawks     2nd       Ali            31             57   Good\n3   Nighthawks     2nd    Milner             2             62   Good\n4     Dragoons     1st     Cooze             3             70   Good\n5     Dragoons     1st     Jacon             4             25    Low\n6     Dragoons     2nd    Ryaner            24             94  Great\n7     Dragoons     2nd      Sone            31             57   Good\n8       Scouts     1st     Sloan             2             62   Good\n9       Scouts     1st     Piger             3             70   Good\n10      Scouts     2nd     Riani             2             62   Good\n11      Scouts     2nd       Ali             3             70   Good",
      "text/html": "<div>\n<style scoped>\n    .dataframe tbody tr th:only-of-type {\n        vertical-align: middle;\n    }\n\n    .dataframe tbody tr th {\n        vertical-align: top;\n    }\n\n    .dataframe thead th {\n        text-align: right;\n    }\n</style>\n<table border=\"1\" class=\"dataframe\">\n  <thead>\n    <tr style=\"text-align: right;\">\n      <th></th>\n      <th>regiment</th>\n      <th>company</th>\n      <th>name</th>\n      <th>preTestScore</th>\n      <th>postTestScore</th>\n      <th>grade</th>\n    </tr>\n  </thead>\n  <tbody>\n    <tr>\n      <th>0</th>\n      <td>Nighthawks</td>\n      <td>1st</td>\n      <td>Miller</td>\n      <td>4</td>\n      <td>25</td>\n      <td>Low</td>\n    </tr>\n    <tr>\n      <th>1</th>\n      <td>Nighthawks</td>\n      <td>1st</td>\n      <td>Jacobson</td>\n      <td>24</td>\n      <td>94</td>\n      <td>Great</td>\n    </tr>\n    <tr>\n      <th>2</th>\n      <td>Nighthawks</td>\n      <td>2nd</td>\n      <td>Ali</td>\n      <td>31</td>\n      <td>57</td>\n      <td>Good</td>\n    </tr>\n    <tr>\n      <th>3</th>\n      <td>Nighthawks</td>\n      <td>2nd</td>\n      <td>Milner</td>\n      <td>2</td>\n      <td>62</td>\n      <td>Good</td>\n    </tr>\n    <tr>\n      <th>4</th>\n      <td>Dragoons</td>\n      <td>1st</td>\n      <td>Cooze</td>\n      <td>3</td>\n      <td>70</td>\n      <td>Good</td>\n    </tr>\n    <tr>\n      <th>5</th>\n      <td>Dragoons</td>\n      <td>1st</td>\n      <td>Jacon</td>\n      <td>4</td>\n      <td>25</td>\n      <td>Low</td>\n    </tr>\n    <tr>\n      <th>6</th>\n      <td>Dragoons</td>\n      <td>2nd</td>\n      <td>Ryaner</td>\n      <td>24</td>\n      <td>94</td>\n      <td>Great</td>\n    </tr>\n    <tr>\n      <th>7</th>\n      <td>Dragoons</td>\n      <td>2nd</td>\n      <td>Sone</td>\n      <td>31</td>\n      <td>57</td>\n      <td>Good</td>\n    </tr>\n    <tr>\n      <th>8</th>\n      <td>Scouts</td>\n      <td>1st</td>\n      <td>Sloan</td>\n      <td>2</td>\n      <td>62</td>\n      <td>Good</td>\n    </tr>\n    <tr>\n      <th>9</th>\n      <td>Scouts</td>\n      <td>1st</td>\n      <td>Piger</td>\n      <td>3</td>\n      <td>70</td>\n      <td>Good</td>\n    </tr>\n    <tr>\n      <th>10</th>\n      <td>Scouts</td>\n      <td>2nd</td>\n      <td>Riani</td>\n      <td>2</td>\n      <td>62</td>\n      <td>Good</td>\n    </tr>\n    <tr>\n      <th>11</th>\n      <td>Scouts</td>\n      <td>2nd</td>\n      <td>Ali</td>\n      <td>3</td>\n      <td>70</td>\n      <td>Good</td>\n    </tr>\n  </tbody>\n</table>\n</div>"
     },
     "execution_count": 22,
     "metadata": {},
     "output_type": "execute_result"
    }
   ],
   "source": [
    "bins = [0, 25, 50, 75, 100] # bins 정의(0-25, 25-50, 60-75, 75-100)\n",
    "group_names = ['Low', 'Okay', 'Good', 'Great']\n",
    "\n",
    "df['grade'] = pd.cut(df['postTestScore'], bins, labels=group_names)\n",
    "df"
   ]
  },
  {
   "cell_type": "markdown",
   "source": [
    "4. 데이터의 크기 맞추기 : 스케일링 (scaling)\n",
    "- **스케일링(scaling)** : 데이터 간 범위를 맞춤\n",
    "\n",
    "예) 몸무게와 키를 하나의 모델에 넣으면 데이터의 범위가 훨씬 넓어져 키가 몸무게에 비해 모델에 과다하게 영향을 줄 수 있음"
   ],
   "metadata": {
    "id": "v-KhpcndwQ3R"
   },
   "id": "v-KhpcndwQ3R"
  },
  {
   "cell_type": "code",
   "execution_count": 23,
   "id": "3001cf12",
   "metadata": {
    "id": "3001cf12",
    "colab": {
     "base_uri": "https://localhost:8080/",
     "height": 204
    },
    "outputId": "7c73abba-091f-4719-bfd7-aba175cc8518",
    "ExecuteTime": {
     "end_time": "2023-10-31T03:16:49.299800Z",
     "start_time": "2023-10-31T03:16:49.025530Z"
    }
   },
   "outputs": [
    {
     "data": {
      "text/plain": "       A       B      C\n0  14.00  103.02    big\n1  90.20  107.26  small\n2  90.95  110.35    big\n3  96.27  114.23  small\n4  91.21  114.68  small",
      "text/html": "<div>\n<style scoped>\n    .dataframe tbody tr th:only-of-type {\n        vertical-align: middle;\n    }\n\n    .dataframe tbody tr th {\n        vertical-align: top;\n    }\n\n    .dataframe thead th {\n        text-align: right;\n    }\n</style>\n<table border=\"1\" class=\"dataframe\">\n  <thead>\n    <tr style=\"text-align: right;\">\n      <th></th>\n      <th>A</th>\n      <th>B</th>\n      <th>C</th>\n    </tr>\n  </thead>\n  <tbody>\n    <tr>\n      <th>0</th>\n      <td>14.00</td>\n      <td>103.02</td>\n      <td>big</td>\n    </tr>\n    <tr>\n      <th>1</th>\n      <td>90.20</td>\n      <td>107.26</td>\n      <td>small</td>\n    </tr>\n    <tr>\n      <th>2</th>\n      <td>90.95</td>\n      <td>110.35</td>\n      <td>big</td>\n    </tr>\n    <tr>\n      <th>3</th>\n      <td>96.27</td>\n      <td>114.23</td>\n      <td>small</td>\n    </tr>\n    <tr>\n      <th>4</th>\n      <td>91.21</td>\n      <td>114.68</td>\n      <td>small</td>\n    </tr>\n  </tbody>\n</table>\n</div>"
     },
     "execution_count": 23,
     "metadata": {},
     "output_type": "execute_result"
    }
   ],
   "source": [
    "df = pd.DataFrame(\n",
    "    {'A':[14.00, 90.20, 90.95, 96.27, 91.21],\n",
    "     'B':[103.02, 107.26, 110.35, 114.23, 114.68],\n",
    "     'C':['big', 'small', 'big', 'small', 'small']\n",
    "    }\n",
    ")\n",
    "\n",
    "df"
   ]
  },
  {
   "cell_type": "markdown",
   "source": [
    "대표적인 정규화 방법\n",
    "- **최솟값-최댓값 정규화 (min-max normalization)** : 최솟값과 최댓값을 기준으로 0에서 1, 또는 0에서 지정 값까지로 값의 크기를 변화시킴\n",
    "- **z-스코어 정규화 (z-score normalization)** : 기존 값을 표준 정규분포값으로 변환하여 처리"
   ],
   "metadata": {
    "id": "l_dAFNr_6LRt"
   },
   "id": "l_dAFNr_6LRt"
  },
  {
   "cell_type": "code",
   "execution_count": 24,
   "id": "b81fb12f",
   "metadata": {
    "id": "b81fb12f",
    "colab": {
     "base_uri": "https://localhost:8080/"
    },
    "outputId": "789a18e3-8e4a-4800-9e7b-1e034b191e0c",
    "ExecuteTime": {
     "end_time": "2023-10-31T03:16:49.300101Z",
     "start_time": "2023-10-31T03:16:49.033421Z"
    }
   },
   "outputs": [
    {
     "data": {
      "text/plain": "0     0.00\n1    76.20\n2    76.95\n3    82.27\n4    77.21\nName: A, dtype: float64"
     },
     "execution_count": 24,
     "metadata": {},
     "output_type": "execute_result"
    }
   ],
   "source": [
    "df[\"A\"] - df[\"A\"].min()"
   ]
  },
  {
   "cell_type": "markdown",
   "source": [
    "**최솟값-최댓값 정규화 (min-max normalization)**\n",
    "\n",
    "![image.png](data:image/png;base64,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)"
   ],
   "metadata": {
    "id": "ho3b_nH27JpB"
   },
   "id": "ho3b_nH27JpB"
  },
  {
   "cell_type": "code",
   "execution_count": 25,
   "id": "8c182b9a",
   "metadata": {
    "id": "8c182b9a",
    "colab": {
     "base_uri": "https://localhost:8080/"
    },
    "outputId": "9ced4eda-f895-4199-aafe-6ca75a83ec58",
    "ExecuteTime": {
     "end_time": "2023-10-31T03:16:49.300319Z",
     "start_time": "2023-10-31T03:16:49.040867Z"
    }
   },
   "outputs": [
    {
     "data": {
      "text/plain": "0    0.000000\n1    0.926219\n2    0.935335\n3    1.000000\n4    0.938495\nName: A, dtype: float64"
     },
     "execution_count": 25,
     "metadata": {},
     "output_type": "execute_result"
    }
   ],
   "source": [
    "# 모든 값은 0과 1사이에 위치\n",
    "( df[\"A\"] - df[\"A\"].min() ) / (df[\"A\"].max() - df[\"A\"].min())"
   ]
  },
  {
   "cell_type": "markdown",
   "source": [
    "CF)\n",
    "![image.png](data:image/png;base64,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)"
   ],
   "metadata": {
    "id": "WJ8UgTKG7gva"
   },
   "id": "WJ8UgTKG7gva"
  },
  {
   "cell_type": "markdown",
   "source": [
    "**z-스코어 정규화 (z-score normalization)**\n",
    "- μ는 x 열의 평균값이고 σ는 표준편차"
   ],
   "metadata": {
    "id": "pcTnj_CF63sl"
   },
   "id": "pcTnj_CF63sl"
  },
  {
   "cell_type": "code",
   "execution_count": 26,
   "id": "2228b975",
   "metadata": {
    "id": "2228b975",
    "colab": {
     "base_uri": "https://localhost:8080/"
    },
    "outputId": "5291b56c-d6ad-4f6e-bde8-833abd3a5e52",
    "ExecuteTime": {
     "end_time": "2023-10-31T03:16:49.300863Z",
     "start_time": "2023-10-31T03:16:49.046505Z"
    }
   },
   "outputs": [
    {
     "data": {
      "text/plain": "0   -1.405250\n1   -0.540230\n2    0.090174\n3    0.881749\n4    0.973556\nName: B, dtype: float64"
     },
     "execution_count": 26,
     "metadata": {},
     "output_type": "execute_result"
    }
   ],
   "source": [
    "# 키의 구간을 곱해주고 키의 최솟값을 더해주기(가장 많이쓰는 정규화)\n",
    "( df[\"B\"] - df[\"B\"].mean() ) / (df[\"B\"].std())"
   ]
  },
  {
   "cell_type": "code",
   "source": [],
   "metadata": {
    "id": "mDFMqA9eyLsN"
   },
   "id": "mDFMqA9eyLsN",
   "execution_count": null,
   "outputs": []
  }
 ],
 "metadata": {
  "kernelspec": {
   "display_name": "Python 3 (ipykernel)",
   "language": "python",
   "name": "python3"
  },
  "language_info": {
   "codemirror_mode": {
    "name": "ipython",
    "version": 3
   },
   "file_extension": ".py",
   "mimetype": "text/x-python",
   "name": "python",
   "nbconvert_exporter": "python",
   "pygments_lexer": "ipython3",
   "version": "3.9.7"
  },
  "colab": {
   "provenance": [],
   "include_colab_link": true
  }
 },
 "nbformat": 4,
 "nbformat_minor": 5
}
