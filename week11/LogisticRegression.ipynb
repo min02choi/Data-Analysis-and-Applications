{
  "cells": [
    {
      "cell_type": "markdown",
      "metadata": {
        "id": "view-in-github",
        "colab_type": "text"
      },
      "source": [
        "<a href=\"https://colab.research.google.com/github/min02choi/Data-Analysis-and-Applications/blob/master/week11/LogisticRegression.ipynb\" target=\"_parent\"><img src=\"https://colab.research.google.com/assets/colab-badge.svg\" alt=\"Open In Colab\"/></a>"
      ]
    },
    {
      "cell_type": "markdown",
      "source": [
        "**1. sklearn (사이킷런)을 이용하여 로지스틱 회귀 학습하기**"
      ],
      "metadata": {
        "id": "NaAFvBW_vTPt"
      },
      "id": "NaAFvBW_vTPt"
    },
    {
      "cell_type": "code",
      "execution_count": 1,
      "id": "53a235f4",
      "metadata": {
        "id": "53a235f4",
        "colab": {
          "base_uri": "https://localhost:8080/",
          "height": 221
        },
        "outputId": "97373a5b-27f9-489c-f10f-c01748a5ff5d"
      },
      "outputs": [
        {
          "output_type": "execute_result",
          "data": {
            "text/plain": [
              "       who  Newbie   Age  Gender Household Income Sexual Preference  \\\n",
              "0  id74364       0  54.0    Male           $50-74          Gay male   \n",
              "1  id84505       0  39.0  Female        Over $100      Heterosexual   \n",
              "2  id84509       1  49.0  Female           $40-49      Heterosexual   \n",
              "3  id87028       1  22.0  Female           $40-49      Heterosexual   \n",
              "4  id76087       0  20.0    Male           $30-39          Bisexual   \n",
              "\n",
              "      Country Education Attainment Major Occupation Marital Status  \\\n",
              "0     Ontario         Some College         Computer          Other   \n",
              "1      Sweden         Professional            Other          Other   \n",
              "2  Washington         Some College       Management          Other   \n",
              "3     Florida         Some College         Computer        Married   \n",
              "4  New Jersey         Some College        Education         Single   \n",
              "\n",
              "  Years on Internet  \n",
              "0            4-6 yr  \n",
              "1            1-3 yr  \n",
              "2        Under 6 mo  \n",
              "3           6-12 mo  \n",
              "4            1-3 yr  "
            ],
            "text/html": [
              "\n",
              "  <div id=\"df-1dc4121f-9fc2-40f4-87fd-acad48289bdd\" class=\"colab-df-container\">\n",
              "    <div>\n",
              "<style scoped>\n",
              "    .dataframe tbody tr th:only-of-type {\n",
              "        vertical-align: middle;\n",
              "    }\n",
              "\n",
              "    .dataframe tbody tr th {\n",
              "        vertical-align: top;\n",
              "    }\n",
              "\n",
              "    .dataframe thead th {\n",
              "        text-align: right;\n",
              "    }\n",
              "</style>\n",
              "<table border=\"1\" class=\"dataframe\">\n",
              "  <thead>\n",
              "    <tr style=\"text-align: right;\">\n",
              "      <th></th>\n",
              "      <th>who</th>\n",
              "      <th>Newbie</th>\n",
              "      <th>Age</th>\n",
              "      <th>Gender</th>\n",
              "      <th>Household Income</th>\n",
              "      <th>Sexual Preference</th>\n",
              "      <th>Country</th>\n",
              "      <th>Education Attainment</th>\n",
              "      <th>Major Occupation</th>\n",
              "      <th>Marital Status</th>\n",
              "      <th>Years on Internet</th>\n",
              "    </tr>\n",
              "  </thead>\n",
              "  <tbody>\n",
              "    <tr>\n",
              "      <th>0</th>\n",
              "      <td>id74364</td>\n",
              "      <td>0</td>\n",
              "      <td>54.0</td>\n",
              "      <td>Male</td>\n",
              "      <td>$50-74</td>\n",
              "      <td>Gay male</td>\n",
              "      <td>Ontario</td>\n",
              "      <td>Some College</td>\n",
              "      <td>Computer</td>\n",
              "      <td>Other</td>\n",
              "      <td>4-6 yr</td>\n",
              "    </tr>\n",
              "    <tr>\n",
              "      <th>1</th>\n",
              "      <td>id84505</td>\n",
              "      <td>0</td>\n",
              "      <td>39.0</td>\n",
              "      <td>Female</td>\n",
              "      <td>Over $100</td>\n",
              "      <td>Heterosexual</td>\n",
              "      <td>Sweden</td>\n",
              "      <td>Professional</td>\n",
              "      <td>Other</td>\n",
              "      <td>Other</td>\n",
              "      <td>1-3 yr</td>\n",
              "    </tr>\n",
              "    <tr>\n",
              "      <th>2</th>\n",
              "      <td>id84509</td>\n",
              "      <td>1</td>\n",
              "      <td>49.0</td>\n",
              "      <td>Female</td>\n",
              "      <td>$40-49</td>\n",
              "      <td>Heterosexual</td>\n",
              "      <td>Washington</td>\n",
              "      <td>Some College</td>\n",
              "      <td>Management</td>\n",
              "      <td>Other</td>\n",
              "      <td>Under 6 mo</td>\n",
              "    </tr>\n",
              "    <tr>\n",
              "      <th>3</th>\n",
              "      <td>id87028</td>\n",
              "      <td>1</td>\n",
              "      <td>22.0</td>\n",
              "      <td>Female</td>\n",
              "      <td>$40-49</td>\n",
              "      <td>Heterosexual</td>\n",
              "      <td>Florida</td>\n",
              "      <td>Some College</td>\n",
              "      <td>Computer</td>\n",
              "      <td>Married</td>\n",
              "      <td>6-12 mo</td>\n",
              "    </tr>\n",
              "    <tr>\n",
              "      <th>4</th>\n",
              "      <td>id76087</td>\n",
              "      <td>0</td>\n",
              "      <td>20.0</td>\n",
              "      <td>Male</td>\n",
              "      <td>$30-39</td>\n",
              "      <td>Bisexual</td>\n",
              "      <td>New Jersey</td>\n",
              "      <td>Some College</td>\n",
              "      <td>Education</td>\n",
              "      <td>Single</td>\n",
              "      <td>1-3 yr</td>\n",
              "    </tr>\n",
              "  </tbody>\n",
              "</table>\n",
              "</div>\n",
              "    <div class=\"colab-df-buttons\">\n",
              "\n",
              "  <div class=\"colab-df-container\">\n",
              "    <button class=\"colab-df-convert\" onclick=\"convertToInteractive('df-1dc4121f-9fc2-40f4-87fd-acad48289bdd')\"\n",
              "            title=\"Convert this dataframe to an interactive table.\"\n",
              "            style=\"display:none;\">\n",
              "\n",
              "  <svg xmlns=\"http://www.w3.org/2000/svg\" height=\"24px\" viewBox=\"0 -960 960 960\">\n",
              "    <path d=\"M120-120v-720h720v720H120Zm60-500h600v-160H180v160Zm220 220h160v-160H400v160Zm0 220h160v-160H400v160ZM180-400h160v-160H180v160Zm440 0h160v-160H620v160ZM180-180h160v-160H180v160Zm440 0h160v-160H620v160Z\"/>\n",
              "  </svg>\n",
              "    </button>\n",
              "\n",
              "  <style>\n",
              "    .colab-df-container {\n",
              "      display:flex;\n",
              "      gap: 12px;\n",
              "    }\n",
              "\n",
              "    .colab-df-convert {\n",
              "      background-color: #E8F0FE;\n",
              "      border: none;\n",
              "      border-radius: 50%;\n",
              "      cursor: pointer;\n",
              "      display: none;\n",
              "      fill: #1967D2;\n",
              "      height: 32px;\n",
              "      padding: 0 0 0 0;\n",
              "      width: 32px;\n",
              "    }\n",
              "\n",
              "    .colab-df-convert:hover {\n",
              "      background-color: #E2EBFA;\n",
              "      box-shadow: 0px 1px 2px rgba(60, 64, 67, 0.3), 0px 1px 3px 1px rgba(60, 64, 67, 0.15);\n",
              "      fill: #174EA6;\n",
              "    }\n",
              "\n",
              "    .colab-df-buttons div {\n",
              "      margin-bottom: 4px;\n",
              "    }\n",
              "\n",
              "    [theme=dark] .colab-df-convert {\n",
              "      background-color: #3B4455;\n",
              "      fill: #D2E3FC;\n",
              "    }\n",
              "\n",
              "    [theme=dark] .colab-df-convert:hover {\n",
              "      background-color: #434B5C;\n",
              "      box-shadow: 0px 1px 3px 1px rgba(0, 0, 0, 0.15);\n",
              "      filter: drop-shadow(0px 1px 2px rgba(0, 0, 0, 0.3));\n",
              "      fill: #FFFFFF;\n",
              "    }\n",
              "  </style>\n",
              "\n",
              "    <script>\n",
              "      const buttonEl =\n",
              "        document.querySelector('#df-1dc4121f-9fc2-40f4-87fd-acad48289bdd button.colab-df-convert');\n",
              "      buttonEl.style.display =\n",
              "        google.colab.kernel.accessAllowed ? 'block' : 'none';\n",
              "\n",
              "      async function convertToInteractive(key) {\n",
              "        const element = document.querySelector('#df-1dc4121f-9fc2-40f4-87fd-acad48289bdd');\n",
              "        const dataTable =\n",
              "          await google.colab.kernel.invokeFunction('convertToInteractive',\n",
              "                                                    [key], {});\n",
              "        if (!dataTable) return;\n",
              "\n",
              "        const docLinkHtml = 'Like what you see? Visit the ' +\n",
              "          '<a target=\"_blank\" href=https://colab.research.google.com/notebooks/data_table.ipynb>data table notebook</a>'\n",
              "          + ' to learn more about interactive tables.';\n",
              "        element.innerHTML = '';\n",
              "        dataTable['output_type'] = 'display_data';\n",
              "        await google.colab.output.renderOutput(dataTable, element);\n",
              "        const docLink = document.createElement('div');\n",
              "        docLink.innerHTML = docLinkHtml;\n",
              "        element.appendChild(docLink);\n",
              "      }\n",
              "    </script>\n",
              "  </div>\n",
              "\n",
              "\n",
              "<div id=\"df-f79b9863-6560-4ae2-b640-97135cba3555\">\n",
              "  <button class=\"colab-df-quickchart\" onclick=\"quickchart('df-f79b9863-6560-4ae2-b640-97135cba3555')\"\n",
              "            title=\"Suggest charts\"\n",
              "            style=\"display:none;\">\n",
              "\n",
              "<svg xmlns=\"http://www.w3.org/2000/svg\" height=\"24px\"viewBox=\"0 0 24 24\"\n",
              "     width=\"24px\">\n",
              "    <g>\n",
              "        <path d=\"M19 3H5c-1.1 0-2 .9-2 2v14c0 1.1.9 2 2 2h14c1.1 0 2-.9 2-2V5c0-1.1-.9-2-2-2zM9 17H7v-7h2v7zm4 0h-2V7h2v10zm4 0h-2v-4h2v4z\"/>\n",
              "    </g>\n",
              "</svg>\n",
              "  </button>\n",
              "\n",
              "<style>\n",
              "  .colab-df-quickchart {\n",
              "      --bg-color: #E8F0FE;\n",
              "      --fill-color: #1967D2;\n",
              "      --hover-bg-color: #E2EBFA;\n",
              "      --hover-fill-color: #174EA6;\n",
              "      --disabled-fill-color: #AAA;\n",
              "      --disabled-bg-color: #DDD;\n",
              "  }\n",
              "\n",
              "  [theme=dark] .colab-df-quickchart {\n",
              "      --bg-color: #3B4455;\n",
              "      --fill-color: #D2E3FC;\n",
              "      --hover-bg-color: #434B5C;\n",
              "      --hover-fill-color: #FFFFFF;\n",
              "      --disabled-bg-color: #3B4455;\n",
              "      --disabled-fill-color: #666;\n",
              "  }\n",
              "\n",
              "  .colab-df-quickchart {\n",
              "    background-color: var(--bg-color);\n",
              "    border: none;\n",
              "    border-radius: 50%;\n",
              "    cursor: pointer;\n",
              "    display: none;\n",
              "    fill: var(--fill-color);\n",
              "    height: 32px;\n",
              "    padding: 0;\n",
              "    width: 32px;\n",
              "  }\n",
              "\n",
              "  .colab-df-quickchart:hover {\n",
              "    background-color: var(--hover-bg-color);\n",
              "    box-shadow: 0 1px 2px rgba(60, 64, 67, 0.3), 0 1px 3px 1px rgba(60, 64, 67, 0.15);\n",
              "    fill: var(--button-hover-fill-color);\n",
              "  }\n",
              "\n",
              "  .colab-df-quickchart-complete:disabled,\n",
              "  .colab-df-quickchart-complete:disabled:hover {\n",
              "    background-color: var(--disabled-bg-color);\n",
              "    fill: var(--disabled-fill-color);\n",
              "    box-shadow: none;\n",
              "  }\n",
              "\n",
              "  .colab-df-spinner {\n",
              "    border: 2px solid var(--fill-color);\n",
              "    border-color: transparent;\n",
              "    border-bottom-color: var(--fill-color);\n",
              "    animation:\n",
              "      spin 1s steps(1) infinite;\n",
              "  }\n",
              "\n",
              "  @keyframes spin {\n",
              "    0% {\n",
              "      border-color: transparent;\n",
              "      border-bottom-color: var(--fill-color);\n",
              "      border-left-color: var(--fill-color);\n",
              "    }\n",
              "    20% {\n",
              "      border-color: transparent;\n",
              "      border-left-color: var(--fill-color);\n",
              "      border-top-color: var(--fill-color);\n",
              "    }\n",
              "    30% {\n",
              "      border-color: transparent;\n",
              "      border-left-color: var(--fill-color);\n",
              "      border-top-color: var(--fill-color);\n",
              "      border-right-color: var(--fill-color);\n",
              "    }\n",
              "    40% {\n",
              "      border-color: transparent;\n",
              "      border-right-color: var(--fill-color);\n",
              "      border-top-color: var(--fill-color);\n",
              "    }\n",
              "    60% {\n",
              "      border-color: transparent;\n",
              "      border-right-color: var(--fill-color);\n",
              "    }\n",
              "    80% {\n",
              "      border-color: transparent;\n",
              "      border-right-color: var(--fill-color);\n",
              "      border-bottom-color: var(--fill-color);\n",
              "    }\n",
              "    90% {\n",
              "      border-color: transparent;\n",
              "      border-bottom-color: var(--fill-color);\n",
              "    }\n",
              "  }\n",
              "</style>\n",
              "\n",
              "  <script>\n",
              "    async function quickchart(key) {\n",
              "      const quickchartButtonEl =\n",
              "        document.querySelector('#' + key + ' button');\n",
              "      quickchartButtonEl.disabled = true;  // To prevent multiple clicks.\n",
              "      quickchartButtonEl.classList.add('colab-df-spinner');\n",
              "      try {\n",
              "        const charts = await google.colab.kernel.invokeFunction(\n",
              "            'suggestCharts', [key], {});\n",
              "      } catch (error) {\n",
              "        console.error('Error during call to suggestCharts:', error);\n",
              "      }\n",
              "      quickchartButtonEl.classList.remove('colab-df-spinner');\n",
              "      quickchartButtonEl.classList.add('colab-df-quickchart-complete');\n",
              "    }\n",
              "    (() => {\n",
              "      let quickchartButtonEl =\n",
              "        document.querySelector('#df-f79b9863-6560-4ae2-b640-97135cba3555 button');\n",
              "      quickchartButtonEl.style.display =\n",
              "        google.colab.kernel.accessAllowed ? 'block' : 'none';\n",
              "    })();\n",
              "  </script>\n",
              "</div>\n",
              "    </div>\n",
              "  </div>\n"
            ]
          },
          "metadata": {},
          "execution_count": 1
        }
      ],
      "source": [
        "import pandas as pd\n",
        "data_url= \"http://www-stat.wharton.upenn.edu/~waterman/DataSets/uva.txt\"\n",
        "\n",
        "df = pd.read_table(data_url)\n",
        "df.head()"
      ]
    },
    {
      "cell_type": "markdown",
      "source": [
        "- 학습에 사용되지 않을 필요없는 데이터 (열)을 삭제합니다."
      ],
      "metadata": {
        "id": "tHM9NgmXwNVQ"
      },
      "id": "tHM9NgmXwNVQ"
    },
    {
      "cell_type": "code",
      "source": [
        "df.drop(labels=['who', 'Country', 'Years on Internet'], axis=1, inplace=True)\n",
        "\n",
        "df.dtypes"
      ],
      "metadata": {
        "id": "POUi5tS1vzvA",
        "colab": {
          "base_uri": "https://localhost:8080/"
        },
        "outputId": "1419f1c8-b80b-4a61-97e3-231e8c0990f2"
      },
      "id": "POUi5tS1vzvA",
      "execution_count": 2,
      "outputs": [
        {
          "output_type": "execute_result",
          "data": {
            "text/plain": [
              "Newbie                    int64\n",
              "Age                     float64\n",
              "Gender                   object\n",
              "Household Income         object\n",
              "Sexual Preference        object\n",
              "Education Attainment     object\n",
              "Major Occupation         object\n",
              "Marital Status           object\n",
              "dtype: object"
            ]
          },
          "metadata": {},
          "execution_count": 2
        }
      ]
    },
    {
      "cell_type": "code",
      "execution_count": 3,
      "id": "33281a25",
      "metadata": {
        "id": "33281a25",
        "colab": {
          "base_uri": "https://localhost:8080/"
        },
        "outputId": "d8e33b14-28e1-45cf-a88e-8cd6f31f6c7a"
      },
      "outputs": [
        {
          "output_type": "execute_result",
          "data": {
            "text/plain": [
              "(19583, 38)"
            ]
          },
          "metadata": {},
          "execution_count": 3
        }
      ],
      "source": [
        "df_onehot = pd.get_dummies(df)\n",
        "df_onehot.shape"
      ]
    },
    {
      "cell_type": "code",
      "source": [
        "df_onehot"
      ],
      "metadata": {
        "id": "Y6UAlt7ows9u",
        "colab": {
          "base_uri": "https://localhost:8080/",
          "height": 473
        },
        "outputId": "3993fb2d-27c4-4d7d-bf1b-5d920ec2f6b7"
      },
      "id": "Y6UAlt7ows9u",
      "execution_count": 4,
      "outputs": [
        {
          "output_type": "execute_result",
          "data": {
            "text/plain": [
              "       Newbie   Age  Gender_Female  Gender_Male  Household Income_$10-19  \\\n",
              "0           0  54.0              0            1                        0   \n",
              "1           0  39.0              1            0                        0   \n",
              "2           1  49.0              1            0                        0   \n",
              "3           1  22.0              1            0                        0   \n",
              "4           0  20.0              0            1                        0   \n",
              "...       ...   ...            ...          ...                      ...   \n",
              "19578       0  22.0              0            1                        0   \n",
              "19579       0  19.0              0            1                        0   \n",
              "19580       0  49.0              1            0                        0   \n",
              "19581       1  42.0              1            0                        0   \n",
              "19582       0  24.0              1            0                        0   \n",
              "\n",
              "       Household Income_$20-29  Household Income_$30-39  \\\n",
              "0                            0                        0   \n",
              "1                            0                        0   \n",
              "2                            0                        0   \n",
              "3                            0                        0   \n",
              "4                            0                        1   \n",
              "...                        ...                      ...   \n",
              "19578                        0                        0   \n",
              "19579                        0                        0   \n",
              "19580                        0                        0   \n",
              "19581                        0                        0   \n",
              "19582                        0                        0   \n",
              "\n",
              "       Household Income_$40-49  Household Income_$50-74  \\\n",
              "0                            0                        1   \n",
              "1                            0                        0   \n",
              "2                            1                        0   \n",
              "3                            1                        0   \n",
              "4                            0                        0   \n",
              "...                        ...                      ...   \n",
              "19578                        0                        0   \n",
              "19579                        0                        0   \n",
              "19580                        0                        1   \n",
              "19581                        0                        1   \n",
              "19582                        0                        1   \n",
              "\n",
              "       Household Income_$75-99  ...  Major Occupation_Education  \\\n",
              "0                            0  ...                           0   \n",
              "1                            0  ...                           0   \n",
              "2                            0  ...                           0   \n",
              "3                            0  ...                           0   \n",
              "4                            0  ...                           1   \n",
              "...                        ...  ...                         ...   \n",
              "19578                        0  ...                           1   \n",
              "19579                        0  ...                           1   \n",
              "19580                        0  ...                           1   \n",
              "19581                        0  ...                           0   \n",
              "19582                        0  ...                           0   \n",
              "\n",
              "       Major Occupation_Management  Major Occupation_Other  \\\n",
              "0                                0                       0   \n",
              "1                                0                       1   \n",
              "2                                1                       0   \n",
              "3                                0                       0   \n",
              "4                                0                       0   \n",
              "...                            ...                     ...   \n",
              "19578                            0                       0   \n",
              "19579                            0                       0   \n",
              "19580                            0                       0   \n",
              "19581                            0                       1   \n",
              "19582                            0                       0   \n",
              "\n",
              "       Major Occupation_Professional  Marital Status_Divorced  \\\n",
              "0                                  0                        0   \n",
              "1                                  0                        0   \n",
              "2                                  0                        0   \n",
              "3                                  0                        0   \n",
              "4                                  0                        0   \n",
              "...                              ...                      ...   \n",
              "19578                              0                        0   \n",
              "19579                              0                        0   \n",
              "19580                              0                        0   \n",
              "19581                              0                        0   \n",
              "19582                              0                        0   \n",
              "\n",
              "       Marital Status_Married  Marital Status_Other  Marital Status_Separated  \\\n",
              "0                           0                     1                         0   \n",
              "1                           0                     1                         0   \n",
              "2                           0                     1                         0   \n",
              "3                           1                     0                         0   \n",
              "4                           0                     0                         0   \n",
              "...                       ...                   ...                       ...   \n",
              "19578                       0                     0                         0   \n",
              "19579                       0                     0                         0   \n",
              "19580                       1                     0                         0   \n",
              "19581                       1                     0                         0   \n",
              "19582                       0                     0                         0   \n",
              "\n",
              "       Marital Status_Single  Marital Status_Widowed  \n",
              "0                          0                       0  \n",
              "1                          0                       0  \n",
              "2                          0                       0  \n",
              "3                          0                       0  \n",
              "4                          1                       0  \n",
              "...                      ...                     ...  \n",
              "19578                      1                       0  \n",
              "19579                      1                       0  \n",
              "19580                      0                       0  \n",
              "19581                      0                       0  \n",
              "19582                      1                       0  \n",
              "\n",
              "[19583 rows x 38 columns]"
            ],
            "text/html": [
              "\n",
              "  <div id=\"df-6b99d6b9-323d-48b0-98de-7c1184d47c3f\" class=\"colab-df-container\">\n",
              "    <div>\n",
              "<style scoped>\n",
              "    .dataframe tbody tr th:only-of-type {\n",
              "        vertical-align: middle;\n",
              "    }\n",
              "\n",
              "    .dataframe tbody tr th {\n",
              "        vertical-align: top;\n",
              "    }\n",
              "\n",
              "    .dataframe thead th {\n",
              "        text-align: right;\n",
              "    }\n",
              "</style>\n",
              "<table border=\"1\" class=\"dataframe\">\n",
              "  <thead>\n",
              "    <tr style=\"text-align: right;\">\n",
              "      <th></th>\n",
              "      <th>Newbie</th>\n",
              "      <th>Age</th>\n",
              "      <th>Gender_Female</th>\n",
              "      <th>Gender_Male</th>\n",
              "      <th>Household Income_$10-19</th>\n",
              "      <th>Household Income_$20-29</th>\n",
              "      <th>Household Income_$30-39</th>\n",
              "      <th>Household Income_$40-49</th>\n",
              "      <th>Household Income_$50-74</th>\n",
              "      <th>Household Income_$75-99</th>\n",
              "      <th>...</th>\n",
              "      <th>Major Occupation_Education</th>\n",
              "      <th>Major Occupation_Management</th>\n",
              "      <th>Major Occupation_Other</th>\n",
              "      <th>Major Occupation_Professional</th>\n",
              "      <th>Marital Status_Divorced</th>\n",
              "      <th>Marital Status_Married</th>\n",
              "      <th>Marital Status_Other</th>\n",
              "      <th>Marital Status_Separated</th>\n",
              "      <th>Marital Status_Single</th>\n",
              "      <th>Marital Status_Widowed</th>\n",
              "    </tr>\n",
              "  </thead>\n",
              "  <tbody>\n",
              "    <tr>\n",
              "      <th>0</th>\n",
              "      <td>0</td>\n",
              "      <td>54.0</td>\n",
              "      <td>0</td>\n",
              "      <td>1</td>\n",
              "      <td>0</td>\n",
              "      <td>0</td>\n",
              "      <td>0</td>\n",
              "      <td>0</td>\n",
              "      <td>1</td>\n",
              "      <td>0</td>\n",
              "      <td>...</td>\n",
              "      <td>0</td>\n",
              "      <td>0</td>\n",
              "      <td>0</td>\n",
              "      <td>0</td>\n",
              "      <td>0</td>\n",
              "      <td>0</td>\n",
              "      <td>1</td>\n",
              "      <td>0</td>\n",
              "      <td>0</td>\n",
              "      <td>0</td>\n",
              "    </tr>\n",
              "    <tr>\n",
              "      <th>1</th>\n",
              "      <td>0</td>\n",
              "      <td>39.0</td>\n",
              "      <td>1</td>\n",
              "      <td>0</td>\n",
              "      <td>0</td>\n",
              "      <td>0</td>\n",
              "      <td>0</td>\n",
              "      <td>0</td>\n",
              "      <td>0</td>\n",
              "      <td>0</td>\n",
              "      <td>...</td>\n",
              "      <td>0</td>\n",
              "      <td>0</td>\n",
              "      <td>1</td>\n",
              "      <td>0</td>\n",
              "      <td>0</td>\n",
              "      <td>0</td>\n",
              "      <td>1</td>\n",
              "      <td>0</td>\n",
              "      <td>0</td>\n",
              "      <td>0</td>\n",
              "    </tr>\n",
              "    <tr>\n",
              "      <th>2</th>\n",
              "      <td>1</td>\n",
              "      <td>49.0</td>\n",
              "      <td>1</td>\n",
              "      <td>0</td>\n",
              "      <td>0</td>\n",
              "      <td>0</td>\n",
              "      <td>0</td>\n",
              "      <td>1</td>\n",
              "      <td>0</td>\n",
              "      <td>0</td>\n",
              "      <td>...</td>\n",
              "      <td>0</td>\n",
              "      <td>1</td>\n",
              "      <td>0</td>\n",
              "      <td>0</td>\n",
              "      <td>0</td>\n",
              "      <td>0</td>\n",
              "      <td>1</td>\n",
              "      <td>0</td>\n",
              "      <td>0</td>\n",
              "      <td>0</td>\n",
              "    </tr>\n",
              "    <tr>\n",
              "      <th>3</th>\n",
              "      <td>1</td>\n",
              "      <td>22.0</td>\n",
              "      <td>1</td>\n",
              "      <td>0</td>\n",
              "      <td>0</td>\n",
              "      <td>0</td>\n",
              "      <td>0</td>\n",
              "      <td>1</td>\n",
              "      <td>0</td>\n",
              "      <td>0</td>\n",
              "      <td>...</td>\n",
              "      <td>0</td>\n",
              "      <td>0</td>\n",
              "      <td>0</td>\n",
              "      <td>0</td>\n",
              "      <td>0</td>\n",
              "      <td>1</td>\n",
              "      <td>0</td>\n",
              "      <td>0</td>\n",
              "      <td>0</td>\n",
              "      <td>0</td>\n",
              "    </tr>\n",
              "    <tr>\n",
              "      <th>4</th>\n",
              "      <td>0</td>\n",
              "      <td>20.0</td>\n",
              "      <td>0</td>\n",
              "      <td>1</td>\n",
              "      <td>0</td>\n",
              "      <td>0</td>\n",
              "      <td>1</td>\n",
              "      <td>0</td>\n",
              "      <td>0</td>\n",
              "      <td>0</td>\n",
              "      <td>...</td>\n",
              "      <td>1</td>\n",
              "      <td>0</td>\n",
              "      <td>0</td>\n",
              "      <td>0</td>\n",
              "      <td>0</td>\n",
              "      <td>0</td>\n",
              "      <td>0</td>\n",
              "      <td>0</td>\n",
              "      <td>1</td>\n",
              "      <td>0</td>\n",
              "    </tr>\n",
              "    <tr>\n",
              "      <th>...</th>\n",
              "      <td>...</td>\n",
              "      <td>...</td>\n",
              "      <td>...</td>\n",
              "      <td>...</td>\n",
              "      <td>...</td>\n",
              "      <td>...</td>\n",
              "      <td>...</td>\n",
              "      <td>...</td>\n",
              "      <td>...</td>\n",
              "      <td>...</td>\n",
              "      <td>...</td>\n",
              "      <td>...</td>\n",
              "      <td>...</td>\n",
              "      <td>...</td>\n",
              "      <td>...</td>\n",
              "      <td>...</td>\n",
              "      <td>...</td>\n",
              "      <td>...</td>\n",
              "      <td>...</td>\n",
              "      <td>...</td>\n",
              "      <td>...</td>\n",
              "    </tr>\n",
              "    <tr>\n",
              "      <th>19578</th>\n",
              "      <td>0</td>\n",
              "      <td>22.0</td>\n",
              "      <td>0</td>\n",
              "      <td>1</td>\n",
              "      <td>0</td>\n",
              "      <td>0</td>\n",
              "      <td>0</td>\n",
              "      <td>0</td>\n",
              "      <td>0</td>\n",
              "      <td>0</td>\n",
              "      <td>...</td>\n",
              "      <td>1</td>\n",
              "      <td>0</td>\n",
              "      <td>0</td>\n",
              "      <td>0</td>\n",
              "      <td>0</td>\n",
              "      <td>0</td>\n",
              "      <td>0</td>\n",
              "      <td>0</td>\n",
              "      <td>1</td>\n",
              "      <td>0</td>\n",
              "    </tr>\n",
              "    <tr>\n",
              "      <th>19579</th>\n",
              "      <td>0</td>\n",
              "      <td>19.0</td>\n",
              "      <td>0</td>\n",
              "      <td>1</td>\n",
              "      <td>0</td>\n",
              "      <td>0</td>\n",
              "      <td>0</td>\n",
              "      <td>0</td>\n",
              "      <td>0</td>\n",
              "      <td>0</td>\n",
              "      <td>...</td>\n",
              "      <td>1</td>\n",
              "      <td>0</td>\n",
              "      <td>0</td>\n",
              "      <td>0</td>\n",
              "      <td>0</td>\n",
              "      <td>0</td>\n",
              "      <td>0</td>\n",
              "      <td>0</td>\n",
              "      <td>1</td>\n",
              "      <td>0</td>\n",
              "    </tr>\n",
              "    <tr>\n",
              "      <th>19580</th>\n",
              "      <td>0</td>\n",
              "      <td>49.0</td>\n",
              "      <td>1</td>\n",
              "      <td>0</td>\n",
              "      <td>0</td>\n",
              "      <td>0</td>\n",
              "      <td>0</td>\n",
              "      <td>0</td>\n",
              "      <td>1</td>\n",
              "      <td>0</td>\n",
              "      <td>...</td>\n",
              "      <td>1</td>\n",
              "      <td>0</td>\n",
              "      <td>0</td>\n",
              "      <td>0</td>\n",
              "      <td>0</td>\n",
              "      <td>1</td>\n",
              "      <td>0</td>\n",
              "      <td>0</td>\n",
              "      <td>0</td>\n",
              "      <td>0</td>\n",
              "    </tr>\n",
              "    <tr>\n",
              "      <th>19581</th>\n",
              "      <td>1</td>\n",
              "      <td>42.0</td>\n",
              "      <td>1</td>\n",
              "      <td>0</td>\n",
              "      <td>0</td>\n",
              "      <td>0</td>\n",
              "      <td>0</td>\n",
              "      <td>0</td>\n",
              "      <td>1</td>\n",
              "      <td>0</td>\n",
              "      <td>...</td>\n",
              "      <td>0</td>\n",
              "      <td>0</td>\n",
              "      <td>1</td>\n",
              "      <td>0</td>\n",
              "      <td>0</td>\n",
              "      <td>1</td>\n",
              "      <td>0</td>\n",
              "      <td>0</td>\n",
              "      <td>0</td>\n",
              "      <td>0</td>\n",
              "    </tr>\n",
              "    <tr>\n",
              "      <th>19582</th>\n",
              "      <td>0</td>\n",
              "      <td>24.0</td>\n",
              "      <td>1</td>\n",
              "      <td>0</td>\n",
              "      <td>0</td>\n",
              "      <td>0</td>\n",
              "      <td>0</td>\n",
              "      <td>0</td>\n",
              "      <td>1</td>\n",
              "      <td>0</td>\n",
              "      <td>...</td>\n",
              "      <td>0</td>\n",
              "      <td>0</td>\n",
              "      <td>0</td>\n",
              "      <td>0</td>\n",
              "      <td>0</td>\n",
              "      <td>0</td>\n",
              "      <td>0</td>\n",
              "      <td>0</td>\n",
              "      <td>1</td>\n",
              "      <td>0</td>\n",
              "    </tr>\n",
              "  </tbody>\n",
              "</table>\n",
              "<p>19583 rows × 38 columns</p>\n",
              "</div>\n",
              "    <div class=\"colab-df-buttons\">\n",
              "\n",
              "  <div class=\"colab-df-container\">\n",
              "    <button class=\"colab-df-convert\" onclick=\"convertToInteractive('df-6b99d6b9-323d-48b0-98de-7c1184d47c3f')\"\n",
              "            title=\"Convert this dataframe to an interactive table.\"\n",
              "            style=\"display:none;\">\n",
              "\n",
              "  <svg xmlns=\"http://www.w3.org/2000/svg\" height=\"24px\" viewBox=\"0 -960 960 960\">\n",
              "    <path d=\"M120-120v-720h720v720H120Zm60-500h600v-160H180v160Zm220 220h160v-160H400v160Zm0 220h160v-160H400v160ZM180-400h160v-160H180v160Zm440 0h160v-160H620v160ZM180-180h160v-160H180v160Zm440 0h160v-160H620v160Z\"/>\n",
              "  </svg>\n",
              "    </button>\n",
              "\n",
              "  <style>\n",
              "    .colab-df-container {\n",
              "      display:flex;\n",
              "      gap: 12px;\n",
              "    }\n",
              "\n",
              "    .colab-df-convert {\n",
              "      background-color: #E8F0FE;\n",
              "      border: none;\n",
              "      border-radius: 50%;\n",
              "      cursor: pointer;\n",
              "      display: none;\n",
              "      fill: #1967D2;\n",
              "      height: 32px;\n",
              "      padding: 0 0 0 0;\n",
              "      width: 32px;\n",
              "    }\n",
              "\n",
              "    .colab-df-convert:hover {\n",
              "      background-color: #E2EBFA;\n",
              "      box-shadow: 0px 1px 2px rgba(60, 64, 67, 0.3), 0px 1px 3px 1px rgba(60, 64, 67, 0.15);\n",
              "      fill: #174EA6;\n",
              "    }\n",
              "\n",
              "    .colab-df-buttons div {\n",
              "      margin-bottom: 4px;\n",
              "    }\n",
              "\n",
              "    [theme=dark] .colab-df-convert {\n",
              "      background-color: #3B4455;\n",
              "      fill: #D2E3FC;\n",
              "    }\n",
              "\n",
              "    [theme=dark] .colab-df-convert:hover {\n",
              "      background-color: #434B5C;\n",
              "      box-shadow: 0px 1px 3px 1px rgba(0, 0, 0, 0.15);\n",
              "      filter: drop-shadow(0px 1px 2px rgba(0, 0, 0, 0.3));\n",
              "      fill: #FFFFFF;\n",
              "    }\n",
              "  </style>\n",
              "\n",
              "    <script>\n",
              "      const buttonEl =\n",
              "        document.querySelector('#df-6b99d6b9-323d-48b0-98de-7c1184d47c3f button.colab-df-convert');\n",
              "      buttonEl.style.display =\n",
              "        google.colab.kernel.accessAllowed ? 'block' : 'none';\n",
              "\n",
              "      async function convertToInteractive(key) {\n",
              "        const element = document.querySelector('#df-6b99d6b9-323d-48b0-98de-7c1184d47c3f');\n",
              "        const dataTable =\n",
              "          await google.colab.kernel.invokeFunction('convertToInteractive',\n",
              "                                                    [key], {});\n",
              "        if (!dataTable) return;\n",
              "\n",
              "        const docLinkHtml = 'Like what you see? Visit the ' +\n",
              "          '<a target=\"_blank\" href=https://colab.research.google.com/notebooks/data_table.ipynb>data table notebook</a>'\n",
              "          + ' to learn more about interactive tables.';\n",
              "        element.innerHTML = '';\n",
              "        dataTable['output_type'] = 'display_data';\n",
              "        await google.colab.output.renderOutput(dataTable, element);\n",
              "        const docLink = document.createElement('div');\n",
              "        docLink.innerHTML = docLinkHtml;\n",
              "        element.appendChild(docLink);\n",
              "      }\n",
              "    </script>\n",
              "  </div>\n",
              "\n",
              "\n",
              "<div id=\"df-d78c52e3-67f5-4ac6-8d1f-7dcde443f204\">\n",
              "  <button class=\"colab-df-quickchart\" onclick=\"quickchart('df-d78c52e3-67f5-4ac6-8d1f-7dcde443f204')\"\n",
              "            title=\"Suggest charts\"\n",
              "            style=\"display:none;\">\n",
              "\n",
              "<svg xmlns=\"http://www.w3.org/2000/svg\" height=\"24px\"viewBox=\"0 0 24 24\"\n",
              "     width=\"24px\">\n",
              "    <g>\n",
              "        <path d=\"M19 3H5c-1.1 0-2 .9-2 2v14c0 1.1.9 2 2 2h14c1.1 0 2-.9 2-2V5c0-1.1-.9-2-2-2zM9 17H7v-7h2v7zm4 0h-2V7h2v10zm4 0h-2v-4h2v4z\"/>\n",
              "    </g>\n",
              "</svg>\n",
              "  </button>\n",
              "\n",
              "<style>\n",
              "  .colab-df-quickchart {\n",
              "      --bg-color: #E8F0FE;\n",
              "      --fill-color: #1967D2;\n",
              "      --hover-bg-color: #E2EBFA;\n",
              "      --hover-fill-color: #174EA6;\n",
              "      --disabled-fill-color: #AAA;\n",
              "      --disabled-bg-color: #DDD;\n",
              "  }\n",
              "\n",
              "  [theme=dark] .colab-df-quickchart {\n",
              "      --bg-color: #3B4455;\n",
              "      --fill-color: #D2E3FC;\n",
              "      --hover-bg-color: #434B5C;\n",
              "      --hover-fill-color: #FFFFFF;\n",
              "      --disabled-bg-color: #3B4455;\n",
              "      --disabled-fill-color: #666;\n",
              "  }\n",
              "\n",
              "  .colab-df-quickchart {\n",
              "    background-color: var(--bg-color);\n",
              "    border: none;\n",
              "    border-radius: 50%;\n",
              "    cursor: pointer;\n",
              "    display: none;\n",
              "    fill: var(--fill-color);\n",
              "    height: 32px;\n",
              "    padding: 0;\n",
              "    width: 32px;\n",
              "  }\n",
              "\n",
              "  .colab-df-quickchart:hover {\n",
              "    background-color: var(--hover-bg-color);\n",
              "    box-shadow: 0 1px 2px rgba(60, 64, 67, 0.3), 0 1px 3px 1px rgba(60, 64, 67, 0.15);\n",
              "    fill: var(--button-hover-fill-color);\n",
              "  }\n",
              "\n",
              "  .colab-df-quickchart-complete:disabled,\n",
              "  .colab-df-quickchart-complete:disabled:hover {\n",
              "    background-color: var(--disabled-bg-color);\n",
              "    fill: var(--disabled-fill-color);\n",
              "    box-shadow: none;\n",
              "  }\n",
              "\n",
              "  .colab-df-spinner {\n",
              "    border: 2px solid var(--fill-color);\n",
              "    border-color: transparent;\n",
              "    border-bottom-color: var(--fill-color);\n",
              "    animation:\n",
              "      spin 1s steps(1) infinite;\n",
              "  }\n",
              "\n",
              "  @keyframes spin {\n",
              "    0% {\n",
              "      border-color: transparent;\n",
              "      border-bottom-color: var(--fill-color);\n",
              "      border-left-color: var(--fill-color);\n",
              "    }\n",
              "    20% {\n",
              "      border-color: transparent;\n",
              "      border-left-color: var(--fill-color);\n",
              "      border-top-color: var(--fill-color);\n",
              "    }\n",
              "    30% {\n",
              "      border-color: transparent;\n",
              "      border-left-color: var(--fill-color);\n",
              "      border-top-color: var(--fill-color);\n",
              "      border-right-color: var(--fill-color);\n",
              "    }\n",
              "    40% {\n",
              "      border-color: transparent;\n",
              "      border-right-color: var(--fill-color);\n",
              "      border-top-color: var(--fill-color);\n",
              "    }\n",
              "    60% {\n",
              "      border-color: transparent;\n",
              "      border-right-color: var(--fill-color);\n",
              "    }\n",
              "    80% {\n",
              "      border-color: transparent;\n",
              "      border-right-color: var(--fill-color);\n",
              "      border-bottom-color: var(--fill-color);\n",
              "    }\n",
              "    90% {\n",
              "      border-color: transparent;\n",
              "      border-bottom-color: var(--fill-color);\n",
              "    }\n",
              "  }\n",
              "</style>\n",
              "\n",
              "  <script>\n",
              "    async function quickchart(key) {\n",
              "      const quickchartButtonEl =\n",
              "        document.querySelector('#' + key + ' button');\n",
              "      quickchartButtonEl.disabled = true;  // To prevent multiple clicks.\n",
              "      quickchartButtonEl.classList.add('colab-df-spinner');\n",
              "      try {\n",
              "        const charts = await google.colab.kernel.invokeFunction(\n",
              "            'suggestCharts', [key], {});\n",
              "      } catch (error) {\n",
              "        console.error('Error during call to suggestCharts:', error);\n",
              "      }\n",
              "      quickchartButtonEl.classList.remove('colab-df-spinner');\n",
              "      quickchartButtonEl.classList.add('colab-df-quickchart-complete');\n",
              "    }\n",
              "    (() => {\n",
              "      let quickchartButtonEl =\n",
              "        document.querySelector('#df-d78c52e3-67f5-4ac6-8d1f-7dcde443f204 button');\n",
              "      quickchartButtonEl.style.display =\n",
              "        google.colab.kernel.accessAllowed ? 'block' : 'none';\n",
              "    })();\n",
              "  </script>\n",
              "</div>\n",
              "    </div>\n",
              "  </div>\n"
            ]
          },
          "metadata": {},
          "execution_count": 4
        }
      ]
    },
    {
      "cell_type": "markdown",
      "source": [
        "- 결측값 확인하기"
      ],
      "metadata": {
        "id": "gJT2OEjOw6r9"
      },
      "id": "gJT2OEjOw6r9"
    },
    {
      "cell_type": "code",
      "execution_count": 5,
      "id": "1e665e23",
      "metadata": {
        "id": "1e665e23",
        "colab": {
          "base_uri": "https://localhost:8080/"
        },
        "outputId": "008e1335-7243-4278-a8fa-800941714fac"
      },
      "outputs": [
        {
          "output_type": "execute_result",
          "data": {
            "text/plain": [
              "Newbie                                 0\n",
              "Age                                  561\n",
              "Gender_Female                          0\n",
              "Gender_Male                            0\n",
              "Household Income_$10-19                0\n",
              "Household Income_$20-29                0\n",
              "Household Income_$30-39                0\n",
              "Household Income_$40-49                0\n",
              "Household Income_$50-74                0\n",
              "Household Income_$75-99                0\n",
              "Household Income_Over $100             0\n",
              "Household Income_Under $10             0\n",
              "Sexual Preference_Bisexual             0\n",
              "Sexual Preference_Gay male             0\n",
              "Sexual Preference_Heterosexual         0\n",
              "Sexual Preference_Lesbian              0\n",
              "Sexual Preference_Transgender          0\n",
              "Sexual Preference_na                   0\n",
              "Education Attainment_College           0\n",
              "Education Attainment_Doctoral          0\n",
              "Education Attainment_Grammar           0\n",
              "Education Attainment_High School       0\n",
              "Education Attainment_Masters           0\n",
              "Education Attainment_Other             0\n",
              "Education Attainment_Professional      0\n",
              "Education Attainment_Some College      0\n",
              "Education Attainment_Special           0\n",
              "Major Occupation_Computer              0\n",
              "Major Occupation_Education             0\n",
              "Major Occupation_Management            0\n",
              "Major Occupation_Other                 0\n",
              "Major Occupation_Professional          0\n",
              "Marital Status_Divorced                0\n",
              "Marital Status_Married                 0\n",
              "Marital Status_Other                   0\n",
              "Marital Status_Separated               0\n",
              "Marital Status_Single                  0\n",
              "Marital Status_Widowed                 0\n",
              "dtype: int64"
            ]
          },
          "metadata": {},
          "execution_count": 5
        }
      ],
      "source": [
        "df_onehot.isnull().sum()"
      ]
    },
    {
      "cell_type": "markdown",
      "source": [
        "- 열 \"Age\" 에서 결측값이 있는 경우에 평균 값으로 바꿔줍니다."
      ],
      "metadata": {
        "id": "IDj5gsmqxGa3"
      },
      "id": "IDj5gsmqxGa3"
    },
    {
      "cell_type": "code",
      "execution_count": 6,
      "id": "229fa78e",
      "metadata": {
        "id": "229fa78e",
        "colab": {
          "base_uri": "https://localhost:8080/"
        },
        "outputId": "4ce8c174-19f1-4c70-c748-b296b6e5764d"
      },
      "outputs": [
        {
          "output_type": "execute_result",
          "data": {
            "text/plain": [
              "Newbie                               0\n",
              "Age                                  0\n",
              "Gender_Female                        0\n",
              "Gender_Male                          0\n",
              "Household Income_$10-19              0\n",
              "Household Income_$20-29              0\n",
              "Household Income_$30-39              0\n",
              "Household Income_$40-49              0\n",
              "Household Income_$50-74              0\n",
              "Household Income_$75-99              0\n",
              "Household Income_Over $100           0\n",
              "Household Income_Under $10           0\n",
              "Sexual Preference_Bisexual           0\n",
              "Sexual Preference_Gay male           0\n",
              "Sexual Preference_Heterosexual       0\n",
              "Sexual Preference_Lesbian            0\n",
              "Sexual Preference_Transgender        0\n",
              "Sexual Preference_na                 0\n",
              "Education Attainment_College         0\n",
              "Education Attainment_Doctoral        0\n",
              "Education Attainment_Grammar         0\n",
              "Education Attainment_High School     0\n",
              "Education Attainment_Masters         0\n",
              "Education Attainment_Other           0\n",
              "Education Attainment_Professional    0\n",
              "Education Attainment_Some College    0\n",
              "Education Attainment_Special         0\n",
              "Major Occupation_Computer            0\n",
              "Major Occupation_Education           0\n",
              "Major Occupation_Management          0\n",
              "Major Occupation_Other               0\n",
              "Major Occupation_Professional        0\n",
              "Marital Status_Divorced              0\n",
              "Marital Status_Married               0\n",
              "Marital Status_Other                 0\n",
              "Marital Status_Separated             0\n",
              "Marital Status_Single                0\n",
              "Marital Status_Widowed               0\n",
              "dtype: int64"
            ]
          },
          "metadata": {},
          "execution_count": 6
        }
      ],
      "source": [
        "df_onehot.loc[pd.isnull(df_onehot['Age']), \"Age\"] = df_onehot['Age'].mean()\n",
        "df_onehot.isnull().sum()"
      ]
    },
    {
      "cell_type": "code",
      "execution_count": 7,
      "id": "7ed79d3a",
      "metadata": {
        "id": "7ed79d3a",
        "colab": {
          "base_uri": "https://localhost:8080/"
        },
        "outputId": "4c97d52c-3faa-4494-b617-691b3a9872a2"
      },
      "outputs": [
        {
          "output_type": "execute_result",
          "data": {
            "text/plain": [
              "((19583,), (19583, 37))"
            ]
          },
          "metadata": {},
          "execution_count": 7
        }
      ],
      "source": [
        "x_data = df_onehot.iloc[:, 1:].values\n",
        "y_data = df_onehot.iloc[:, 0].values\n",
        "y_data.shape, x_data.shape"
      ]
    },
    {
      "cell_type": "code",
      "source": [
        "x_data"
      ],
      "metadata": {
        "id": "7u04MEwwxm1g",
        "colab": {
          "base_uri": "https://localhost:8080/"
        },
        "outputId": "3869c5a8-41bb-45ab-eec3-b3518b96dae7"
      },
      "id": "7u04MEwwxm1g",
      "execution_count": 9,
      "outputs": [
        {
          "output_type": "execute_result",
          "data": {
            "text/plain": [
              "array([[54.,  0.,  1., ...,  0.,  0.,  0.],\n",
              "       [39.,  1.,  0., ...,  0.,  0.,  0.],\n",
              "       [49.,  1.,  0., ...,  0.,  0.,  0.],\n",
              "       ...,\n",
              "       [49.,  1.,  0., ...,  0.,  0.,  0.],\n",
              "       [42.,  1.,  0., ...,  0.,  0.,  0.],\n",
              "       [24.,  1.,  0., ...,  0.,  1.,  0.]])"
            ]
          },
          "metadata": {},
          "execution_count": 9
        }
      ]
    },
    {
      "cell_type": "markdown",
      "source": [
        "- x_data에 min-max scaling을 수행"
      ],
      "metadata": {
        "id": "_F1j2f7rxn4F"
      },
      "id": "_F1j2f7rxn4F"
    },
    {
      "cell_type": "code",
      "execution_count": 10,
      "id": "e7167aa5",
      "metadata": {
        "id": "e7167aa5",
        "colab": {
          "base_uri": "https://localhost:8080/"
        },
        "outputId": "612970ab-43ec-439e-94d5-3272d1c5913a"
      },
      "outputs": [
        {
          "output_type": "execute_result",
          "data": {
            "text/plain": [
              "array([[0.65333333, 0.        , 1.        , ..., 0.        , 0.        ,\n",
              "        0.        ],\n",
              "       [0.45333333, 1.        , 0.        , ..., 0.        , 0.        ,\n",
              "        0.        ],\n",
              "       [0.58666667, 1.        , 0.        , ..., 0.        , 0.        ,\n",
              "        0.        ],\n",
              "       ...,\n",
              "       [0.58666667, 1.        , 0.        , ..., 0.        , 0.        ,\n",
              "        0.        ],\n",
              "       [0.49333333, 1.        , 0.        , ..., 0.        , 0.        ,\n",
              "        0.        ],\n",
              "       [0.25333333, 1.        , 0.        , ..., 0.        , 1.        ,\n",
              "        0.        ]])"
            ]
          },
          "metadata": {},
          "execution_count": 10
        }
      ],
      "source": [
        "from sklearn import preprocessing # Min-Max Standardzation\n",
        "\n",
        "min_max_scaler = preprocessing.MinMaxScaler()\n",
        "x_data = min_max_scaler.fit_transform(x_data)\n",
        "\n",
        "x_data"
      ]
    },
    {
      "cell_type": "markdown",
      "source": [
        "- Train/Test Set Split"
      ],
      "metadata": {
        "id": "ngWxtFd1x37A"
      },
      "id": "ngWxtFd1x37A"
    },
    {
      "cell_type": "code",
      "execution_count": 11,
      "id": "1dcc3d25",
      "metadata": {
        "id": "1dcc3d25",
        "colab": {
          "base_uri": "https://localhost:8080/"
        },
        "outputId": "8b5f91f5-e818-4020-a773-ba9304304406"
      },
      "outputs": [
        {
          "output_type": "execute_result",
          "data": {
            "text/plain": [
              "((13120, 37), (6463, 37), (13120,), (6463,))"
            ]
          },
          "metadata": {},
          "execution_count": 11
        }
      ],
      "source": [
        "from sklearn.model_selection import train_test_split\n",
        "\n",
        "X_train, X_test, y_train, y_test = train_test_split(x_data, y_data, test_size=0.33)\n",
        "\n",
        "X_train.shape, X_test.shape, y_train.shape, y_test.shape"
      ]
    },
    {
      "cell_type": "markdown",
      "source": [
        "- Linear Regressor와 유사하게, Logistic Regressor를 학습시키기 위해서 \"LogisticRegression\" 클래스를 사용합니다."
      ],
      "metadata": {
        "id": "tDjbrO4Qx8bi"
      },
      "id": "tDjbrO4Qx8bi"
    },
    {
      "cell_type": "code",
      "execution_count": 13,
      "id": "eab3f846",
      "metadata": {
        "id": "eab3f846",
        "colab": {
          "base_uri": "https://localhost:8080/",
          "height": 74
        },
        "outputId": "1782dcb3-768b-4bbe-9f22-d081e3c88850"
      },
      "outputs": [
        {
          "output_type": "execute_result",
          "data": {
            "text/plain": [
              "LogisticRegression()"
            ],
            "text/html": [
              "<style>#sk-container-id-2 {color: black;background-color: white;}#sk-container-id-2 pre{padding: 0;}#sk-container-id-2 div.sk-toggleable {background-color: white;}#sk-container-id-2 label.sk-toggleable__label {cursor: pointer;display: block;width: 100%;margin-bottom: 0;padding: 0.3em;box-sizing: border-box;text-align: center;}#sk-container-id-2 label.sk-toggleable__label-arrow:before {content: \"▸\";float: left;margin-right: 0.25em;color: #696969;}#sk-container-id-2 label.sk-toggleable__label-arrow:hover:before {color: black;}#sk-container-id-2 div.sk-estimator:hover label.sk-toggleable__label-arrow:before {color: black;}#sk-container-id-2 div.sk-toggleable__content {max-height: 0;max-width: 0;overflow: hidden;text-align: left;background-color: #f0f8ff;}#sk-container-id-2 div.sk-toggleable__content pre {margin: 0.2em;color: black;border-radius: 0.25em;background-color: #f0f8ff;}#sk-container-id-2 input.sk-toggleable__control:checked~div.sk-toggleable__content {max-height: 200px;max-width: 100%;overflow: auto;}#sk-container-id-2 input.sk-toggleable__control:checked~label.sk-toggleable__label-arrow:before {content: \"▾\";}#sk-container-id-2 div.sk-estimator input.sk-toggleable__control:checked~label.sk-toggleable__label {background-color: #d4ebff;}#sk-container-id-2 div.sk-label input.sk-toggleable__control:checked~label.sk-toggleable__label {background-color: #d4ebff;}#sk-container-id-2 input.sk-hidden--visually {border: 0;clip: rect(1px 1px 1px 1px);clip: rect(1px, 1px, 1px, 1px);height: 1px;margin: -1px;overflow: hidden;padding: 0;position: absolute;width: 1px;}#sk-container-id-2 div.sk-estimator {font-family: monospace;background-color: #f0f8ff;border: 1px dotted black;border-radius: 0.25em;box-sizing: border-box;margin-bottom: 0.5em;}#sk-container-id-2 div.sk-estimator:hover {background-color: #d4ebff;}#sk-container-id-2 div.sk-parallel-item::after {content: \"\";width: 100%;border-bottom: 1px solid gray;flex-grow: 1;}#sk-container-id-2 div.sk-label:hover label.sk-toggleable__label {background-color: #d4ebff;}#sk-container-id-2 div.sk-serial::before {content: \"\";position: absolute;border-left: 1px solid gray;box-sizing: border-box;top: 0;bottom: 0;left: 50%;z-index: 0;}#sk-container-id-2 div.sk-serial {display: flex;flex-direction: column;align-items: center;background-color: white;padding-right: 0.2em;padding-left: 0.2em;position: relative;}#sk-container-id-2 div.sk-item {position: relative;z-index: 1;}#sk-container-id-2 div.sk-parallel {display: flex;align-items: stretch;justify-content: center;background-color: white;position: relative;}#sk-container-id-2 div.sk-item::before, #sk-container-id-2 div.sk-parallel-item::before {content: \"\";position: absolute;border-left: 1px solid gray;box-sizing: border-box;top: 0;bottom: 0;left: 50%;z-index: -1;}#sk-container-id-2 div.sk-parallel-item {display: flex;flex-direction: column;z-index: 1;position: relative;background-color: white;}#sk-container-id-2 div.sk-parallel-item:first-child::after {align-self: flex-end;width: 50%;}#sk-container-id-2 div.sk-parallel-item:last-child::after {align-self: flex-start;width: 50%;}#sk-container-id-2 div.sk-parallel-item:only-child::after {width: 0;}#sk-container-id-2 div.sk-dashed-wrapped {border: 1px dashed gray;margin: 0 0.4em 0.5em 0.4em;box-sizing: border-box;padding-bottom: 0.4em;background-color: white;}#sk-container-id-2 div.sk-label label {font-family: monospace;font-weight: bold;display: inline-block;line-height: 1.2em;}#sk-container-id-2 div.sk-label-container {text-align: center;}#sk-container-id-2 div.sk-container {/* jupyter's `normalize.less` sets `[hidden] { display: none; }` but bootstrap.min.css set `[hidden] { display: none !important; }` so we also need the `!important` here to be able to override the default hidden behavior on the sphinx rendered scikit-learn.org. See: https://github.com/scikit-learn/scikit-learn/issues/21755 */display: inline-block !important;position: relative;}#sk-container-id-2 div.sk-text-repr-fallback {display: none;}</style><div id=\"sk-container-id-2\" class=\"sk-top-container\"><div class=\"sk-text-repr-fallback\"><pre>LogisticRegression()</pre><b>In a Jupyter environment, please rerun this cell to show the HTML representation or trust the notebook. <br />On GitHub, the HTML representation is unable to render, please try loading this page with nbviewer.org.</b></div><div class=\"sk-container\" hidden><div class=\"sk-item\"><div class=\"sk-estimator sk-toggleable\"><input class=\"sk-toggleable__control sk-hidden--visually\" id=\"sk-estimator-id-2\" type=\"checkbox\" checked><label for=\"sk-estimator-id-2\" class=\"sk-toggleable__label sk-toggleable__label-arrow\">LogisticRegression</label><div class=\"sk-toggleable__content\"><pre>LogisticRegression()</pre></div></div></div></div></div>"
            ]
          },
          "metadata": {},
          "execution_count": 13
        }
      ],
      "source": [
        "from sklearn.linear_model import LogisticRegression\n",
        "\n",
        "logreg = LogisticRegression(fit_intercept=True)\n",
        "logreg.fit(X_train, y_train.flatten())"
      ]
    },
    {
      "cell_type": "markdown",
      "source": [
        "- LogisticRegression 클래스는 많은 옵션을 설정할 수 있습니다.\n",
        "- Gradient Descent 방법을 사용하는 다른 Regressor (SGD)와 유사한 인자를 사용합니다."
      ],
      "metadata": {
        "id": "rkPPilmfyZ3M"
      },
      "id": "rkPPilmfyZ3M"
    },
    {
      "cell_type": "markdown",
      "source": [
        "- **max_inter** : 최대 한복 횟수\n",
        "- **tol** : 더 이상 비용이 줄어들지 않을때 반복이 멈추는 값\n",
        "- **C** : 학습률 역수 (1/alpha)\n"
      ],
      "metadata": {
        "id": "kQRgcEwl0jm6"
      },
      "id": "kQRgcEwl0jm6"
    },
    {
      "cell_type": "code",
      "execution_count": 14,
      "id": "4186e633",
      "metadata": {
        "id": "4186e633",
        "colab": {
          "base_uri": "https://localhost:8080/",
          "height": 74
        },
        "outputId": "c407a8a3-49ad-48e7-f921-6d83dd5313f6"
      },
      "outputs": [
        {
          "output_type": "execute_result",
          "data": {
            "text/plain": [
              "LogisticRegression()"
            ],
            "text/html": [
              "<style>#sk-container-id-3 {color: black;background-color: white;}#sk-container-id-3 pre{padding: 0;}#sk-container-id-3 div.sk-toggleable {background-color: white;}#sk-container-id-3 label.sk-toggleable__label {cursor: pointer;display: block;width: 100%;margin-bottom: 0;padding: 0.3em;box-sizing: border-box;text-align: center;}#sk-container-id-3 label.sk-toggleable__label-arrow:before {content: \"▸\";float: left;margin-right: 0.25em;color: #696969;}#sk-container-id-3 label.sk-toggleable__label-arrow:hover:before {color: black;}#sk-container-id-3 div.sk-estimator:hover label.sk-toggleable__label-arrow:before {color: black;}#sk-container-id-3 div.sk-toggleable__content {max-height: 0;max-width: 0;overflow: hidden;text-align: left;background-color: #f0f8ff;}#sk-container-id-3 div.sk-toggleable__content pre {margin: 0.2em;color: black;border-radius: 0.25em;background-color: #f0f8ff;}#sk-container-id-3 input.sk-toggleable__control:checked~div.sk-toggleable__content {max-height: 200px;max-width: 100%;overflow: auto;}#sk-container-id-3 input.sk-toggleable__control:checked~label.sk-toggleable__label-arrow:before {content: \"▾\";}#sk-container-id-3 div.sk-estimator input.sk-toggleable__control:checked~label.sk-toggleable__label {background-color: #d4ebff;}#sk-container-id-3 div.sk-label input.sk-toggleable__control:checked~label.sk-toggleable__label {background-color: #d4ebff;}#sk-container-id-3 input.sk-hidden--visually {border: 0;clip: rect(1px 1px 1px 1px);clip: rect(1px, 1px, 1px, 1px);height: 1px;margin: -1px;overflow: hidden;padding: 0;position: absolute;width: 1px;}#sk-container-id-3 div.sk-estimator {font-family: monospace;background-color: #f0f8ff;border: 1px dotted black;border-radius: 0.25em;box-sizing: border-box;margin-bottom: 0.5em;}#sk-container-id-3 div.sk-estimator:hover {background-color: #d4ebff;}#sk-container-id-3 div.sk-parallel-item::after {content: \"\";width: 100%;border-bottom: 1px solid gray;flex-grow: 1;}#sk-container-id-3 div.sk-label:hover label.sk-toggleable__label {background-color: #d4ebff;}#sk-container-id-3 div.sk-serial::before {content: \"\";position: absolute;border-left: 1px solid gray;box-sizing: border-box;top: 0;bottom: 0;left: 50%;z-index: 0;}#sk-container-id-3 div.sk-serial {display: flex;flex-direction: column;align-items: center;background-color: white;padding-right: 0.2em;padding-left: 0.2em;position: relative;}#sk-container-id-3 div.sk-item {position: relative;z-index: 1;}#sk-container-id-3 div.sk-parallel {display: flex;align-items: stretch;justify-content: center;background-color: white;position: relative;}#sk-container-id-3 div.sk-item::before, #sk-container-id-3 div.sk-parallel-item::before {content: \"\";position: absolute;border-left: 1px solid gray;box-sizing: border-box;top: 0;bottom: 0;left: 50%;z-index: -1;}#sk-container-id-3 div.sk-parallel-item {display: flex;flex-direction: column;z-index: 1;position: relative;background-color: white;}#sk-container-id-3 div.sk-parallel-item:first-child::after {align-self: flex-end;width: 50%;}#sk-container-id-3 div.sk-parallel-item:last-child::after {align-self: flex-start;width: 50%;}#sk-container-id-3 div.sk-parallel-item:only-child::after {width: 0;}#sk-container-id-3 div.sk-dashed-wrapped {border: 1px dashed gray;margin: 0 0.4em 0.5em 0.4em;box-sizing: border-box;padding-bottom: 0.4em;background-color: white;}#sk-container-id-3 div.sk-label label {font-family: monospace;font-weight: bold;display: inline-block;line-height: 1.2em;}#sk-container-id-3 div.sk-label-container {text-align: center;}#sk-container-id-3 div.sk-container {/* jupyter's `normalize.less` sets `[hidden] { display: none; }` but bootstrap.min.css set `[hidden] { display: none !important; }` so we also need the `!important` here to be able to override the default hidden behavior on the sphinx rendered scikit-learn.org. See: https://github.com/scikit-learn/scikit-learn/issues/21755 */display: inline-block !important;position: relative;}#sk-container-id-3 div.sk-text-repr-fallback {display: none;}</style><div id=\"sk-container-id-3\" class=\"sk-top-container\"><div class=\"sk-text-repr-fallback\"><pre>LogisticRegression()</pre><b>In a Jupyter environment, please rerun this cell to show the HTML representation or trust the notebook. <br />On GitHub, the HTML representation is unable to render, please try loading this page with nbviewer.org.</b></div><div class=\"sk-container\" hidden><div class=\"sk-item\"><div class=\"sk-estimator sk-toggleable\"><input class=\"sk-toggleable__control sk-hidden--visually\" id=\"sk-estimator-id-3\" type=\"checkbox\" checked><label for=\"sk-estimator-id-3\" class=\"sk-toggleable__label sk-toggleable__label-arrow\">LogisticRegression</label><div class=\"sk-toggleable__content\"><pre>LogisticRegression()</pre></div></div></div></div></div>"
            ]
          },
          "metadata": {},
          "execution_count": 14
        }
      ],
      "source": [
        "LogisticRegression(C=1.0, fit_intercept=True, penalty='l2', max_iter=100, tol=0.0001)"
      ]
    },
    {
      "cell_type": "code",
      "execution_count": 15,
      "id": "898201b1",
      "metadata": {
        "id": "898201b1",
        "colab": {
          "base_uri": "https://localhost:8080/"
        },
        "outputId": "b0c1b2c7-90e9-450e-e5f8-95177344a1cb"
      },
      "outputs": [
        {
          "output_type": "execute_result",
          "data": {
            "text/plain": [
              "array([0, 0, 1, ..., 0, 0, 0])"
            ]
          },
          "metadata": {},
          "execution_count": 15
        }
      ],
      "source": [
        "logreg.predict(X_test)"
      ]
    },
    {
      "cell_type": "markdown",
      "source": [
        "- classification (분류) 결과가 아닌 Logistic Regression의 probability를 확인합니다.\n",
        "- 여기서 Binary Class이므로 2개의 Class (열)이 존재하며, 모든 클래스에 대한 확률의 합 (각 행 값의 합)은 1입니다."
      ],
      "metadata": {
        "id": "dZTv9_5Gy9N4"
      },
      "id": "dZTv9_5Gy9N4"
    },
    {
      "cell_type": "code",
      "execution_count": 16,
      "id": "a534df1e",
      "metadata": {
        "id": "a534df1e",
        "colab": {
          "base_uri": "https://localhost:8080/"
        },
        "outputId": "53cd61ca-f0b7-41f1-e6f9-5510c2a9ac02"
      },
      "outputs": [
        {
          "output_type": "execute_result",
          "data": {
            "text/plain": [
              "array([[0.90979257, 0.09020743],\n",
              "       [0.64016822, 0.35983178],\n",
              "       [0.39636674, 0.60363326],\n",
              "       ...,\n",
              "       [0.73452798, 0.26547202],\n",
              "       [0.83406026, 0.16593974],\n",
              "       [0.77011421, 0.22988579]])"
            ]
          },
          "metadata": {},
          "execution_count": 16
        }
      ],
      "source": [
        "logreg.predict_proba(X_test)"
      ]
    },
    {
      "cell_type": "markdown",
      "source": [
        "- 앞에서 배운 Classification 성능 평가 지표로 모델 학습의 성능을 평가할 수 있습니다."
      ],
      "metadata": {
        "id": "oNKc4dD1zSnp"
      },
      "id": "oNKc4dD1zSnp"
    },
    {
      "cell_type": "code",
      "execution_count": 17,
      "id": "1e96ff09",
      "metadata": {
        "id": "1e96ff09",
        "colab": {
          "base_uri": "https://localhost:8080/"
        },
        "outputId": "252074fa-2e25-48d3-d08b-22a900cb16f9"
      },
      "outputs": [
        {
          "output_type": "execute_result",
          "data": {
            "text/plain": [
              "array([[4559,  309],\n",
              "       [1253,  342]])"
            ]
          },
          "metadata": {},
          "execution_count": 17
        }
      ],
      "source": [
        "from sklearn.metrics import confusion_matrix\n",
        "from sklearn.metrics import accuracy_score\n",
        "\n",
        "y_true = y_test.copy()\n",
        "y_pred = logreg.predict(X_test)\n",
        "confusion_matrix(y_true, y_pred)"
      ]
    },
    {
      "cell_type": "code",
      "execution_count": 18,
      "id": "346c4d8e",
      "metadata": {
        "id": "346c4d8e",
        "colab": {
          "base_uri": "https://localhost:8080/"
        },
        "outputId": "2d03c876-015d-4108-cee4-d8df8afa4d4a"
      },
      "outputs": [
        {
          "output_type": "execute_result",
          "data": {
            "text/plain": [
              "0.7583165712517407"
            ]
          },
          "metadata": {},
          "execution_count": 18
        }
      ],
      "source": [
        "accuracy_score(y_true, y_pred)"
      ]
    },
    {
      "cell_type": "markdown",
      "source": [
        "**2. 소프트맥스로 멀티클래스 (Multi-class) 로지스틱 회귀 학습하기**\n",
        "- 손글씨를 숫자로 인식하는 이미지 분류 문제"
      ],
      "metadata": {
        "id": "v2rxOpHt2HDB"
      },
      "id": "v2rxOpHt2HDB"
    },
    {
      "cell_type": "markdown",
      "source": [
        "![image.png](data:image/png;base64,iVBORw0KGgoAAAANSUhEUgAAAo4AAAD9CAYAAAAyJ/amAAAAAXNSR0IArs4c6QAAAARnQU1BAACxjwv8YQUAAAAJcEhZcwAAFxEAABcRAcom8z8AAP+lSURBVHhe7J0FnNzG2cYbKAWaNk3Tfm3DpZDDMWPs2DEz22dmZmaKmZkdMzMzM9tnZvuY+c5+vveZ2dnV7u3xnWM7+97vOUmjkVYavZr5D0j6FZ4ZeyR6aBPnExtD3a95Fizp83/06JHSs2NJn2tyxphKjyk9kv0NczBZYtyxTh85U8tPWdLMBFrl1rjCbJfYkkzLZPcplsR6sz/X1cmm5S/OmBa2a8J0cU0sm2UozZLYZ1rMXMunxsw5uznkpM+D4YnvjyR24zG7mTRLXSql1Y+Y8zlfEZr7a5UuMxc4bYeVIXN/P1nP6fEdjAccnxnT5//oUUKab7Knz/S5pvVmYUxr7J8tnVwPJNONO9fpQwRz/JyZE1lm7XJrXGHSOg2W7D7FUlif0ua/FEuxsOC6rEisdO7T/fE+JWbOORWH7zhHTnktnDdK5W5+wWbylKxJpWcRHI0Z33Pca1mblu7sGQRHTt0nYNJrnhWjIxEen+2zdFzJtF1R19iZn0zmF6xyY8msyhxz/L7+s/6cbckEWuXWUozg3pi4ySVwSut/8ca00QVD4vtZr1NS6WhbTJOlsEG69imbuD3elCydP5ZqS+X+TbTURHWKk4oNPOZiWQs77i+jCc2E38zEXaXVzP3luNce/8E8meCYznRInKCulsYdPqOWdPp4LGNmMkOrmM7Jp3XKMZ4249lYz9/VUlr/DBhPK92nZtInq9LG7D+xpZQ3cI27tWobszJRBHdbGOM64wtZYVmx/+TOx2NPTvpkxnEksQ8GGz0pltIxpbQ+JbNs/6ukMwmGmxuO3Z/xSIiPsylWTxMS8PChbuFKkGlcQjziJYzhFOfjuc62l6R+KZHZDs5pA3M4MtVHpMX5lI0bmy1Ej2Qr1/1nuZkTsJ1EpphJCb1fXguT9uq6SGhW/OrTY3LW7Lp/SJ+NkXShz1Kcj5E0knnxhThJq1jjr6I4m+i7TLfUm0lpq6x+JxMjm7kJcm9yHngYK4qT+02OTYLiRNzzz2nuQYPL5vzdnZmb9SaIySTzthRTQU+luTvtVBk35JnzCsfjIf3V5Lt2/5VwS75r/Nae7zIf4DrZg2v6Oa5XKnomdDQtmeeER8X9ut2SgUbKuIW5kiL+ntN6Ywyw/UiWWGbu3+zLiHmtLe3jZT5B57vWGFl1Vk+m2c5eeEHnu1a/Zb4bq9LrIf3T5rvGb5nnMh+Oo4/qncl+0trIYVLf+B2PxRbkZjeO+0Gb8zK3ZZ4bLfNx4vuPIEsq3+XunjjjYRslMp4L70FbmigjMzjSP0F81xh3wSXKvjvL/pNpcWQMW+I/isH+nVvQvnkT1KtRDfVr10A9r1qoW7cOGjdujBYtWqBx06aoXa8eatetB6869VCtWm20btcZm3ftR0h0jNqb47DSYXJTXj5+GqMGDsWKVesQHBOHGAnmEXLfxtw6GUFRXfJYSbcIbN6wHuPHTMaBfccQGUmncN5H1hl/JeVfSt2xMBbPXmA9PAAHdm1B/759UK9+A9SoUQNt2rTG3AWLcf1BsEonnn2G0v+pNEmjmHBsWbkILRp4oU7t6qhbpyYa1qmKxnWrolmTumjaqhW8mrZBtXpNUKtuA9QW361UvTY69BiAvUfPIDKWRWXqjNmd+XNcH/pXPG7duIxpk6Zh8fwVuHPzvoSlxfS+4kPuYf2CGZg6YQIOnrqAILkn+AtON/cTYyYN3BnDedTORx7rH4JlM+bhp9kLcC8wRKWc6/39tFqic2CA2xNjmuhqQbTc14vmzECj2rVQr6bkubVroo74b736ddCkWRO0aNkCDRs3kjy3rsp3a3vVQ1XJd/sPHoFTF68g0gYx7tPPfairJUREY+eaDRg+4EcclPw3QsJSn5fw6jH3iUdw4H25rvMwa+pcXLpwVbJk199P3fGk35LbP9cls16tNutN3FgE3L2G5Yvnol27NvDy8oJXrVro0qkzVq7ZhPshsfaKXerS6lkxnT4JMcHYu3U1endpCy/Jd+sIMzSoU13y3mpo2rghWrTuiAZN2ojfNhKfrodaosq166Nllz5YtWUHImLoZWkz/cv8z5TXpd7B/XsxbvQkbNu0GyFBYRLmMFdoTGy8D6MQFXYDB/esx5gp07Bs10EESWiifIn7sQZw3shubgMzwVKzX3MvavQND/TDlrWr0aNLJ9Txqo1aoqbNWmHqNLk/r91RZ869JQXJKYAjN5cfehSJAzs3omPzxmgg4NjAqybqCzTWqlUdBQoWwPv/+gBfZf8WNerURZ369VGnXgNUr+GF1u27KHAMFHDkYVPpNinAty9ajm///Slat+mC++Exckn1EVqTK2lwZDEUjYfxwejXsycK5v4BUyfNlwxNO1NySZ61xl9O/OsM4VG7Py6uoeIQGeqDTUvnonXDOqhapTKq1aiJGtWroXKl8qhVrxEGjJ2NQ1fuqbTKUPo/lSZpFBMi4DgfrRrWlspOdfHbmmgk0FinajEUyPM53vrP//BZwRKo3KApatVvCC/x3Uo166B9r4HYfewMImJTn2rmSjquGb2TRe1DHN6/EyW+L4VGXq1x4shZtTb1xj0mIPr+RXSrVwklvyuMWcs24EF0rP2+cu8nj8Ocz9hqya8xPmyLIZOwSzfRsnxN1K1eH+cErsMl+EloVc0MS5QODEgUSNP3NTP56HBfLJ4zHY0lU28g4Fi/jgBkPS9Uqlwe32T/Gu//+18o+H0Rled6iWrXqS/3vxf6DxmJExevIkLA0aRyei0+KBQjOvXAZ+9/hBk/LUOwhBmgT9kYK1IUj9vXL6BmlRqoWLI6tm3cjYcJbk/+MZq5AImPI1GIimaJ+ygOPtcvYtqIgahfo7KUddVUwVujamVULF9W8t3mGDZlMc7dCVA5QEbS/+kzppFUaGP8BRyXoU/X1gImrLDXQMN6VdGwdjkUyJsLb/ztP/g6V0lhhsaoK3lurbr1UalOQzTr2hcrtuxEWIbAkYDEEi8W0ydNQIFcRTCk3xjcve0jYQ5LGRx5H0Yg2Oc4po/rjbw/lEKbUdPwwLbGactUg2NG70hjbn9AWeIQmrkXI+F75xJmTxyLlvUl3atWQ03x3xq1aqBChcooV7YGuvYaioNnLyE0Ll6dp7ujVeDoPgG5bANHySoeJUThYZyAV1yMwBe7+R4iNCQQ8xfOR5UaNTBo+DCERMt6Nj+zq0QUK4qR/RrOzVABEJ+AU7v2oWWdRpg4aSYCouJVBuYKju6Np86jiJHzCMOCuXPRuX1PbFq3CxFhdLDU7COrzDiSpM5D0aMEWXqkLhiVOM0Yl6kZj/ho1uo2onHNmqgtDrBhw0YEBgUhLjYKZ04cx6DBP6JQ6WroM3Ye7oXFqLT65Zhc0UdyxuK3j+LDxWcjxTfpt/TRcPjfO4kZkwajbHUvDJm7BEHiq+yypu/GiKJE0eK7iTKIZIzxjLQxxemlD3Hp/Cn06tYbY4dPxlUBpLQZ95iA2MBbmDWiH3p1kQrZ/mPwlxub/kGl9hgz03Sekdh/eTQM4dlzKbG5bEcTyLl96DQaFa8ihUszKXT9ECrBvGvd7+PpMJ6pkZO5DaQxTeh1rLCL7yYwz43Vekg9xLUbVzB46BBUlgri4jWrVRh91/gvpybfTSrjT609DI/C8ulz0KR2A2zatlfBfOrzcsbSmOnncxNDB/2Igb2H4tSxs25aHB+32dL5oU2PNGTziJ3KFPt14hqe+UMEPriNnyZPRrVSZdCjU1ecv3ABMbExCA8Lwt5dO9C0RTvkLloZE35aD/9IuWbc/BdjPFtJp4dh4rshku9GSLbAfJcKQVzkHcydMRXZc5fG8PErhRn0ECv6baQojNM05rvG9KXif14n+l0sNq1fg05tu2HpgtUI8Ge1Jy3Go4hARJA3Nq2eg7bde2Piyo0IsK1J9vj0wbhEMgGZ4RHch4hlnPLhBNmzHp7i5L92Y2gUYkJuYc2C6ShXogTatOmAw4ePISIiHNHREfA+fxZ9uvfAd0VKoVP/sTh2/Z7ayt3RptDiyE3MoSS2hPhoLF+5HLXq1BUnGKcS052ZvaTbbOkdExEF3/s+CAwOQawsuz8qd8YdMDaPMA5hIcHw8/VHhGSKD3/WDMykjGT2kWHwvXYZV06fxK1bdxAcE6/qTDxixtJHyTmGMPuWmsPtS+jWqQdq1GyOxUvXIyJSQzDtkdyA58+fQePm7VCrYXts2nUI0bYxDI79PWPGkzJSJmfKGyvR2UraBp/DgpkjUL5OEwyVtGNdzJ1lLJ3M9YpHbGwk/P0CEBwomWdMXNr3K0D2SDLhkIAHsh8fhEZFK7DN0H2VYeP5af9NiIlAwK3ruHrmJK5fvY7AiFgpAPTZ68xc+56zMUwXxjFSCd00ZylKfvM96nm1Uq017At42sEx7WbSimftPofz8b2PUWNGo3odL6zestUWmtj0lUmf2f0z4RHCg0Lhc/8BwiR/4fVM/fXgr/McpIIjABwYEIBA/0DERPGq/lzGM7Ol7aMYRAb64M6Fc7hy9izu+wYiPF6PY9PnyOM3KcFQVmXCpbK+CTWq1EeH9oNw7Oh5tdZYnAD++o0bUaF6AzTr0BcHTzrW29OUxgWngGfFeFK85vq+djaG+WPp/HnIXaAqRk/foUIy33j1dL4bERGmyvqw0HCnMXypM4n/iL2UocIKAbjn7w+f8IjH2Hvnzkm4zPPgESQgRiorDy5fFG44jdt3fRAWJ3mpba3zlrwm0Th/YCN6t2mGJs3bYs2u/WpMqcOicPHUHvTu1g1FKzbC9NV7bdU+mvVeSBYcaSYip2ZeHzCNNayFixeieu3aGDxqlGrapEkxov5nhplfNr+eXtOFl+PYHZa2PTuSj/+dEzPtZhzgER7cuIypwwajQZVKGDVqHC7d81OdnCYl9a9wjm4RIhDxAEf3bUKJ0tXQrOMo3PRzQKO+acRVBFYWzV+EWtXqY9DgMfAP1XEy7+o8YcZEMlJmDbC1qkthAQQj6P5BzJkyEGW8mqDfwrXwlVAFOfZtU7KUI+rrxv/6vnC21F8BffSM77xN6vegTe/HzHHrlM/BmLMfGmMIz+0RQv3uYcm0iWhSvQr69u6Hk5duIEwqZXo783s06zwtDlEh97Fr3Wo0rVgHH/71IzRq2Bnn7gY9Ey2O6TOTypwaMc10Sty4eQ1Dhw1HlVpeWLpug1rLq5DxjmmHJbWntF4L5rvuqzepP05z9pw6llJvejtjXOLxULE4c2gX+rVthaa1vbBo+Vo8CI+2wLHtd1SmoPPduMh7mD15EvIWqIDJM7ci2n5rM47GoFu3b6B3/yGoXKOB2qfz79uMgW5XPAtmTs4qpl8AHkXdxMJZM5ErfzX8OGkHgtJMjil7oP5FXruU4yZn2ud4gZ33k9a9OnzXHJNeSo3ZPNBi3Naxn+vnT2FMnx5oVK0qpk6bg5v+ISqlHb9pTOLHhWLjjDGoU64Uxs2Yj6uh0Wov+ny4lVTVY25i9aLZyFG4CrqNXQU/uT7axZ33mAI4ujNz0A5wrCbgOMgCjo+EUyNCb+LSuYM4fuIIfINC4B8cjm07dmHW7LnYuWcvQiN1G88j2eb8qVNYPH8+Jk6cgHHjJ2DylGnYsHEb7t73tyccWwbv37qLrevX4fTJo4h/GAP/AD/s2rYDZ46dRoh/MM6fvYBFCxdh/LgxmDB+LObNm49DJ84g2H53y4lLDeKc0PnOrbtw88o1xEcH4f7NMzi0bxtOnT+PO/5BOHzyFGbPnY0JE8Zg0sRxWLZ0Cc5dvIwIORhHpsJE1Mke5HMbO7dswPSpkzB+/DjMnDkL+/cfkBqsP05fuoodB4/g/LXrqgvJ2Rxpee3CSXRsXA+f/+sDtJDawKkrt1QrGGNQ+pLxPy9wEKKCzmLFgkkoXKoqeo5fgiBZ5Tgunq9k2Amx8D52HM1q1EdDr6a4fNtXreE5uB7J0208Z5FtouTGHOAYJOB4QMBxgA0c1znGrTBKXAJueF+Ra7oVPvfvIjomEvuOHsX0BYuxdO1G3Lp7l7tDfGQojh05hDnz5mHchAly7cdj2rRp2LpzD+4HhlrS+CEC/B9gt4QfO3gU4cEBiAq9h7Mn9uDgof24evc+rt25jzXr1mPKlEkYN24UZs+ajh07d+FBUJi6rjylhKgQnD60B7t2bJNtHqiHH0JDQsV392Lfru0ICgzApSuXsUT8lccyYcJEzJwzH/sPn0SIrctMJw33yLONwf3bN7FBfnfSpMmyzQTMFb8/dfwwAsSnz545hZ1yvOdu31e+aI7DYdyjvrf87t3A0B6d8fV//oWqlatj77EzCJd7ljGcH9HQ83GxYbh88QTmz5qArm0bo8x33+GdP/wTb/z672jWvBfO3Qv+BYOjqzHNmJI6JTQ4jkDVWnXs4MiOKrYoJMQG4cKZE9gpeW2A+GB4eBT27N6LufN+wnrx5wcBgWof4eI3+3fvxuyZMyXPHY/x9JWZc7HvwBEEhzna3+Nj4nHx1FlsEh+5dvOmOgK/ID8cPboPx0Q+92/j+rUrWL58GSZPHI9xY8dI3vkTdh08hoAIXj0e/SNERoTg4L6D2M8x7z4PEBvphytSPhzavwuXrt/ELR8/bNmxU+6fKZJ/j5a8dLIaenPznq/yAfKFvp9sXvwwWvLvc1izYgkmSp47Qe6/BQsW4tz5C7gr+e5BOeZdR47h9gNflTIO06mlp/HYvXEVKhUphOyffIpR4ybjju1+079l21KBI48gTPKNCxjQqxc+/7Y4flpx2LJvbsWK+UPcf3AHY8dPRsUqdTBz7mKX37cZA92ueBaNJ8q2K39JohtYNGuGgGN1AcedTuAYGxmFk4eP4MCeXYgID4K/+Nn6rdsw/aeF2LJ7HwJDZHuxhNhQnDp1AgukrJ8geRbL3ClTp2Ldpq3iRwKnKhbtIa5dvYIdW3bC++xFgf5gBD64hKMHtuP4yRO44xeA096XMH/RQmEP8SHhhoXzf8KxE6cQEqubv5iDxUUH4trl03IMu3Hsyg2EJwiL3Hsg5cNmnD5xDCEhwTh89AjmzJ2DMeL/EydNwaIlK3FOKs/R4kiOS808l/llPPx87mPr1q0Ce9Pk3huPWZLfH9i3E74+d3D56nWs2bIHp67etfi9Me6JITw6SHmwF02qVcSX//43unfvi8t3fdU2jt80JmcSGoDJvTqhSM4cWLJ2KwJkN/RYPi2u5/xk4Sa2r12E7N9VRruhK3BXbj6dwzvvMUPgGCYXd4GAYxWv2hg4erQdHHmD3bmyHdNHd0PHLm0xddFKzFm6ATXrNEWuPIUwYMhQ3PP3RVRUJA7u2oU+nTqjVLFiyJc3D/LmzYc8uQugUoXamDB5nkqIeCmAHkkhuXvNZpTJXxCD+/VARFwIjp8+hurlq6KlV3MsnbMUI4aMRMUKFWU/OZE759fyW/lRt3lnrNl13D7YlmMcRw2VTLdMTayatwiRAdewa80UtKhXEc07dsHouUvRddBwlChTCvnz5UTe7F/i+0IF0KXXQOw8dRX+tidZ1b4eRuDulTNYPGMCGtWuhgJ5ciOPqNj3RdG+XXuMmzwdTTv3QbmGrTF54XJExJv0Mca0ZNgjKXhvYtncWRjUsycWLlyKm3ID6GzIernEbODjf3Mvpo/pi3IChCNXbFVPetEttdm2eJiA4KvX0LVuI9QoWw1Hzl6xd/9xv0+dGd91ThARz0ZkXW+UyHT62cGxtoDjgrUKHE0e9jAiCitnzkHlH37A3OmTsW3XFjRo2xZfFymNms07CogdQ2SQL/asXYaOrZujcNGiyJU3r/huLlEeVKnVCNMWrcUtqf1x/A7t5LED8KpeF91bd8PNC6fhe/0QRvZphrp1a6Lv6EkYPXMBvBo2RuHCBZFXfDd/ruyoVr0mpi9eh+tBbHuW4wu4haHtG6N2lcpYsmU3fGPicOXKFXRo0gjlixXGnNkzMXbiRFSpXlWOIzdy5cqDnLkLy347YNn6XfC3vUGAaZUQG4AbZw9i+vjRqFq1GnLlzqfuvZLFi6J/93aYOW4IWrVogqpNO2Daxj0gbiiwVtsb47np7DUs2A+bVi7F4J49pNCfAe+bdxFpA8fE2zxEdMQDbNuwGI3qVkZuuce+k3s1/5cF8Z+/f4ZGTborcPxldlW7M6agSevE4KiN60IQG3IVk0cMQtkyVbBo2WasXbcD9eo2RP5C36FV5644eemyFMAhWLFoCVo2aIQiBQshd548yJM3PwrmK4JGklctW7MVvnIPyOVDbGgUJg8agaKyfumqVSq3Onr+BDp0bI4mDWpg0tgRmDRhrBpgX7hgPuTM/i1y5i2Emg3bYfGG3fAP17579841tGzSBs1qN8cpqeiEPjiHuWO7oX7typLfDsP4eUvQtG0HfP99YeTN/S3y5vhGzqEsRk6ai9N3gpQv6DvpEWKlID9/dDfG/9gHlcuWQO4c2SWvzocyZUpjwMBBGCbQVq15e9Ru2w2b9h1SWznMpKWeXhLInjJqGH7s1xfbduxGYIRuhdG/ZYxxeeYRCHhwGVMnTUSdRh2wZf95tYbS63WPzs1bV9BfzokPySxfvUmF2c2xwS/IeMIpg2PIPR8MEh/1qlQBW7eswU/L5qNU9VrIXrQsuokP3rx9VfKNABzdtQ7duwoAFZNrnycv8kmZmyt3XpStWhfjZi/H5fv+SLCNtV4gFabKpatj+qhJCPW5ijN7l6JTs2po1KIFRsyYjwFjJqFs5UoomF/ugW8lH5J8k098r917En6Sv9LCArzlmEeifK26GDBnGe7FJEjlfTeqliyBJnVqYumyJegp/lNSmCFXrhzIkTMvCnxXGh17DMW+Exelgq/zQeagjxJCce/6WcycOgk1a9ZGfrn/8kjZ8f33BdGpdSPMmjIaXXv0xbdFamLMwu32CrvDmJbcm/bhO9cu4aepEzGoVw+sWrUOD4JCVT6t1zo7W4Lc9/MFUls0aIy9h0+ofTP5daWTvisUEXkVa5fMQcFStdFv+gYFl67UQssicAzCvcubMGVYO1SrKRlKlXqo2qQTuvT+EdNn/YQTp4XowwKxf/9u1KvlJZlHfSz8aQGOCLWfO3sau6Rm3KNjV1SsXAujZi7GNSmAeW57Vm1GiW9zYUDPTgiPD8aJM8dR/geh7Q++Qd0qDTF8yChs3rQF586dwpGDezBi5GgUKl4N9Vr1xv7jp+W4JEkfhWPY4KGo8EM1rJBjifS7hL1rJqBamQL4PG9hFK3dCkMmz8GeAwdwTva/b/s6DOzdBaXLV0PTLkNx7Np926VIgO+tCxg2oCfqyDkOHNAPWzZvxhk5t327d2D40EEoVqo03v8yD74pVQMTF65ULUTOxrYY8n48EuKipPDlGCBfSZtQRAmg8qK6bqFvwEDcvbgJowd2QK3WXTB9x2EFjixkHW4iJguP7vtgRMs2qFWmMnYcPKUcgfHcOcMTbzw5I7txgakksq43SmTO4Fjaqwn6LnQGR4SHY82MGSia41vUqlYJzdu3RV0p1IZOX4D1kqHcvH0P21YvRZ2KJdG6eWMsXbEcx04dx6nTx7Fu3Vo0btkJZWu1wMyla+EfwqHUwImj+1C9Qi10adoJN88eg//1PRja1UsyjZz4ulglNOnxIxatXi816eM4d+IgFs6aggb1GqBk1caYvlSPY4v3v42hLb1QvVwZ/LRpF+7HxuPy5ctoV78uPnz7HyhVujT6Dx+B9du2yLGcxKGDBzBtygwpUKuhfLX62H74tK1oA66dPYwBnVqiYe3qGDZiJHbs2S+/fVpq5xsxtHc7lCv4Ob7+7D8oVLkBJm0+CD6PyJRz9kf6L7MdvssuBhGhUqP380VwcDAiJS/QmZKLqXeoxkidJhghQbdx7eo5nD93DpcvXMLONbtQoWg1eNVrizN3AzwtjnajIzPldUq4B0cWF/6IC/ZW4PhN9u9Qo35HNG3VHW3Ed2fOmYU9hw7g+r07mDt/PsqXqYiunbph3doNOH3mLE6dPIlVS5aisVQya9VvgSVbDyAgOg4JkfGY2Hcovvs2BxaJn/OaHr14Gs2a10e+nF+ihFRY+vbtgw0b1+OsQNixI4cxceI0VKnRVMqFZli3TfvuLakYN2rQEo3En0/v2YnwBycwZ2R7FCmUE19IIVuzbS9MX7QCx04ck3z3KNYKNLSRwv2H8rUxYOJC3Jfj0BaD4we2okPLxmhcvw4mThiHg5JXnzp5HOvXrkSXTu3xbf5CeP/bgihZvw02Hjhm287V6Ifio1FhCJY8N9DPD+GRUYgVWmYqO2cdXGLZEYn4uFDV03X97gMERsaoVNcFL+d4dyXg0KG9qNO4JVp36Y9DJ85JmMUY1XnnvwDjCacMjuF37uLHju1R4Jsv0KxVY9Rv0wJNu/fGpMVrsf/EeUQKM+zbuARtGlRDy+ZNMX32Tzh64qRihvUbNqFLzyGo7NVKKg5T4BfCwUeQyvRclCtWBVOHjUfofW+c378QzWsWw5dSSc5XqT56jpyMzTt34ryU9cf2bcfYoQNRoXJN1GzWHduPeat9hPufwfzpg1C8ai30mLkMt2MfYsf2XShXqCA+eu8d1GnYEOOmz8DuA/tx9uxZbNu6HQP7/4hC35WSylo/XLgXqPIxpsPdKycxYVhfVBNY7dF7AHbs2id5teS729Zj7JBuqFOhCLJl+xJvf14Co5fuUU8zuM//6L8JajhaaJC/yndDwiIQHf9Qle3axWzOZiaSJwf5+ePe7bsIj4pW8fS+mbfwQoTD9+YJzJg8DvVa98TCncdsHp3YMgyOjq5qgiNvHlog/G5sw/jBbfFtvoLIXroBhkxbgdPeVxEqNVCC0t3bFzBqxGAULV4Kw8dPlbJa10y1xePA9lVo1qQBarfpgXUnLqiT3Ce15wr5CkntsJsCx+PnTqNCWS98/H4udGrbXzKPC+pFlsZu3byFnr2GSE2gJsZOmoIYPuklDjxixBhUL1sHa+YtRJT/JRzcOAUViufDR7mLof3IBTh5/bZtD7QYXDl3AK1btUXuItWxbP1hlQRRwbexcekMVKhYCW16DsSZK1ds8WkJ8L54CD0FON/Plh2fFqyAaUs3WsBRX1Y95fE6LrXVuEaF8p99NW/AIFw7tQoDujZCnfbdMG//SQc4WnfDJgNxqEnt2qFWqQpYu/0QHlgGzz475pRAzpZoFc8+BXCMCMHG2ZNR4IuPkTN3HnQbPhpbjp3AveAw8SHg4qVL6Nu9M8oW/x6LFixQT1QaY3f4cqn5Va/XAq269MQZ71Mq/MTxg6hTrSF6te6B2+ePIfDGXgzv0QDZvvoahWq2xYIdJxAQYbBOrnLoHSydPwf5vquA5u1GIDQwBvF+tzG2Q0PUrVoZC7fuVeB49eo1AUfZz7/+JcDaBlsPH0OM5R4IDXqA4b26onDBglIJm48bcp/5hIRizrQpqFKqhFS2fsSt21Z/f4gLh7agb5OK+OLf/4d8ZWpIxeSYAkd6ntWDdY3W5AeJ0999KEOY0spbGWC3gKv30ahSPXh5NcfZO/5Pd4sjTy3xyafTuCOTzsmDY3zIJUwaNRT//iQvchX1wpBx83BCKgShYWGIfxgpfrgPLVq2RCmpCK/butvp4cCEaH8smDEW1WrVRrsfJ+KMbyDi4h5h6sDRKJGvAJauXqWu3InLF9GieRN8ne0TNGjQALsOHkJUnIMAgh74YfqYySicpyAGDhmI8IQoXPO5h+YtO6OFVMzP7N2JCJ8T+GlsZ+TM8ZVUrOtg/PI9uBXgeOr1UXwAdm5Zg1Lif+VrdsS5K34MRMCds1K490aJchUxduYC3PNxvGIlPi4Ee3asVWPu/+/Db1Hcqy22JfnqK553Ys8yKZ3YGJfn6LwNlzRqMv1jEHj/KkYMG4z8JSpi1KwV8JHCPNPc4Kk1poADHBcKOOa0gWOw3W0eIureDYzo3ErysndRsnIVjJy3AEcuXkJAVBzEDRHq54PBXdrie6lsz503HwGhzCEcdvTASTSo3QzVqtbA6UtsKALmLViMKsIIs0ZNksqKN7wPS+WoRnH875t8qNVtDHZduKyunDY+a3AWA/sNQPb8FTB++lrxqXhECDgumTMU5bwaoM/cVbgtZejuHXtR/rvv8FW2z9B/5Ficvu78poyb54+jcc0qKF2+KpbtOoIANgTFxmHR9EmoUroE+shvHDt/yRabFovr3vvl/Ovjw/ffx/tflMCEVQcUOJoqk7O591SVS8gqrjVSZp9xmBlIZCw88B7WLF2AwYOHYuH63bgSpMdLJr5LMgkceaO6gqP/zR0Y3rc1/vd1ftTvOQneAY7ClYl09/oxzJ89CaMmT8eJ63rMmNXCfE9i5I+9ULpuK0yX2i/dbs/6XU7gePjMaZQpVx/FizXA+nUH9YbKdGI8jI/Djk07ULVCdbRr3wZBMX5y5HEYNmocqipwXCDg6I196yehcrmi+MGrNTacf2C5UPzVEDldH8ycPBl58lfGtGnrkRATj1tndqFfh8aoUrcJFuw8qrIU/avcmo3AoZJJ70GRUpXwWf7ymL54A6ISgSONYeYSc94s28wE24M0OF4+vhy92nvBq20X/HTglAJHHoMzOMqGcrNNbtcGNYqXxfJNe3E3JuHpLYzTY0wPa5qos08BHCMDsW7GaOT9/EOUr14HG095q62MXbh4DlMmTcLM6dPh4ysFmotdv3kDnXv0Ra0GDbH78A4Vdvz4YdSp7gBH1eLYoxHyFCmOLhOX4L4coz5M+g8rUcG46X0CVSs3RK2a3XHL2x8x929iXMcmzuB45Tpa1amPwnmlYF+/DUFyyXlt9fXlGYVh36qpaFi9NDoOHIyj932w+8wFNG3eEU0atsDRIydUTKckehSC46unomTuj1GgVGVM334kUYsj45t5vWTkmLg3WzzV8sg92PYiud3tE+fQsExV1KvTFOfu+HrA0W7cEdNJp0TS4OiHuNDLGD18MD74rBCqtxiCY1f0uDBt4ThzZAvGjx2NGYtWwUcKZGeTCu/x9WjZpjmqtO+LXTfuIlp+csqgMU7gePSiN1q0aI1ihYtizvxF9mqv/XRl5tKunahZ+Dt0aNsCt8P84e3ji+atu6N57ZY4LeAY/uA45o7tgkKFC6N+73HwlhJSewL/swIVjDD/a2jTohOKl2iCA3u9xRnCcXDDXDSpUw0NO/bF4Zv63tPb8Vwk300Ixrx5s/Fx9sIoUas1th8+o9a6N8tRy8Qs2UJcjKH8Jb1Wx7PGfgT/e5cwdUR/lC9bFk069ceeC7ct5cIv2ZhGzuCYIxE48j21VzGkbUN8+dF/0a7vjzjtxz4HhwXdu4eZ4rtD+g/AXV/dk+Nk4bEY2L47Shb5HnuO7FXpPnvxclSygOOFg4vRpHZZ5C9XGzN3nlEltb4+PBD+XiA2rV6JAgWrol//WQgLDhdwPIulc4c5gePObXtRtmARVK9aC0e8b9j3w5fpqTw86iZmj+iC6tWqYPi8ZbgWHoWb93zQuVU7lC9RBvuOnFJ3M+8d/fv03xCc2sohUkXEf0tj7DLd4sg4SZvVB21L8s+E2tckWuCvPoT/g+vYumExZowbjG5y31cqWwEt23XD8Sv3Vd7LVHGX/2YyOJpTDIDv9W0YNbADcpeohiELtyiw0Wv5PwxxkbcR6HMVtyRDuRUchrv+Abh9567qurpwdg/WLxmFxg2qo1C1JlJwHVZZyR6h4Ar5v8OPfTU4HiI4VmiMJo0H4exZ69c49KV4GB+PE/uOoLaAY5MmDeAbeV8uTzyGjh4v4OiFNXMJjhexZ8141PeqgiZ9RmHfXT+VWI4Bo3RQPyyZNw9Fi9TGlAkrJW+KwLENi9CgYgl07jsce6/plxVzO/0GKhZ5Ubh32xuNWrZFwdI1MX3BGsmEE18CtlBp2HNcTMsVlkWZp+xBGhyvnVyJflI7qdO+q73FUf2+ZVO14OeLiW3bomaJcli1dT/uxckNKquSd8ZnyJge1jSxgWOwDRxL1W6MPrYxjnY4jAzCmmlj8H3Or9F32DhcColWV1QXswmIjAiG773b8L1/F0FBAfDz88Pt27dw5col8cMzmC2+UqlmPVSqXVfAcafa6vgJCzieOwbfa7swvFcTVKrTGGPX7OSwZLV/ftrTZGC+NwWkpOJUt0ZXXDl5G1F3r2NcJws4SgXmyuUbaFOvKSqWqoADpy+pDIxeax3wfGLbTHRuXgWte/fA7hu3MWvdTpSp2AQjh8/AXQE0msPreBThuHl0FZpVK4qSVb0wZcuBJMBRF50ZMfse4h/izvEzaFS6styLTRQ4MhXoq+4yrifeeFoZTRy76dQ2KeEeHHn3+ypwHDl0MD7PVxHDZ+3AAzqEMrmuj4IQFXwdPndv4KZvCO4w3/WV/PfWDVy5dArnTm7CrPHdUbZSeZRr0wc7b95Xg/unDB5nA8eVygcOnb+A1u07o379Jtiyc4/aO4+MnqtP+REeHNyH5qV+QMdWTXHZ7z4uPPAXcOyB5l5scdyFsPvHMGdsZ1SuUQt9Zi7HDak40PP0IwmsOAUiNvQWenGMeKlm2LvlNB4FBmDh6D6oUb4MRs5ZDu+QSFteTeOcrmrs3LUFxSvWQqUG7bH1gK4YuZrr5VEPztmmZt5qKtw2r81xPR7Fx+H2lQuYPHoYyv5QDI2atMKeE94IkSg8NnPP/HKNKeceHIPsma6US/euYXDrRiiaPz8WrNuBu3GPVA6mUlkqmQmR4Qi+ews+t24iIDgU94QZbty9iytXr+LsmbPYuWoTGparIeBYFLsEHOlPs5asFBiqI+A4GeH3vXF23wK0aVIdNdr2xJqzV9T+GU/7D0vRIOzduhklitdB317TEOATgMiAcxZwXIlb7Kreth8VipZGm9adcDs0Rnmszqt4tJF4FHkZK2f0Qf161dFn2lyckePdeug4GjVsiTat2uPKbZY4+lf1w4PcOgD3LmxFv06t8U2BShi5cEcqwNG9cY9GzsYQeiT1CJelLBrQow1KF86BPF98iFxffYHKVWtjxuL1uB4YqdJGe7mzZRk4Pri6BWOHdEHJWs0xcfN+S8ErcR5xKRAJcXLhb13H2i3bMXbSNPTp3QctG9cV4s6JvJ//Ex9/8h/kLF8Pc/aeVBd4zzoBR7Y49u1qB8dylZqhXZvRuHYl2JJKeuZhbAJO7TmKOuJMTRs3gm/EA7lQBMdxqGa6qv0uYPeqsWjcsAbaDZuMQ+IovIT6TXuc42MB/lg6by6KF6klZL4Sjx6EYs+caahWpBBGTZqDi8FR6vzoBLrbgrl1PAKD7mHQ8BGoLHAw46eliE70cEzSxl+3nw6NCwog9THdPr8BI/q1hle7Lpi1+6hyed6DibYRMB/Tuh1qlamETfsEWOTwuIf0OOOzYUyllMY4hmH1lMkonjsvxk//CT6SZo7rSy+OQXxkIG56n8H6NSswduxYdO/ZHfUb1EHRYlJb/OIbfJAtB8rUqIt9Jw9wj4nA0efqTozo0xS1mrcWMNuvwFGDGa8Mfy1IwPE8Ggs41hdwvHriJqIJjp2dwfHSldto06A1qlWogZOXb6p96MyWF59zvjixfQa6tqwk4NgVWy5dx9CZa/D9D42waP52hIXos2Zs7TtcDoPP5e0Y2q0RajRugYkb99jB2hSCjvgOS7TsWgCbjVwj0lzA8bynxdFi3JEj33UGx/UqTF83AceQSxg5ZAiyF6qJ2avPItx+DJKSj5hHBiIqwh9nznlj0fI1GD5KfLdrZzSqXRFlCmbDN5/8H/79+Zco17Y/9t3xQ4z8pCs47j9/Hi07d0XT1u2x+4B++MQcobYE+Bzai5ali6FT66a45Hsf53380cwFHGeP6YyaDRtgyKJ1uCmVauZLuuBlMRwk4Hgbvbr0QYXSzXBg02lACtvJncXXS5fG0q0HcFvyd3q4riTxvuR2kuefPYbmHbqgXsvO2LLX9eGYjJo5U50PID4M5w7tEcDtgKI/lEarzn3VAxER4s8mproNnCr/DLMsPPPGc+XVTWaMo6RH1J3bGNSyJcoWLY4tB0+qkleXpEw7yRf5zehoqbRf98b6deswZuIU9O4/AI0aN8YPhYuhwJd58NH//QelBOj2nDys7ojZS1agctm6dnA8vWc+2jeviUY9BmGj93W1f30I/M+hEsHYt3UTShevjf49JyPwgR8iBByXzBFwrK3B8WbsI2zffgSVi1dG50694BvzUPmhzh+1/z6M9MbKmQKODaqi98w5OBYYjOmrN6Bmg+YYOnwMfIL0sAzm9vxuN1/2z/RhS/z0scOQ+/saGP7TVgWOjvyP6UiPctxp7sy18sM5x5Ixva/oKAHwO9dx6fwxHN2xGtNGSMWsSkUULVsbs9hVLtH0tsqT1Rwty8DxPsFxaBeUqd8ak7YdUK0HdnAUJwoLvI7Nq+ejdcumqNeoKXr1G4xRI0dgktTa5k/5UaCzE2rVqYmCNVtg+s4jGhzdtDgSHNu3HYPrbsAxQTKWkwJVdQUcm4tz+Ub4iHskAY6NBBxHTMGhB/ppZn2sxpkCsGTuHJQoUhOzBBxxNwQ7p05GlUIFMWnGQlyPiHMBR50FhoT6YMykiaglhe+MnxYlAY48VscFMWZS2WmNunZ0z0D4XN+FSSN7oFLDVhgntTPT4uhkUkuLvHkLvRs2RbUyVbD3xAV1NvrofqnG9HOAo3mqmi1q9vQLi8SqyTMEHOX6zpwPf0l3Fkm6KIhDwIMbWP7TTLQSUGzRpBH6DxyAkaOGY9y4kZg6bTJ6DRyG0tUbo0LdJth5fJ/a5THJyFzBcbiAY+0WAo5b91vGENJHNDj63DiPRnVaooGA4/UTtxAtN/hYOzjuwT0BR+8rd9G6YTtUrVhTwPGGOgd9fXms9GRfHNs2DZ1alEfrvl2w8eINDJi8EoWLNsbKZQcEIuhUFi98RM8Pg9/13Rg/sA3qtGiLCRt228ExQWVyuvVFxVfmvGRMuaue1aZaz2WaOKpkCx5wTNq4IyacTolku6pDLgs4/oichbwwb+0FRNiPQV/X+zdOYdbk0eqb9s1bd8DAwUMxdtQITB/3I+ZNGogBPZqjeKXqKN92EPbc9EkEjvStvecvoHnnbmjSpj322MDRyaSQf3BgN1qU+l6BI1scz0u+2qx1z0TgWKtRfQxZsg7X4xODY0yIgGPn3qgo4HiI4Hj9Psa3bYEapctg/Z7juC+3Cj3cAY5ceohzl86gU58+aNymC7bs1hW3xCbbqKESic19qDGupeIRE+annkBtWqsqqleuir7DJ+LAhWsKRuzG+8X4/S/WeH14dZMBR7Go2/cwsHlblBPw23H4NAeJqSvKrVV6S3m6YfEstG3kheaS7/bq0x8jRo3Rr+MZPwmTh01ElaJVULJYWew8dlDlhbNViyPBcYoDHFvUQuNeg7Hh4nXlafoQ+F+D494tG1Hmh5oY2HMigh/4IDLgLJYKOJb1aoDe81YIOALbtp0QcKyOLuKffgKOPDvuwQqOK2b0Qr0GVdBn9lwFjuMWr0TVes0EeKciIIRnp91C5aY2cIz2P4OfpoxF3mK1MHx+cuDIeZ0yrqZicJd6MYlYjOe6JkJA+Szmyu/nyCuVoB5Tcfl+mNqf6+9lKTiOEXAsVbclJmzZr5xAw5hsGx+NI5tXommNyihTrhz6Dh2BHXv24fKVKwjx53jHKEQFeWPKxNEo2aADJsn2TNakwFG1OF4WdLKfl54hOJ4QcGSLY7LguHqcanFsM3wyDjqBI4stOlOggOM8GziukLI4DHt/moFqhQtgyOipOOMXZgFHpoHuuA4IuI0e/QeijADDjPnLkwBHpqUoIU6YMAoJoliJFy2nkKjQVNdOg094wEksnDUa35eriX7TVqqjdOydW0nkh3G4eeYsWtaqj9rV6uHstbtqn9rBf6mm0y95cIzCyskzBRwLYeL0n+AnycmMgTEexoZg3bJFqoWvasXaAouTcJBPq16/jNAQPebq9n1/9BkyAdUatMD2Q7tU2NGThwQcGwg4dncCx1rNW2Hyln3JgmNDAccbbsDxLt+xd+UeWgk4VhFwPHHpuvJbXQDTWejJvji6bSo6CDi27NcNW67dxvB561C4WH3MnrEWQUG6mFOupWa4hwjcv7AVfdrUQuV6TTBp075kwFFlU8rXHsVEi//yydM4xEoQ9+TkZ2pbTvWik3nAMRnjjpiSOiWSezgmLuSKgONQ5BBwnLP6PMLtF0CQLNwXS6eMRuWSP6CaVz1MnDUPh48dV13VMRH03TDcvLgHnbr3RMW2A7GD+YX8pAHHZTZw3CPg2FTAsVHrdti93zq23GYKHHelChxrNqyHwYvXpgCOTXBo8yngng+mdG+LqiVKYP7anbgZFae20eDIu1d37B07cRB1mrZCraYdsWXvYQlzNVtashUrLgaPoiPFb6MRx+5y2VUiv1XG3+CxUQ8R4nsXC6dPQs0KZVGrRk3MXbAYt/1C1FrewfbtbfdL5vnC02g8eV4pguN1AcfpSYDjfQHHdij7fWlsO3hSMQPvf27/MD4ch3ZsQovaNVGmaFGMGT0Gu3bvUa8jCwlhs4mY/MTI7kNQ8vsSku/uUR7BFsfE4FgbjXoNSRkcexlwPCfgOBxl62hwvCFRt207iUoCjp079YZvtPZd7sEtOM6chxNBIZi3fitq1m2Kvv2H4F6APmb6mhUcg28fwsSh/ZGrSHWMWLg9GXC0+WJCrOaG2CjE8QEcicJ9mgdkaGYaFhiIw7v3Ytumrerd2tyDw9eZ0kzxaFw/dxxVqzRF7YYDsP/odfv2jj09ZnDUa+XHQ4Mwd1B/KZhzY8rs+bgXqb+jrA+LpxKJexe3oV/3NvihVgtM33YoSXAsW6kp2rYe5R4c4xJwfM9ReJWvgWZNGsMnUmrQ8kuJWxxt4DhMIOCBvw0cuQ+6Ay+wAccamDl+GR4GR+D0tuVoUrkkmrbvgS3nrqtt9Dnw+Hm5o3Dj6mlU9WqIHFILmr5ondsxjjotExAR5KsGjW9YtgQHDh2Fj8CLbqa3nJYy7eAPY29h95YV+L5EZbTuNRn3w6z75jHw/KOwae161KlRH916DMC9ID5VbnWWX6K5B0enrmoncJwPf0lavS4MUQHXpTDrhoKFqkhBeggR9o2Y/jpVjx8/hRatu6BaHT4cs1uFaXCsL+DYVcBRrq8FHKcIOHKkIY8sSXA8eVt1VScFjqrFUcCRW2vY4pWmV/rh6PZpkllWRPN+vbDjzl3M27YXZSo2Qu+ew3BNQJLG2NrPeB6RuLx3KWqVzIPv5d6ZuvWQSh/eDVa/0d0h+rxjw4PhfeQgNi9djD07d+NOQKj65KA9vt55ItMIKuZmjKOpjKl9JLH9L8N48kwFfY/fuCXgOHy4gKP+cow2XnkHOGa3gaOjxTEBYde90bVOTVQqUQpb9h1F0EPzfjkacwU/HNk6Dw0b1keltv2w68Z9CzgWxNI1q5QPGHBs3IZd1WkBx14Cjq3dguONpMBRCuaKpRrj0JYTUq75Y8WkQahepgT6jJ6B8wHhllRx5LsbNqxCnu/LoYxXG2wVAHE2Jgi3oOLhL2l5YMNabFq5EmcvXEFwrH4Nmt6n1fhL+s6KCvHF2gXzUbl4SdT1qo9tew4ggiW1Wuvi8/b0T2yuXYrPrvEceXWlchJ1TcBxmntwvHMfg1o4g6Ne/RDRYT4YMbC/lNtVMWvqHESEcX/OFnLrLno1bo1Shb/HrsN71NWa5QqOuxegfXMvNOr5o+p9oacxnv4llvVBLuDoK+B4XsBxhIBjQ/QScLwurrZte2rAsTfq1a+O3tN/wumQcOw9dR6N6zeX/K0Bzl3V+a4ui5k+3DoY14+vQbsGtfFlnvIYvXiXrSrEFDR+wqnx+gRVgTm2Yws2LF+KoyfOICAyzualiV3vgUB2z2YtUOq7Yth96ISKw9/n1HH/xEvl8TS8arRA4yb9ceToNbXW1bIOHK9pcCxZpwUmCjiyq1qvldMJ8MW0nl1RLEd2LFi2Rq1zmCTjI38cXDdVnOR7FCxfF/N2HlOJocCxQGH9VHWcAxzbtBmFq1fcg+OJvUdRp3xNN+DoZQNHbwHH8Qoc2zq1OHIfdAfuNwBL5nCMYw1MF3CMCeYYsCMY2ac9ylaugYlLN6pzcFyoWMTF+mLTxuXI+V1xfJq/LKYvWW95qtpqOi1vXT6HAR3boHD2b9ClW0+cu3FPgSO3cOyXxlRkkRoq25xC40Yt4VW/E3btO4UEtk8r09MH9++gR8/+qOHVHItWbkSY7fok3ucvyehJKYPjqkkzUSKXgOM0Z3AM9fGWwrANChSqjM07ziVKR36/feH8BShatBQqV6+J/cf3q/DDp6QCU1MynjbdEoFjSi2OSXVVu4LjqUs3lDfpjINHRk9mi+M0tGvOh7/6YtvN2zh05Qbad+iFWlVrY/PGxN86fhhyB5tmDkGhr/6N/CX5VLUcr4Rzv84ezCXtU4H3b2HS4H74Qe7pJg2b4OBpb/XJQR6FSqOUHM4Cjg3Y4njXzwOOduPJMxV0XpEucHwUh0ApENpULosqpcrg8Nkryt8cFouHoVfw05guUikqgEp89+1tX9VybFocF69ZqTyK4NisS/dMA8chi5JpcZSCuULJxti3+TgeRoTItivRppEXqjVoha0nL9lSxBjfaXcTI0ePwL++yIfiNVu5eaqaCcKtOI3Hoe0b0bhSORTPnx+TZ8zD3ZAIlZLOfs64LFh5XOE4umsTmtb0QqtGrbBt5z7E2PPdxMY1Rr9c49nz6iYDjgLQ7KpODI7cNgERIffQu3MnVCldCSsWr8TDeOcUfRQbg0MbNqFW0R8EHL/DnmMHVX41c/FqBY6zR08VcLzkBI4bbOCoD4GxnVscB/ScKOUEWxzTC459UK9BTfScOh/nwyJxLzAUvTt1RUkB21Xrtwov6WewtcXjUYIPdiwcjSI5s+N/X5XE+OX77ODoMJ63Iy+4ePwQujRpgMKS7w4cPBxX5T7jmTCWSwohxs8Po7t1xXff5sSseUvgGxFj+X3GlrN4FIpd2zajdKla6C7gfOcuc+HElk5w1KdCcFy0ZFESLY6bNTi666qODsaaycNRJv+36NylG45duq7W0IKD/LF59Vz0alUdxYrkR74ydbFwp34X3p4Ne1Au/3cYYnsdT9LgqI0Px5zcc0R1VTdrKuAY8UCSJg4/jrK2OBIcdYsjwfGAO3CU81lqA8ep45cjLFAylyj9MtKypUugcs062LBlG6KitQvGxkZi85ZVqNuwLv79VW5kL1Ed05euc/MCcP6GdoAbl86hT/tWKPTN1+jcuQfOXbujjoNbuDqAPq44RIf7Yfn8eahZsSratmyDM2cdmaTvg3uYMXMWCkvB3673GFy+H2hL/1+GMZWc080YbyuC434bODZGXwFHPpNv8jB34Mit+D9WKh/jfhyIwvmKYOigUbh9645aQ7t7zweLFy1Gk0ZNUbBAQVSqVhkHzhxV6w6cPo1aNZugZ+tuuKPAcYeAY2PUatESkwQcHS16vIcc4NjYqyUaVrd2VTdOsqv6pLe7FkcfGzhWQ+PeA7Dlyi0ER8dg6YL5KF04P1o0aoR9+w/aM6fwsGBsXDwdTSsUQI5PP0CRKvUx1fI6Hu2txhx5QYCA47hBfVEk+7doVF/A8dQF9cnBpK+Diz1rXdWZbo60Vl3VBMfadbB0/UYVpte5gqN1jGM8Ynyu4Md2DVCiQB6MmzobtwJZLGm7cfU8Fk0biua1SyFXvoKo2LwXjt4JVr86ZdB4FJcwd+C4yy04xuHBwR0CjoUFHJs4dVW3EHA8u4/geFTAsZMdHK8lA47lSzbBzk0nJc+NQmTILcwYMxjfFfwOHbr2wYmT+n19ND+/O5g1axK+54cXvsqPcg3aY9vhpFoc9XT/to2oX7EsiuXPh8nTZuNecLhaa82pdbssjy4Qob5nMX1kP5SSiuGSJS5fhUnCuD/zi4mNoVbR3IU9zcZzYPoRHK1d1bsSjXF0BUduxe35taD5U8ejaoli6NK6NS57O96B6Ofrj21SgRrYoSMKfvopyv7wA/adPKnKu1lL1qFSmfqYNYrgyBZHPcaRXdXrbV3VulxkTpMYHIMVONrGONZpoMAxdV3VF1WLY936tdBt8nxcFHDkF/DWLf5J4Lco6tath5UbtqgXdtNiokKxY+MCdGxQHp99/An+83UZTFh5QB0f9+gwtlI7PPS8AHIH4YxCOb7FwEHDcO2+vzoO5TlmiIRyIYkfH40DG5ajSY3KUhbVxtylKxBkeX82P/O4edNqtGrVDhWqN8HCtbsQE+do67RahsAxNCwQc+bNQaly5dBz0CCE2N/jGIQ7lzdjcN82KFjRC2PW7VSFgF7LbSNw86QUnD1aoVL5MqjbrBUGjRyHEaPHol+fnujRvimG9uuIrkLHnxeoiOotB2LPoTPYuHQjinyTHb26tkVYXDD2nTiO74pWR6OG/cWR/G0J5DCOcTyy/QDKFy6N2rVq4EH4PXGPePSVBC7xXXksnT4Hkb6XsHXZaNSoWgZN+43EgXt+yoUc4EhnCsJP06YhT/aSGD38JwT66cQO9r2K6eOHo36NqmhYpy769O6LUaPHYPCQQejcrRMatmyF4jXqo0Sd5pi8cIWAo043h5m0fIiQQF8c3LlNQHA+9uzZDx++bNoWI/GFY6joUQz878kxjBqEulXKo22blhgy7EeMHDEM3Tq1R516jdG0Y3+s3XfGjQM+28Y0c+fw+vYOQeDdA5gypicKlauKHrOk9iWhdrAWcFw0eiLyfPI1Ro2bAX+5RDoDY7rH4JQUij3bNEWNMsXRtlVzDB89CkNHjpYaWn+0b98Ngwf+iLatW0kBnBNtenXFuStXsFOgqFw5L7Rr2AY3zxzG/cs70K+zF8qJ34xbt51Zqi3joT+wQA/GvatnUbNCHVQv3RxXj15D1J1rGNLSCxVLFMfc9dtwLzoO571vo161RihetIx6oSyvMfejwZFH7Y8DG6egkVdZ1JRj23j+qoQBdwRKxw/qijrVKqJ+oyboM2AIRo4ZjcED+qJfh6bo1KAialYqhfKN22PiZsfreBw+xP07/DcqIhgnD+3DioUL1JcT7vgFIkoyLsZ3fx1cLP4Rbhw5gWqFfkCVCjVx9uYDlQr6XDzmSGvg6vXL6Nu/H0qWq4D5K1apML0uALHBVzCwdx98+FUZqawet4CjeHecHw5t+gntGtdE+UpV0KpTLwwbMxbDBEJ7de+IHh2aCXT2Qd3GrfBpwaroNmIeTp++gbF9RiLP519j3tIlygd2njmDOlJRrdmgCbbt3qt372TxuLt3G2oXzIFmDWrB+8FdnJN81atBW3hVqIcTu7Yj9N5xTPqxDcpKJajfnKWqq1pfa15t9rUEIzr4thTyHVA4fzVsXHsEseq9kwm4dHo/BnXvhDpVq6J502YYPHiw5Lsj0L9/b3To3AE1pOJWpGpdVG/VFZv2H5FtrMYEMb6bgHs3rmKLAPGqJYtx+ux5hErln0fAtcY0OBKZfXHx0Aq0qFUO//nvp6jfvDsmTJmOseMnYNz4cer78JwfOW4Chk+YiukLluL05au2OySp+8AcizWGu7Cn2XgOzIsC8SjyJmZPnoiPPy+OfqM2WN7jKFQg4NhNyqyCOfJj057DqheP/satHz2Kxo2LxzCyZztULFYQzZo2wY8jRmHYyDHo1aMP+nTtgck/DkXbOl4omCs3WkjFZt/Zixg3YymKfVcFEwePEZ+7iGM75qJx3fKo1b4H1p+9rI5K31X0LaKqANz6NSiYuzS6dxyOoAc+iPA/h3lTB6JwhSroOm0hbspBbdx4CEXzlECL5h3gGyWVMtlS59/afx9GXsKCid1QScrl9iOn4WKIrqT53b2MBdNGobYwQ02v+ujTfwhGjxor+W4f9GrXED3a1keNWnXxaYEaGL1kdxLg6PCNALm39mzZgOWS7x4+fExAMEqdiVrrBI48y2iEBlzHxuVz0LxxA3jVFRDu21/unVEYOXIEevfuiYYNGqJR87aYunA1rvgGJLoXjGWoqzoyMhQbNm1Ep65dMW3OHETEm6I3HL53jmHuzLFo1a0vlu0/prICfYH4X5bUt3IPY+jg/ihRuixy5imA/GylqVgO0yaPwc1rF3DoyBF4Ne+C7ys0wvRZK7Fn8x7J9Jpg2pSxiIwPx5lL3mjdtheGDpmOO7fYMuhsD+MeCpGfRdc2ndG/X18ERgZIoiZg1tz56CCZyva1GyVzuoPDu5aiT68uGD5zPs77BakjdH7FQzg2rVmDpg07YMnCjQgNohMwDeIQFxmEHZs2KFAoXLiI+u5k6bIlMHrsKIHdg+g7ciKqNGkvF2IFohI9HMO01L+m9+e4RAwxDpDI9J0k/7g2BkF3r2DZTzNQv24tFCxcCLlz50TZMqUxaMhwHDl3Xb1PjDeIswM+22a/XxKZvqahfueksJiOVl17YpqAG7MMkz6PImOwZelKNKlVH4uXrUWIrGCmoOtecmXiQnH24E7069oGJX74Drny5Ea+gt+hWs06mDd/Ce7euYft2zZLxlAd5apXweqdO3Di4lV07z4QY34cg/vXL8D/zknMnDgIXQcMxPL9R9Xv85o7nsqPgO/da+jbvT96dx6KO953EON7D3NGDkS3jh2w6cBRBMbG48YtHwzq8yPat+uMizduKY/QfsNj5VGH4MyhNZIxdUXfcZNwyP5VpIeIDrqNNSsWoYHcU3kLFkbeAvlRuVI5LJw+Dqd2rMDgXh1Rs2VnTNqkn/p2gKPxPYohVv/VqW78V8dPhUnEexcvo1erDgIxfXH9gX4tFvfDvf6yzaS3Ts279+9g5uxZ6Cj57pZd+j2Kel0oYsPuYfb0GahZrwPW7TivHrLT24svPAqTAu0uDuxYhzZt2qDQ98Ul382PgoUKoVGjuli3ehl8ZN9LVq3HD5Ubo1qDrti44QCWzV6CplLIbN6xXV3Tk1evYqBUlPoNGYpjlhY/hz2E7+nj6NuyMYYP7ofb/r64IfnqQCm8+8s94C0V/nD/K1gxfyy69OqBWRu3wydBV5keqvOkp0UgJswH40aOQ+vmPXFo31nERdMjeC7xamjEgrkz4VWrFvJJnluwUH7Uql0VS5Ytwfodu9Csa1/Ua9cLm90+HEOT3+HDMZT6Tb1npiKlks021fc9jykQ549sQN/OLfHd9z/g2wLFkbdwcRQo9B0KFSyAQoUKynFIflCgMHJ9VxJV6zbHuu17bHt37NPZGMoYlPVXXcOeZuM50HPE/6J9sX7lctSo0wZzFu9BBINtFimgMnHQULRo1AyHT51TzODIQ3itInD19AEM79cdJUsUQ668+ZE7D5mhKmZOngrfGzdwbM8eNBH4KVGhMhas2YSFKzajfeueWPHTEvG5W7h4YjN+HNgN/cdOxqFrt533r8r6SBw7sBctm3bE1AnzERYYhKiQm1L+z0Wbbj0xZc0WPIh9hIOHzqBN03YYMWIsgmPi1X4oXcmIwcOYO9i0ciq69+qKCYtW4ZalZe9RVAA2bVyLFq3byj34A/LlK4CypX/ApJF9cGLPakycNAk5SzbAsEQPx1hNfoctj5bWR6Yyl5RHy4Ldc9QM048pKmAZ4YeDe3eiT+/eKFW6DPLnz69UvHgJdOnSDVt27oVfZJwqPTQMJ7Z0gCONRyK3+MN4hIeHw8fXF0EhIfqJS1vC8fNPwcF+uOPrh4CoaHUAOgF4wjqZHyXEINDfH9euXcfFixfh7e0t81fUdryhY+PicOeBLy5dvwVf/yBEhkVKxnZPrX8o66NiY/DAR/bvH4y4WDfJKz8VIxDge98X/n5+iH9IbHwo24fAR/YbERYmxxCFqEh/+Prdg4+Ehyfw2zImsfifGW6sxA3Bg3s+CA0Ox8P4KNkuVNiNg7MfIiwmGrcfPID35ctyHudw9eo5BAX5SbrcRa+Bw6VmLsC5ehtibM3SzsYwyn6Z7eYaO9FAarVM54mTtAnC7Vs34H3pEi5cvCDpeA1+AQHq26vcj3EmjzG95MaOD0VYqL96AbKv3NQGinSSPkJESBju372PkLBw9aSaw7s4J/XKuEj4+9zB1SveKr0viu9ev3FTfdqNFhMThbt3b+PqjesIkLDImFjVpRLoH6i+L5rA+yPoPu5LoRoQFeX4feUHvFqxiBc/85f7x08gKi46VtwwGiF+D+DrI8cl28TKwcYKPPr7BSh/jpL7hftw2s8j2bdUmPz97+FBYKDqFYhTNVb+RhwiIiNw6949nKffeF/E9etXEC7pcu/8PvRt3wQNWnXGgr3H4S+xeQ/r/VLauKw9zBFmLJH/WpTIJDBeztFPavi+kk7R8QnqCO1x3W70SzOmqACWVNCDQ4JVvhseGWlLGl71GJWfBQcF4vZ9H4RI3sdQbfQFelks4mIicP/+fVy6ckV8V+e7t2/fQGSE9l1+s/na7bu4evOu5JXhCAsOlbzvPsIi9Pi/iNhY+IovMX+JVjBnNTmah3LtxK/8BEIDxL9jE+LVg4F+4vv+cm1joyLl/otAWMgDPBB/9pP7L4rXX23Ns+Gc+HtCtNwv4tv3/BAVES3LEaIQuUejVVkTGB4mx3lb+a2391ncvHlR/DkMR44fQ6OWXdGq0yAcOJrUJwdprh6q3Uynp9VsxyT3UjTLige31b1+4fIVnPe+pO59b3UMnHrj/EVvnPO+jMvXbyIoVD+QmHifvzSTtKb/PYyW/CVY8kYfBIZKPigJo9JG/j2MS0CQ5GX37z1ARLT5DrhJO16rBMGCKPEJH1yTygt994Kk9fXr1xEsgMfXK8WLb94TX70sYf5SngdL/u3zwE/5MMvtmCjxQVteGBoreaHT/rkUK9c4HA+EGYIDQmSbOHHnSISHSZ7oK3lTmPbVSLm3fOQeCwgIlPxUV/e1N3Fvsp+H4bIN/fs+fMUHoh9KVV7ui0cJkosKh0RK+UBmOC/McF7O4+rV83IOV+F34xAmjhmGQpWbYOzaPZaeWjemCqvE5j7UnB/vLWGcuGgpj3zld68q9roo6cgn1B/4+CBayiruQ6e4+/2lExxp7g9Ph+sktBpDuEbDj9HjN50xJW/mWLW5O9Y4+N49j5VL52L81Ok4deWWLdzZbly7iFp1mqJW/U7Ye/gC4t1daIYZqUU5QnfxkrJUxGUM53P6JZtJDWdjaHLp41iXNano/PvOS2kx63V2dGk4Gytn83+ai1mzZuCOVMTc2cV9G1CnXHG07NgDu71vqQEbOpN1d6T6T80l479mS/drE5uKl9aNnmlLLiGY7omvtcMyJyFTtXVa8i+bOR+ZzLndRzi8z+zDrBmTMWvhMvg4XmngZOvXrcEPpWugZ/+JAhBsK0/KnH8j+byX4cmlr8dSNmvulLIxpomtr0vqt02tOa6o2b/rbyT+TXdH4RzGvSb2lTA/HyyeNRPDBw+Wyrr1S3cOu3piEzq1bYoKDTtg0YFT9lbXjJs5N3dH796Si5kBcEyfub0xkzufROHJRU7eks4U0mJk8Dj43zuPiSMHoED+/OjWqz/u3XUugB/cu4apUyYjf5Hy6NRvPG77mRdpupg5HduhOWVemXG4HvvFWlLufuvKBQzq0QmF8+bA6FHDVcuR1W5cuYQxg/qj6HdFMGLSLNwNjbQPNRHvVP+NmSUT4uS/LuYaN1WWro1+mZbU9U61ZUFa85jSdVxOx8EZel8EvE/tQfsWDVHwu+8x+6clCAvVraTaYuF97hg6deqK/MUqY+birQi19oWmYMn5rsd+XnO9LI/jOjGvS+5n0uYvjxAecB8je3ZA3i+zYdjwEbh+h++sdpivzy2M+bEvSpQshZ4jp+HkPX/VE0XPfxyWlvN57OCYrPGYU3Hcabtg6Tf3P0FwjJYKRTBOH96OZnVqoGq5chgzYiQ2b9mMI8eOYPvWTRg5dCjq1m2Cei16YNXuY2potR0czXm67N/pnDjr2rfsZpu02ONIsyfZUnv+Tv5l0jwLki6p43H6fTHX5YyZ7Cc2DAc2LEP9SiXgVb0ixk2ahG07d+PY0aPYtH4D+vYfjGpeTdCycz/sPXlBZVwsfpPqtvDYU2y8oEZPkDn7O+fpgZGIj/LF6oUzUaV0STSp1wCzZszC3n17ceTIQaxZuQy9undH1VoN0LHfGBy7+sDJZ81pWvdstbTeZ5l7Xz6jllyCP6Pm3idY+ofj+M4V6NC4JmpWrYLBP45Q+e7Ro0ewZfMmjBk9HlWr1UOdxu2w9chZ9WyCY4hfYkvK/zLdJ91cw58dHJ1O0s0BZrYlldipNxs4iuIiA3D64G6MHtgflcuVUQ+l5MqTC9mzZ0ex74uhV5/B2HX0IvyiY+1j2JSZ80zqMJJan9w2HssaS+paPIGWOr+mF8YgOugOjmxbiwG9uqJ4yZLInisX8uTOhRz03VIV0XfkVBw6f0u9+5NZHpXc3jM9s/LY4zHj224uX8bzyswyHgPBkdXvKIT63cGOtSvRo307FP++CHLkyoFc4ru5cuREpQqVMG7ybJy67ouQhIdqK1NhT+ZUn6BzfcbMJcGTSn9actfArHuarpE+XrPA6nc4YqPu4sLhHRg+aABKly6PnLnzqHw3V87cKFaiPHr0G4Xdh88hKCZOVdipn/2M3RzAYwVH/r7rMZgwN8eWOnOzA+cg5yVlboJSb9zIXFIphBNicfv6FWzasA5z5szGjJkzMHPWLKxevQYXvS8jWnItZlzMwNTPyT/tUCkVxW6M0S2buN5EKd1UT9NN587M6aftLNxtJelv+0txb+42T9LSFFlZ4i3oG1rpteS3N94Yh0exEbjifQGr16xRPjtjxnTMnj0bazdshvcN/XlKGp/Q1k9pGzNHbJQ+U8fJqU0eyyyzpmr6Uja1/pexX0na7L9v3zkrPGx/0TlpXGQ4zp0+iZXLl4rvzpR8dybmzp2HrVu34c59H5M7Z1rBm1R6mMNL72+ktH1K6594czn41J6LiZeauCmamx2ltP+U1qfdxBsfscFJ/DeBX5W7gg0bNqr8dqYww5zZc7BqzQZcvHxDvXSflmZCyPyDdmvc/S8AHJn8LpfAOUI6jRvbrnAK5vTrMqMKTMtj9Kk2l2N2zcxSyuxTWv+kmzn9tJ0FYxsfMEZg0TiU4t7S9KPmd1IVWZnz7vUcKxXur5UjZnKm/Su5eK7pkbTpvTC9rPvjfNrP1dXUcXJqk8cyyzJ+fVKbV5hrl75fSdrsv2/fOf/J+aShwm1ipi528pZUepj9p/c3Uto+pfVPvLkcfGrPxcRLTdwUzc2OUtp/SuvTbrIn5bss91M2/i5jp8ky/6DdGnf/VIKjKnBcMxbLDpyDmPwumY1zhDQbfzqJfCR5c/pNzrgcV0rmtP0vz8zppy0JGNv4gDECy5MIjiltn/b9Wy21MJCycT9pPxbr75t5/jfyWGYZUzNjvpJaS+31S7fvpfYHUmk8jsy7DzJ+eCltn9L6J95cDj6152LipSZuiuZmRyntP6X1rpaZPmUszb6axEFn1rFZd58EOHKVzniskd2aNUKyEVMybvh4Mjvn38ri3+RujdxaVvw+92X26zDHYbhf/1SZ42SeQrOmv/Uk3IX9ws1cZ0+SpMkyK8msyW9VipbqiA5L0/4zyay/mdzvPs5jslpqju2ptCw/sWcxL+W5mPPKaks+/TzgmNW/yd0aubWs+H3uy+zXYY7DcL/+qTLHyTyFZk1/60m4C/uFm7nOniRJk2VWklmT36oULdURHZam/WeSWX8zud99nMdktdQc21NpWX5iz2JeynMx55XVlnz6JQOOWo65JMwaIdmIKZm7HVFZYe5+h8oCS3H31gjJRkyDcR+JHcyxdzOnl55Ke6oP35r+ScljyjxJki7LrCSzJr9VKVqiiClvZTZJOWbmmfU3HaVdYkscmnTczDTzK1n/S4/ZsvzEsvwHUrCs+O3MOKfUbp/8bz3WMY6pNx5sYvDJaks6mTJgZqdWuTWuMOecZKRUmnVfz5CZ9Mto8jxR9oxeK495jKbuV+PjT/qNa+7DlI7Tes8+6efkMbvxUhlluaXgH4/1WIzxx8xxJba0HJIHHC2W2kRLk5mdWuXWuMKcc5KRUmnWfT1DZtIvo8nzRNkzeq085jG7GR9/Vm5c6z37TGVGHss0S8E/GGz0hFhaDsktOKZlB5ln1l+1KgVLQ9Sf16wHmtTBJrcurZaZ+3pKzJxyuk87wztIs+lf03/pMesRW5VRy6z9pNd+7t9/ts2krnMqJw7JTMuavabNMvMM9X4yc49OliU7fXyWZeny1FhKZ/+kpJD1OFJ/LE8YOKajFvfzHGw6LJ3n57HUW4Z94fFfn4wesnV7qzJqmbWf9NrP/fvPtjFlE/u6SfNnN90z//7OsjTLkp0+PsuydHlmLPN9MX3G30/7sXjA8bFZOs/PY6m3DPvC478+GT1k6/ZWZdQyaz/ptZ/7959tY8om9nWT5pmZ7lmxz/Rb5t/fWXZ+T0aCpduyLF0yYE/WMWW+L6bP+PtpP5afaYyj9WAfn/FXddKk8/cdO0ifZXR7d2b2mdn7fWqMJ570tUwqedyFOfaTeI2TuWzsfl+P38xxPAnHkpI9Lcf5tNqTk748Cjf3Z1YcoNlnZu/3CbBn8JSSNfeXkktufCmjlviHnC2j6zPN+CNZcP7pMA84psUcO0ifZXR7d2b2mdn7fWqMJ570tUwqedyFOfaTeI2TuWzsfl8eS848aZa19uSkL4/Czf2ZFQdo9pnZ+/0Z7Rk8pVSZ+/Pmkhtfyqgl/iGHJbfusVtGz9+cTMZP6GcEx8w5gbSY4xfT+fvp2MTJMrJtUmaOKSv2/VRY8gmQ1Fr3WyQV28VcoqRiC4+5mCfNstaenPQ1R+JyNFlxcG5+5mk3c0rP2GmlaO7Pm0uEpixIjaR2mfggfkYzB5PeA8ro9g77mcAxnZY555w2c5fW7sJsZr4Laf8+JCeqkuAIT+rbkQx1v8Zjz5I5+cDPddE9zuaxDFhy+ViWG3/X5aft7pxJh+R6fkmdqzqUTPpNjyVvP5u/ubEMHws3N7LZI2EEJZd9P0nnbeyxgCNP3Jy8NRGs4ekx1309fJjJTdg0/oTrIZow0SP5zYePHrr9fa6jIzyMT1BinLi4OCQkJNhiOJt9txLPem5WS26dx55847Xj9ad0RiE+k87rmcgPWDlxUyF39Rm1nCC+SXHedYNMMvO7VvEe4dSs99jTZdZraWQ112WrmTWcUlZfMMZFs1+ud43D5fj4eDwU32VkE1ftT/49TOB2Oq51H0nlue6M2/E31D1q2wfnH6pCncegwySm3sBjmW7262pLf4rzGbG0bs/Y7rZQ4bZ98b8cmZaNA4wl+3uySuW/yo8cfk0+UL5tM3PuT5o9FnC0XngzNcY5Fa7WMa5ILcs2lAnjzWoLS5CABLWst+dFY1h8PKULZYoXIiVZ4yXYFC8XLy5eAx7nVbjM86LGxMQgLlYuLn8nVsc1+4iNjVXzPB9K7UvE+JyXIFnvfP6pMbM/jz39xutovx/owza/opQfJmifSY30dvR1Fmzi++KPCbGyHKf91fyOI64W/TQ2KhpxMeKv4sdczzDuy9xDDOO2ar8SxvvPanRHh0wmbw3Tha2r36rzVnE9Pv20m+t1tC67lctfvPhHbJz4Iv1RpP2Q/qn9lHmt8kvJi2NkGqPC4hAVHYPoaPFfmz/HxEqezHnZLp6+r/xY+7yZRnNfsh91f8nvaj93+DpFfzV5ubl/zHkZvzX3BOc9lvlmfMWYNe1pnDfXizLrtBjfyDmM+Ze55ry2xneoWJufxNP3JE80/mh8M058zilMZHyL4jJ9kD4aK3kw81HGjYyM1H6qfEx+W36XcemL3C7Otk91DGae58QDFuN/zUDaD9NrJu2MuS6nx54IcOSFCw0PR1BQqCgEQcHBoiAEUrKsZAkLCOJ8KIJDwxAUIutCghAsU1/fAFy6dBXnz1/AxYsXceHChRR1/vx5nJfpRZH3+Yu4KNsy7PKVy7h9+zZu3bqldOfOHTW9efMmbnP5lqxT87dx9+5dtZ7xzZRx7927J+cTpByIzpGgnNZkPjqTSqSHlPN6OhmnHnv6zVx7mmRrKmO5d/8+vC9549Lly7h42VvNX7lyxa7LEk5ZwxzhV2X+Oq5euYZLFy/D+4Loorfyf29v2eelS0rmflDh1AUtrmM8fc8w3mWJdxHXrl2Dv78/gnmfKYUhJCQcIaHhCA2NEHEaJgq1iGESJ4Txg2QaojJDq+nMPHE+4LGny3jtCHYREREIl7zbKCwszGneadkoQis4NER8/x4ueV/CmTNncO7cOa2zZ9X0LKfnz+HM+bM4ceoUTp4+i1Onz4vO4rTE53qlMzr+hXOSb8u+rtruDfq2ulcuX1H31qWrEq7Ee+aaTZzX99NVCed2zOPpu4RMY8ZvTZ7s8d2sMZPOrqJFRkapPOnBAx/RA/j4+MDH1xd+fn4if1GATZxnmCPcx8fPLpbPLONPnjyJEydO4PjxY6LjOHn8BE4dP4mTJ0QnT8j0OE5REn5S4mkdl20kTPyR+SR9jPmq9tfzMiU/XJR5Lp8Rvz6LMxJ2VnRO4p0Vfz4r/sx8mMdA/2X+e1/KAHJCvJT/BEwCZJxMTUMCfY55ppHxQ9dwytVM+hlzXU6P/Sxd1WreLItCw8Nw7fp1nGbGcOq0TLVOnTmNk6fOSIah503YKZmeOX0Gp+XCnDzNDOUkzsj8nj17MXHiJAwcOAhDhw7Fjz/+mKIGDx6MITIdJvGH/ag1fPhwTJ0yBUuWLMGyZcuUli9fjhUrVmhxftlyFbZq5UqsFDGcU2rp0qVYtGgR1q9frxwqMDBQOUVERJRMo9UNwOWUFBUVZZdrAeyxJ9/c3aC80ZkRGKNv7NixA5OmTMKESRMxbuJ4TJg4AZMnT06lpoimYtLEyRg/dgLGjh6LUSNHYeTIkRg1ahRGjx6txHlqzJgxGDtmrMQbgzEjHeEjZRvGGylh3Hb27NnYu3evHSjtmeEZFu6SOSpJpYsVL6Vz9jBT6DNDZMXJNR247C6D89iTb+Za0ocDAgJwXfLtK1LJvipARvAyEEapyg5lDRNdvXZV6fzFC9i6bZvy4/79+6NP3z5Kffv2Rb9+/dS0b7++6C1hPXv1Qq8+fdGrtyz3ljh9dLw+Mu3du7eaHzhgoPL9SZMmYfKkyZgo99PEiRP1Mu+VqXKvUJK3856ZMmWaiNMpdo0fPx4LFyxU/stKnTHdTe2o9Lu7tz2WeWbS2eQTnL9x4zr279+PnTt3Ku3atQu7OL+L8wzbLdplX6/FOLuVdu/eo5aXLFmqyv7OnTujQ4cOSu3atUOnDh3RtVMXdO7UWdZ1VOrSuRO6cLljJwnXYZ1k2qVLF8UZZAXDGoMHD8GQIZorOB02jOFDMXDQYNEQDB4i64fKegnnNkNkecCAARg7diy2yX3wwOcBYuJjERkdpSpWEVERiBAOYOXMygIU+YDh7jjBXX5rtczw3cf+cAwP2sgYaxFHjhzBhnXrsXbtWgVc69evE5l5La5XYevWqfl1Eofx161biw0b12PatGmoXLkycuTIgXz58inlzZs3WeXOnRt58uRBvrz5UCBffhQqUBDfF/ke1atXR9u2bZWDUF27drXLhHXv3h09e/ZU027duimpODLt1LUzBg0ZjC1btqgWyeDgYAQIJLAmGyoKCQpWYriRWg4MQrAUtoyn4oaGqikdxFPYPl3m7gZlmLmOnGftl4VaterVULFyJaVKoipVqthFn6asYVTVqlWVqogqVaqE8mXLoUzJUihRvDh++OEHFLdNrWJYieIlUOKH4iherBiKURJerLheX7RoMZQoUQJNmjTB9OnTsXnzZgW227dtx1bx5a2bt2Dblq12bd1KSfjWzY4wiUe/J3iyJm2SwZoe7tLGY0+PsbXxxo0bkm8flsJ8Lw4e3C86aNMB2/J+HDpwQGTCddjhwwdFh7F9+w5VkaEPf/PNN/j4k4/w8acf4ZNsn+Czzz5DtmzZ8Omnn9qVjWG28M8+zYZsn3yKTz7+BB99JNt88gm+/PIrFC78PSpWlHtF9lmZ906VxPeNuncqa1nDeI+VKVMGrVq2wqYNGxEeFq7Olfcru7Q5tIQtHRyXZocaurGRxzLNmLZGNPrboUMHMXPWdEwYPw4Tx0vleiIrCJMwafIEqSCMl8rzREyeIMsTdGVhklQcJkklfIpUIqZKBZt8wIoBIZFs8P777+Odd9/Fe2r6Dt7l/Lvvqem7svzee7JMqXCbZPmdd2Td++/hiy+/RN58miOsrGHYI39+huVDHhWW3x4nn4Tnz59fiazC/JaV94tS0Y4U+AsN02V+SEiwVLwDVeOC4gMbExiZMMMIIcEhiBJOMOMmjbnmtZmR9z42cOTBGkdwPXBfX19VyCxZtBgLFy7E4sWLbVqEpYuXYKmEc53WIixbImESzmW27C2ReCtWLFOJTwj8v//7P3XxeYFT0ttvv62m74ree+dd/Ou99/HRhx+hYKFCqFWrFho1aoTGjRvbxeWGDRsqNbKEGTVo0AANOW3cEB06dlAtkTeu31C1c931JxdbFBQQqESnMDJhQQKPbKkx4jp29Zh0y4wL77Gfx8x9YIxDGn6U2in9NmfuXMgrmQozFpP5mMzGmiEZmcwnn4jb5/g2O77+4kt8ZilwWaCqglYK3M8+s01lmYXupxTj2QpkHf9jfP7556hQoYK6n9iqvnr1aqxcuQKrVq3AapmuXrVSpquUVsk8w/U6W5hqeV8h8LhJVZqMWf3W48NPn1mvGQtydtPt3r0L27Ztxs6d222tPjtVRYPLKkyWd7PVZwfX2cJUC9EuqfCvVy2L9OE333wTL736El7+w0t49bVX8dprr+HVV1/FH/7wByXOW5f/8MqreOWll/Hyyw69/vqf8d//fYTcufOo+8jI3ENsHLDfOzKfP4/zPcU4BNgqApQsX0KlIKbp8fO2B3J460oyOJVjnHjcOVONaWtEi46OkorGVowYMQwD+vfDwP4DMHjQYNVqN3jIIAwePBBDBg0SDVbhqieRLXycMp5Mhw79EYMGDYCXV23FB8899xx+9atf4VfP26Yu4noV5znOW5a57vnn8ee/vIF3BSQ1aGre0DzxtoMrbOHvC2iaeNb49HvmyWwxZ+8OeyPZcKSZwF8UkIgFFCvY5jklU6j1wg2R4RFq3LzVrPctzXU5PZaF4Oh8N7Gp39TSrAfOZR8/X+zbtw+LFy0RcFwkwLhEaRHhUAGiLNvEeb0s0KjiCkwuWawKqtGjxyBXrtz461//ar94b7/Ni2lkwhyyXtx3ZJkA+d///VeBo5eXFxoLBDZupAGRrTCuEKlAkRBpA0fONxDVrV8f7Tu0V+DI8WIERzqBcgS54Kpl0QaIgVKrsIfREawtkVwvMMnar0k3a/pxPrlljz1ZRn+3giPHwQ4ZPATZs2dHjpw5pQZrK9hsUKjA0E2YNZxiYZkjew589cVXAoaEQAOPhMXPncX1n3C9ACQh0gaOnCdoMiMrV66c6rJWwzFWrRI/5lQgcTVB0RUcXcLU0I1l2LhhHe7c0eBIl7R28Xl89Okz6zUjOHIowu7duwUUtwkQ7lDAqFqnt2+XqdZOQiShcTvX2cJs3Yjr1q1TBSb9lwXoq38QOHztFT11AcVXXnlFwSHnX/vDa/jDq3/AywKODKcY93WC438/VPcCK1NKlnvESYRIC0hSBMevv/kalStVxqIFC1V+TNMPbtoaPZRc8ljOetw5Q+YuP2CYyStjY2Owbfs2DBdw7D+gP/oLODLf1F3EgzBINFjA0UCj0hA9HTRwIAaKNEwOQt16dfDWW28LABICCYbPiwiFz9v1vICh1gtO4QoeBRxfePFF/OXNv+K9997X7CCyMoWZqvm33rLPU2/JMtdz+sYbb0h+m03dBxwzGRUVbYfCgAANjoYFTLgBRiOznj2WkWER6uFIq7mmrbu0TqtlETjywHjBHQWkcQJ188m8Ofh4WX7g64O9+/cLAC7DIoKhTKnFNrkuM87ChWxtXKzGE3IsIgFt9OixAo55BBz/JjCogfDdd9+3KTHxU2yupt57z7H+f//7H7777jvUqVMHjRs2QhMR4ZHgSDVt2lSJ8wRFV6hkWN26ddGxY0c15tGAY1AwWx19EeDv5wSO7qQcgc3P4gxshYzwgOMzYeYeMMauXNaM2WXBYRMGCgsUKJBIBQsWdFpmYafj50OePHmRM2dufP31t/j88y8lM/pCTb8QkDTLnLcuc/r555x+rvSFSLdMfqa67Dh+h/fVmjVrBAxXqelqavVqrFmlxXkje5gCzWVqWMmtW7fVedIl7d17atnjo0+bWa+ZaXFkT5EBQQKjhkYHRLqTGpsm4vAjFpj04b/97W/442uvqZZGA4t//OMfnZZNmNKf/mgPYxyGvfHGXyTv/kjdC7xXKHM/mXvHLLsT76dvs3+rWhwXS/liwNEYz5/+a60AeSxzzF16MoxpTePDpdulcjJi1EgMFEAcMGCwGj/IsYIKDm2Q6NAQCWNrpKyT+JRqnfxxCOrVry/QxhZHgcLnX8TzL/xaQPC3ot/gBc4rvWDTi5Ywzr+ggPLXv/4t3vzr34UdPnDiCXKE4QnFFO+8i3cEUt9929FARWA0cen3n3+uWxw5dly1OCoIFA5QDU2ER91V7Y4TjJIDx6yo2Dw2cKQZ5+DUPi8iOO6WDGjx4qUaCGVqF1sXZUqZMLPMQa66dXIxli9fgVGjxkimkQ9///vfLRczeXC0X2DbMi/6hx9+iEK2FsemAoTNmggkNnZubUxKBi4biHMSHNliw0HjuvagRYdICRyNVBx/Z3D02NNjVl+ncd4KjmxxZOaXK1cuJ3C0yoBicuvYWpIjRy589dU3CgoNGFrnjZzDHOBIYGSr4xdffGFvcTTgSDAkPBo5WhwTh61WXdXL1LjjxF3VnsL3WTAOwufDLgRHKzAaiExOBhw3btyouqoJbCxArYBogDA1MvH/8pe/St79iQJH6z1jnXeVWWfWswJXrVo1LJOyxXRV08x9bOSxrDdrWnOowA4Bx+EjR2AgWxcH8wGUoerBVsKgAkdb1zShcbCso/iQiuqylvV8MIXx6tavJ2X9+3hRQNEBjwKNssywF19MGRxf/PVv8Jc3/4b3LOBIKDRMYcLUssAjZQ0zYu8o814+HMYHEPkArSr3gwIQEkxgdG5ddCd7lzXBMfypBkda4qM1TsCJ9d7jI/V7LOBowDApmRZIJbZQCjyuSBIceRHdQ6M7GXBkDbV27doKApvZWhfdgaKr7ODYoIFbcAwShwhm17TLxU9KChxtXdVW4PDY02muBU9qwDE56ZaUggKO+RQ4urY4ugPHxOJ6iSfK9plA5Bdfonz58mqMI1vM+QBaUuCoxjtyfKNljKM7cHScsgccnwVzBUfTmugOFI0MMCYNjoRAo/SC48eJwJGyzufPz3mrHOs5ZKRatapYtnQJQkM94PhzmjWtFTiKf40YMUK1HponmDUU2p5YdpJ+stkaZt6iUq9efSnn/2UHx+cFHJ1bGw0kWqHREc7ua9XiKOBobXFMChyTkwFH3gcc4xgREWkr+9lFnTpwNHrqwZHX2t29ZZzAdb2vj344hlCYHnDkQOakwTFtcgeOplvaHSi6yh04sqva3tooDqGelEolPHrA8dky14In4+BYSAq9QgKObC1JLzhqfSbKZovLFsdUgaOsd0iHmTGOGzas84DjM2qZAY4bNmxwA47sgk4fOOqu6tSCI7uxKTfgWJXguFjAMdh2to771vX+9VjWmTWt7eA4fLgNHG0Pv6RByYEj5xNDonsxvjtwNOMa0w+O59UrdnTZ/4sER/c3lwnjxLqaL/LkOxgJhU8KOJqu6swDRz1ewQ6OLgNck5IHHJ8tc703MgqObG20gmNquqqTkgMcdVd16sAxsdyBo8M84PgsWHrA0cgDjh5LjVnT2oAjx11nBTi6A8SklBXgqLuqf+Hg6GyEHS3jBJxY7z2+judZAkdOE3dVExy1E6gnpwUIXeXqCDqufjjGA45Pv9Hl5S6wf1KKlhpwZMFKuVtnCsi0jHFMToz7RZJd1XxIhlrtgES3MOl+jKM2Dzg+C/Zzg6N1vQHHv/zlzVR2VSeWWe8OHA3AWOWxrDdrWifuqraNcXTpjk5OruBICPzVr/jkdOaAY0a6qpMCxzQ1MiUFjllgTww4Pmld1ZnR4sg30htw5DsckwNHvoPJnYOodUmAY2ZlYNYb1GNZZ0zhBElnfn/UmCs4uhZ4KcnE//nAkeFazuC4XMBxgwccn1EjOPLLMHyNmoHGxwmOVmU1ONJMHunJK5O2zE4f674yDxwHWVocf51iiyPXua63gqN5HQ/ZIfPBkXLmgeT0jIEjL7yWcQJOrL6VEXDkux0VOK54OsCRj80rWaAxI+BovbnSa5mxD4+lbEzhpMCR0JgRcGThmzNnVoNjYkh0F6bBcYUHHJ9BM9csteDoLtwDjs+mZXb6cD+mzMtUcKxfHx988G8Bx98KOCYGQ6ueBHBM6VU8Rs8YODrMOBQnVt/KyBhHvo7HvMdx1KjRTxQ4sqt62YrluHJNwNHWVW3A0d2Fd6fkwJGWmTeqx7LWeJWS6qo24OhaoKUkU0A+HnB01y3tXtzOPThKGnjA8ak1c81S21X9rIMj54w8lrnGdM5ScHzhd3juV8mDoztZwTEru6q1UtdNTZEruD3TKqvtqQdHvsuR4MiWPb53jp9eSy848oJnFTgG8Isxbi52SkoJHDPTrBmixzLfmLoaHBO3OLob45hSYUeZAtLaVe0KgmkFx4w+HEMZcLxz547tTB1mwJFTj889nfYkPhyTHnA08cx6Dzg+OWZN66wY4/jiC799asAxNY1NzxQ4Wm82U1Dw84PGITglOO7du0+gcAkWLOC3qvlS75RlXgDOr8ewxXHkiJHImzsv/pFGcOQFt150gqP5cgyh0YBjamTimq5qKzjan5BSXdOBCgrZCqlfzaOXFSiyy1o9USXzAo2B/gHqBeCu4GjS0GoMs4a7zicnT0Ge9WbS2ZQ0/HIMwTFnzpwKHk0BxsLUTJOTia++VZ0jJ77++mt8+QW/GKMBkJmSlllmi6KWNUzLAY5ly5ZVFTECoPlyjNvPC5pla5iI9yPBwICj1c9MGnDqsawz1zS3yqxPrTHuw4fxMtV5EMHx0qXL2L17jx0cHVAo0538QoyIYfzkoAJLiWf7VjU/Vcj3OLLApB+zANUA6AyNBgqTCqPMpwn5VLUGR8eDZNw3p+Y+SU6M++2336JqlSpYumSRegEzTZ+7qehoeSyx6XRK/HU4q7kLo7mGm+1NuPpyjPgZn6rm5wMHqU8LDlFyB4lWERiZx3JK6Kxfr4GU9e/jhecFAtlVLTCoxzq+gBdf5Kt5CJPm5d8OOcJewK9/8xu88dc3ZT/v2dkhKb3znpa7dX/lt6qzfaoqUPxyTHh4pDBBkP29z/rJagc0us4bmTCCIyvlruaanhm1xwaOdCbTymAci8b5Bw8e2MY4LhZwXKCmqdGixYuwaNEiBY58BcjoUSORTwrQtIIjZeDRFRwNELprXXQnE5+fHVRjHFeuwNXr1+zgqD8jGILgAEJisA0cdc3CDo2UhKnX9wTIdhIeER6hbh6moUk7k7bu5LreGOddr4EJs+7bY1lkTOsEGziK7t27rzI0QiPlrkBzJwOOZpmtlTlyZNfg+KUBx89ENnD8TOaNbGH8UoxzmIBjNt1CacCRALh69RoFkKvMi75XC0wKSPLzgqtWCyzK8urVK7BGgJHhqyVctTgKON6+rT85aPzL+B2nHstaYzonJbM+tca4CQlxct10oRQbG4fLl69i374DChgJjqYl0YDjbiWZ3y7gaPtW9Xbbd613796FTZs2YcCAAcqP1beqbQBIODSfG7R+s9oKjibMOv/662+oTw7yZfjW+4RT3arIadJiPHuL45LF4IcaaPrc49W5P3pEeXzXnTGdeF8bWf3Luk4tW0Tjeuuy2d7EZyuaMziy1VF/XtAdLCanBg0aSTn/vmo5VHrhN+rrMQRCA45q3uhFLRP2wgvP48Xf/Bp/+dubeO99xxhHsoO71sbkwPFvAp+ff2bA8SLCI6KFB4Jtb2GxfTBEwNDdMDezbA17ZsCRxoPlyVhldyBZ5+Pji/3792PZsuWqFZFTo+UWqeXly9UT1FwmMC5btkx3p61Zg3FjxyB/vrz4xz/+br+IKYld05R12YAjvzdtbXF0B4pO4vesGzvAsVOnTlizdg1u3bmNsPBQREaGIzo6CtGR0YgUB4lU00hEREYoqXm58JEyHx4RDn65ICIsTA14jYmOkTRzpFtGzTiQdcrrYpY9lnX2iNeQySy6e/eeAsfUjHEsYJdzqyTFbbNnzyHg+I2lRfFzmQpECkh+zmWL7HHM8pfUV+rrMQznGMfRo0cLLK7C2rXrVKvjWvHltWtX6/nVa7FuzVp133F5zZrVMs/ltTK/Vm1nbXGk35r7nj6WWX7ssaTN9V7mckbub729oyC/ceMmjh49rvLuPXv2qAdlOM+pmt/r0L49e1XjwJ49u9V0/4ED2LZtuyr4+bEFtji+8sorCgAJjX/605/sUGiFRCPnsFcVUP75z7rFke805T71V5V0N7RjWcvMu4az1V6D4xKEBOtvVTPJtO96wDE5M/6VlJ+5C0utcVu2UjNPIvyZVkRq2LBhycq0Npplls1sKfzVr54T/Uq9kkfPm+VU6Llf4c2//RX/+ve/FTcQApNiinff1zLLVv3f//0NX335uYLhCxe8ERkVg+CQUIFBgqHudTRwqBqdRK7LJozTyMhI5atWs14To4zaYwNHI2Y4bDmz9sP7+vqJU+xV4xvnz1+opkaLFjiklhctUU9SL1m4CItFHN9IgKSGDx+GPHlyy8X4vxSbj430BTTLvNgfSK31f2qMI8GxWbNmqeuqJjASHEUEyPr169ueql4mNXNvgeP78PPzU09XB/gHSI2CzdFUAPwDqUDbMqeyHOAPX38/9cQ5W2RZm2CNnxmXrv06CmAzb2QNs06Z5hTnadb1ZtljWW/WdL57l13Vw1X3Wp48LPC+UwWYAUKrCuQzIjjqFxjrQk+PccyePafA4lf4NFs2fPqZ1mdsWfxcv9g72+ef2cXWRvVtarOs4n0u2+h53eI4QrU4qq5qjnEUOGS39MoVq7BqhX6Kmi39rLipFsmVbGmkVqkKHbezjnE0vmaVx7LOkkpfhtvzBYGgBJEsyTLXaXFZhznL5B3sqva+6I1dUphv3roFm7ZsFhDcploe2TK0fbtMtxnJsojrt27dqtbt2LlbKtXr0advX+W/zLOtkGhaG/8geu1VWRY5QDGxCJvmk4O5c+e13DeOe4XKJ/dOUiJwfvPNt6hcubIqW0KCHO9xTFDQ6JwGHnM2kz4mjTiVWjIeSnkVHxcj5X6slD+2ymOCQ1y2hrFHxpRVpjEjOjpa+Q97QdjaSJkWRFY+rC2Q7mRgky3c7En817/+hd/8ht+nfhG//q1Mf/1rmf819LequfyiXfZWSNvy8y/qruo3pbJDQCQ78OXf1heAG1lZQ3/6mPH1NhQrTKyo87g4xjE83DHGkS2O/HCIaU00YuujeS+0kVkXHh6u7k2V9jYz85waZdSyFBxdD9AcNJ3BSsXXrt/ETz8tQK9efdC9e081NerTqy/69OyD3iIu9+4tyyq8N3pTvXtLeC8lAtxHH32kMpE33/yLuiipEbtJ3nyT07/JsoZOdhtWr15dAWC9evUURHLqToxTv67Eq1MXdWp7oY5XHfVgDYFz4MABmDx5MmbOnInZs2crzZrF6TzMmTMPs+fMwey5czBr7lyZZ9hcJYbPnDMLM2fNxNSpU9XDCXz9xZ07t3Hz5k3VBcgnVlkwc57T5MQ4t27dUtuwZmIyP3NNjDyW9WZN53v3HkiFZ5QCxoIFC+P774uhcOHvRYUTqch3RkVkmXG+R5EiVGFV+H79dXb8978fqm6Rt997B2+/+w7e4Ricdz/A2++8p5aN6OPU2+9Khsdl2zZvyfK7Ms/9de/eDVOmTMG06dMwRXxw6rRpmCaaOpWajmlKnJ+KKQyfNkPmZ0jcaZg0aRLmik/zq0nGPH7285lJd973UVFRCA0NVflAUEiwXcHBbOmgdAuGI9xZ/J7u/fsPpFK8AgMkf+vWozt69OqJvn37iPoq9enbD7379EMfJ3E9pdd16twVVatVVy3jf/nLX1SL48svvYSXX35ZQSPh8Y9/eM0Ojqqb2tZV7SrT4vjBB//BV199LQD4jRI/wcn7Qk+/lTA9z4fIzNQ6/9HHH6N0qVJY8NN8Z3C0AYxZ9lhiM/7FqVF4WChu3biG8+fO4PTpU6IzOHPmDM7K9NyZszgr86dPn7aHGTHs7FlZL7pw4QJOnDih8pQWLVqo5wfYatioUSPV08dpcmIc08DDbatUqaIq3PSPL7/6Cl9987XSl19SXyl98fWXIk65rIf/fPmVSMK/+vpr1ZND8CM7kCHov5oj3pT5N/DGG2/Y1zmk+UJLh9HP//Of/6jeSbbSs5xmnnnt2hWl69evia7bwrT4ej8+mMapEcMZj8+LsNXRlO9ZZY8NHI1TGbOuO3rkGDp17IxChb5T41M4NfqOkkK1EGULKyi1SHbXmdaW/AXyo9B3hZAjRw7JPP6MX0vt4Xe/+z1+//uXUiXG/d3vOH0JL730Cl5//c+qNaZMmTKoJhkbVbVqNZm6FwGzOuNVqaolcRlGB/3hhx9sDy7kUA9AcAwNuxSzZ88lYbnwrYR/m1PCZB2XqexKOfGtxP3mW2ZsX6FmzVpYKLVgDkbfsWMntmzZqrp6WMN31PKTFmtr27dvw4ED+wU8byAmJsaW+s43vMey3qz3AW/00aPHCDAWRdGixVCiREmlkiXdiOElStimpfS0pExl3XcClF988RX++c+3pRD9I16SQvglKYBffuVVKZBfE/0BL0smZfSKCpd5FtZcFjH+76XgfunlV9RwDdbMe3TvIRW0XujZs6dSr562eam09RL1tFXaego49Oypw3r06CnQ2V2NRzp16lSifMDjZ4/fTLqzNYKtFax8svC5fOUyLl+9jEuXL+HyJVm+TEmY6JJtevmSTRL3iujOnbs4cuQ42rfvhK+/+Rb/E1/5+JNP8Omn2ez65NPPlD51kln3qQDaJ/jf/z4Ex5r99a9v4jWp7P/htT+IH4o/2sCRDQB/FF9OCRwZV4PmH8X/35LK03/t+s9/jP6npv/9r56607///R/88623pIwphNkzZyE40DrG0QGOHnNvTB9rOcLp7Vs3sWnjesyaOR0TJ07AhAlaE8dPwKQJEzFR5sePH6/DLOIyQZFixXTs2LGqgYY9K3yAieWoKVM5TUmMz+0Yn2UygbJjx07o3LmzVGA6okuXzugs8MYwQlxHpY5q2qmTxFFTrW7duqNNmzbIli0bfvvb39oZ4mXJN5l3ap4QuXDG738v+atdOozjJgmU9eo3wPIVy3H06BEpow+ocpo6ePAADh06JNODdnE9h4ToeAfs4Yzn7e2tKoTWhrmssMc6xpFNz1anMsbB0wQvNvWyy8I0+yalf/7zn0r2sHfexnvvv6fC2PzMMQgc7ErZB8Dall3D9PgG/dkhIzoAC87ixYujUqXKoqqoWJHTSsmqcsVKqFq5CirLPKGxpNRcWZv47W9/p4/pOesYCndjKkxY4nWffJJNdWmuWLFKavorsWABHyRa5HhQaJF+UCg5LVmyCOvXr5Ua3HnV6mCM18IDjo/HTFob41AEZpzMzOhvrKxQ7Cp2J7VOVK6MLJd2xCtatCj4cAu76/iqCPq061cR+PSgUaIwicf4Zru33noH5cpVQMsWLdFWMsk2rVujVatWTmrtJoxq2bIlWjRvrgCTmZn1fHn+Vnksa82azpyyy49P8rNb7OTJk6LjOHnqOE6cOIaTx0+olh2rGGbXCYkn8b29L2PL1l0oX6GKFH6v2PIonY86y+RjicOfe07nayw4f/e73+FVAcA/vv4nvPanP+JVAUgCoXlAxhUUXeUAx9fUa31US7qUC2ZKsXXoHSkn7GWGG70l0PjGX95Q44WnTZmKwAA/W7qZMY5Z24rztJtrGcLlixcvYNasGejduyc6dGivhm91aC9q1x4dKS67Ufv2sq6jgJuoS5cuaNu2rcrj2MVsrpfp7jW9J0mJcf/xj38oPmDXMhucunXrpoB05swZmD59KmZMn4aZ06ZjOjWdmmaRCdNiTwpBlsMarL6v8tQXf6PzV34HW6ZW3jD8YQ3j9n947U+oWq0G5sydpx4043AOM6xjy5YtSlx2DeO8VVzPe5pd12StrLTHAo403nis7Zqbz/ouO76uoXrVaurG5Y3PKWVuZtflf74l0ChT5TSm+00chNDJGsBzzwkIulw064VzCpNCklKFqC2MNV6CI1tyqlSpiiqVqwkYChBWruxeApecVpEpValiRQWOpUqVFkf/j+xbw2zqZQVHPeXYnWHDRggkOr/8nE+hU+5A0VUERz7ccP78uUTgaL3hPZZ15prWbHFk7boEWxLF3/j+RAOP7lS6dGmUESlo5LyEERyLFSumwJHddfRlJ2g0vm6R8XX7su21FGabt99+F+XLV0Srlq3Qrk1btCYQtmihwJC1bYrg6E6Mw7HB3bp3U+BoNZ478wBTkfQUxllrrv7Gnga+O5RdgMePCzS6gKNRYnCUOMePyTbHFDhu37FHgePvfqfBUfkPfclW+dByD476tSbMd59TY8deeuklDX5/FEgUsfXRPCDDqTtYdBWh8XUBT5YB1vLCgIOZJiduwy5GtkpNmTwRAf4+tlTTEESZ9LSmqce0mfQxxmU2UhDMevTsLjDYTkGhAsIOIgFIgqMBRKvs8UQEx3bt2uH7779X4Gi9pqm9roRGxjXgyCFuM2bMEKidhekzpmPaNIHHaQKP02eInMFxhixThMYZEpfgOGbMGAs4aoYwlfBfkSmYp8q8u7zWGsbtDTjOm/eTegCIPYTsRSQIEhA3b96cCBTVsg0gjRhOcGSPgmuLY2b77WMDRzqRaXF0PYHdu3ajVs2aCgRZMzA1CdfBpdbl90RmYCrHZLHL4+9//6dq/uUFUQNc5cKlJHMB2UpjtnnpJQ2OpUqVQtWqAo4CjwoO2aqYjAiNbHWsIhBZtVo1tf1//vtfvKSapHlM5ncdrUDq/VA2mTDjgBSX6VzZsn2mvozD1kU+ec5Wx2XLVthaGx3vvtQvRNfvt7RKg+Ni9cACWxuio527qj32eMzq+5zywSeCo+mONoBoWhJdpdYpOZap76U2ni3bF1LY/tnuN0Yv2qbPv/Bbu16w6PkX9ZT+z3uBcZnJVqgg4CgQyNo/a/yER4Ih5w08ulMridOseXN0FXA8euSIOleanLn9gQvmB55WnKw142vG32hscVTgeO6crcXxJE5RAomnTnCqZV9nDbPBJF/Ds3PXPlSqXF0NgyAcGr+x+5zb/JdxmNfq9QRIVvQJjQb+tDQ4mmVXSHQnxn/99dedGh5MmWEFDDPvTlzPsWq5BBynTplkb3GkaZ81T1Z7emfcmSs4cp4tjhzfT1Dr1Kmj6upl93Dnzl3RuVMX27wRl410GLuJ2TXMLmT2yrAHzzyxbFggNeL15ZTbcrw4j4ctjoRBTvkcghrPPXWaaKqETbGJ8w4RMAmb/DiCAcfn+T5I+j993ub3hMPE/p9Y3P6P4rfVhX/mz5+v3k6ghp7t2I4t27aqB8+swGi0bes2bGcrpEy3cdgalwU4OTSILY6u4JjZ9hjHOGrH0vOyYLnvSNm1atVSzsCaAafJyTiDdZ5vcP/HP95S4wd4EVMLjkYmPqcaHP+nWoFUS2IVW6uiQGFKqiRia2O16tVQolRJ/Pd//8UrL78s+7WCY2rEp7u0Q9K5PvssmzjrSCxdquFw6VK+joivLyIYsruaU8dXdZy/tqPBkfE0OF5ETEysLfWdr5PHstaY1ia9OWW3IbuqUwuOrlLxS5dGEamNZ/vsc/zp9TfcgqPy7xd/Zxc/t0W98OLvbZJliUN/Y+2ZBW+FChUUOLK2r8DR1qLoDhatUuDY0gaOR4+qc6URGqXYVX80j99lrRlfs6azAcdzpqv6uEAhZQFEBYnuwNEW5gDHGnjl1T8qcNQtiboSrnzOKf+1Pamq3oFH6TiMy2E8dnDkgzBUEsBouqRdwynGZwslwdEAoikbDBSmFhxz58ol8DAZQYH+tlTTaWl9HY/HdxObKzjSLl68qMCRD0aZMYIaCgUclazwyHkTbsYVEhx7Cjh2toOjtdynzLLhA3fiel5fzhMcOYyGoKjBcZrMT9USWFQPAiYhPhw4a9ZMBY7ffvuNDRwdPm/k8P3kxe3/9OfXUaNWTSxYuAB7BRxVSyOhUbSFkGjrorZqO0HRQONmkUx3bN9hA8fELY6ZbY8FHDnRcn+zERxrumlxTEkOx+D8+3ZwNF3PaZHJ9HjR9RhHBzhWTgs4svVRtThWtYMju751hun+t5MSwZHd7nSubNk+xciRw7F8OaFxmYCggULzQnQNjklp0SIdj5+Pu3DhohQgDnA05skMs96YxtZ0JjiOGzdO+RrlBIRpELtx+A7G121d1c6t2lpOLY7PUwKKljCT4dHnWIEz4GiAMDXQSLVu0xrNW7ZQT9sesYAjz5rwaMDRY1lrrvczl+3gaFocbV3RVkC0QqK7sKRaHI1c/c4BjlznAEeGERzNwzBWCHQ3vjElcOQ2ZoyjOxl4NHK3Pilw1FDEhg/K47/uzB048olodgmzhY/dzukBR75pheBYrNgP+Pe//22/XoYBODXLyYlx2OLIdzT36NHDBo58EwThcboNHgUcRe6g0YQThK0tju54I7WNRNyeY3ur16wh4LhQwHGvAkOC49btAoyu0CjhBEmC4tbNW5zEV16dOnVavdLPqZHOZpw3yqg9podjjNwfMJtn2eLIi/tzgaNRWsGxUoWKSvZlA45Vq6KkgOP/ZD+vyP4ctW1Hxpm0dAbLVkqeixUcly3T761MNTguWi4iaLKlcokHHH9GY+oSnB5a0jklcCxd1iErKLpKg+OX+PMbb4LvI+PXDYyv0acNFFqlCnpObTJxDDhWrKjB0XRNe8Dx6Tbe364Px9jHMtqgMDWyguPLL/8hFeDoXvQ3Pn36yisvu4VAV3B0FddblR5wNGUJ5/UYRw84ptfcQQlbHN2DY2rVJUlwNOW/lQmSE7dJDI66q9qAYcrgOEXAkV3VowUcc9jA8TnxZ9dyPXVlPbdnS3mNGgKOCxYKC+0TQNyuIFEBYprAkS2OZxEYGCz+qq+DuzI9M8r5xwqOSVlyLY5JOQbDzVgHDY7v2cY4anBMawZmCk1OCY58CbgBR3Y9p7bFUUnissUxNeDoPrPlso7rAMds6oXMfKG4bnE0oJhacNTx2FXtAcefx5i66QHHUmVLo1QZ/SCMW5UubQdH3eJI/3GAo7NvWZV6cDTd1EbugNEoeXDUU489fuP9bQVHdmu5gmNqQDK5Fkf6j/GjlMR4bHE0X4yxAqE7cLRCojt5Whx/XqN/uZYhyYGjblF0D5KO8MTgaGUAKx+Y62iWXcV1qQVH/b7a9IAjWYL+nbisdycrOPJ1e3v37k8BHCVsq4S5QKMDHM8gIMADjk6O4RpuwNEspw0cud6R0ZnMjg/J8P12mQqOkjE6HMnZmfTAWnfHpuM6wPEz9dZ8fnKRYxtTBkcuiwQaFy9ydFWbMY7Wh2OMZYZDeSxpY+q6giMfjnEFR8Kgenqa02TA0cThwzJ8VUXawdEBjR5wfPaN9/eTCI6sqLMLmvD3uMCRrYuu8OgBx4wZ/cu1DHEPjhoYnR+WSTs4mnLfMIC5jtb1RibOswyOO7bvxKnTBMegZwsckzrg9IxxpCM4g2Nauqp5Mc2FdV7nDhzTMsZRyXRVlxRwlP1YwTHRQzJqrJkeb+Y4Dn18zl3VaQFHzptwHWYd4+gBx5/HmLrpAcekuqrt4CjbpBccrUoOHN0BYlLydFU/mcb7O7O7qjMHHB1finEHjgYMrXIX7gHHn9foX65liPsxjoTGDjKl3IOjQ0l3VRsOMAyQnNIKjlZgtK7Pyq7q1IFj0l3VGhzPesAxJRmnSfsYR15Mc2Gd1zEzy9DDMRzvWKmSHRz59QLHwzFZA458zY5+ulo/VU1wNE9R69fzOLqqPWMcfz5j6rqCY6Z0VYvS11Wt/d0U9GaameB49JgVHOXc1X+Pn/0cxvs7K8HR6lfuZHzNCpmp6aq2wmFycgeOLCc4tUKjkTWeieMBx/Qb/cu1DEn64ZiONqUfHF2h0XXZVdwmK8FR+7Xxd8MX7u8Lk9dmBjhynnpmxzjqAzZymCs4GsegXC++FsPpOFZ4TNxVnXxmxnU6jpItnBeULY58j2NS4FjFIis0mvc4qq5qAUe+x9G1xTGxM9GBrNBIcb17cFy2zDHGUcOjaVm0tjiaVkdHmDM4XvC0OP5MxjS2pnNK4EiVtska5hCBMr1jHJ2VEjim1EVt5GlxfDKNfkdwtD5VnVng+ILtBeDW99EqsUJsZAuz5rWZMcbRrHcFR1c4TA4azXpncHS8x9EDjumzpMFRtzwmBkVXOcCRn2Q1LwCnyALJgaKruE1GwZHS4DgG336bOS2Ozk9V8+GYbVnyVLWxzCjnHyM4ssB0f+O5B0deaPcOoMGR72Ry1Do0ODpaHFMGR63nJA6VVnCsalPlCmxldAFHW1c1wZH7SR4c3YmtkgYczet40gqOzkoMjtG21HdYZjiUx5I3fR840jk14Ji8nMHxT6//xVZ4px4czb2iwfE36v5R4Gh7HY8HHJ8No9+ZL8dkHBz3pgiO9KcX7T0qfOWTYzytWZ/V4GiFRLNsDbOK4R5wzFxLGhyTl7sxjimBozXcnbguM8Bxxgy+jicFcLR9HSm14FitZnXbexz3Chgmfh0Pw1IHjqcEHAOeJXDkjceXUqYMjq4XPLHcgWNquqoTX0R3mVlKXdXO4Oj8Oh4rODrGOL4q+zaOlLIzcX3S4Miuagc46i5pygOOT4Mxja3p/CSDY4UMtjh294DjE2X0O4Jjxruqrwg47hFwrKbA8bnkwNH+ztCMg6OrrPBotkntGEd38JgYHF27qrUHu5ZfHtPmmrfRMhMckxrjmJgP3IvbZB44jk4GHHkvPC9+zjw4+fxXg+PrqMbX8bDFcS/BMXGLo7XL+hkGRx6YEQ+USj04viNA+M57cmOLXC++VXQaOoKBR27LD+azBmxtdXxOMjUCGC+wuqBSG7Cvs8iE8csxBL7ixYujYkUBw0r6/YzmnY1OqljepgoqLkV4rFq5CkqW4BjHDwVEX9W/KTBIvSBAaBzHNTPVYXIcdLgXdbehBsfPBRxHq88ManDkpwb1N6gTgyPnHctm3KMHHNNu7jJDd2GpNddtMwKOZcuaL8zoMY72b1WLfyk/+7X2IeNXKUoKcvrhr8Tn/vGWDRxbG3Dk09Qt1dQBiW3RWta1biuwKLKDowBm8xY2cLR8cpCWkbTzWMaM6W7GODIPOH36tIAgofG4FDgnVKGTvBjnJK5cuYpdu9nimDQ4uuZp1jAVzkqKDRztLwCXCrbSqxoKXxU4NC/9difCo5k34MhvVRuwcJVbcHxXwo3esYFj7lwCClMQaAFHj8+mbO7ubQOOvXr1sn9/mlCYFnXr1k227ageAGSLo/X6kQOs1zgpmW3ICYUKFVLgSBjksfEJatenqE2YVTqcnxycjdGj+a1qA46ERquvC08IND73orBGCmW9Asc/CThWr4n5CxZhj3kBOD81SHgU6e9Qa3A036RW36nmN6yNZJlAyfvUHThar0tm+HIWgiMPXB88TTsVwTHxQRMcrZ8cfPd9AcP3xSne1xfaVVZoNI7DZYIjv4NqLiYB0iF+jNwq13DHMjMzftqoWLFiKF++vENljco5VL6MVrmyKFeunPraRgWJS6gsXqy41JD+KzD7kiqMDTg+L7WT5MDVvqwcS4Pjp5/yW9VjsHy5BkdCoOMBGMdDMAYc+bCM/mY1w/lpQk71C8D5igS2PBjnMpYZDvWsmfZbnS5m3lUZMT5Vbf3kIH2IMgCZnIy/0Tfpq1988ZUCRxbezLRe/I1kTgKO9CmTUSUrW2H+nFRyCI7lKpRDi5Yt7DDYqlULUUvVCtmqFZfboKWEtxS4pHS4zLdsiaZNm6oM//Dhw7Yz1cb0ot85WnA8llVm9VGT3lFRUaqrmgX62bNnFQieOnVcIPKEAslEOuMQwfHM6VO4fv265NkCjpWqSiX7FZU/WX2M+ZbJv6z+ZS80lZ/pFsjf/Oa3so+XNDxKhf0VyvZ6HrZE8nOtXEdx3kgty3qzjuI2psXRDoYilhHWssIa/s57Fgk8vvnmmwKOuQUSpsA/wNeejvyEmzU9PeZsTBP6GNPJem/Tz9iqxxZHfvOeIjwmJ/OaHs4TNrt06aK2Y+WY5fzf//53VdaTFVIrxud2nM+fP78CWcIgvztNESB5nJwmJa6fOXMG5s6dhzFjx9nB8Ve/cpTnL6iHY2QqHMKy/jlV1jMP5j3hkAnj9q/+4Y+oXKUa5s5bgF27dmOzgsFNAoibldTylm2irWpeactmbJI4RpttQMneA39/f3UNrJbZPpshcOTB0FHi4uLsio2NFcWIogROom3zsQpUYmKiJE6MKBZxMbFIiE9AfFy8ei9RtarV5KK+hb/+9W+q0NKic7yFf771tohTcQKGK2fgKxXext/FIegUfL0CxRon9/G3v/0df6X+ymUd9te//VWL87bwN2We0mGynYgZSt68eRXMNm7cWKlRo0Zo1LChUmOlRlqNGtjFOE2aNEETid9UVKtmTXGub/HnN/6C30vm+PuXX8LvXvo9fvf736sudep3FnGZGfHvJfP8ncRX+v1LCoa/+uprDBs2HAsWLFAfQ5837yflwNS8efPw008/iXQ4pZf1/Lx5823x5mLZsqU4d+6sBxxTaUwTky5m3qr4+Hibz4tPJ7oPKM5r6XA95Xac3rp1CyNGjFDdJxQBkN9k5VSL80bOYT/8UBzFi5dQ8QsUKICPP/4Uf5La63OScf1KMqwXf80CmhmUMzjaMzn7somjxYrNW++8jUpVKqNd+3b2TLxjxw4qI3dIMnZm7gy3rGMmT9jk92mPHTum0s4Y08wUMJz3WNYZ09kU4iatCY43b95U3xA/dOgQDhw4INqPgwcP4OCBgw4d1DpkkYlHoNywYaOAYxW89tqf1JCa3/729zb9Tuk31O84b8J/L2Fav5WK9G9++7Ka/8NrrylYY779j79LXi6FuwGDv/9D5lX+zoL/nzJvkcSl9Lp/yPbOMMFwVXbYllk26HBdXvzjn1p/t0rC//inPyF79uyYNGmSFMB6jCPTkPera1p6zGFME+NvJp1oly9fVmXW8OHD0bdvP8kT+qJfv/529e3XT8Swfvaw/v37Y8CAASqsb9++ap7T6tWrI2fOnPjyyy/x9ddf2/XNN9/Yp+707bffqim3++qrr1QFnZVaHhM/Hchu5+HDR6jlETKlOG80wh4uU8mrx4wZg359++OrL7/G88/p7uhfS16rfP83v1Pzv/6NQ6wc6TCZ2sQwir2gr//5DdSq7YWly5bjyJGj6kt6e/bswr59u7F3L7VP5g+oKRvZKHZp63haXKZYGQwK4ut4nmBwZOYfHBwMHx8f1XJidP/+PanV3hHdleX79rD797l8Dz73Jezuffj7+sH3gQ+WL1mKksVLqkKP4wE5WNSuP/0Zf3r9DdGf8cc/v24Lk+mfGCb6s6xn+J/+qGqVfFl38xat0LhJM6UmdjVF46ZNlDhvwk1Y4yYaEJs1bapaV+is/CYlnZ5auJDTn5QWCrgtnC9hFJdtItAx7qKF87F0ySJMmTwRdevWxTfi1Gxif5etpbZXB73//r+U3rNIh/1b5j/Aux9I3Pffk3mO3fyHqiWx1jZ27FilMWOocWo6evRo5cxjxphpYukbZKTUsqaIcx5WBYirM3kyxMTGNDHpYp2nsTAJDQ1V/s/uP+s9wDAtX5Gf0oMHvkoM8/NjmI8aM8axPB9//DE++eQTfPHFF0qff/65TZz/0ibnsM8+oz5X+uijj1ThyFaY555/Hr8iCL7oeNWOVUmDI2vHemzO+//6APUbNsCAgQPw448/YvDgwRgyZIiapqRBgwap+4d+x7F0xkz6mcLFY1lrroU4p/RX+tyqVatsvRYLJb9aiMWLFmHJwkVqSqneDFdJfGrFihWqtaZixcp455338Oc/vymVb1vlXCCQIPiXv2m9+eZfRVJBp1RF/f/wlzf/hjf+wor83/Hf/32oYICVJrYoUUWKFFHT774vgiLfF5X5YkpFLFLLRfS0aNEf1LRgwYLqYUR+NvBPLDekjHhdyo0/SdlgurKNXmOYi/4gEMzC/5NPP1V5bIB/gD3drC1pJj095mzu0oat2wSdlStXik8twUIljrk3WowFixdhoUitX6jD2DtmhmLpT+wuwoQJExRUskJKkHSVhs/E4jYU43BbtmCyR6ROnTrw8qLqoVYtL9SuVRteNtWubZNtuY6AnReXvWqrMr1alar45KOP1dAK41uvv/66+NqfnMbg2v3Nxf+MOLSODVXt2rXD/v0HcPfuPVy/fg1Xr17GtWvUVVm+Ibop89cl/KrStWuMo+fNMsVyKDIyMtF1yGyfzRA4mhYTUq7p2uD82bOcP6V05oxex753Ts+cOYWzZ2R66jTOnz2Hc7J+yqTJyJs7r1A5CfwFRensZvv1b0npQvCUqsEKraswUruu1f72979XcVngcVwiYe+07PPQ4aM4cPCw1JCNDuHAIak1izhvwg9ITXr/oQPYf3C/XLj9qmbNcVnsziUAcLxAYGCgovigoAClYFkODgzS4rJNjOfv7y8wHYjIiDC5oJcxRmozfK8jW4TYikkAzJ+/APLl08prkSMsP/Lmz4d8VL58yJEjhxr/xrFmHJvRo0dPUS/07NlbNbkzrHv37kmK61nDooYO/RG7du1EWFiY7So6zJMhJjZ3maExjhe7c+eOgiP6PZ9UNWKY1gXRRaVz59g9eF6m55V/MR67Hby8vFSm82epBP31ryxobYXvX/4i4vSvNnHZEfbGG2+qQvKNN1hAvq4yq9/+Vtdif8VxNwKNvKfcwaM78f2ivI9eePEF/O+jD9G2fVtMmjzJPoCcU8o67icpTZ48GXPmzFWZmjGTliY9k0pXj2WeWdOb8OPr66vGQnFcrYF8ivNDBgn4G1kqAtawQTIdNmyYFMJ91BCJT7N9hv/890N89PGnUvn5BB9LBYaVmA8/1vpICtePPvpEi3E+yYYPZf6///tItv1cIPB7VRCzhdqMaWMrdvuOHcT/2qF9B7Z0d1bqYJEJozp37irbaRhgayG7rbXf21p6fk3/1g8bcp6yly8izuthHb+R++Y5vP/Bv1QLFPNyGoHRFRw9vpvY3KUNyxkObWCX9Rkp70+fOS9T5pdaKuzsGZw5R244J3zAcOahOk89c+aMyicpb29vuy5duqTkLsxVZv2VK1fU8hIBUT7Ays/40j85DIzKJr6Z7ZNPlT6VyoORa1g2TsXX/y1+8vY/dU+nadE2rdoqzNbSrWWdd4h5PhsMBg4ciBs3boqfPRSuYg9tFNhrq3ts2UuVoKbW3i1OdU+u7tVlQwblrjfHuuy6Lj2WIXDkwbJgOHb8GI4KbB09fATHjx1T3VOELza7Hjt2XKbHcFjWMezYsaM4ceIkThw/iVMn9Sevxo0bi+zf5rCNS/yVajF57vnnVMuHGe/HcVdqwKnIMQCb3WovqvGD3I6OsG7dWgV5d6Wmc/v2XYvu4Nad20qct4dLwX+b4bdvqy4cgvBtmScEMqPIiPE4Zs2YKbWWWijKmvR3hVGsaFH1WoEiRXTt2p2YmbLWbcTaOMe0tWjRUj1lZjJKyjyBpsV567IjzHQjsiVo+/btbsHxl268nYysZs0MrVPW7G7cuKEqRfTj4+LTWjLPZSX6OtefUuuOSdhJ8XtWqDhdv369egL/91IB4lgvU1ul9MB/To3MgwF62cR55ZWX8fIrr6jhDqxQqTGObFVUMOi+1dG9ZDvbA2QfSaHfqXNHzJwxHXNmz8asmbNkOsem2ZhtE+cTa45U4GarF9pel1qySi/JENPSYpMoRsqbeMydMa1tLwNmofTAxxcbN22WCuRQW4WyO7p1l4qnVERZGdVixVTCelI97eu6M55URNlqw3yHY2zZRcg3PnzxxZdKjlZxq3QruiPOF/jssy/UU6llypRVY2JZAe7ffyD69RsoUNpfdWH2ETjlfL9+7LakHF2cVunWpH4CkR2QO3cedS/Rnzk+3PHgghmGoaWWWVGiTLjcMyxH3n33Pfw4ZCj8fHVXNf3V+C6nZt5unP2F+afrPcxlI6sxj2QrGMvVG1K+Eo5u3rxlEZet0mGMb8KYxxI+CfIREREIDw+3i+WYdZnrneOESZwQ1TMaKnFDQ8Oksr5F+e6777yDv//t/wT23oJ6/d/b7+Dtt97Wsj1Mo6TCBPRk3gDfOzL/wQcf4F8Cj2wxtI6f5bx5HiMlsYGA9wa7xJlOiS3jjuXuumTUMgyObB49fuI4jh0VSBRQPCGgeFzEMTRHjx5ThejRoycUPDLs+PHjUmCeloKUrZJnFESOHTtGaoo57DeufrRdaohq6ijUXB8uMesMcBIc2STOlkI6Gpt2r127YZtew1U2AYsc4eKQEs64LOAYh/M3xbnZ0khyT6tZLxAdffrUaahZvQa+L1wEhQt9hyIy/V5gsHDhwgKFlAMQrSoskMmnv8zYNz4EwQcSmNF37dpdYFCDowFEA5RanDfgyPkukqnqgccExx07dsjNFW47So8Z45UzcjVzXc1NyMKDGRT9heBICCQcagk8yj1x/KQLODKcT7GqlvkLst1ZbNy4EdWqVVNdFizwCIIEQnZtOCCSYTrcKkccwuOrAo6v4MVfCzgKKBIarfDouI+Slrn/+JDYRx99KH5DcJyBObMEHKfLlPAoQDhbpmZQOecTazZmzJiFBQsW4trVayrdHsY7D5pPyRLFSt1mHrOYSmtJcwc4PoKvXyC2bN2mWg17ChQqSOzZBz179RF4M+qNnr172STzEqbX6x4Odvl16eIAx88k3/3ss89EepoYHJ3D9PCKL2Tbb1GyZCk0b95cQWmfPv3Qq7dIfovDcvqIevfuK+qnxGUjrjciyPaWY9XgmFvuJWdwpP//RipUnD7/gtaLIr56yixTL9j8/71338ePgwUcfSzgaLnvPeBo8y2LcZnlpWtrF8GR5TEBUJWzIoJgSjJxKTZOsaWQ++FQC0JgUgoJCVFyhAWJ2FMYiMCgIPgHBGHD+o0oKxWW96WC8NY//qng8P339TAyA4FJyfpwFcGRw+OswEgRCK3bJCf2MHHsJe/Hu3fv2lJNG/3MkZ5JOxjXu14Pq6W0Pj2W4a5qXli2triCI1sdjylwlMLymKxX0q2Rep7vBDst0+NqjB7BUd/sz8kNznfKGekWE/WZPr5eRMQCjmK46d7mDc8mX46/IbmbPn8DjQoclcx4AIZrp+Q4AhPn+o3rqsWRTscLl1ZTF8k2bwXHokW+1+AoQEhwdAeLVhEsNVzqeb7mh905BMcuXbrZoJFAaMCRLYsGHq3gqLtyGM8ZHCNsR+kxY+b2TO4WMzchfUOD4zUBQP1+u1Piz/RpQuRJtizyiVWZ1+E67IQNHNkVc/r0WfWQAQd9ExqpxFDoaHE0y0aMY6TBUbc4ssvNCo5WOExefIejLmzZ3dilSyfMmjkTc+fM1S2OSimDI7+swC5tjvk14GhtcTSWXGaWaE1yF8Vjbk2lN/MwWzrHCzj6+Qdh27YdqqAiBPYS8OrVp6+ShjRKILGPQBkl8wzrJeJDDIRGtvBxnBi7qnWLYzalTw1AKjh0B5AOcOTrxfgWAD7cZQXH3goe5fcJhfL7fJjCHJMVFq0iOFLM3/gqHT1c4wUl08DAssLcF0ndE6bi9N67HyQCR3PPGx928l3OevxTQY55iMgYx9JzLLcCR5avFiBMTiyXddmsx/LxIRuOl9RDxoJUj2CwTFlOmzD3kngCjiEhQaJQBAQEY/26DShbuiw+EHBkayJBz/pav5RE4CMoWuc5dY2TGrkDR+Nbrv6WWhlzF5ZZljktjsc1KB4XUCQ4njgmEHn0iB0kTwk8nmRry3Hdhc2WSMKjAUd2VXOANG9egqO5uZO6wTVI/tY2r7vXTIsjB32bFkf34mBThwOzBfKKgKMRwfLGrZsIEIeLf+jc4mi9EPYLwto8rwsl8wyTS63i8wEIBY7VHC2ObEksbGtpVN3SFlh0lem6NuDIh3aYYRMGzdgeKyQyzAClqzp0cIDj9u07EB7OAbTqMD2WjDldaxdjpnjr1g2cOUNAPIHThET1vjuHGOYafprje8+cVeN8CY41a9ZW4Pfyyy/ZB007AJEAyWVrmBbjcTA2xZZKPpXPp1dZmeK9YQrN5KQLVM6zFeZ3sg3nX1QP67Aywpfdzp37E2bPnqu6pgmLHEecnPjqCo5z5INipqtaCAYPVYuEAx7dpanHMs9c0zc+/qEGR7n/2TWmwIutdX21DIAlpf799VOu7B5m5bV8+YoCjt/g008/sQHjl8j22Rdq3CPzYt0KqVsXtbisRYBkgcmx2y1atEDPnr0ETAco9ekrACnHwxZPBY9ynBpyCZQaYq2Qa46PT/OzHOEDLsq/DSyyAmUqUbYwXYboBgnTSMFtFDi+9756IIzjQZWRgyRvp/+agtxjzsY0oVzTx3RVq7LWAoLJiuWwlMuXr12xN/QQOglW5pkDPlgb6M/nDWzPGojcgWMwwTHIX03t4Lh+I8qXK49/vf+B6p4mNBpwdAd37mRtYbRCpJEVIpNTUi2OJj2N0mMZ3T45y3RwVBJwPH6M4x1laoNJPfbxCA4fPiTgyLGOx1QrDbfle+xy5sxlu3Gfc9zwvNHdyAqOBhopZkgGHHlciUUnvGKb6jADjpevipPKPGUFx4cs8JKhfgWOFqlwA47+fqqrr3atWmpso+midm1NTEpmfcGChVChQnm0adNKFeZ63GIX1WXdtWs3BZPOLY6J1bFjFxVv0KCBChzDwiLkvNRheiwZc7rWtmUzZaZ489Z18B14J09IBUkqR6dUy6PjKxsqzBaulgmPApLnBBpPS/j69RsUOL766mtqjKO1FVGLT+T9SU0JiybcwCPnCZB8mvp3fN2JrUuO90ZqwJHShads8/zv5H5ihe0F9ZADKxrTps3A7DnO4JiS+K4ztjgSHHmv6QRjt4sevM37ieYphLPWXNM2Ni4e7Kretm07hg0dam9xJJypFkZbC547GXDklPDIPIXgyNec8IEB5r1sQfzs86/wqYJF0+LoeCsAIZJhHNNlXo3CV0k1a9ZMtTj2ZuuianVkC2jiYzLQmBQ48snUXLlySQXqJXvDg7UMcRemxz5ySNTz6n5hOaLGOHrAMZHxvJM7d3frWbl2DB3TDTaq3BVANGWwOxlwvGKLx+5rtjgGBLLbOQgBfv4ISgU4ssUxJCgAIcHBqpvb3z8Q69auV+D4gVQQTItjarqpjQz0cd68L9SEWdelRgYcOebYtcUxpfROyly3T88+UrKsA8fjR3HiOLurOf5Rj288evQwjhzR4EiQPC2F6InjJzB+3Lh0gKMuHNWrR57T4GhtcbQ6oUN0QhcRFmV6RcCR8+yqvklwlFoNwdGa+O4k/5ykwm3g6CvgyNYXvg+Sb713B4pmDKNruBHX8TUT5cuXE3BsLRm2AceuChy7dCEY6k8zOcMil7UYh9tocBxka3GMUIfsseTN6Vrbls1UgeNNBziyVV11UasHYGzwqMI0PBpw5PSsgCPD1q1bjxo1aoJfF2KBp1sYDTQa6dc5JAWOlALH3/Gdn7pCRaUVHNnayK8sERw//OhD9XTrNAHAOWmARqPE4MjWiAQk2CpjOsiRrh7LXHOXtnECPr7+/ti2dTuGDx2GXj17qnGOCsoUpPVBb44vVGMMnWWAkXH5ihPmKeXLV7CBo25dNOBoADExOHLePCjzhQJHfp1Lg2N3OQa2KLKbXHeVK/WygqMci4JLDYzWY6P41gkDjs+JX6uhGrZ7QPm3egCG3ddWERiN9JAnFugaHH10wqkPnunWNA84Jn3u7tbzzRPsqjY9fEYsj13D7OIQMlu5bFohGc5y3Q6EUj4HERZtSh4cgxAaHILQkBD4if+vXbtOfbzjfVtX9bsCenz5u7UVkeKyaxhlhUMdx4Q5urtdt0lKv0hwNGMcCY7qwRen1kUBSAWUfDhGgyNbHAmPHA/JeGdPn8FJAcdxY8YgZw5HV7W1UEtOCh5/LbXE5x1d1asFHN05qrPotHRG7ZB0YlMD4jKf6GJzeHofjjGXieDIgrdGjRpJti6mBI4UH5LheCKOcdStixRbGjnWkRDp7uEYwqSW7t7W3dl87N8zxjH9Zr0Jo6IicUvA8QzB8SQf+kr9t3/p++zC5lPVHOPIz1zy5e9/+APfA+YAw+REYGRrowZH3VXNFkfeG6prLpXgaGS2ITj+96P/oWPnTpjBLyXMmaNgkN3QroCYlAw4XreNceRNwbSTYtdesfJY1pm7AiNBgN03wE+9jmfk8BFuwLEv+vTScrToWcWWx95quEvXrgTH8gocme9qSLS+W9R0S1u7qo30evMyZo5x5FPc7J5Wx2HrOlcP5/TqpX7XyECiaxinBhz5cIx+E4er/+uHLq0y0GjmHeA4RMDxgUk4R2+Sm3T1WNJmxjiyxdA04DjK4aRl4nHK1+hw6gSOaRChMiQoWLU68rmDdevWoYKlxZHg6Ap0VFLg6Cxuy68SUakHRiPzVDW7qtmiaszqa0+ivz0WcOQ4Rs5zjKPqphbZwfHEMYwbO1rAMbvcvCmDo2lpNPN8/9avXkgeHBM7rCs4OuJQBEc6XEbB0S/AXxWgyYFjauQOHAmNuiUxqYdjHOBIsduR8oBjxsx6E7sDR1eZcY2u4XZwlEyMT1WnFhytT10bcTkzwFFJvQxcwPHDTAZHMaYd4YVPqHos6821wGEPCiuz/P7tiGHDFTiyu5rjHNMDjo7X8aQEjo4Wx6TAkS2O9uPgeMt+tu5qjnO0QKI7ZQQcrXKA4zsCjoMd4GgbhkRj7v4kFuSPy1T5Zjt/63xSltngyAYdJyhUT04n/4BMiuAoAJcyICalxweO1vmf2zKvq9oJHPVT1HwVjztwPC5x2dLIwvOEgONYAccc2bOrgs4KjlZIdCdXcPz0s2xYtXo1HvhwTAUdLzkndaznOVj1NIBj4hZHA4mJoZHygGP6zfXmNUZwtHdVJwGOWlx/wjHeUeSuxfHl37+C114VcHzVPTi++pqIU9tyVoEj35nKF4B36tJZwHEm5mQAHK9ddX4BuAccH5+5dqu6B0eBL44ptHT9amUEHA0cUgYWrXIPjvaWRPmNtIIjZcY4OsBR/JllhL0c4f2g5fQ+Rzs4mq7qdzBUwNHPBRxNPmBNU48lb5kBjqarmg/ZGHB0BUhXmfXqyet0tjimXtw+ffuwgmNmPxyTlZZF4KhbGtULj92C4zEBRxaeZwUcj7u8xzEd4GjrqiY4rlxjwNHRopiSjEMb/ZzgyHiucdMGju7lAcf0m/Xmtd7EqQNHs8728EwK4PhHAcfXXk38BDWlwNEGj1y2PoHNlki2WKYHHNV9JDLb8MP8qQLHZEDSDo5yPxlj2nnA8fFZ6sGRr8DRYKiVfnA0IiA6ltMAjrYxjZkDjlJ+vOj+y0mOh2R4j+jual3+JA2Ov/QxjumxrARHIwOLVtnBkdMA/aU3A47r161HxfIV8C8Fjm9lAjimX0mBo/EzoyfNsrCrmqCYHDieksLznB7jOHYscmTCGEcPOCYtDzhmjllv4iwBxz8IOLq8ese0MqYGHPk6Ht4bGQHH1I5xTK4F0oCj43U8HnB83OZa4Px84Gjtpk4BHA0IZhY48sXebnzeGRx1a6MDHN/F0CFDPOCYCZaZ4OjaVZ0cOAYF2bqv+dBMgK3VMTjkiQZHa1f1Lwcc+XlB+wvAHWMcjwo4HpXpseTAccxY5MyeEjhKBvD8bx16wVaTFHDkZwh5wzMD41PVPk8QOPKp6prp7Ko2D824giPHNuoxjh5wfNxmvYmt4MiWc/NQjHoljwUSjaxA6Q4cXcc4qm5oAcVXXnsVryTx5RjXrmqCo4FA9/dRCnIzxtG0OFo1c7aWNcy8AJwvC7eDo+vDMZ6C97GZazrzBeC+fgHYunW7HRz5vXtCoTM4WmWFyJTB0dFVnZycwZHvceTDMWkBR7VOxHl34GgqQW59PAmlBI4qb7fJY6mz9IKjEeMnBY7JK8Su4MAQhMjUgGNquqrT8mR0RuR5OMapxZFPUMuyAUe2OgogWuPpruq0tDgmDY7OT1WvVo7qeADGvUNaZRzaiG+5p/NlWoujgEFGwZGfHOTgb0+L489r1puYmeLNmzcEHAmDiVsck4JGvq6HL/9OCRwpeyujyIQZpQSO6YJHDzg+M+aazonAsYdri2MftawemLFDmgMcVVwJSw84Orc6Jt3iqNS3b6rAUT2FLfN95Bi5HV8Azk8Oqvc4esDxibCMtjgSGvlwDOfNU9XJPQyjPzHI9e7Bke9WXrd2bSaPcUyslB62MWDqAcckwJFd1fxWtRUc+V5Hvr9RjXEUgBw7dlwqwdEifukiETh+ZgFHOmBiJ3XnvCbMKLPA0Z/gOG2aAoP0giO3My2ODnAkDLLVUb+fMfXgyNfxDPKAYwbMehMzU7wlvnLm9GnndzfaZAdHAcST5slq9XlCAUfZhp8iTA4c2f1s7aa2QiPj6Pc76q5qKzjyfklPwak+6ylTBY7/E3AUv2KLObuq9acEHV3TKYLjNAHH+fPVFx+U2ZLNA46Pz1zT2R049lZPVZsWR8KhDR5trXkaHI30ctLg+AWyyTSbAkOr0giOVGrAUeI5gyO/VZ0nTeDIMkSVI7Zlt+DIdPSAY7rMvMcxvS2O6QdHhxQ4BocmAY5vZUnrohUc3UGkBxxvmG9V65d/u3ZVO49x1OBIcZuzZ89KIXpawHE8smfPqb4tyhvXfGdULVtkDaeYMZhuauqTT7Jh5YqVahDt1avOMGhER6TchRkRHNkkzq9cpNWsF9l8crBGNQFHAUG+yJsiCKZF3IaZdKtWrSzgqEVoTB046k8SDhw42AaO4baj/GUYL0tm34Dx8Ql4cO8+Ll30xsULF3Hxojt5w9v7kkjiyPKFixdwXqb89qq392Vs2bIVNWvyBeCv2MHR3Qu/nWW+JuP4okxmPFVtWir5ver/CTjSr1jxmTVjJmYICLIV0VXTZjpkD2dc8fuF8xeo+8ma7k9qRvgsmms685OD9x/4YdOmLRj644/o3rUbukrlk9+/79atB/6fvbMAtKLo4rgiJhZ2fCYggnTbYICIgNiogAUi3SpgIC2gIIpIg5R0dwiIgILS3d3ddb7zP7Pn7tx9e++7Lwhhj/7Z2dnZ++7dnZ357ZmqW+8L3kII87H6dWVbt64rBTy8iBYtWpQhMasMpMqY+RGjTKxHHpElK40ysTKHKWPGTLIWOuARE4BXrlxZPhNA2qhRQ2rcpDE1btqEGjZuRA1538T7qKHZohUFW7xEP/bYE3TF5Vc5dQIcCqgfzPrrGraldYkbdwndc8+91KyJOzhG86xXgcVveLkG8CkEQnbdG0maFoo0HQ8AMX7tZe1ztFeWLMTLOsDRLDl4b9iSg7FKARBQqKvH6DZa2Bt36623ykuXFxzPd0sWcJzzDwOh08cR8IgR1uJZZHgUUMQxjkd4xowZsl41wHEePDX//ks//viTPPCouFBp6VugvAla0jisjgHJ/uWXCzxi6UEUREMxHY+TUfGWAwjENpqQRtPhvA0bNkimw+9LaAFhp9++bTt15or0/dJl6MXCL4a8iLoGdSyCxxF6/fXXpYAFBOJtH9tatWrFBI3QxQSOdsGODXTq1GnxIMPjhft69OhR2eLlIJowcwC2OBdhvEEfO3Zc9rFs4zIGwr9nzuI8juU0Z9HMmTNFEv5rFm//Zplj0IyZM1gz5WUKE+MP4hedN998U6AR4Ic1qQUGGRDFq2hJ4kQ4Ds/kjXTddYBGQGcquuqqawQcQ88Ow2DCABLPHyrRS6Vix+TQ3bt1k6ZqqEePHqGwqlsPV6H4bpyWNWjAQFrFL3C45uZehD9LCX22AkuYea/v8eMnaeOmreJxxGpdjRm2GnzdgBo0+EZWg/nmm0aOGsp+A6xNzZIwmo8Z7hDGqipozkaZlCdvXsqWIzvlyJUzJHgSXeVi5Q5Tjhy5ZLWMPHnyyFrVWDlGwVQmAv/6K5n8u/4X9ake7yMumpBPAbRVqlSVegSrMMmgF2dFJNQVuoa7XX94hWMYXf3gg2mpRfNv+cXfrByDssO+lgj7ec6x74272A3giKUbMW4AdavWy/FJAVL3UT/Dcwlw1PWqo/V3RP1twntoF+SkFXAcMZJeLlacHrjvfrrnf/cIwCkM2nAXSYA+COcAOHGeDZ4ap/vRdOedd/IzkVPWjgd3wDQfaV6y95HvVN44O92ZtiSBIyrSZcuX0Z8z/qQ/pk2jP6ZOo+nT/nD1h9nKMd5O4+2UKVM4PJX+nP4Hzfhzumx/+ulHKlToBbrjjjuZwG+jO+66K6Q773SlcXfdfTfdfff/6C7Z53PuuJ1uuvlmhrJn+G9MZSg4wpkEmctkMM1Mu/ZwxtnNGc/JdN7MhzA6zyLTARBwMxJq9o3DZ/b77TeqVaMmvf/ee+JZKl26tAjLENphe98WzsGo7LJlywooAhqx1CAm+65Zs7a8ZfuBolcXU1O138ODfQXHTZs2C7TNmDFTIG7GLKOZDIAqjUPexssOYBBbCTMIzuA0o0aNoZatWkmn/OrVqlE1rriqQtWqykAmqHrV6iwThqpWrULVqlalGtX5HI7/8MOPpCK9/HIDe4BHQORVV1/jo6sdIcyg6cDm1VdfxdB4VVjlqPIHRH+56VNKYfb9998zZIynyZOn0OTff6fJU36nSb9PpkmTWZM4LEJ4kiM3bsL4CTR1ylTavHlL6F54CzfdD+zMGK7vqZN8jSG+zicZgPbtP0RLli6jyXy/4HnBWumjRjmyw6yRsh3JGsHHRkh6xGPlmWHDRlCzZt9ShYoVqWy5cvTxxx/7qnz5T1gVOPyJE1feiStPH3zwgUx+j244AMiCBQvRCy+8SC9y+IUXXpBlWgvxFuFownrX2OJFG9O6ZeCXHnS1QD/dhzNkoIcfNnro4fT0UHoWjqXn/YceNvsSx+L9++57gAoUeEY87LsZMmC4ftJUHU9zdaT4i9H0OuDl/MCBA1K3Atps6Isqrqeh3fAacj2K8wCgcArBM4epa7DdtJm1ZbMILY1buLxBGoS9QjzO69+/nzhwbmFmwAt56tSp6ZZbbqGbeT91alVqRzeF4m66CeHUMpPFLbfcKnkIL0a67jq6bSCMpmdsY1EGzp9PP/00/fDDDwLHuF5YyhbADYFDIN3HMfu4xmk4Mc6uxFiSwXHhwoX0O1cqkyZOpEkTJtLkiZM8mkgTJ4znimQ8TZw4QQodpJ3M4YkTxnH8GAbHtvTG669RpkyZ5EJmypyZMmUxwgL6qkxZnTgrHmkzZs4kD/+bb75B8+fPle924sRRR8ZbBJ1gHT8Z16sUOs5h9UIl9uLbhQcWVR8xfAQ14rd4dNwGYAD+IIQRp/H2vkrTom8j9tFM/fnnZtUYDI7BetXeCb8jNV1fTINj9B64oOJ6DaB58+ZT1649qH37DtT+l1/o5w7tWb/QL790dMTxvA916NiBfpFjRh06dKCOXKn8/PMvMqjgBa600qZNS/fz2+v9995ntk4zhrx1Yh1TyIpLw2+kkLzx3nOvNDlrsxnAT5qbAXFeXZ7SCH0Ref9yTnfFFUh/OZ/n9tfykxcSoTieyJB3MiXly5dP1qdeuHAxrVi5mpatWMFaTkuh5ctp2TLeX4YttMwR4kz8okWLGFCW0t69+8w9se4LhHuDZw7hwM6MGXDkl6UTpnzDpQYD7dt/QCrd9Rs2mMrX0eYNG6ViVW1ibd64gbWeNm9aL2k2btxEW7duo9Wr1zJEjuXnoSP9+OOP9BPrx7a8hRB29NNP7Vg/c7hdKO7nn3/mZ6+9eFkAkxgJfS8/O3Ac3H33vXT3Xf+TNXwheGTgIIgrN17TwAuECvx5BshChRkkXwB4AkYVQgtRQcTzM1uo0IvirECagoUdvVCYnnqqAL1X5n0aMmiwTOFiLiQKEM63VhmCa+s1PRaYuRa6Rd6LpXXHFurp46c4zOfifLQQwakT1oIID+Ya1to1IvFMrnFbD20hbt26tbRixTIu17pI+XbFFcbDjLITYeN5vsqRKVPxQq9xV16JMMrKlPyyfi098kgWBlAzeBUCjKJbGUDQ7mYWTY8++qh0+WjXrp10X1LIdpva93AZulfkelF3h+Igex/wiOt1pi1J4IibOX/+fJrIIDJ+3DgaP5ZBcJyBRHgcjDh+3BgaN3aseC+giQyYExEeN5bGjhnNBU1bepvfPPHQo7k5B29VOXOC5o2kKQRbSKmd02Tn+GzZslLp0qVo8aKF8t1On8bFS7jHEKYFgCohZp+DhdVHjxrNb+bN3L6JAn8Y2AIAjF9ogsEW5372GcDQeBk/+6yeeB4xQMYGxAAcjeEe4AECMKKMP4n1Zs0R+uuvv6lNmx+pRYtW4jFs8V1LasHbVq2+C6nld3yMBa/b9999z3E43oq+++47jmst59aoWVua2/DWmipVKrqWdV2qa0VoPhYhrHLirr/uej7nerrO6ZeIAiusSZnBUOeZswVoTHH5ZRzmLfYFClOydNk0FGpGGOiSUHDUvl7oLoICzUzgvYYBY6NbOIu4cF6zLlRIr+U4kcax0CSF5qmDBw+Zq+55jAJwPPMmZRFf59NO5Yt9MNBRfuHHS61WNghD+xnyNexqL+3ft0eE/b17Obx/P23bup2mTZtOfXr3MQOjnMFR3XmL7g146TDqzurhCPt8vHsP6fYA6KxcuYqU+zfffAtdd90N8hKFLbpeXHstP08YIBZB6NurYfT9hTcI/cWKFitGxUu8TEWLF6VixYvRyy+/LCrBcS+/UoL1CodfZb3i7Dvi/cKFi4hHdCS/8GO1EXMhWbhwjvnl3SAfh1tSrwfOVsHweQDHsCZsLmNWQQyPIoCkwqSGHZlzVvFL7RLph50zVy4u/0y3HGzNXJ4og7U81DLVlJEmHmFzDl7uM2fOyi8lhcXTjW5oOgBWu6NpN7NoAmRixhSA4+LFiwUOFRy1FdTeV2FfZe+jXgd4n2lLEjjChYp+ihMmTgwDRwHECca7iHjEARYnTGDABEzCAwnPI4CT0/7000/01ltvCRzqaDvIgGP2kACK2QUWHZBE35ocDI6cLlvWbFSmVGlavHCRfDc32wIeIf+MjAxpyxuXUJNznNNQ8AAcv/32W6r7OTyEdWSKk08ZAL1gB2GljtA+4K92nRBkarw2OWNUtQHHcI9jJF2M4AgBGlUwFProc9i27U8Mgt8zCLIYDiGBRKh1ayMOt+bjbb5rTW0YFhFuzfFt2vzA57Wm2nU+kzdXVFoAQvQ3RKV33bVuhSZhlRNn0mIgDPonXi99E1OG+lgBCrnAsryLIfgLxRlwFHGhZ1a9gFCwuQWcgUq7CTq68HmYOBlg+vjjj1GfPr2kwF23bj3pYDNMcbVm9Spau5pBkWXe6NFvyYpjobBev349HXLAEY+g3hP33gRN1WfS5NoCeBxPGa43PDhHjx2l/Qf20x4un+xKR0FStYehERK4ZO3fj+0uOrB/n/TfRtekXj17UqfOnQ08Mhiif6vI6gerMhBpYLJr1+4Mjp2kX2Lu3Lno9tvvCEEjBnrJC5Yzd2noWQoJcfycicwsA2g+RFMjmgmLFn2JQZHhkcHx5eLFqURxA46IMyru7Kuwj/TFxTtZrlw5GjZsmACyuZAsBxz1OkK2Bfk4+Q3XVK8rthhsinIFZQ483tAqLmtWcnnklQKmLbzkYqAN8mqu3HnlxRvLq5rZJGxojC68YKNbUJYs2QQcAYA6A4qCI7YqGxS9euqpp6SrBjzxAEfkOXne+CVNoVCfUQ3bz6zGaxj1+nnvcQQ4zp07NwSI0cFxEk2cOInG8bGxjvdRmrgZYkDbGCAAWMQbY65cOSmXdKo2HkezzyDpeBnRlwAyx01n66xZslKpd94NgaNreMChs/NgS0Z3Mjs8jmNGj5ERU+j4XbtObaoFj6EDc17oAziGvIXwHNaqLVukMzIQaabgwbmYjgfpnXOi6GICx/ACh+++VcbjoUIfxh9++IlatjTeRXgRIwnTlnzXspWBRkBk6zbU9oe2fKyN3ANMI3XjjaYCM6Ocb3K2NzjSEdBmpDTSYouJvc32Rrrq6lQMawbuAH8ozFKkNNI3XjnmxKXwAUcsm6bpFBztN+ZIUtgUOGV4FS/m5VfQE088LuCIUY3wHGKr67sbcFztAceVbhxvAZgbNqxjcOR8Bmg86Va4dmUQ2JkzeQ5wvS3oOXnqJB05ekQqKLsi8hP6hEO6v3fPLobNnQKO27ZspSlcfsNz2LFTJ6mMAYddGQwRDpd3hSGk6S5dRSpVqizgeMcdLjjiWQIIpk7tzi4QLsRhNgEI6Q1g3nbbrVI/oL8kYPCVV0rQKyVKGHAsZuCwxMsMk3HgEeGiIXAsW64sDR02NASOJ4653ZcgLzQGFt30uqliNTs9tnZT9cqVrFUAx9Uxg6M5b6XkPxccUf6ZQYHui3dc2S/fCo7wOEp3B8fjiG3BggYitek6Pnh88sknZcYUgCO6+6Belpc2BwjhbQw9j4730Y7zpkFT93nvcURTNTyOEydOdJqnAYgGGEMCRDJQjkcTNkCS9wFTY8eMocmTJ0knbfR5gccR3kOAoxmJZ7yOXqFgwDZXrtwiA445KXOmzDLR9qKFpqkaZjIeKipTWbnCMaP4zD4voYa1MdGZHKMQ4TmsyeBWs3YtBkgDc6aZGQDoKASODInYF0B0m54Bje6IatNkrWAYny5ucHTvHQp9jG6G17AlA6E2P4sAkSonriXAkdN8L8dbUuvvv5MJ67//HuD4qQWOaC5zIREVnwuOKhcctULEHI1o9rjkUhf8BAYBfZHAEW/H2GcZj6KRpksYOPK5Mpm+4/FEPH8W+p317NmT39ABjusZBMNHQ5omaXcf8KjN1AivZpAMgSPuwUkDjTY4BnZmTa43mlRtcOT9w0cOS+Ukgw+kwkEltUc8kBiIoJXQbgcaESeSOfJ200GunOBx/P33KQyOv8pcnwKEDI2Y69NWV1shiITX0fQxBjjCCYD57AwEGjA0z48+Qyr7WXKlQHnbbbdLXVCkCDyODIyARgZDCJ5HA4gKjCWcrYJj8RA4flyuHA0fNpz27zP9c08cN/3gUZic5GsKr21g/ub3bGt5HC65nB75peMDzmdgsOtadJXh8mXlSgbElU5TNUCRJU3ULNmPAI7oR9ilS1fKmSuPlHWAQJSR6J5jwt4yEsDIL9NcRpqwOQdTPmXOlIUKFTTgCAh87jnAICDSwKPX8+gnBUe0usIbioEueObsgUT6PEYDR4nbZZ7Nk/8FcEQfR4CIgqJApAOI0MTxE2jcmLE0lmERzdQ4Pm7cOI4bTZMmjpeBMgBHjK4DBGKCWDz86l00YXcf0Jg9O8LwOuaRQgfxGFiDiZQxWEfNmwFdxZ9Z/RSraVq8NYwYMZyaNm0iwIcJlWvVBsTBa2g8hsZrCGFfQQ/exbp8DgbBhMMjPgdhDJrBVr2R7rn+upjAEWbfNy+sYDqoNm3aWH0WTRO1ehWhULM1C2lbt/6eQbMFn9OC91tLkzWuK/oCom+Vej3CK7q4Eli00qJJznTSNoWWebM14IemZrsQ83ocTR9HV27a2MERk+mnTHGVUzCaQhHfJRwcN3Kha3c4R3idJw7SONfjqPlM74F9HwJLoOHSqWIwXHPti6fPAbwR6EAv4CgVDqDRzHOHFhK87GqzF4TuNiHBE7LXNIdt27aDpkyZxnmklwBhl+5dqbPCYsiz6E4KL3L6OCo4YiAa+jiiDMd8dgqA3mcGEGl0kyMzslVl0t3In3E71w0Ax2LSh7FYseIs08cRW4Ch0cusEs5W40xaDKIRcBw6jPbxb4bx1QvlW6z3jYEbgflbtGdcjxlh3yv7uCs9d9cueBwBgSvEcwgYxAutSsshs69LDps0iIe3EuDYuXMXYQ28NJvp/1BGoqtPBHAMrVZnymb0A7+SwTFLpqwCjgYaMUgGMAivoxsXnxQc0epqgyOa5QGOCofqgYy0j2cZg7kOHTgog+H8zL6eSbUEg6P9h0N9HC1Q1LDAodNMDXCEJmDUNabywOjq8WMFHJEeF61kybcFBLHCQLjHUef/MnEoZFA4QIjPnRsexxwywhpT12A0Z0JML2ZyXVR5y2fB0E9h5Mjh1KxZUzPIBd5CGRFtQDFcLiAaTyLA0fRhtOFQt4BA3dc4SD9D91UXq8fRrjzVMJ8opj/wA0cbGCFAI9IijFGgLVt+KxCJfVxnABamaYhU6Xllp0Olh/DVV2OZQFNQGQjEFv0T3T6KAobaxxEj+7AfBou2EgaOpmA0/SsBjvibTzzxhAyOwZv9+vUARzMPm2mWVnD0wmM4OK5fv5bzmZkv1Pts2fcosBgNl0sVg3mvsYIjym1AoKl00CxmwBFwaEMjZIOjVFZ7dksT7pYt2wQce/fuQ93QRN29mz84MiR2BygyOLrxpqka4Ig+jnny5BZwNF579Ta6wKjPjvHmu90+bCEdwBH1x0svFaNXXnmNgdH1KmLkqoHHYgKUBhzD4VHBsVzZsjR08BDaq6Oq2XAd+dWHTp7m8sQp3wPzN813thJj9rnIuwApgODKlct9wTFc4eBoRlWvYziDx7GLsAbKVMCimZECfRz9xC/sl3I6CGFOD3C86sprxMmlfRwBgQDHZ5814Ih8FMsAGe3j6AVHAUHx8LuAGPIsOvt6TOMAjgf3H6CTx/1fbJJyL7yWLB5HeBG94BjaR/9GNFOz9DjAcdLEcbIFXKJ9/00ZHINR1dkYBG2PIzyKkNtMrXEARwOS2cXjiLkQEwqOsVisFxxpkME1LcARC6qrxxF9G+F1rON4FA1Aus3TthQGcUzhUMPGU4k402xtBGAETEIXNzjasIiKMhI4AgRbff8dfccgCGG0tOo76Dt3H6AIYARoAiYRhwnV1eNogFD7XrmAaPpsaZwZ+YlKTitJxGFkNQDPNJWo9zCux1GarkUmXpqruSBzZadHOB5ohOKAI5rMMTjmcYYCs/KLaao2b/IuJAIQbWjUOJMOXoF169ZwQRjX4wjZz0lgMRoulyoGs6+3Cs8CKidUOqYiQsWDSgjeRtO3SrV7rxsOxTnguBV9HKdMlTwCGERljMUOunbqIiOsXUgEPGoYTdp8vJvxPrZr97MsaoCZCdBUbXvidWvCeH5cWHSfM/dZQxcQXb7NNFUDCBUK4XH0ehdNfHicgqPxOGKUuV5HXLdjJ47T8VMnBSARx//I8cBc03yWVNNrjnIChi3AEbC4cqVZSQblzErsAyY9zdMAxvB9LrvWYlqxpdS5ayfKlTu3vCBLeRd6Afd7EUecrctlFbsrrrxaWAV9HAGNgEQzNQ+aqI030Q8UvfLr42ieNTyTAMLw5mo/xQKOyXFPbEs2cAx5GD3eRwFHNFGjyZqPI37i+HEyh+OkSSYt2vcxOAZgKNPxhKAxLjhC9moEAEf0izTg+C4tWnxuwdFOZzyOIxkcm8o0PBgYU6tOLRkEo+Co0GeA0TRdm0EwtgfSgGA4OCKN25RtwLEWbwNwxD1AQQNp4aP3BdtI4Pjd9wBCI4RbfcdbhkcFSDRPGy+k6eOILgfh4IiKzKzoYva9cS44mlGjqBxvlAm/USAZ8DMeR9djaBdiGueAo7wRAxi9o6oToBA4mimB/MHRXvXBmn4nJMS58YBMgCM8joAUve5+CiwBhsulitG81xrPgjZVSx9GCJUOV1bSFK2AyNCo0jiJd8DRDI6ZIt0Z0MdR+jl2ZijsbIOiV/BGdhZw7N4d4NiOKlWqJK1Gpo+jeWYwVZV5NszzYZ4fHXCGY4BFE6fPGsDx9ttvk/rhpZeKCAgaeAQUwvP4Kst4GLU/o1cAR+3jOGLYcDqwzwyO0XJE5gA+zeUK3wDE8UWV44G5llzPNT4jvNx2wVFBEEJ45RojPabHV60yx3Uf/R+XAhy7daZceXLJi7lMxwMgdFpwzEs7l4vOvsZJvCOAI+bQzZzFgKNCIGDR27fRhkQ/ARyRTwGOWJYW9TKmvHKh0TRXAyQVFPV51TDAEfvwkF9Q4KgKxTE4Thg3liZPmsjnTqCf0VT9Fvo4AgIx9Y47GEYBMbz5GmGFRzRbZw81VWNI+/liAMdRMo9jcwE+TMVjpuNx4c+FOzfONFW78GfDY3habDXOwKMfNELRwDG5HvbzzfR32b8PW4Bj27Zt3YExDIMiAUQXFtXr2Lr1DywApfE4mrAZVY2mahsc4zalhcdp05s9CABz1mmTtAE6AKDxIoZ7DcPB0U5rpHEJkAWOl0mfH/P5NjhiWh0DjTYkRpbxOgI44XF0puMJLOmGLKxKpKEyRrm9n6EIoKiy4VAqJR9olHgFx61baaoFjvA4SrN0F2+ztFfG44gR2D//3F7AES//AEd9ZvAsYdDYDQyD6M/oNlF7nykTZyAT4KiDY1xwdPWKZz+ucE4kcES5IcAIIRyAo6/ZZW1yGj7TNFVrU7QrncfR75hKyiTWMgyO6daNcueBx9H0V5RBhs6MElouSmuOo/A4PsfxOGYCOFrzONrgCCiMBR7twTHuqGpAIYARMlAoz14EcNR9dCc5tP/gfwscbViMBo4ieB7HjpOVZbDaTPt2P9Pbb70tIBhfH0fI9TyaMDyOmTNnoVLvYB7HJc63O/dmwHGMLM0FL6KA42cMgQx8cfs4usI8jabZOS4Axidt1vbGX4zgCMPvst9cYQqO4nG0R1U7wKiTgCMOgNimTVvHy+iCI9LhXj322OMCjmhmQ7O0ehYNSKp3xI0zo6qxj+ZqE4flAs2UOnE9hsarGDfeVTg4xp8+usLBsac0C6nH0QbD6EJhvZLTrr6gPdvnu9l5XsN4Fo4cPmwGwqDfolXxxKe9e5FuF4PjPln+berUqdSrVy/X4+gMgoHn0RX2w+O6MVx2x8pN7X6hShUZHHPrqGrzzAAar72enyd4F0Ow6C89B8/UbbfdIX3fX3zxRfEeoj+j61E0YOgHjCocDzVVAxydpmqYlCMKjizs29c3sOQ177XFzBg7d+4KlS12U7QXEqMJq1qhf23u3HnlRR0QqJ5EAcNQ2allql2WIpyCz7nUFxwBjLpijA2RCpB+AjiijyPAER5HTKcjrQEWFJoBbIgLh0WvMCsCBsfEB47JkW+TBI7xDY6RfRsYET/BSTd2vEAjmrB//rEdlXyzJENgLp9R1XGbqnUtSD9wXLTg/PI4jh49lpo3a+GCIzyCYR7HuPJ6HJNDFxs46m+ypTZ79uwwjyOAMJIAieHgiNVkAJcYHOOCo6nAwr2LRuFx8DCqF8U0td3A4IhmYjMdT6hZJFRYufKPDwfHpCoSOAIIY4NGCIW0ehwDcDxXhjwPULRfnLA9yuW2rBLjM4o6uuD92MnguJe2bN0i4AiPI1biiA6O3ZxtFHC83fI4sgCNsYAjhGcPzxWWLMyRI7f0cdQmaT84VHnjtY+jjqrWPo4wuY64nhY4Bpb8huvqd20BjmiSXStdYQCOLgwqQEYS0mjZtHz5ChnRnzfvo7Jil6yUxbCo0hdvt/uP6TtuhPClfM4l0lT9CEZVFypMhULT8RhYxFY9igqIuu+V3wTg+ryZlgDMfoD+yJDbn9FWqI8jgyOaqjHvKGfRiJYceffsgaPET2BwNFsXHMczOP7kgKPf4BiEVRpnoBFNHNgCJLNkyUqlS5WhxYvOL49jZHCMT/4AmFhdjODorTDVIoGj9mHEVsPu4Bh4I+GJNOCIFWdwnwBY7qjqG7giAyD6gaNpVnPB0aSD1/HKK6+UvoX6tnuuwNFMT2HAEaOq+/TBkoOmj2Ps3kYoAMfzxfTZtp+Do0eO+oKjVD7WflxhTVxMMrxf1queNu0P6tmrl6wc00UHvaA5GiOrQ8I+gyOasPlYN6TDKOuu3enndu0FHNHHEc3M7jNjwDEWaIR0UA28lqgndHCMLTQHKiD6wWMYOJYtGy84BnZmzM6rtoWDY7iXUedx9INGCOlRJmG51OUrVpim6twYVX259HFE2SuLLoQAkYXpeZwperRcxty6l17G4HjpJTIBeCYGx4IFC4UgEPM36lyO9qjqcHBE2N23wXHJkiUWOKILCWY7MJ5GHcTmBUfsh8DR6eP4nwZHDUsztYSdJQehcZxm7LiQx7H9T+3obenjqBOAazN1dAEcIYAkBtWUKv0eU/tS59ude/NtqhZw9Ie78H6MyauEgGOkh/e/ZPj+kcDR28fRBUdsse/GwcNop8NWoRL3S/s4msrLVGCQW7H5gSPiTTosOSgTgF/ChdKlmH7HHxoj60yCYx8peNHHMQDHC8PwTBw5bDyOpqnaBcP4wdF4QVB2YB5HrFXdq3dv6oxBL93Rb5HBsBuHZRAMA6NHOo+j2fagn3/+hSpa4Gg/O9iaZ8V+CfOX6SZynUzpg/oDTdV+gOiN03gvOGI6Hj9w1HLRLksCOztmmqp3StkSBoYARsRJmeMngONKPo+1djUtX7mc82tn4Qd4FOE9NK09ptwLlYXWnLnYl3KZw5defhldkuJSs3IMg6OZ8NuAIOZwNDLQqODoCunQ/9H0gYT8+zju42dRp8nCNtzDqM8iwn7g6NdUndyWrOAooOgVgyOm45k43oCjCB5Hjgvv4xg7ONpeR8h4HLPQu++WpoULz7fBMQYcP//MXau6DuDRB+6gSH0UbUVLE+nYxQaOMO9v0m0kcPz+e+y3FFjUOG8aBUfEYxL2vHnzSuWFUdLXOhVYuHRKHreCU6FyNB7Hq0NvtWg+SRg8Jh84QpEGxwAIFR7jE9IG4Hjuze8ZNuBo9XG0oDA+acWFflhbt26nqVP/CIFjFwFCeBMZGjkcEuZsZFCEDDB2k4ExPXr0lJVjAI7ewTEqP3D0i1PgNB5HjKp2PY4AQncOx9jA0Ts4BuYFR722djiw5DPvNQU4YslBgCDKJEjBMdoyg0ZIu4LLpVW0YsUy6iLgmIPLXNPsHAs4ijicAuB46SVSTj/ySBbxOLqQiCl5ILNyTNwman9wRP7T6XgwmHAf5zsDjG6/Rvs5tAe06TMp8ZzWOzjmTOXNZAFHHVWtnkYj7JtBMGiWngAvIwOjCM3X6nFkuGz/czsGRyw5GD4dj/ZljCvAo/Z91D6Omendd0rRwvlmOp7z4WHGzR09cow0VWMVGDM62iwV6A6GMSOmNe5MNFNDCQHHC8Xs32SH58yZIw+qmdDbDJAxQlilcS5EAhqxjy3WH69RowblzcfgmPpGSgVwvPY68SBi6wJiODhee20qSpXqWok3TdXwOLpN1efS4wjFBcdVDIAbuMD28yxGEt70zQTgATieO/N7pgFA6OMIKEJFg6ZqrYhs7dln5MahkoJnY1eoqRrzOKKpunMX01RtvIpmxHS3Hkbdu/dw1cMRJgxnoMR0PBUqVJCXf3vlGJUfJPpJ0+MzUB8AHOHFgQCE2Fd4VNnwqEI8AKAcg+PIESOk2VBNwRGGrd+1DSz5TK+xXmf1OMKLqHM3ynKD8DZK2AZF05Rtg6PO/bh8OYMj51fkOfU4XnopmqudJmsu/0QMlUZ2HJq0nT6OAo6ZGf4MNBphap5Cjtcx7kAYP6nHUZuqUS8DHOUZFDAMf3kTQNRnVI6Hg+PBfQfo2NFjcfJnfPsJtWQDR8BiqF/jBEzLM5bDYyxwtKDSHlUt0/H8SG+95TOPoywtGC7jcQQwYsUYCxwzMTi+XYqWLDRN1Um9MMlhcDmPHjWGvm3Wkup+Xs+BOECiQiMGwtjgiH0MkDGwp95DrxdRz9H9WHSxg6Nt6OOIeRzVe2gLk3ubJQbNPtKpsG97HzGp+2NPPE433XIz3Zg6NaVOfRPrFmeLfY272VFquukmN91NN90i4IjBMWayb+vtNmadaXBczeC4kQti9Sj6gWK4MJo6AMfzz/A8YEL8Q4cOSzMsmrawvq1WPrZ27TFy49AktkO0j4Fyy5Yt9Pvvv9Ovv/5KHTt2DE3Jo4IXUjyRXTA5eDc+3tWNY8BEGoBjxYoVpUy/5ZZbwqARiuZdtOMgpDPT8eSQ6XjQb+y1116jV199NQSRJUq8EgrjuFeIL1y4MH388cc0bNgwaTFSC8Dx7JpeY73OccBRtFKA0W2W9peZzxFhzC+7inrwywu83ChzAY8psaiCx+NoymM3zrzQI8zwyOB4xRWYADw755cXxXNoQNA0UycUHJH30FQNcAQQoukZvxVzOBqZfZU8n04cvLCQNFfv3EX79+yjY0eOnvH8mWRwhPdm9OjRNGrUKBHCo0djO9JoFO+P5H0W5jQ0Mvtjx4ylMZwWHsePPvpQbgBcvM/D7VvQdvGGy+1LYPoQ4JwC+QtQpQqVaMWylc63U8MFPDcP+T4unEfx72zaqCnVrlWHatasGVKNGtjWCosz+7WcYzWkKRTCMV2b2oXBhMFjAI7GEIcmgcGDB9OgQYNka2vIkCEivzikHzhwgGwhVH5VqlahYiWK00vF4NUoxkLTGLbGw+EXZ9bQxTJoxalAgWfo/vvvk2WvUDBJk3UKhFFQxeJ9RGGm8jsei9zzFRzRdxNQsHTpMi5s18ia1aaJaIUsjYV9I93XOGyX85v9UobIVZzPzJKDgSXNkG91FaRYhfR6DrbHjx+XZuYN6zfQogULae4//9K///5Lc+eq5ob07zyjsLh//xEtXLhA1ntH/mjcuAl9+eVX9PXXDahBgwa8/Zq++uor+vJro69kvwGn+Zq++OpL0decrmHDhlS/fn1ZahbdjBQctQuHHxxCfsewD3C85557pH9jrVq16YsvvpDv9eWXX1r6guPry7FIQlmJVohp06ZFLCPtcGBnxwCOAPmt/MKyadOmkDZv3hzSFktu/BbWVtHWrVvlGJxX5cuXp+ew0guXv+AHM40Oto7C4jBa2qwKY/QMl9smHuX3U08/RU8+9SQ99dTTrPz09NPQ0zEJ5SzybL169WjAgAGyJDO+39ixY8UR55U639ANEFv7GFpw5875VybnxwA4uwzQckDjNOyVHosvfycJHLECwaxZs6RSHThwoFSmWsEOGjTQVLyDsO8VKmRTaeM8vLHiwqGJ4KOPPqJy/MZX9mMOlysrcV6VLVs2JOzjnA8//FBWaMEbRrhhySLo7D/oaAYazm+uX3/xJVXiN2s0y+ANG5Peom8PttGEtNAnn3wiS3MB/BQE0eSN/fBmbyNNY+tiBEc1+/fBc4AmKBQ6GC2Mfniq9WvXOcK6pibOeNCwD28bvG+IXyv5DNMn/PHnNBo1diQNGzFUvBS2hg8fHidu6NAhrKGyohCWo8SC+5h0GE0lptnkMkpxKcNcaDUXDFpJChTGJ3y2+8Zt/lZKypcvr3iR5s2bLwPOFi5cxFoo0LBgAbTQke5rHLbzaf78uQydi8O8NrALPa+dKUNhjv5PyLsHGMYPHDoownNsC2AIaRjp5RwnHp7CP//8k3r16EmdO3SiTp3gLezIL0Gd5EUomjDtDspqNDW3b9+eqlatSiVeeZVe4heg0JJ+TlNw0eJG+pIkL0oaJ30K4d17kfLmzUcPPvgg3XqrAUf0FQY8ekHRT5omVSp0/0hFDzzwgJRxkyZNphkzZtEff/zJmk7Tp6um8T70R0RNmTJFnCG4TqhEbQvy7rkxXHOU2yeOnxBv2tHDR0RwXB0+cpg55KDoCD8fRw4dFmnc4cOHWIfl2RFPOz8LKM9xrzEAajCziDoK1CEADWQ+UYXiOO1A5pfhXG7/9ttvVLp0GcqSNSvlypObcufNI/3d8+SB8ljCfr6IypUrt8AjvOSlS5cWoIXANmAa4SGHcZR/ELYZCOmgip9UoB9/aEtz/p4tHkiUAfr822WAHbaFeHg8EUZ5E80SDI72g4MbMmPGDCHlvn37ysXs378/9evXj4XwAN4O4O1AEcKq/v37mbS87ciFVsPGjVzvGj/8NWtzmKVeN5UCUCgtb6tXr07VqlWT5sQNGzY4307t3IEj+h0M48z5Rb36An/IENgmVMgsAEh4GLXJ2jRXAxzDoTEAx7hm/z4N48GAB+b48aMhYRoDo2NWPMIch3Vqjx8JxWHye1zDnTt30KbNG2jDpg1hb8L6NuyNgzZu3ChvvziOSvztt98WaIRMk4iBRlFMXsekyA8cL5dCsEOHDlyJ/sMQuJDmzp3neJ3+pX/+geY6QvgfR7o/hzWbFi1awAXRnrDrrgosYYb8igJd+zgByKUfotPfKZK0HxS2qEzwwoNWodbffU+NGzaiRo0asr5xhP3oasjnNGvWTDx4r7/+OuV79DHKmTMPV4B5ZHR0bmemi5y5jVAx4hgUipMKNZ9M1v3QQ+nprrvuIp3SSj2O6NahzdReULTjIEAjgDNdunTyHTFX35Yt2/n52sbaYjxNDIJbtmxytNnZjys8k2j6Q92m+TTIr+fe5B7gNkCn+B9I/kd5Ag8Zgw7DpR7TOCxVqGUOdJLTACJxjzdv2CTed5TH4AYIYdmHNmHrxkvcxk20bcd2WrJ0KVWpUoUyPpKRsuXITtlzuoN1oVy5VCb/uwuZGOkzod3t8Oxg+Vp0EYIQhgCVKsx0ocewr2nz5csnevqpp6hWjZr0O784IS/j+deuJtKU7ROGUDaocAznnVFwxA1AxQcAVHAENGL72299JWzDYr9+/Tkex00aOe6AY+MmjRlwAD4MRQw6EKatwb49YATghL5lClDYAh4xUOHHtj/SJr654Ybvqzq7hhsBcKxftx59Ut4FR32rMMK+N85IwRF9buCBBPiZNazd6xKAY2wW/Tf65Y/44/AWfIivoyxIz4CErglGqNgdIazxXNlrZa5vgQAxvGkacLzUHVUtSwECGm35gV9SZTyMKtNU7YLj7NlzaN68Bfw9veBoS8FR9w04Llw4X64NTK9/9PsQWCRDQY78ogW95COfJQH9pJXFdq4sseQaPN7fNm9OXzH8mabbegyC9a0mXdZXjqw4NEFDaGZGuYvRoKgEM2fORphHF8I8vOhznoW3mbOauCxZskt/MMSJspn9TJmyUJo0aaVvIkDRC4hmX6e5cr2QXnDUdd8feughatKkCaEvm86Dh+ukzxxeYlyFA7YK6XCd8WKo/RqD/HqeWXgxnCDDaXAEyIsXBp6w9PlA2M0LfEzyyW7ay2VYKN9wmQ4vJ1qr4LjKmJHBMXtWypEzO8uFRx3A6y6P7C97fmoMBsaSy/oMabwd1nT2Po5DeXLnkZZNjCHBCxB+o8KhFxaxr/LG4/cnOzjaBnBEEwAAMBo4/vYbZDyR5pgRoPE3gGNngGMTLozqMuQACiFAIaAH4boSpxCk4KgQCe8b4LFd259oM78RnC+GQmjYkKEOOJYXAAQQYusKYAh5401aSD2O+I2mbyPAEYCoK80E4BiLJeY3Rrw2HHXaeXvFAypgiIJHhModq2zwQ8hhE+dW4hAqJ5znBcc4YGevJe09dgakfRz9wBED4RQeowsQqeBoPI5qF0teS24TcNzH4OgU9Liu8UnT7cW0HrzdvovBceUKGjpsmKyf/4X0+QM0GnD8ikFR4TDUR9HZtwVwRLmLwSS5c+VhMAQ4Qqj4uGLLlpOy8jYLwyEAEXEQ4kKywPGOO+4Qj6MCocKh8T4CClUuLNqywRHeUFTq+mKmL2uQPKdRhDS4Xjjv2LFjcs3tQTGB/XdNyx0I9xb3WJ8RSICJt+6E+E757UjCe6E94o2GFxLgmCFDBga5LAyB2Vn2FIG5RAYeXU+kn8RDz1tAJLzwEIAQHksTj88NB0f7fI3PlycvVa5QicaNHSseR/xG/X0q89uMZ/GcgaNfU7XCIbam2TocHMM0gONYHbt0pkZNmwoguuCoo4kBjS44arxpqjWDQ0Lg+ONPtGXTZufbnXvDDRo6eEgYOHqhsHz5Co7ieh01LfoxoH8kwM+AoAKigWqFx9q1FSjjwuPFCI52YaFm79vxkSxixcFRp06clOuoFZPA4U5+AHfpAvUsfhARJyNYnQcTWzQ74hx46kqXLuWAI+YUc5uLRWcZHKM1VScUHE1T9V7nggWWFFNwRD6KNIWOV8hnKIPwUrOXwWjn7l0yjcmIkSOpRYuWzkCWL3mr+jqkrxoYhcV5wBGjQXNzZSWAKEAYFxJ1347P5lSOgM20aQ04wuOowBg+mhpwGD84Im369OmpefPmMu+oQqNWlH7Xx09Iq+Dofe7tsiOws29Juf72eei76oUqySfY8vNlymq3DN+jcgDy0KEDkscUHLNlw0ww4eDoNkvHBo4GHqHo58QCjpixBuCI/G/DoT4L9u+2pcdwXrKDo30DAI7aVI1VJgCPAEJtjjbQiGZseCTDvY0i8TgOYHDsyuDYjAHHANCntjjOyMCigpPZVygy/R3btv1R+iKcL4YbEQLHj43nMC48qrfRBUUvOKrHEWBofrtznZxrg7AtGxhVFxM42r8nqb/NBkf9LNUJZ5SqPpBS8QAe5SE0zRsI65Qnmg7SN16A2HvvlQnzOIaBo+hMNlWHSwbn8N9Hx+5wj6OOrPUDRa8Cj2NyGwryA5xnxHstkwO7eSmStMJAvtRKBH0cMTDLBkcDj1+HRkWHC3HfiL76ysDjNwyOn/IL68slXqGcuXJTpsxZKbM0Q2elrGhuc5rcoOwMldmzhsNj9uxGaMb2gqMNhMbjaEuPhccZj+ONDI4POx7H9fx70dEfcOB6XrGNJk2Da+UFR284yMP/LbO7HWhTNe61/cKgLUOivZwf9jIo8svWHn5uTCsS0u+mw4cOyiDKGtWqU4aH4XHEoiUKjQqAKhfwokmBEM8FPI84V5u60U8SSySiH6SmdWGT953PeCzfo1S1YmWZ+tDbVK1lgi37mIZRRuB6eAeGeS1ZwREwiDCgsW/f/hzWATGIw9Y0aRsxaHL6vhzfqXM3atykmUAP4Oiz2p+H5AKR8SwaeHQ9bfA+AhyrV69BP/zQNjQ4xv6eCFq7Z81wQ0JN1Q442kBoh/1kA6Tp4wiPq/HAKjSacACOtvn9Ho2zFZ8hSbR0qMxxHcMeRi5c0CyoE7easHko9SFFAYSHGmGAVpky8YHj2ZMBx8vigCMGvuC7uv0ZoyluH0e1WK99YOGWGHDU/BYCx507adXKlTLa/9tvv5V+i1/UN9PQqDcxrgCLDUQGJAGOjejTz+tR8ZdfZXDMQ5nRTA1wzM7gmCObSPtdZQc8WtAo4Cj9uBg2M2eiNGnShJqq3cEwBiABjjpYJlyIAywqOGJrwBEza2AmBLNcmwuOCgf2s+iVHse10j6OanaeDfLw2Te95n6Kz5DGBke8FCA/AJLCnhXH22he/Hdy2Y0WI1aoxcjxOB48RBvWrmdwrMHgmFFADuBmD4RRqItPCoCmfyM/LwyhAEfzORg8g/mqdTCNgqPrcRTgxN9nPZo3H1WpVFk8jhiEid/o17XFux+K57Iac0PivLPqcbTBEfKOqjbHHHBEemx/68/g2IWaNGnKgGNA8bM6DESONM4GItOUbZqvDTjWPv/B0QHAMwOOuEbe6xQOkAE4ugWN33E/8ybxnocw+jiGHjx+IGOVLisF0PL2cUw4OCJ9JPmlj6y4HsfZDI7z+XtixDTm8TNexXBQ9NMcmboH18W2WK99YOFmwPEAg+PemMERQiWg/bZQKWCezWHDh7ngyNBoBr9gzkNLGBgDyf7XIgVHjKz+7HN4HF+lXLnzOs3PqMAYCAGOgEang7+R64FUwduYKVPmEDjefDMmyEcTNZqqTXN1XGBU+YGjaao2g2NW8++FJ8l49UPXgaX7kWSezbjgqKb5N8jDZ9fs666yW4OimTctPI7IC+qRhyS80whhneweE3C78Ttp1+6dXHcyOK7bSDWr16KMGTIJ6BmQM83TsfRrVIW8hgBAhkfjTTQeRmzN4BmkNU3YdjpzzNlnSVN1RdNUreBofks4PEoYjg3HuWELaXHeyeT2ONoGcNTBMVhlwm2qRlO0htG3EdBoPI6hZmoW9t1R1U0YcAz8hEOPASQ7Tvs5ahheSDRVY9mec91UrZkahhuBOaIwR6UCYHywaCsSOBoPo3tt6tSpS3VqY0lDu5+jXsuLDxzPlKHwsd9cpTK3mqpjkSmo0FR9iB9QHVWtfRyxikHcJmnE+cUbAQ51Oh0/JQweFVpNH8dfCOt6o28jvieaqlUKkNG0aNEiKYRsC/Kav8V3TZDX9u8/yHkHnrTYwVH7bSHfCTiuWknDR46QJTPhUfwSHkU0QzvN0UYNrD6OcZuqdVQ1BsfAE5JFB8U4XpOsDIXZZIS1vwxMoqna9HHUUdU33OACodtsjS0gMjJI2oNj1OMI+EN3EIVFu+KMJqTDudH6OAb5979nXnDEPbbzhCmXXYi0FQaUu838iADHWtVr0yMZMzO8mWZllQ5uUTg0kBcuPWYf1331Qmq87mtaNGcbiDSQqgNq8ubJR1UYHCeOn2D6OO7fZ1aA0t9h/d5w76oLk/ideNFEN6xolmRwtD2OkcFRvY7WABnpA2nAsVPXztSEH3gXfNxmacQZ2U3VBoYQVoDE4Bgs24O2/XNpdqGCm4WJRevWrSsAqH0cFQgVCv2EYzp1j+njaMDx008BjuYauVDNCnlnrTiRC464RpjnDEtEAnjUgsIwNvNeJxRG3qbq+GQKJy84uh7H6JDop+QFR9vj+Msvv4jHcf78+XGg0N/LGC5MGI7fHFjizJvX9u07wGUKBr3EBo4of1A5oHkb+yFwHDFcBpGIx1G8iy44fiVhf3B0PY7udDy5c+ZmUGRgxOjprPA2MhjC2xjmcWRgRLyzD8B0B8ekC/VxBDRed10q2ZqBMRCarwGV7uAZrwCOaNKGxxF9HDHBswFHd6S0QoF9fSLFRQLHwC4M8xsc49Uuex8vXiyFL7QyrV+3gWrWMB5HDPYyHkHTTA2Ys2EvFmEEtcyDyrIh0QbKcBnvpv49PE/5GByrVq4iK8hghZ29nP+l6xR+j/PdVVImABSdfeR9xKFpG1PInXGPoz2q2gVHI9O30cjAowFHAcu+jueRwRHrlwIcDfgABF1PmQtAbpyBSCOvxxEu2jNlCg7RJG82TnpkPq/HUaFQVa78x6KPrThbSG9GVWNwDKDZXB9zndwme433SkE7AMfkt+QCxzJlFBwvEXg79+Bo+jja4GgD4Vz+ztEkYPnvP7KKDH5zYLFbpGcReQ2V3S54CSyP4+69RjqnI0BJYcmAI8dJsy2arXbTylWrZeWLUFO1gGMDkS4NCC+kOx2P3ccRywp+LWWIPR2PgUYz9Y4ZWW08j0bOvuONVHA0HseslC7tQ3TXnXfRzejjeMP1dAMD4A0ej6OBR+3/aLyMNjhqX0h3HsfVYddBK0etIFV2nJ02AMcL22xwxDOiUBWWN6xwKM5JA3Bci8ExNWpQhgyYxxGAB9hzQc70dzTNy+HS5mk/GSg0wIgt9v0A1HgcTRieR3gcTR9HgCM8jnCgYSYFfGevpFzA73F+k8RZgIn8r30cIz0BZ8jj6HoasTUjqo2HEbCokKng2KlLZ2ocBxwN8CggmTgFR/VCmiZrQBFuYtu2bh/HM2FaqEcTCnhFRxToNjjCc6hSMBRw/ITB8RMXFlWARqSNNh3P558DHN1r45UNjlDQVJ18dvGAIwbHGC8jRkzPnfsPzftnbkTN/XeuBY7BdDwJsUjPommqNpUdIAdbyU8OOAo8Io8BgCwIgldBp+/ZxRC5cuUaGjacwbHFtwyDLhhqP0ajr0LrSof3cTTrUaMMQSuKaarObYAxJAyAAUA6fR0FHHVgjAuTSJspU1ZKmyYd3XXHnXRzagZHhsQbr2MYdMBQB8bYkBgJHLG1+zh6oRHeVr1mfgrA8cI2+17aTdWRwNErPY58YsBxraxYB3A0TdMGGNX7Z4OkKxsAw4/hfJyn/RcRpwNivOCoXkj1SEI4zzs4Rn+jV/p7bWGqLjTDnzfg6E7F44KjCvvSVA1w5AceMOQ2VWM5vTrOPkDJQJABIYVJgBNg8zzr42iBozZVq+dQ15lU76N6HMXr6MRBAEe7qRrgaCYA1+uj8OgPjF4BGnGdULBiIfUAHJNmuF4AR3twTCwyD6oNjnM94Hhum6oBjTgvT57cDI7tZd3eBQsW8fc0/RzNiOk59O8chshIcjyTATjGb95nz963wyjItSJAPvIW/uox8ErAkWXO2U0rVqymocOGU/Nvm4eBY7j8PY5Ij6Zq9TialWNySZNzliwY8IL+jYBC3s+WVYRwOFhi38QBHNM8mJZuv+12uhFQiEEu0HXhYBifFBwfflin4zETgNswGB84qpAmAMcLz+x7aYNjrLLhEmU+8hjA8WGZjscFQYXHhIKjfRygCGjMnTuvgKN7TrhscITyMTjq4Bh4HPEMaJ5G/rfLjDjlh7OPLZ4bnY4n0hNwhpqq3QnATVO1mZJHQFHlgKQ9OEY9Z9iaVWOg8BHUrncNW3flmLPRVB2LSWHvA44KgF6PozRRAxCd5QU13l5uEOnNPI7qcTQQreFocarA45j8llweR7eP4/kHjpiOZ/58gKMOimEwhP75N7IEMANwjMXie/b0mHocUahDOjeorVCHd+uYFxxXrjIexxYtW9A338CD+I14EQ0gqgCMtsLj7ZVjUMEBArNly2m8iiGPo5Hsh83jaOaqQ2WL8+w+jvA0CjTC8+hMAu5O0RMZJtHHEdLBMdrHEfI+f/EJ1ywAxwvbYunjGEnIIwBHTABevVp1eih9evGsZwfIMeTlYACE8FwABm2Q9BOeA9N9A/DnehMNPAIkXQDVOPdYOESqx1GbqhUcAYMAR/vlCVuBRX7hlLyPcoLLh10YHGOBYyRLEDh6H6To4GjgEfM5GnA0o6rjCB5HZ3AMACcu/Pj1cdSBM2ZwDIDobDRVx2L2NQI4alO1DYXqUQyT5WVUYR/QCA8lwFF/r8KzHbaviZ/grQzAMXntQgTHSy9NwfCYwmmqBjhiOh63qRpbfOf4FRccgzwW2eK7NgKOB7gi4DJF+izu0rzkVGgsFPwySjIUZ6BRwXEnH1/hNFVjVDX6KwIazcTfxptohGZpWybeTNvzJQPnNwYcsXJM7rwOEDrg6MhUiBzOytusueIcBzSaCcDT0Z133inT8SgkQjY0QgqO2lStQlyqVKl8wVEAG9eBfzvC9nMYSUgfgOOFbUkFR5T58DhWq1aN0j+cnrJh7kUsD5ibYdEBRhcc45PdPO16Ec0AMsQDDA1AxgKOdh9HGxwVHvU3hPK701Ihg+hYeCFF/tem6kiWZHD0b6p2m6LdZmoApNVEbYGjDo4B4ABuwqEHUKRy4xUiIUwAHjs4ntnCwL5G6HwaCRztJmnvvi3E2eCIAhtSaAzA8dzZhQOOSGPSxQVHTMeDwTEKjvA4+oEiBI+kTtUTgGNCTK9NpGdRPY4o6AUcIcf7KFCEbZw4BzKdvLeTYXO5NlU3bx6awxFexEiwaMeJx5HjGjZqKK0or1geR1txwdFRGDRmi7hWtQIhlhvUgS+I07DuaxzAEVs0VeN3oVJXcBSvilXpxyekC8DxwrbENFWrkEcEHNHHsVp1ypjRTACeC6OhAY4hLyNgTj2G0WSgzwuEgEZ4InHMBkRbOKZCeszjKH0cx42XllcFR3xvhUf9DVpG6DFMw6MvnckOjl6LDxxNU7XbpxHH7X2Fx86dO0vfO0AQIMeGQj+5E4CbgSHoDxl7UzUmdT1zBYJd2KCQH+IsOVjBAUc/OLSh0o7TeJzj53G0wdDu9xgO2SauVi0D5cGo6uSzCwMc7fNTWuCYmzp0QB9HMzjGnsMxsuY7Mv0hg6bqhJv9LNrPJApyPLMo7LFm9X4u3FEx7LOEeHsfoyoxlxvSGejcR6tWr6URI0a58zgyOAIK1fNohP2vHFnHvvmGvmFobNKsKdWvX59ee/VVzid540BjLAJY6nQ8t912G0Og8Rxec801vL2Grr3WCGH1KGKrYRX2r776atmmS5fOt6k6VDnKsxddSBeA44Vn9r30GxwTa/5AfsLKMevWOOCIUdXWoC9s7flK1XMYSZpeAdGGR4VCXc5Q91Xez8nL4Cp9HJ0lB6V8sJ4DFcoQxGErz4cTh/IC+zh2Vvo4xgqOKgVGVadOnULgaMDQ9aZ5vWtGBhxN/8fzFxxxEwYPGkz1Pq8bWnJQB8Z4QTGSkDa8j6MLjdg3HlrT99EMlglv1temfkzlo+AYeByTxy5McNRR1QYc4XHEdDwAQ0wErpBovIpeTyPme4TmiWcS4Ig5ByNZkOdiN+Q1nWxeCnnVPqM92Hri0VUGW4VM7K9mqBo1ejS1atVKYFC9iS40KjjaMvFfs7765mtq2LiReBxfFXDEBODeATDRpfCo4IgJwOFhhNdQYdCA49Us402MJgObqfiz0kqLilk5xlwnfeaCwTEXt9n3ElCEe4x7rcBoA2Q0Ie3BAwdp7eo1slY1wDFLliyUOXNmypI5i0x8n41BEMtqGph0FT4BfjhU2iDoB5DYqnRfARLC5+Xllzhpqp4wUSYAt8ER3xtCHrefCxHipBwx6RQcccWYDMxF81iSwPHIkSP0119/SXMs+jkOHDhQBoMMGjRIhPBgbB1p3BBHQ/k8nAuPI958AUcYPYytCiumxN2vJPMaQoj75BNA2cfUvPm3Mr+Sa34/Ov7CAJkMBTUuXkKFtxkIHoLt27dT7569xH38Tsm36a233nJUkt5++x1Hb4tKliwp8SU5ne6buLfojTfeoPfff19g8Ysv6ksTU/36X1C9evVZdTlcTzwAiHOFfTeubt16DOF1+Ro1C0ZVJ5MlBzgCsNyVY85tU3XKFBx2Vo7BhLRt2rSWvDJ9+h80deo0mjbtD0vYh6Zaco9NmTJFXiq3bdvhXC3XNK8FeS52Qz5bvHgxl7ezpdsAgF26DvxryelK4I1HWsD+7DlzaMLEifKCjXKzTJn3EqRSpcvQu/ySU4bLIpRTTz75FKV/OCM9mOYhSiNKZ7YMgyqAYdq0D4lC8WnS0oMPpqW06dLTI49kksoS+U0rSyNUjKhEw5vx/ISKE9sXXnhBlsmEtwWQjWumQiXqjfMT0sAhgjI8yJ//bYtUr6Hcxj3GvdY8oeH4hLRHjxylLZu30PfffU9vvvkmvfvuu/TOO+9QqXdLUelSRmXKlBGHQCkORxKOIx3OLVasGD399NOUL18+euyxx+jxxx+nJ554QoSwLRzXeIShRx99VM6vxM81Bh6Dy+wVv7RcwL7GSxmiZcS8uTKN2pzZc2jJkiXyW51SWv71WpLBEV9mNL/BjhgxgkaOHCnhUaNGuRoxMiQcR9zokUZjR4+R9ABHdDR97bXX6JVXXpFtJL3++uss3b4uca+++gq9/HIJ8UKuWLFSvhsyB/8r4YQaMhsKDrtAiTVzaQGFa4Mmk59/akdvMxA+/9xz9Mwzz9Czzz7L22epQAHsmzioQIFnKH/+Z1kIFwjFQ0899ZRcF3hX4TFs1KgxNWzYxFHDmASPATq1f//99wwBU+X3qEV6wAKLbhcOOBoBHAUeOYy3aOQZtBoMGWJeBgcPHspb1uAhLH4RxIshbwcPxgvjACfOCC+SeN43bAhvAQjyWuIMMNSnT19q3foH+vnn9qyfqV27dlFlp/mZBWBEWYCKCk3FDz2UgdKnZzH8RdYjIT3EaSGE0zH03XXX/yj1TbfSDTfeQteLbuIwlJpuuOlG0Y0cvpHjII274cYb6fobUtOtt91BefPmk8qzVq2a4sXUF170C8c+hLCf9BhapRDGVDy///67lL+RXuhjEdLj2Q7y6X/bIpU1iINjx77fsQrnKXjOnDlTykdxhg0ZQkOHDpVtQjRs2DBZrhllLRxFhQoVosKFC8tLELYvvvgiqwiHX3RU2Io3+5q2aNGi0qKJ7hp49jt27CgvUth6hVZeCGFN06lDR/rpx5+kVTi+aQ2TDI6g1wkTJtD48eNlq+GQxo4Ladw4R2PH0rgxY2X0zwROgy+NJtnnn39eQAnbaCpYsCBfYCPsA8by5y9AlSpVoaVLl8t3O3kSbfSJB0f8NnXphlf60aXubBRey5cvp5YtWlLRIi9R3jyYzFPfks3wetN5Vl3QCLsda5FOlyCCGxoZA4UjOn/Ds9qsmVHTps0ko8QndAXAFgOIsL44phRQi/SABRbdLkRwvIyVgs/JkCGDdHXo0rUr/fprD+revQf16NGTt5DZ7969u6NurK7Wfg/qyueh68rq1Wudq2XyWVAhRzbvdbGfy1WrVkm/xEqVKlPNWmYwYCzCXHOqqlWr0nvvvUf58j1KWPtZ8trlV9LlV1wlW3/h2NVGKXkf4vjLcQz5lPcvS3mVI+xDnI8u53zHSslhpJO0ThzyVwrOb6muvZbgJUFT+a+//hpqsdJWKzvsJ6THFpU3ujzhRQVlLmBATa9hYhRYYBGN8wecRNu2bZOWRWjHjh0h6b5Og2MfswXGQNcKwCPGNGBuVOMMe9VymMFB9kbIUaaynWcQWifRMlmlShUpu3UgLbjBG9aXLtn/7DOqizgWmt9bMF8sXbrU+aH+lmRwRP8n9JkDMGLQhcJjSOMYKFnjHWhEnIQtcATxgpQBgChIsI0kgKV3H9CIZpNPPqkYAsdTp6KPCopmKDRscLTBMJoUGnfv2UX7D+ylZcuW0LcMei++UJhyMQy6fRtM53Aj7edgx4V3gs2UKZO8ieCGY6kwqFkzA5AASbxpxydAI7bwOgTgmDx2IYAjKnAjrsxTmP6NOA/gWLtOberIb6XdunUTEOzatRt16dKVunRWdeb9LixsWRrPafA226tXLwae1XKtkL00nwV5LeG2YsUKaW34iMvJSpUrSZeduKrgyHTpqVy5Mm+hKnxOVapYsTK9804peUG9+upUTp67lJXC2foJx1Th8VjT/FJ50YCuCOWlSyX+MkcIq0zcJZeaz7r6mqu57M5PTRs3oQH9+tPoUaNpzBi0Qo2RfpijxoymkaNG0vCRI0Ro1Ro+fLgIYRX24blB3QLAtsFRLVKeC/JjYIkyzjLHjhyjQ1z+ow7QlkYI+wcP7ndkd49AWONNHPrSbt26VV580E0Pc6Oia1q43pQmcYAhthqvXd8QB6GLG8ARzz7GfGBMg+KBehsAALcaSURBVM6mgq0tPQ4hrPGV+dxmzArLli1zfqi/JQs4KjDaXseQBBwZGAGPznGM+oEHEuCIMMARA0DgPYzF4wg999xzoS0AEvCIgnH5ctNUrYWBt1CIpaDAcS84hqAwikKAsHcPHTi4j5avWEotGfKKvPAi5cqJyT7tzq9m6L4JGw+j2YfCR1Wh4y3c0eHg2MzxPhpwNGFsvfFGATgmv1144AgYSMHxl9HDGRkcP/uUOjMY9ujRQ+BRARJw2LUzhwUSAY5GJs7EAxzxFh2AY8Is0vVZyeDYpEkjKlvuI6pStQpVrVaNVVW8iK4qO6oiXX+qVq3GaaEanLYGg2Q1zmvvUe7c+ShVqusE/sxgKNz7+OXNO8bjyGGR8V5im0LijRAO7XPehvBZAEcMasn/dH5q1LAh9endh4YNHU5DWUOGDKPBw4YYDR1Cg9BVgoWmPfVC2oLXEduxY8cKYCcEHAMLLFF26jQdOnDITGHD5bo9eMawAMIYkGVzg8aZgVoQ6g9MH9WzZ09hoOLFi4e8ibZn8Y03IAOM6mlEWEES+4DIDz74QMoCjIcwA4fNLDVmhhUj3cdW0+g+yg20bOA5imbJ2lQdAkOEJygkMjQyJEYCR8R39IAjYFDBMJrQZI2tgiPerFesWOV8O2PeAiNSwWwbjicGHFUCjof20/KVy6gl34QihV1wBAhqs7SCo91U7QVHnOOCY12GxhZh4KhAaGARHkjjhXTB0cRpk3bQVJ18dqGCYwo+7+EMGagOFyQAQoAjgDEEjl0YHLtwmCUeSAVHJ84PHGHIY0FTdXSL9CyuWrHSAsfKVI2BEIV8uBgocYy3aJquVq06AyPE4Fi1upSPpUuXkUm7r732+hA0+uULPyFfqjRO88+lgEvE4ZjIOU/3JWxkwDGFgOPT+fNLv0vkFQCjQCP60jIkAhYBjkMcoQ/Z0CFx+5EpQAIcV65cKX3RvBbkucCS1Tg7YXS1cgHWedbJtIUBBBz9mCE8HvWwDY4YJOMFR91X2XEKjdhHGB5HgCM8iS4gunCIqfrCZ11xofL8AEcVoHEsbxkQ3aZqEz9pwkSBR3TK/Lic6eOIgSHaDK0AGUkKjYDNp/nN1fY4JsVQyHjBMRaF3jr27qb9h/bRshVLqQVD3kuFi1BuLEck0AggdJccUq+iThgKuTAJYdqKLAyOhRkc6zE0thR4BBRC2nfRAGILRy48alzTpgYyA3BMPrsQwNGVBY4sTKaMwgQD19BvUcBQmqtjUyzgGOS5uBbpWTTg2EQql6pVqlI1VvU48AhPI8THed/0c6zJEAnVkL5PWBcdcy9ed90NoXsfc35TCGS5LxwGGi9hCAWIIh36NSLvIR9p/hOvZUqOY13Kx5D+6lSp6Kn8T9M3Db8hTOc2bBianEe4XkcGyCEMigKMUaQAifolkscxsMCS21D2S33P5TrWiofDyC3jjScyPmGQDRYtQVmJ6ffQx9EGQg3b8GhDYzRwdEERyzKb+Zx1+eZIC6rgXDim0Fc4miUJHI8ePRpqqvYDR4RNUzXA0e7jGBkcY/E4esERsPnUU09ThQqVkgUcUbnhhuLGaiaIRQqOePvYd2Avf5el4nF86cVwcNTBMfF5HGMBR/U4os+jDpgxYe3faOICj2Py24UFjk7lnsJU+EkFR5wHGAjAMWGmz6L32gAc8fxiEGE1LtwBjpBpoo7bVI19MyimBkOkC46YAgQD7ozHEfc7AfkDsuDRC5GhdE4eMjJeTejSy1KILuF4eByvvuZaBsf81IDBERUnoHH48JGyhQw8hnsX/aQeR/SPRN8s1Euaz/Q6eq9nYBe2nY37LeDIdT2gcSe2kDqPPGwQSfgMrHuN/uB4tr3giC2ao72gqPG6D2EfTdV4afz0UwODCo7uginh4KjAqMK5yQ6O3puRvOBYTmAQEOgFRBsU7TCaqhFWcMTcZMuXR3exxmf4jYkFR1e76MCBffz2u4xaOeCYR2AxHBIjeRxN2MR7wVE9iAYO1asYgOO5sAsCHFPw33Km4NEKHudhcAwKFrupGtK+jvFJwXHlSrfrCK6XDY6BRTbvNVrN1xHPM7wSKNzF6xgGjSwGw5BC8ejriGbragyOlZ2m6jxOH0fjJdT7Hp90cIvsI+9Y8Ig8qzJ5TuXmtRQp+TyWDJABOF6dip56Oj993eBraaoDKA4bBnBEX8dhItvjqKBoexvtePU4ol7SMs1WYBePJeZ+4wyVmnc/tMNb9Tju4jJ9pzqNHIWX93Gl6WxwjOZxtKVxccERfRw/5Ge9OkOgPzjqgiDGA4lj7oIi0H8SHAGDBSyPo1eRwNE0VSs4Rv/B8Rl+Y1LBcQ+/gWDklA2O6nGMC4nRwRFywRHT8Sg42v0ZA3A8F3bhgKP5ezYkhIHjr+7gmFgFcIQXCX3O1AJwTLytcsDx4/KfUNXqgEHTHO0CouuFjOuJNAI4Ys5ENFV7+zja9z6SsBzlpZdeSilkWcrwfGWDo+RfR35x5rMuo2uuSUVP8wt/g68NOKJpGs3UBhgjA2KkeNQ5yG9+0/EEFlh8hlyiUvPuh3Z4i7Jf63xAoNT9zn6s3dxQD3ubqu1maVuxgeNHAo7Gm+g2VccVIBIKB0eUE2e8qToxg2MkjQOTAo7jGBx/6SDgCBB85tlnBQqjyYZHt48jmqorxDuMPD5DIZMc4CijqtFUzTfBHhxjBsjA6xh/UzWgUQfHFCr0griYbY+j9mM0gBiA49m2Cwccr5StVuiQt6kaMKhbu0k6krSPow2O+mwFeS2BxpcLnjTp4/jxx1TF6cPoFfo8quIcq17d6ePoD46xKcY8xfI2X9txGo/lBfNzud2owTfUt3cfhkAdVT1Ump4VCOOTSWsGx6DCwxQngQWWUEOppFKLs++UXdiiDrXL9fAyPjbZ4Iimaoyq1jkc/WDRBkUNI63p4/gmvf++8TgqCCo4ussRG9nN1vbIagXHMzo4xvY4wpsY8igyHI4bb/ZlvkaGQ3gWsT+ej0/gMMARcfA8dmRwLFc2ssfRO1gG6XRENfYBjpgPDB7HhIIjMoBKPSKQDo7BzVW3svemqzTDuH0dMAE4PI7LZXDMi4UKU26GQduLaODQTAieU6biyUm5cvA+S2ES6bC2JcDRnQDcnY7HDIxRQHTBsSnDZFNMwSOeSEAjq0kzas5p27b5gf5kcMTvU8PvxYz4kD4YgcVvuG548PXtMhaZPOOCI5Z9irtWNSpWG/68SkhlH4tcUAVIoF9a+gwPyzyOnTt3oR7df6VuXWKHxq5du/B5HbkwxDyOcWc5OHUKz5sTEViYecsjNVxH6eNYvpxMw+MFQ1tmRLXrlTR9HV1wtJuqca9TpsRE3ZB6BzkvOJN12xN4X365yScKm2YScOQb8zkuhOJlxJGVt8TjKPtIl1JGVT/15JPU8KsGAo4jRoySPo7o16iTe/tBohcqMdJ62LChNGb0KFq2dAkdO3qEr5+uHOZeS2zVrKCvaVotG/V8lf15oS3/x7F0yjnOByReyMMJ2qafFVhc02vsvc5u2AhliabzF4676ZAv7M+xTT9TPlfvJcuNDz/v0KEjUpbbLCDN1k5fR5sN7DRGYIu9/BmHffs4Qm++CRh0B8OoDEBi7kazHLEdj8ExeOaNJ9FAIrq4mbB6F10vJMAR0/whHsK55wQctdlaIBEeRngbMaqat3gjhCdyIsMjoBEeR8R37tiJyn9cXiAQ/RUVECPJBknAo4IjJr60wdG+2ZGkGcwbb4NjfNLMEQ6OB+Tit2rRUpqq83JhDUh0p+RRT6MrTBIO5cSW00KYMBzgiOWFcIMBibix8DSiImnatAk1g0LwyHLAsUlzPq5AydAIcPzxh7YCjocOh3sccQ0CcEyY4ZpdGOBoSSZ0dsDxUwOOv3brKeDoD4l+UnDsGTY4BmbyGp4xJyKwMLPLI2zV0Fe0SZOmXE6WpWrOPI3xCeCo0Ih9TAiOvIbBeddccy3nNzQ9m3k7U6aEFBz55eFyBkGWDZTIm+qVxtbE4UXjUhZ/jgOZBhzhxWZZ4IhjKcSzjfPRx/FqA45ff8Xg2EugcejQEQKONhja8gXHoUP53GE0buwoWrF8CR0/dpivHxaACAdHI5P3cGkRHy7EqUwGxVbLRZyvL9h6j2wpaCg4Io53jfjvytYx+7zAwk2updwr9xqHx5+mEydwL7DvpvUXjpv7jX0FRztN6H46eQPivZBMHIch7Mu3QVP1YQZElwN27dlFOx1pfHi5b0vB8VAYOLrzOL7KeoUVdzoeA46Y+LukAKQ5bkZVY2UozKoASIRHEdD4+ef1Q5D42WemWbp27U9ZAEmkMx5HgCPKDLDFGW2q9oKjNEOHPI4mDECEd3EcA6LxOHI8jrEmT5okxzt36izgqBCIrZ9sULTTIax9HF1wxA3n28w3O5o08yCshvOOHDnMN5bfGvjNYQ9X9KbvAt4ivJ5HjePMgkyDyT3RVA1w5Iv/XctWVKxI0RA4uh7H+MERox+RVj2OnzE4qsdR+jeK5xFex8YMiIBHjLA2o6ybwiPJ4aa6z5AJeMRalDP+/FNmvLfNviaBxWbINwE4+ikAx8SaVmTe5xCzRTTx8TjaYFitugpx9nGMrMbgGDOq2gZHQJx6AN18wDDoTJ1jxxtvtAuOJg5dG0yfx5SXu4Dp63GU9JfL+ZgAPFWqVPzC/xR90+Ar6sN5Rfo2Dh5OQ4cMM6vBOP0Xh1qQGIJFS7LPacePHUMrly+j40fRmoLrx0KZxvkNW1PWm7wHh6QBBQjlP44ZwJBjzvXX41pPKDiaeI/s/5w4DhrJd5CPFAsdDyyO4brgWuv1QRim18yA40mBR3M/4xPOdc9X6f3UNai94Gj+s84Nizst3ZTclkjU/4BHI5cLlBNUGo+6YA/XHzo4pqcDjtrHEc3VBhyNV9H1LCIMcHzjjZJWvAuOVapgAnCdesfI7H8W8i7C62iar40XUqfvQRlx1jyOWHJQvIseKTgKPLI0Tr2TkydPlnOxVjWWHFQIVCCMJPU82hOAe8ERb5xGfKOjCLlAtnISC5nn1Ek6cvggQ+NO2rVjJ+3ZyW8OkkF01nc7Q2ic0S4+R/o4Yq1q/i4yHQ/mcXSaquPAouNZ9MarFBxfYHDE20Mz9G9kwZPYvMW31PTbpgyIjVlmPsdIatyY0zRpIivHzPhzBh3htyX5vfjZei0CS5Ch4AnA0U8BOCbWzPUJf5GFLcd0PPwCWP6TTxwwNLLXpK5Ww6i6xDkwWQ3pzFyO8CZgHke8kKKpGgCHe25gz84HyF9x8xrSedMKSAIoIxz3kwHHFHTttdcxOD5NDRgckVewcszwoSNZI1jDaBhGVA8eEtraA2IQJ+LwYEwUPngwjR09hpYvXUbHjhx1rhpfT+S1kyBCT4bDbigKAaHFsHi9F1i+FmARgs4I98jX9POc8/BfYPGbXltsbVBXQzjuPUAYkGlA0zY939xP67icwseQRzyf72+IN59jwFFhMBIX2HE2Q5g49Tj27Pkrg2M5evnlEgKCxquoTdLwLL5lQaIBx9dfh9wBMhgsA3CsXLmKA4U6ehoeRjMhOMARAIkwtiqkgVBGYAJwu2+6nyUIHL0X0wZHAKHKBkcdCBM2AbhzDOCI7S+//CIT2wIEAYHYRpPCo25xDpq4MWpQXax4S9QMpJnGa5qRwt4gkbH4bebo4cO0lyv6vZwxdKRUZME1bTLJXpkEdDft27dPILZVy5ZU9MWXKDfDoQyOyWGWHIxFCpRmVPUL8nbQmOGvCUNj0+boy9iMGgs0NqZmDJCmudqoeWhrmq8BjY2bNKI2bb6n6X9Mo8MAR+f5Cf12VmCxG/JOAI5+CsAxqWauk1vBoSDHs4/BMWaKHTNS2sChs19NhTiMosa0PAhj5RgsOWiaqs08jteKtxD3XGFPvYjxgSPSiYdRQRFxfDy8CdvKUz7CHJKpUl1LTz31FINjA84rZuUYWXYQW4bCkcNH0AhMzeM0XYuHEeAIYMQIbADlUGvlGAbHFcuW07Gj1uAYXEeGgpNcprvlG28BkqE8iIAT50jKQyeBehz1fL037ucZk3M80o92PiqwGE2vL4Sw93rrsXAhTfh9Uvndr5A598dOH1mGK7BVj6Op++E0MpCI+h/7e/YYJ1J4HYB9d7oeeBw3bFjH+b8XffJJecvjqN5FgKEXHAGWrsdR0wMczQTg6ONo+jCa/owGChUWsTVy4xQcUUZ4PY743V5LEjiiH+DcuXPDYBEaN24sg6LRuDFjGBwZGMc7fRz5uPRxxIhqFiZtBTh+/HF5hsJCDIIY+FJIALFQIWxdARRdeFS5A2TgonV/cIRM4jHOAvKfbXhLPXb0OB08cIgO7D9I+/ftZxDcLxW9rxgS9+7bK7C4d+8+zjR76cCBg7SSK81Wrb6jIi8WoVwMgDkYHHPmyBHVw2hLvJE5c1ng+Ck1bNiAGjVhUGzOMNi0CTVs/A01bPQNNWrckBo1amTU2Kih7CMe+obhkcGx9Xf0x7SpdOjgIfmd8nv5vurDGVjshut15sERFbcqbmWe7ArA8bww5C280KqhXMOz/dGHH1LlShWpSuVKosphqhwmAUdWlcpV+JwqVLFCRSr1zrtSrqCZGFPryPQ60udQBSjEFs3PpilbQVHzocYhv2B9agySATiapu/YwBHCPI5Y8Qvl2ICBA0wfx2Ho52iaqUePGkWjRo6iESNGOmKQHMlb1kiERSNpuHN8Atcnqzm/2dctKXbylPEy+lqs+RfpVIHFbDZraP10vhnKfpn0Gx5EBkKMbcDWrCCDKXnMtDxgArNV7QnFHTp0gNavX0t9+/amihUrUIkSaJ5WaAQgmkEwRggbDyP233qrpOwrNJYsWTK0VrVpgv6MatfW+RwNGKpceHQ9jwhrU7V3NgyvJampWsERfRzFu6hiSJw4YSxNmoBpeMZwGINmnFHVDI6TOD0GxkCI6+CsVf3ss1hyEANfjBfReBPRFA0ZOES8Oa7xZp3qJ598iom9Ii1ZskS+28mT6LeAwheubpVpcrDjjnM66CQKamRQFvpPHDxwmHbs3E3bd+yiHSIOb99J2xwhHNrfsYPTsbbvoC1bttG2bTtoN0PBEn77xU1A/0SAY67sOSgPgyC8j36g6JWCY+ZMmeQzvvrqK2rRojm1+LY5tWzZgsVh3v/2W3gXdYCMGU3tjqo2fSCxbdXyW/qlfTua+eef8rakGQJbVWCx29kDR61sA3C8GAzXCOWUXVkuZ3BEWVLhk/JUvVoVqlmjmqhGmGpwnBHCaJ6qXbMm1axWnWpWryHT9HxQ5n3KlzcfXX/99Qx5GBxziQOPGCSj+QD5K25ewwCayy9PyXK9lCbe9VgqUMYigOMTTz1JX/PLcK8+fRgeB1G//tBA6tevP/Uf0J/jBtLAgRhlbUZaDxhkhLDRIE43mDWIAXKElP+ol06cOE7Hjx+lY8ePSR821XEu2yHtIweFx6lOyOccPYrzTZ419YnTx5HrDgi3yEjTGOHeQaGm8iC/x2ymjIjrOcR113uj986+J0aR49x8gM/Avt4v86zpPTQy98+EnRe500ZgBJyzf98+rve307bt22n7Tq7/He1giSdy5y7ayQyxc+ceFsK2EIeWyb20evUq6tmzhzRVFytmBsdgSh4V9m35xRnIfEPqkkr8YlmnDpqmDSQCCqUssOQHkQifkaZqr6GpeunSpTRjxgyZG/BPBhIRh2f8+QfNnMFx06fxsWn0xx/TaNo0I007c+ZMORdzxb37Lt6E81D27ACm3AaaRBhUArlxmE4CC/WjyQXxaAKGVw59AX7/fSrftN20efNmR1sdbbHiEDbxGzdtonUb1tOGjRtp8xaOY/Bbv34jLVywiKZO/YMhd7J8JsJTpkyj3x0hrPp96lSOmyLpfv/9d07Lv3HGTBo6fJjcDHhFAYsY+IK+joBIP1D0VY4clDFDBn4TKcGA/QsXlAOof7++1O+3vrIdOKAfx3EBy9v+/bmwZfXjAlfVv/9von6cdgBvR6FwXbyYDh0+LA9AYIk3FCYXMjjWcsCxR/cAHM+WeStNGELr1q/n+9BDZlBoyS+L37VqIWplq0VL+q5FKxmQ16oVb7/7jtOweP973uJ43c8+l1ke/ve//9ENN1zPAHmdQCTCN9xwo6UbHIXH3XjjjZQ69U18zo105ZVXh2AR8Birp1F11VXX0CP8UlzynXeoVp1Pqf4XX9EXX34tqlf/S6pbvx5v69MX9Tmej9X74gtWfVF9jjf6gj6v+wV99nk9+vrrBrJa0axZs2jOnDn0999/02xo9mwR9v/6ezYLx+Zw3D/0Nwv7GvfXX3/LMwkP70auEzZtMnUFHAJbUD9s3kSbN22mbVsYGOAk2LpDHAVbt24XbeF4pN+6bZs860dQzjKoSBO4Zfb9DSzckP8xiTsgT68TQA11N14MFi1azFrC4aWixVyfGS1hYT9uHNLhPJyPGQo2bNgk902cP3yvduxg4Nux0xHCKuzDceTsO3C4detWWrNmjfDPEmjZUlq6bBktXc7iLfIPus0ZIWzva9xy+Yx//plDbdq0ZiB8hR577DGZIQZd7+LKxJvj+UNbxMGpBmFU9ocfYi7HalSrVi0RQFH7QtfEiyRL+0VrP2kNY5wIxkTgu0WzJIEjbi4eLlw83CTcFFtLZas30Gjh4kW0mONwoVesWslv0stlZYoiL71Ed9xxJ916yy2yveOOOxwhrDJxd911l6M76c4776TbbruVbr75Jnr88cel2fv336fQ2LFjpBl8zJhxjsY6+xDCaDpHs/p4GjUKzSEjJB4eUPSn+emnn6ju559T5YqVqXIlrP+KfkRG1aoYuXHob6TLfGHL4htX/pPyDHwvc2Z4nCHQDI6R6XjQZB0HEuGF9E4Anp2yZ8tKD6dPTx+8/wEXarPkDWc7v+FIZsebDmsHx4Vndlvm+Pbt2ySz7+QHAbCDBxFvXngT04oqKMwSZokHx90MjgfkvPPf49hZgMUfECPJBUcU0rYhjwXgGNf02dPnUIU8BkNemTVzlsxG8fvvk2ny5ElxNYnjocnmOFqCJk3EsSn8gjtVWnow7QeasfPmzSuTvENYJciEsdWwLROfnsuhDBkyUsaMj9ADD6al1DfdIv0b3SZqeB+RNyGTV+1mbT+hn+Ptt99J9957Pz3In3n/A2novvse4P0H6L77H6D7WfchjLj77nfF6SHE38Pb//3vXkqbNh0VLPgCfVzuE6pSqao0z1euWEmmaUOFWKkyh/m3Q6Y5vwpVqsJy4qBPPqkg3hcM2ESXKzgDxo+fyNcSAzlNn3zT3cp0tUIcNJGvM/r6Y4vrPnXqVIHXrQybpz3gqPcV28DiGq6Legf1GqGFDK2WP/74A78UtaQW/BLUsmVLDvMLEb8kucJ+eFxLfnFCeggLYGAhg2HDhokTa8aMmTT9z+niwPrzT9Z04/gyTjA4vqA/OQ3inbgZ02n6H39IPjDdJUwXipGWwBTuPsL2vsahe8UEcfYgP2IQ7C3MP2AavNjdc889slXdfffdEaVpwA3wPGKwseR5zvv4bCyOAmkcthpn66OPPuIXsK9l7IqWPX6WJHDEjQXArF27VshZtdoSjq1dY45jf9Wa1bRqLYfXraUNmzaKt+/XXj3pueefp+uuu46uvuoq2Rpdb4Uj6VoufK7mt9cr5cJjEMiAAf1leDuWserZs7ejXs4+hHBvTtOH+vTuI3FYjxfnoGCFZ69evc/p7ZJv0UtFitBLhV8025eMinK4aJGXOI4lcXycVbSoCRcpUljSv1i4MD399FPiIc2RIzflyOmAo8/oan9wzEHZGBwfeiidLEe0lq9ZcpoXGoOCLGGWNHBE/9j/CjgmxNvYVZYp7NSpQ0RwDPJZXPO7Jva1wkpWK1as5AJ9oXkBX7gwXi1YsIDmL0B4Cb+sL6V58+ZLP/MvvvxSuvuYFazcQXjxySyHilaevPRIpix06213SP9Gd3oe5E3TN1LzaiRwhHfSjK42+T55dKmA5FNP5qeCzxUyevZ5eh5dm55B1yesSga5Ayuf4/BzHGf0HOV/Oj+98koJrjy/oj59MGBnqGk27z+Q65UBImnV6d9PhLoG6u+ETatPPwGTKVOm0Pp16+nU8RN8M+U2hu6pfW8Di2ve63P48CEaNGgAQ30tqlLFvAyE+vGKw8aWHVdF0pgXhcribcMMIz16dHecRWNo9JjRNHr0aBoDjTIaPXqk0aiRZl/iRkkcJpofzdA3oP8A6sUsAWawhYFekDfeT8hPeElBHXDvvfdKNxBMjK98g0FskB2G0EfZG0YavOjB64hBMpjeR4WugPZ+JGGBAHjyAY7R8meSwRFerNWrV4dp1epVtNKRwORqA4wr16wSLyPisb92/TpazRDZo+ev9HyhgtIMci2/gWJ74403UOrU2EbXDTegqQUXMJWssoLJK+Ex7NevH/3222+s/o50n9WXw31NvJsOzbkmDI/JN998RWXeK01voJPqq6+xXqXXXzN647XXWK+LNE7iX+d0CL/O4Tde5wLoFXEfY4kvhcHIwnFbJh6gmS5dOir3cTm5ZoGdP3ZmwRGVrUorXL+4ZFYyg6PfyjFBhZlww2C7pUuX05w5cznPQP/Gpn/+pbn/zhNo/Pvv2eLlQPNugQLPUJYs2bjMzCZlDBYaiF9YyQozQ+SiTAyOt9x6uxkYEwJDQGI4OPrn3/A+kio/wNQlCiFNY6eTY04c+kxmzJiJX9iLcOVZgl4WvUwlWMWLFqPixYpyPMRhrlyNEHbjCxd+kd599x3pE476AHCB+mTwoCE0xJoSCHEy0nsohBVuIDMxOUZ44zrDa7Vp40Y6CXB0LMj/iTOwxogRw+mLL+pRnTpofg0f4BGLtD8fGAGAr7O8uF5kHbSLOByDzAp3MqWgLKOM8RvjZeESjPbv19dhCks2U8Qn5BV0B8KgljRp0gg0oktI6tSpwzjHu6/dRjQM3XTTTfTII49IvkZz9SeffCIOJ4VChO19bzyEugjgiJfTaHZGwHE1IJHhcAVXGqsYGldD8DQKOK7guJWSbt26SOCIi3K9I/di+QkXDH10QNwAR3Qgx0Sy/foN4Buj0OhRXz7Wd6CE/cGxK4PjNzInkguOLizGK6ejqguOeUIgCOlE3zLZtxXv54lUcMQNXsXXLLDzxwCOaELxA8RIiguO/8jceuHgGHtfscT0LYsqgGMKBcc61LmLWavaC4fRFB84alN1UH/GbgcOHGJwXCbNn76AGEn//ENzGR7nzZ0nffwMONaX/lHoF44yMy44ZmVlcYSwewzpUU4BHG/1Ace4smHQLy66vOAY7fjVV1/D4JhRVtlSMHyZBXB8uZiCYnThXPS3xyBD1AcYvS3TAQ1iKHTAUeHQC44IB+B4ZsyA4wgGxy8YAHXyancZvVgEcMRAETCCHzhqOJIUIAGW2qVN2cGW4Qgf7vDR4MFDGRy7Mjh+xOCYlsHxag84YnuTIxceFRxtoIwGjupx1H3dqs4LcFTv4krZN+AI6FnJwLhi1fK44NjrVypYqJD8+GtTpeJtbOCIi3Y2wNEXDqMpkeDoJwwWSpcuPd/c8nI9Azt/LPnAsZQFjv7emLMlQMClKVJQ+owBOJ5PdqbAEbLB0Oi/BY6XSp5NSVdfc41UnIA/rPkrcjyOkcDRPg7ILFKkSLzgGMnjGIDjmbMAHP3B0d5PrMfRPnZegeMq9G3kcKzgeENqvhCpbxDZF8erRIOjyBzHTbbVt29fqfzOJDj6K1JTNcDxYb65ATieb3Y2wNH2KJ4NoPQHRx0c08VSXGBUdeFzOnb8xQHHyKOq+fIF8BijJRQc/5nrhB1wnO+A44hRI2VUsh84Zs3uygBjODRmy4bZK9C07QeOOr+j3UydQHDUZQplqUKf4z4KB8dUXHFmYnAskiBwFDngGJ/HUYHRQKOZgDxoqj7zFgs42vMRarO0raSCowrgOJ7PxYT0kZuqbfnxhxHAsUsXgOOHUZqqEbb3EweOkaTQeF6BI5qqBRyl+ToCOHqaqg04GtkXx0+JB0cjGxqhcwuO4YNjIBscg6bq88suRHD0b6pWcOzsKCHgGNnjGIBj7Jas4BjB4xgOjn7KIeCI7ZkBxysdJRYcr+WKM3OCwNGrABzPTzvvwDHmPo6xgGP8fRy9uijBceWqlVKhABzXJBM4YmRRYsHRe8O7dev2nwHHoCA6e+a9zhdiU3XygKNpqu7Tpxc/5+ETyeIaBk3VCbekgqPdVF2vXj1Z2x/QiDJT+zjGB44YGGM8jjnPTFN1AsERf9d4yJMPHL1N1SOGmyUPBR5DsBg0VZ9tiwUcY5GCI+5tQsDRu8jJuDFjaeig5ADHITIA8UyBI8DQ7t8YCSTPO3CM2sfRGVXd/dce9HzB5/kCwHN4DW+jN1HbUnAM9zhiCgW9ef43TGXfZA2j8ksSOLLefP0NerWEDY4Y+IL5G7NTrhw5WNrH0cSZ4zZI8vFcWN86HnC0FNjZtf8uOKLijlCJRxgc042fiW7dAIyxg6PxOPqBYzCHXUItqX0c4XGc/VesfRxtASoxLZiRjKo+U+CYCCW1j6NXsQyOCcDx7Fs4OMZdNi+yFDDNus2fffZpkj2O0H8BHBUGFRbtsFd67DwBx1W8D3BcK55H36bqNQ44FgI4Yq6iq3nrD45+FzO5wBFbCSdHUzUrPnDMnSOXLEGIlWFceDTAiPke0QE9AMfz284MOMY/ShrHkwaXCQdHPBPJDY5BBRq7JRc4jmKg+YIrBqw2oeAYfTqecHDMkgX7BhxvueV2yYc2OGJZQmzdJuvzBBw9gBhJiQNHNFEH4HgmDayBa/rll1/GDI4mHcLJC47SVH0egyPyfXyDY+x4+9g5B0dMvaPguGoVQ+Mq9TjqdDxOUzWDY49f0VRtPI6YzBvgeAMuRgyeRwVHTH6JQg7rLMYGjjhu0qBfI9IjMyHchStGBUdZAxIwyCDohcNoEnB8uUQIHAUGFRxz5qLc2XNRTgFHwKLCI8fxfg6O16l50BEdo6rLlQufjkcLoAAcz50lBzjOnfsv57MyIXBMweDmV0FGU1yQRMWsCk8b97gnjQOOD2fMQHW48MWz0KPHrw4Qxt5UjT6OvXr9SitXrnCuFvKsybexgWOQq20z8zgmDBznzp0b3sdx1l80aoQBx+jT8XiF40ZuH0escnFbCBwNPJrVY84kOAIUvfsKjqh0DTgW5sqzeBg8FrPnbuRjNizaelGbqpta4AhABDwCHBEeYsDRQCT2B4uGOUAZKzhGz/+B2ZYc4GjmfqyTPODI5yJPhMARWyds2CM2KThiwm4FR/BMcoCjDYmRIBKyJwfHBOC4xlj5L5olCziiv6KtEEDKPkPjytW0YqUBSUwAbsBxJa1fjxVlVtOvDI4FCxaUHy/EzRfieobG62T9VIZIj+yLpcLFxsoGWF7IgKNzQyNCozkOUMT6pr9xeiye3+e3vuJlUXDUBcTffONNX0CMJIDjKwyOWLEA4JidQTBbjuwCkLly5qZcCo6OhxHAmCtHbo7LxeBo5nSEUKinTZtWlhDC9VRD5asVcGBnx+xCH4brrxOAQ9FAEbL3FRznzZsnhYaCo67CEatQcaO5EJKKVOK1gk5YJa2fiXMeeSSj9AcCCOL57NatKxdwnRgKO3FcfOCog2N+lTVbYbhuJ08CGk0Y1y6y4RrjOBTkb9iBAwcYHJcacGQQBAxCYaDoiUfe+mfOP/Qva96/c+mvmbNo5PARVL9efenjCGiEAIcajiZNhzIpU6ZMdOutt3K+MyvAQO4LDOejlJyPIYSRtyCNk2UJvXkubl6ME8cCIHqPXXJpStZl0s8dFWfhwi9w5VmMSpQoLku+AgiLFXPAkSvV4hwXgkqPsPRtqXdLUbMmTak/1xPSx3HoYBo+jCER8DiIIRFbBkSsDjOEIXHwwEE0fOgwTsP7DjhiyTksYwdwPHGMwdEnGwfld+ym4Iimaqy97AeONlCaLYSm6rpcltWlWrVqy7mYABxwB1jUvosIxypNj3uNFkqBxz59qS/LBce4rOEn5BWAI1jDC47KNt6w7kcDx48++khAEFAIaMRygtgHRygkIl76QZYz8UiL7/HVV1+dS3DUMDyOaxkadYAMx/F2jXgczVKEWO4PS0DhAqS69lrxNAIcr48wHY9ePA3jQqPQwJtwy5bf03B+2LHsE26gEZqkB1hyR1Pj5oU8jgMHUO++fcI8jgDHV7FSTAI9jm8xaL72yqsCjrlzO8sN5tK+iwyOOfNQbgBkrlyOcvM+x+XII2ApQOl4HbHkIG7qypVus59CjAJkYGffsN43KnQbDqPJBkect2/fvjjgiIpQK+BoQjqFTI1zK1RsodjA0T7/kkv4M/lzsX7xp1z4olBDUzW8iAYasd9N4iLJQGZHfrb6SBmgZqDRVJgoOyJXnIgLwNE25Bc0H2GAS2jAC8MgvIohIe6fuWHxCpnSVD3rLxo9chR9Wf8L8ThmzZZVlmnNkiVzCAyzZ3flehw1zngm0UKC81xwTCl5Ed5qyUscl/IKzluXc96DB5LjRLyf4nJ/cMR5ePnBVuPtvClxlkLnsyJ7HBkWWSEwLFGCir8SHzgWoVKlSlHzps3CwXH4UPEoDhvMGmKaq6FBAwbSwP4DnHgDjYMGDZL+eMbjuCnM42hbAI2xm4IjmlG94KjA6C8cN/0c4XFEHFolsdSfrOU+yawxrjAIL2R8knQOOPZjfkA+EXhkCUf0t3nDZQ0/4TPwso06AA4idLkD1wACsVVAVHD024fAQDY4AgTVo2iDo3oXFSBD8Ogc06bqRYsWOVfe385IU7UsM8hwKGH0cVwFeFxNpp8jxzvHZB1r1q+/9qSCBZ15HOXC3SBexxsjjqpOTTcxMEKpeR/N1Fg1IHNmLDnYgt8Eh4fWDTU3CFuv4t7Efmiq/q2vVH6NGjWSmwlvI8ARAKlQiLhIevONNxwxOL76Kj1T4BkBR/UsovCFZzRXLgAiKwSOZlS1iWPQdLyN2GLlGK/HUQudABzPnSUUHFUASJxnmqrnSvOAgmNKgB5Xtt4K0ltx+sn0jzSVr1S20mzoL/ccLzimoEsuvdT0caxTmzp17kTduwEGAYvdBApR0HXrymGW7WmUATQIM2TCO/kbP0urw/KsybenT5s8a0ZXR6o8EX/xVqze64IuEfACzJ49m+b+a7yI6lkMCXFzXI/jPwBMhkhAozZVo+kVHsf8zqhqAGDmLFkZIk1TNLrGQNkgq4la4pwwutSgqfrWW2+jy6/A4BjnJcbKSykv57wl0Ag54Chhk7/tPBfurTR50s6X3nhI86+RAccrrrqaMmDlmCIvcuUJcDQqwcAoYFgCHkfAZHjztFl20HgkQ03VTZoKDIgXcfAgaaJGJQ8PowjhoUMEEgcPQjP1MAFLwCSOuU3Vm6SeVAtgMTbzXqfjx48LjANqjOcQ0Agg/MyBw2hCGpMOoImm6kGDBgo4qgw02rJh0Y3DWu+y5X1MpYPliwGPppkaHAHuUGCMwhqOkF9QtqKP44MPPkhXXXWVgKDtHLOlx+x93d58880CjsjH4AUFQsAjwBFb7Nsqz2mMysuyxu/yS1PdevXODjgCFOOCo4lbK+C4ilaiqXrlGlohAMlauVLSrF27jnr82pueZ3DEj0/Fb416USLqer54NzCVM0DewKQNcEyV6lrpf9OkSTN+cIfKG4ULjpGFNEiLsLqPe3TvIeCIm/nmm28aKLS8iV5YtIX0kE7Hg07oaKoGGAICzds7mqGxb+JUGAhj4vybqnE91UwF7PYXC+zMm/c649ondK1qbdZGUzU8jgBHvOWFPI4pUnAleFnIi6IeGalgLUklfcVVUiFL5SkTJ19Fl6dkodk6FO96d/wqXm88KvFL+Dukz5ghNDgGzwMKN7QMYNu1CwNiZyOBRt6HR1LiONy1MwbHdBJP/qoVjpecL53mWdlhw/tOkHX9zZvXkM+0qXquA4kQ4FClcfBI2uC4YO5801T91180nCvfenXrUf6nGBwzAxyzUhZMs8PCiGmVXxyEVp0cOXLLmtA333wrA+KV4flShHynCo9Tr6R6FyVfw1vJeU/DAqFIy3Ep+WXIzp8qzb+hfIzP5OchfYYMAn+oPIthUm/Hk2iaqovSy5DthXQ8ky+/bOIxHY82VQMcRwwbTkMGurA4mCESXkWEFRKxRSsXmq5VaKr+448/aCOaqgNwTLB5r9OxY8dCo6pdcNRBLwqG0WVAsw41a9ZUwFH7LKqncfx4hAGRBiSN7LgJTjqkn8D3fjjzApqj+0pZZ5ql1dPozxteGXA0HscHHniArrzySvEeKhBCCNvyi1ePI5bcLFq0aKiPY9my5cSTqN5HA4xun0YcK8sqV57DrFKlSwmcn5Wmahsa3aZqE17DoAhwRBh9HZevQNgFxzVr1lH3Hj3pueeelx8vfRytC+KnGxkaAY4ASHORAY/XS6EGjyPAMRZohBQcAYy9e/eWDGDP46gQaDdV+wGjStI6AjiiSUjBEV5H0wRt5mc0wtu8vulrnIFGnINj8DjiBoc3+xkvo1sZB3amzXudsX/48GEBQAXC+IS0AEiAIwRwLFXKXqsa0MiCF4WlcCeVqhOn8Vppo38XtikuvYJSMjzC84h9iXPkrXjlMz37WpHDg5PhkYwGHK2mauN1dLyPXY0Q7qZN17zfoxtvWUgfCRz1OnouZ2Bs3mukZnsc0fwscOgAow2O4m20PJHzOH/B2whwxLkjRpp5HAs8nZ+ySjM1mqizU2Z+6caLtwr73risWc1AGbzcAhxvuukWyUOa/+CtNtAHmXzngqAbZ+c19ziOmbC7j7T+Mn0nVeZZuPKqq+nhDGiqfskBR+NFdMMARMgFynB4xDyOL1HpUqXo22bNaUC//tInVPs0GlB0YVG3EGBRtxA8jgDHDRs2SMuEmve+BhbZ7GsFcNTBMWhyTgg4AhjRX/vzz5G+DjVt2lhaJBUcFR4nTJhEEydOdqTeSDsOYdO8jbRDh45ghgBnGIeTCScMHJGHUFbqqGp0uQMUXu+wjUJkGP/4wGQIHDMwOL70kgWOZUUKigqLIoZKHEN/yI/KlaVyfAytX4BzLzh6822yeRyN99D0WbRBUuMhgM8KrkhWMziu5Xg8VBhZ3bNnL3rhhRfE1YqLgG0k3XLLLXTbrbdK/5pbnH3E40LjjRjgiJFKCoLxqRe2ffpQz1696NeePWWgDG4kOojiIgIGdYCMgmM0YVCMNFUzcL766qv07LPP0qOPPkp58+YVPfbYYyKE8+QxcdGEZm50RK9YsWJooAFMPY3eG+oXF9iZMdvjmBChuVrD/3KFXrr0eyFwvPxyVKoMcmjqQ/jyK+hyp/lZ4y5DHzJ4bFgpBDRTyFYq20udAQSAQT4H58m5qFwdL04kaWWOijkjg2OtWrWoU0f0a0SfRYymdpqkAY5dGBjhXQQ4qgCTTrM20uNZsl92UIFC+tKjeTgw1/T59V4XgOPypcvMYBdvE7Uj6ePI+QlexlAcwHH+fJo/bz7vz6FRo7ny/aI+FXz+WcqFwXoslDGxCE3U2ObNm09eaO+66y66+uqr6corr6KrGNrgLbniimi6yhLypclzmj+lCfvylCzeXuEIYUkXTWY09zWy5OAj9ELhwuJ1eYkrUGwVILHFvjlWTPaLFTP7RsW4HipCb7/9DjVp3Jj6OX0c0RQtTdJcr6B5ctDgweJ1tAUAQBpssQ94nD59Om3aFN5UHVjiDOAIL+7XX3/N8GeaqT//HINeAIOmCdp4FA1MunEqs2oMpuNp2rSp1P1jxowR4XNHjx4d2vdq7Gij0P6YsTRm1GgaNHAQ9enlsgTKO6h3b4jZgpmiFx/v1auPI42DTFz//gOpQ4dO9P77H1C6dA9J6ykAMHXqm+TFzAhhV+Cdm25SmTg0X4OJsmTKTK+UKCHQWKlSJfrkE/RxLC/8gH2oQoVKVLFCBapUgeNYFT+pIM3aFXj74Qcf0tfMPgsXLoxaNicZHHfu3CnueAgPiYb9tGHDegHFjevX06YNG2nL5i20efNmedjQrwRu1oceeki28Qmd9x9++GEJY/vgg2no8cefZFr+itq3/4V++OEHat26dZjatGkTJ+67Nq3p+x/a0PfY5+Nt27aVzrOoNNFJGp7DkDfRBxS9wqAYgGPoHAci1QtZsmRJLpjeprfeeov1prONKz0H0IpCD03ngG+1SJWvX6UTWOJNr6ffNca1h8dRvYexSAfFQNhfsGAhvwVWlK4W8LZLM0RqfuNMzW+R0A38dnk9RtHdZPZl4Bgfv4HjbkzN4etl9oFrrzf9fNG0p54fBUcFw8tT8L7TXKigiK3r3dEBN5fRw+kfpsqVK8sz8+OPP8pzIdsf25rwD23pp7Y/0o8cRlxYGt7i2erYsSMtW7bMuWoGHE8cN4NiYHJNresaWOTnF/ls/dp1tGzJUhE8Al4tXbxEji11jmMwDYRpfJYtW8rhBTR16u98z9rQRx++T6+9UoJefeWVUDkVn/QFGuXTK3zu448/zuVvBimz06dPL0LYVvr0RmYfaaH0lDZtGunTdd9999Ptt93FFR+//MuAyOvdvC993d2muUhSrwsqzke4PnjqqSfpmWcKUIEC+aXFB1OiQeg2VKCA2ebPj63GqZ6hJ554mmGyuHin8JLUr38/qegxs0DPnqj4+1JPBwAQZ+J7inQfXTrgbZ88eTKt57rODxz97nFgkQ3gCLhr2LAh1a1bV4QmVXjPdb9u3Xq8/4XIjQsXzmnMLwUoo7QVxX0pxgBAzBhhzxqBLjhGoTh0zeEX6p9/bEdtvndZAmWlMoZuv+fj33/PfCFC+HtHJq5t25+oSZPmzD+lxaN/zz330P33308PPJCG0qRJx89IWmf/gTDdf/+DkuaBB7DF/v2Ulhko/5NP0yflPhbPbENmhgYNvhY1avSN/O5GjRrTN980ooYNvqFG3zSkRg0aShgtrNii//NPP/0kTqpoeTRJ4IgKwPa4aJOdVowaj6Y59bIgvA/xe/bS/r0m3axZs+RHAagATNjGJwAYCjDdf/NNANfbTO4fEhYMh7fQKzQ9x4l/j/U+x/MxHEdfA8TjM8Pg7/XYpuMBOKI/JJqpAZ64gQDZrs5AAvHWdO8uhUsswjm//NKB33TGyvXzGm6uVsSBJb/p9YX0QcJWhU7bR48eTZAOHznMW+iIdNuoX/9LqUzRJQEek0yZM1HGTI8YPZKJK8PMHM9xfAyeQLPleE73SGaTDuffddf/KNU117nNfR4oBFReHgUc0a8Mo6ovvTSFFEbIvyiY0XSBQhfhevXrSeECYT5AFMQI41ioIK8HT8CnXCA2Fo+XGq6heBxPB/k1kmm+8hry2Z7de2j7tm20Y9t22r7d1TaOkzDinWOI27Jli7ycb9uK49to69YtMhXatGlTqE/vXtTFqTC1+4G/cMxIyy/AETzRTRo3oVo1a1KVKlWoevXqIVWrVi2CaoiqV8e2mng/UM4WYIhDE3gGztcZGETRTULyOedrtLbgmYhP6kxQeIX3Jm3adPJMYd8O41l56KGHef9hJ6xgm54r4DTiWUVdAM9UW35BatWqlTgTMNVbq1bfUUsW4lq2bCnxEAZc6D6mewE4oBsUXpwCcEy6ARzRvxD3BK2BELyP4WrA+sZR+DGAEbY4Dy8F8MDZ/f7skcV2sy5UnkFM9LHVT7BsOfrw/Q/oPYslkGdU4AhsS5cuIy1KZcqAK2z+wD7SfCBdlV5++RV69tnnZJos8xLzrCh//gIShxcgV3jxMS8/Zptf0jzLLz7lPipLv/zcXvrcYuT32LHwko6WLQb4jB07gQF8LI1xvKgi59h41sgRI/nlcirt2rXLufL+liRwVLMrVt1qWCsLbaIKydpHczb6GeLha9KkiTx40WQe4paSHmE8xHig0Z/h+edfIPTbsecfU2Fgil88ZAatoPN3NulbiJuBpgyAI2A21nkc0VT92quvSd8ZZEI0wy9ZspQL8a3SrI/CfCsX5Nu27XCEMITC3o3bsWOHeHO3bt3Ob62bOLxLrpVd4ASFz5k3Ox/7XXtsY70PSHXi1Ek6cfI4h07yeSdp8+ZN8gaqBUChQoWk24YK+xonYWztYy+Y408/nZ8r0MyEpg2BQZYMkLHAMT4BJAGcl1xyqTRDovlOC1L0g0F/GL+C1SuMzvvwow+oZu0aNGPmDPntMPx+voryn+zj2jnxJubiM2/+sfe9YX1JQSUKGFEh3t5XId2xo8foOOvkcY5j4WUFL6Aoj1AWATJR1rjlkFfh5RKE9Js3bpKmcUyGDE8QKnX0FZMRp2PHRpXpTzZB+qyhZQiLG6CsRT7GfL6Sr1mFCxcOewaiCdO5Pfnkk+LJRLelq69ORVdddQ1dc821lCoVvPGpxKNvhDA8/FB4PJrU77jjLvm7VatWkYFEdWrVFkCuzVud5kWnhMEWrVOQ7tfktHiJ+uWXX+TFCffHa3pfA4tuep1wDdG/EPU9Wt8gOJtiFbgC5zRo0ECg8bnnnpNxBFrvY+yBGWsQm/RcL0OokAZbsIjpH4zBZXZ6d8BZ7tx5Of8WojeYMRQ8AZulSpURYfCkygCqgdDSpXVrjn3AsNqi+bc0888Zwhqu026XgODu3Xtp5y7IOPLAF9CevXto7/59tI+1w4nzy7O2JQs4JtXQjI3Cp0OHDvKwYatCcxfkPWbHd+rUUTx6DRs2pnz5HucH/0667777xH0bn+679z5Ji2YT03Ryn7yZPvbYYwJ/8GrC42iPqo6m1xka1eOIIfBDhgzjgjY6vfsZHhjAihqmLvECuIZtw3lBoXRmzXtvYjXcFQNO5lyA46ZNG6V5F/2xIOS50PQhLO3cL/tYOs2Jh0zfraKsYlLhYnAYRroCFC9lYZSp3VQdTUink4jD43j77bdLhYwCSd+edRufSpcpTSXffYsqVPqEpk//Q34r7ORpzrOYiseZjkfyKserAjN5S59fDfvF2ebdt+00pjw6ydca4rDE8QaTsSfG5G/x/4BRwOPCBQvM6G0GJMxJCmkYWz9pOozyhvcSXkqUsXbehsLyfhTheYEAewBH9BMOed3DPOmXOtJBPBicgzDHpYBSSD/jG2+8Sbw+8C7VZiCsXqUaVa1chapWqSqeUvWqVq1aVbyt6NIBIQ778KSiX93PP/8s/UwB+16Lds8Cc6+PbvEihEEpeMnGcpBQXKcS4lRuPNICHOGtxD7uFcYdoK5H03CsrBCmB5gd7r+P7uVzcb79GQhr8zG6Ytx33wOOzDEjE3fvvfdT+vQZxLsICKxYsYK8SJUrB+9mRWYI4xnFCzm20hdRptaBKvK+mWYHQr/Fdj/+REsWLZaXRq/hSqII0JynHGEb6qfjJ/ll9MTx0DG/vHpOwFHKHuu7KDgCBAGHCoVeKTB64bFjxw7UpUtXAce8eR8NgWMsuvfee2Xr3mgDjui/g8JI+xomDBxfk4ExuMkYsr9z527nlybMvDfMBkcc061t2Pe70YElnyX2GuOhhPCfsdPSLxjgqB30vZVieOXpjgpFnAFHI3hc8PYKj6MZlX2ZM7CAwZErzvg8jzZgoo/jHXfcEQaOtvxg0W2CwRtyKSr5jg84cn414OjmXVwJ1cVukfJU0p5nvsaARyhJnxNu8GAacFwocCQwCCjECG7IgcNImjt3Ps2a9TeDY0+qUaM6l7MuOCoI2nkf+3rcKxzDi7oBx7QCjprfVQYUbemI7hSUQsRxLAOOqenp/Pnp408AjrWpOprYq1ZnUDRN7jY4KjxCVSVNdQaTKgKO7dq1c8AxbiUeWHTz5lUbHAGACoGxCOBopwc4wjGE+l7rf2xt8ItFOMeWHW+nM8Do/VwT97//3cO88ZC8qKBsNeCIVh1AYoXQ/Iu2wBXly2PibjOo5ePypqUH4PhzFHCExVICoFQ+eQotYia1X7lxVsERX8AIYSeSDZUnwBHQiLc0bGORDZKYN65Bg4b8JvE43X33/0KZIBYpNKrSp08v4IhCK9RxPMaVYxQcUZDhJsPjuH07mpmdHyveplhun7/pNQzsv2e4awKP1v1DcyHAEfPHQVpZ+ssFRTcOcKngmE3AUSZETsmVYUp35RitQBUO/aRpULHeeeedAo4AQRsWbYC0FQ6RpemdUm9TpSoV6c8/pzu/lH87/24ujkK5X/Iyto4udvsvPdcAx43rN8ho7X+c0dtoulbpqG4/Gc/jfJo582/COugKjpqnFQaxteM07JUCJLzuAEeM7o41v1/GwoAxHTQGcMSI1qcLGHDEnIHVq9ek6jVqxgFHlcIjoLFaNaSrLuCIQQb/8LU4dix6s19g8ZuC43fffSfeQ0g9j7EK0Ijz0FSN+h0tjHb9j62XBaJJIdDvWKyCxxOOKoAjyk5d4cUGRd3HVmUfB2hCCo6LFy4K83KjWDHyZ4fElDvnFTi2b99ewBEg6AeKXkUDx1gzgV+6pIAjpE3VuKmY92v79p2+4JiYGxbYf9dwt6OB44svvhiqCO2K0U9aWRoVd5qq4XG8NRwcZbqS2JqrkxccSwo4TrfBEb/dQkQpC7B1FFjSTctYP0vO8gb9JTesAzjOiwOOmC5I5pX0AKPKC47aVB03X8f/HECa1gZHbar2y+eqyOB4M+V/poCAY00HHGswOCok2sCoW3gZDTjW4G21MHA8ejQAx6SagiPGM/iBIzyK9r6fvOCIeRNj5YT4lFiAVHDEqH+UnUkBR0yng6ZqgKPtccRjbxS5bEionTVwxBcONU85P0RNm6oBg8nhcbzrrrtjvpF469DMo0oucIQbeehQ9Tgmzw0L7L9ryAHxeRy9FaZ3HzLzz6HJGp4ZpEEfx0JuH0euFO3Jw2NVJHDE5LQGCM3IwdjA8W2qWKUC/WE1VfuBY2D/TQv3ODp9HP9lKTz6AKPKDxxRzpquF+HwaOf7SNK00TyOdjiaIoEj5Odx1HCVKmi2DsAxsRZfWRAXHAGD37JMU3Qsis/jeC4EcMSI/uQAR9vjGBkc4bgKebESbWcdHE3YSC1WcIRH0t5PTnBE+GyBo7mB1gUI7KIw3PGEgmO4EP8yV7AGHpEuLjjewpUkgyPrbIIjFAs4nrTQMXgG/rvm53FMMjiiC0acVV3Ms6BQ6SdNFxccw/O2ndcjKZrHsSq8i9WqUrXqbjO1AUc0VccGjkHZ72/xXZOLARxRvgbg6GOaOfSHqMXaxzFWcExIH0cbHFXJ21QdgGNgxnDHEwqO6l00+xgwABmARLoSJbC1m6oBjillcAyarP0qx0iKBI42FHph0VY4OPo3VQfgeGFYtKbqxIBjqKma87c+A/azkFRwjFXRm6oZDB2voy1M2+P2cfQDR7sSD8r+xFjs4Igma/9m6/MVHLWp+uyBY9Lz33nTxxFL+QAAz/bgGPUy2pnnzICj+a1BoXHxGu580sBRheOmggU4Iu755ws6o6o9fRwTAI9JAUc5VsYBx/cCcLzQza+pOqng+HIxzs/FXqESFjyG53t/aVpvH0fkZb98rkLfX5XGRWuqrla1BlWvwhJAtMHRHhzjBcd/wgYqBJY4iw0cAYzo++g/cMavj6MygNb9Z1sJ7eOokGgfjwaOylpGyffSclbBERYNHAGDmMLAC4iRFAkc//c/MzhGb44XDG1pvKaBgj6OgZ0JQw5IKDj6y4Ajwnal6Ts4JoHgaMIpEw2OAo+lGRzfZXCsDHD80/mlATheSAaPI8BxwXysge3AYBRwDB8sg7W05zE4euZxTAA42sfsZyC5PY61atexwLF6AI7nyGIFx+bNsYCI63EELEJ+4AiPI7q0ab0PDkjqKOmEKj5wVFjUsEqPQwkFx+Qod88Tj+NmWVIPMAhwbN/hFyMfULTDgMbkBkeEkwqOb/A5Co5mVPWOUP/OwC5mAzQyOElzgbEQOL7E4Mh6GR5EmafRna/RK9PH0YS1AoXHUcER4JeCwfGyRIGjUVgfRwcMsTTn+x8wKELxgOO7PuDIT778frXkKMACOzemHkcDjpE9jgAnVTg4zmVwnMXg2CMEjsjHNjRq3rYV95h5TrS7BpYWNOBo5mvU/BwuO9+78XjhAjjeGMfjyLCIZRIZCKtWYVi0m6urV6Mq1apSZQFHxGEux6oBOMZosYIM5i/G2t/xNVUDGjEBuLsfDo4Yfe3XVK11//kGjpDuJwYcYS5zKX8lvdw9R+DIFYgFUps2bQmBozRVMzRC7Tv6gyO2Xik4PvbYEwKOfjcpmpBhNNMoOKJwSig4Yq1qgCPmIcNNHTp0qCzR5Q4MSp4bF9h/0QCNmFjVzQs2OBYu8iIVD4EjJgM3q8J4K89Q87VTYSINKk1tqjYVIYOjU3ka74tdYbqVpV2JajptqsaEygKODijKmu4chmIBx8oMjjNmuEsO4hk4dTJ4Di4E82uqxjQ8kcDRhUY+zmnnzZtLs2bNIqzHD3DEQgvI2zYYunDoKm48wNGoUCEDjldcgaUzzSoxl10GeLyMUspLFD8TIoTtZ8GkccHxJnr6GWcex9q15PspJGoYg2QwWCYEjlUZHKtXDR0PwDE2i1QOaLweg8fRC47Nm2NdcMCjC4rRpB5HwBlWjlFw1Pr//vvPLjRCYBUbHAG1CoR+oOgHjmUFHMsyOFak9j+1o8WeCcDNdUTdk3xl7hkBR+8X9O6jAsEbhNrGjZtp9GjTxxEDYBQGf+kYFxAh9TLaQNmpU2fC4uYJHVWt6bDFjO9481BwBPwBHEPw6AOKtrBOdck33xJwRKGGm4rFxrH2I34vroFUnhY0B3YxGe678ThqXti8ebNUMEVeeknAsRhA0AFHA43RBwWYirOoVJpYEzV1aqxVDfhL4Qjz2aUM9flyBVC0YdFAJOKwmgZWjikcAscP3JHVgEcWwl4pOJYRcHybqlSpRH/+6YIjCn/vc2CXC4Gd34Z7pfdLm6p1AvB/5zrN0SwbHP1k+ji64FijRg0qWbKkJ1+bsPbv9YNIIxccX3ihkDRVY+WYS2QZQQOJKVNy3mbZz0S84FggP5XjChprUFevVl2aogGF2Mf3hVcRAiRWQVO1M9oax5AO61bjhRDXJG4lbq6hHQ4s3FA2oKxQTsDayQBHTABu1p9uSt9+25LVIrSSjFeARd2q5xH7gDMFR6334fnzMoPtiTxTUnB89lksOWgGx8hqMJz3ypYtK4I3EfuIt+FR033kpKtUsRL98nN7WrJ4SZyXleQua8+MxxHfT+pIDuD/k5wJTrhL5UEIw5Bk/YZNNGqU/6jqDu1d2fEdeb9Th47UEWKQxJKD8DjmyZNPKj3cFL3x8QkZCFvNOBger2tVv/baayKBRwcQFSYhPa5p3uI3Z2xxLm6q7XHU353cNzGw/45p/tfwli0Ax7ZUtOhL9BIL4FgUsIhpdkqYwS8lXtbmO1NBluA0JdDPUTyPxjMJcNQlB7UyRIWZ8vIruNK8gitFriQxCCCkK0UpLjPHMEAAa1UDIFF53nbbbVSoYEEqXaoUvQ8o9HgYowmjqku9W5Ir1sr0xx/TpTjAT8aSg/ZvD+w8NrlpHsnGBE4cO04b1q2n+U4fR2jOnDlxvIvan9EI+8YDOWfOvzR9+gzq1q2bABc8jsWKcn5mvex0wzBed+T5cC+kLTwfr7wCsCwu4Iiy+8orrw7ld+R/hLEMJ8AQE+IDGO1BMSatSX/JJZfSTTffQgWeeZYr5HIMgQYSTR9G41GEajhbfHfxQFogiW3t2rUFHHFNInkc7bIgsHDDddG6EqYeR7NyTNOwpmoXFgGK2DdxBhyxTrVJ26JFS/FSVq5cNaypGp5G1P2GBxDneiLvvx/gaOJsZkA6V9HiogvQCkfVc889J8u7AgwBijYwapxCow2SWJqwbFlA5scCju3b/SxLDmqe4xL3jOSxswKOXGPQKeftQX+EuyXaaDdVewbHABgBiWHgCK8k4n/pQO2ZsOFxRAGEtapz584rzWy4KXLjH7CkmSEUF34T9biCIzyO4ml0mqrhUYRCcSwbIl+34rSpevDgwbRt27bQA4DfrQrs4jP7LRp5AOD4449tqEiRwgKOgEaoGJqsWVJBymAYVI7wvnBlysdLcOUqFayAI5rpCjE4Zg2BY4rLUgg4XnHFVXQ5y4CiDY2Ig0xcODheasCRPxMexA/fYxgsHX0OR1uly5Sid98pyZVtODjaOT54Bs5zk5vmkWVoqt60YSMtWLBAgFCaqsOAURUXHLH955+59Oefs6h79x4CXygzixYpSsVfQt5WKOQXJJmnNJK3ESom4Ig+5QBHrPsLcLw0BI6cp3l7KTzqvE0hL0suOCJshGMAx0tkEv1nnnmeK+VPzPyNDhQCHitVqSThmgyUgEfM4ajH7XRoqoYTBL8VlXiQ1xNmWj7odYPH0R0cA0hUQLSbo9GXsYUj9TJ+G0prPJStQuCodT4A0jiPGBAfwEhrf3A0YSce6UR2WoRxvhmt7aZ15BMHTyd4A+CI8hUeRwVEbHVfYdELjlizulxZwGN5qlShEv3800+0ZLHbVO0FR/uaJsXOHDiGif9xvrB+afvLb9q8mUaOHCVvaD+0aSNb1U8sLKPzEysU19bVDz/8IE19gMd69epTtqzZKXXq1HT77bfTrbfeSrdZwr4dh/DNN99Mt9xyi4nnyhLn4WZmz55dKs7QVCgYkFC0qKhoPHrppZekfxgq0d9++02aIwNwDAwGaMTbMwx5YNOmDfwW3YqefbYAFXimgAxyeb7g81SwUEGjgmaLvAivYqFCfIzjXihYSASvIPafeOIJmV4ClSYqv6Tq+uuvpyeffJJKvlWS3in5duiF6a233opXb7zxOr326itSuE2dOk1+K8zO8wjbL5KBnWeG2+KVZWhBAjjOY2CcPXu2eNYMEMKbOMcS9lUmToESHkd0MapQsYKUs889+xw9zyqEfM35HSAIIX9jLXZ/Pcdp+Hng8hbPwJ133uWbnxOiK664kvLle4w+/LCsLCWIilubCct9bCrtip9UkCXePnEqeRzXNFDNmjWlbsLvRSUe5POEmbdV7siRIzR27FgBwm+++YYaNDD65puG1LChrUaOEP5GwkiDtAh//XUD+uCDD6V+R32P+h9b0a3Q7SJlhVslXuNuC8VrHM4JpZUw0lnnS1qXN7xxNzGr3HXXXZzf8kn5+uGHH4a6BYEf7MUXvHofgxU5TRl0D2J98P4H1Lp1a1rM4KgeRyaNOOVucuTFMz44JtKXtH/A1q1baeLEifz22Z26du0q26jq1o16dOtOv/Lbag/ex5QOv/boQU0bN6EXXyhMWTJnpmzZsomyZ3XljcuWNStlyZIlJBzLkSOH9H8oXLgwvf3223JjcDM/5MyGcHzSG/3uu+9KU8awYcPE46iVpLrfk+PmBfbfMs3z9ksEXirQ1eKdd96R5jpsIeSfaCr1jhHSvs2CVwZv0ejjhcLslptulkIJupnDKCAjCS9O2N50002yRcGWMWNG+Uy80VaqVClUMeINOD5pBfrZZ5/RzJkz5bfCNN/rNQjA8b9l9r3Cyw8Gdi1atIjmzZsnTdbwPkaSfRznQH/99Rf17t2b6tevTx999JGUt3hRwRZ65x3IPA9emePh+3jBz5kzp1TEmp81T+s2kvQZgNMBHiGALPozfvnll1S3bl2qV6+eCGHdx/bzzz8XeY8DXDBgE79bXxQDi928dSTAccqUKeLFbdOmDX3/fWvW9wJK2MYnpIO+/fZbqZfxooG8gno/axbDAdhmzxLOCmG84BPnjfdTtPPBKrlz5xaHE5qnpRuE008WW7yAeOPcsLsPIS3y3IoVK8L61app2ZscdsbBEaZf2BYyhlagBw4coDVr1tDChQujFkChY9jOM0KciAuv6VOnUd9evU1TdgczkAb9IFU6fY8d16ljJ7nYiJemcT4H8Nq3b18aMmSIDG4ZMWJEzBo5cqScg76N48ePp+XLl9PBgwfjPAiBXdymz8D+/fvFSzNk8GAaPHAQDeN8g5eN4cOGyzaShg810v0BAwbIS9WPP7alVi1bUctvW4haNP/WhFuwWlrCfii+pcShUIVacBymxcJnYkUnvOmrMN8q4uITngO8DGKOVv29KrXgmfjvGu4dym3038aLMYQwtH37dpHG675XeGkCQAIIkF9QZqLMHczCFvuR5D2OfeRXlOXoB4c8rELetvcjCXkfzZvwFPbr10/K799//12E76hh1WTWpMmTpe+d99i0adOk+R6/U+s524J8H91wffBiqdcO4XXr1okH9++//xbhxSNW6TkYkDVhwgTq1atXqN6HUO93BDOAARwOkLhfjHTfjvfGRVKk8yWe/1aXLl0kv+EZGDdunOQ7fEeV7usW5SrCKk2HpnzkuV27dsn1sk3L3uTKd2cVHLWisPch/Ej0YcBbhVeHDx+OEz6K/cO8f+gwHTp0KBR/iAFt7549tJsv3O7du2PSnt2cnre42Bj9jC329+7dS/v27ROhcocAgPEJhSnS4jyEQf74ffoQ4O1TH4bALl7TfH/i5Ak6fOQw5xnOL/s4nzn5TfLRAZPvvDoAcVroIKdDvkP8Hs77yL+ovHeKdtIOrrgg7GvFbo5xeLsbB6GS0y2eBc3Dmq91G4vwfZAe+R+/Fc87TLcwOxzYf8fs8lvyMJdpWsbZQrzfMcShvEfeQNlt5xlIy11vfookTQ+h7Eb+9YKshqMJ6ey8j8/G39bnS8Pe58E+hvpI4/Hb8Du9ed5WYJFN85deJ1xLXF+bB7T+VwbQeK/0GIR7I/X9rp20G7yAcnOP4YFdu4zAELt2G+1GHB/ziwuLd84VOelMWnfrDUMotzUPaT7SPOS3b+cx+ziE34fnC2bnseTOa2cFHGH44nYmgGkhkpgfhXNU57vhAdDKE5kfvzuwi9M0L2ihiFVkzv8cnHjD79Rn3P7t/5VnN7C4pvcyKYbPkPyfxM85W+bNq/Z+tHyMY960tgKLbLg+/6U8cj6ZN59ByWlnDRxx85EJ9Adgq5kioT/K+1m2IS6hn5ec5vf37d+YmN8b2IVjuP+aByCA44lT/ALFMqvKcLz8x3nJnOJvOBhhGUt9PhJj+r1g+Bw1Oz5W09+q0pcm3Q/sv2WaB2ypRYqPZEgTqQxXi/WzvIZzzmT+8n6+fkds1cMayZDGVmD+hmuj5YRep4ReN/s83Jc498z5GL9PQ5xKzS8OFi3Ojo8Y5/ObvPsJNb1ukH0NYUn9bNhZA0eY9wsn9gfgvGjnJseFgSXX5wQWWDTT/Iz/EmQRkuvnJcbscxP7GWre75Gcnx3Yf9/OVB6w89mZskiffzb+dmAJNy88nU92Lr5XUv/mWQXH/6old2GQ3J8XWGCBBRZYwswug89UeRyU9WfOguuaeEvqtQvAMQZL7oc/uT8vsMACC+xitKSUpfZ5Z6o8Tsr3Cyy6Bdc28ZbU63ZGwdH75S7Gmxxk7sAi2cWeL4Ln4uKxM3Wvk1q+JvX8wJLHEnsPLoT791/8/oHHMbDA/sN2IRScgV28pvnXLw8nJm8n5pxY7Ex9bmCBnQ1L7rwbgGNggf2HLajQAvsvm+ZfvzycmLydmHNisTP1uYEFdjYsufNuAI6BBRZYYIEFFlhggcVkATgGFlhggQUWWGCBBRaTXVDgCGds0JgQWGCBBRZYYIEFdmYsAMfAAgsssMACCyywwGKyABwDCyywwAILLLDAAovJgj6OgQV2npi++AQvP4EFFlhgF67FV9bHd/xcWwCOgQV2Htn5XFgEFlhggQWWPBatrNdj52tdEIBjYIGdS4tUOpzPpUZggQUWWGAJswuoTA/AMbDAzqVFKkwuoEImsMACC+yitwuoTA/AMbDAzqVpYeItUC6gQiawwAIL7KK3SGX9f9DOETjiyp1ydA7sLN7AM/2nku/z8Ql6T87Ut02AJc+PSl7T75SQ75WQcxKS1rFEnGIsUSclxvBHYnzW9Tsl6Hsl4PMDcy3B1zk5TO/TWf/DgQUWWDJaAI5n2M70n0q+z8cnnEcFe/L8qHNv+jti+S0JSetYIk4xlqiTEmP4IzE+6/qdEvS9EvD5gbmW4OucHKb36az/4cACCywZ7RyCY3KVXIn4HDmF/5GFv+M7P77j0S2Wv5AUS/rn259g6xzbefI1kmwJuaQJSetYIk4xlqiTEmMJ+IYJSOpaok66ACyJv/mcXDL9o2f9DwcWWGDJaOe8j6NdlCSuSEnMWyzS6nnxnR/9OGJVibIkf0DS7DT/NqMz/wXO4c9MuJ3rL/ufulhnx/SSnKvLck7+vu8fxU5s5VJiTc+3lShL8gcEFlhg55sF4Bjv+dGPI1aVKEvyByTNAnCMYD5fVqPOym84a38osFjtrN5/Nd8/ip3YyqXEmp5vK1GW5A8ILLDAzjc78+BoFxw+BYgbbSeAYrWEplez/1a08+M77mexfG7CLcmf6PsBsX9q7Cn9LannBxbd9Pr+V6/xuf/+5/4bRDf7+0X7nrGkiWvxnhFvAjU7YfTEsaUKLLDAzic7z8Ax+lv0f8fs35J8ptcq0ZbED0jq30/q+YFFN72+/9VrfO6/P/7y+Vz+xFo+6u9I2G9BSpWvxZtADQli+/sxf2RggQV23lgAjmfE7N+SfKbXKtGWxA9I6t9P6vmBRTe9vv/Vaxzv9483QRJNPvdM/oGkWqzlI47HmtY1/eURz4g3gRoSxPb3Y/7IwAIL7Lyxc97HMVEWqbRJRAkU55REfEZSTP/cWfyT/1HDFXIrI/u6qeK32Cqz88kS9vsSYFE/FAf+e9fqgjK/+6Nx5/0twRdMrvxjf1ZggQV2Pth/ExwjWSIK1TinJOIzkmL6587in0yCmW+a/N81lk9EGrcyMt8kXOHmdwThxFRm3s85s+b9xmfkr0f9UBxwr/V/0/y+d9QfnUDTz0rmz4v6kTEc95qVPuJpyWb6x2wlxPzOwb7Jiwn9tMACC+zM2EUMjhESR/2MqAcTZfqJ5lOT//OTz+JCRNK/Lc5WQAm3uDEw/YtxwTHc4p7tpombOrIhrf/3S5rp58Y1xNrfEGFVHJPIqCkiW9RT7M+0lVRLrs+JzyLds7hxifs2+JyTrOT6Lf7fN+7V8vtNakgZftzv2/n/peQy/98Qm+n3j35G3F8ZWGCBnW07M+CIp1tl2WmZcDvxdppLjBMnT9HhEyfpwIlTdOTUaSm+E25a/MRQBIV+i31O0n6HvyXu83FNvdcVe6rkMXzSSTp98ggdPbyfDhxgHT1Gxzja/wrG+pdx9gneHKPjx47QwUOHaT/ryPETSaiWcdYJOnX8MB0+uJcOHDxIh53PS7jx9zt9gvPdUTp69DDt4++27zBfg5N8LZwUCTfz/YiO8+ce4+vJv3v/ITpy+CiddPJzTDkACTi9PBRyBpQAw/nx/hGY/CFH8Zh+pv25YXH6OXaC5DZ8Nq4irrG5T6G/duo4HTti8u/Bo0c5/2IiqtjMfcb084/RKb5/R44cof0HD9HBI+b+hf29mMx83unTx+nEsUOSZw8dOijPwPHQ90MahI6z3CfD/TvOcf6MUyeO8rPE4jx6gqOP8+cc5u93+OBhOsblZvgneAyRqqiGBPg+kJMY14f//vFjB+ngQb7GnK+PcFltvr+/mbLL2ZGU5rnQ+wY7cfw4f/cDdIh15Bh/Pp8Q8fsHFlhgZ8USBY54aLXY8BOO22l035YeQ1FxLIKOslCMIA3s+PGTtHHrTpqzdB3NXLGVVuzgQooLp4Sbfovw72JiIhvSoNCCYj0ndov8TbBnH43v72r6aGmM8SdxYW+uskmNf/2/wXE6umsDTRszjLp26UFjpsymHQcZ0EwCx7CnVyhu8a6fbT4fe7izR7g+30PLFi+g3v2GUM/+I2nhirXO5+oZ2IZ/lp+Zc2DHacfqRTR8YG/q238w/btineQnY/p5kc39a/j3KB05sI3+/WcWde83mH4b8zst37jN+gSE8Jl2znCP2oZY87txvRlG9++kPyZMoe4d+9CEcdNp597DEa6cj5kPc/7B33R/fUwWOj8+08/HtzIwphbnr+pn2p8bFqdn2AliMaTXc2O5OpwvTx6gvbu20MqVa2jluu10+DC/PBzYQ3OmjqNev/5KY6fNom2HjjhfDf/qlQ/7RaEj7rdGCPfvoHz+xAm/U6ce/Wns77No9/6DkiJWc//2aYbG/bR6yT80cmAvGjx4IM1btor2MvS5f5fDR/bQtvUracmiRbRy7WZ+ibGfP743R/fR2sVzaervk+jfJcto95FjtHr1ehoxYCg/C0Np5ZoNdJhT4tuH/0rH5A/hHxz1vxbmuyCeP+XUEdq6dSstW7Katm7YQicZelfMn0X9eveiASMn0Opte/3/jq/xJ5/mF8cdG2j18sW0av1G2s+/b/3qdTRm0CAa1Pc3+nfeYtrDvwm5MPbPDSywwJLbfMHRLSBgeKDdvcQaPkGLo/1HTtDSNdto0l9LaORfy2no7NWsNTRMNWc1Dfl7BY38ZxXNWrOdthwy1f5hLjSm/72Q2vQZS80HTqcRCzbT9qOKlbbpL4jwvT3R+AT8BWwjnBEy/Q1Im+wFmLy1R/4G+Fso9M3fRTpVYgzn4ZP2055tK2na1AnUa+AwmjhrAW3be0hSuIa0R2j/ir+pSbWy9ETeAlTj6x9p+fYjci208jNXRqulo3R49xZav2oFrVi5mrbvPSCx+lfN98dV308nj2ymoYP6UqGX36UX36xAA8dNlaOnTh2idcvm0T9TJtLfrBnTfqc//pjG+oM1nTWTpv4xmyYyxP41bzlt229AAH970cRBVO6t4lTirTLUe8IM2nX8OC3nSnXMoB70W4/21LdPT+rTpw+rN6svqz/17DWIevQaStM4j+0+clK+L+c62rdjGcPyT/R0iZL0etWvaCwfN38HZt+VY3Rk7yZavnAOV94TaczY8TRl+mxauWEHHeJLg3OM8LsP0Z5Nq6jpZw0pf64iVKd6YwacnWFXMHbTT45rfh7phBvO5+/MFbv5na5hL/ZPd79nwr4SEuMC4spA8dkpOnpoPU2fNJhq1v6c6jVpT0uXb6YjW9ZRhyaf0YuFClKdpm1p0fY9cp2NX8zkSjq+l7ZvXEMrVqykNRu30UHnRuCo5PXTCPHzcXoXbVw1n+p89gXlKfAqfdqwDa3ZvBVJE2T4TNjRg9tpyvBe9EnJl6jUuyWp76iJtAleaD5mLtVR2rdxMXVp3ZDeeu1NqvN1a5q7eod1nL/X7vXU94cm9O5br9I3bX+mxVt30dRpf1OFtz+iD94sQ+Mm/8lPGz7J/btxjT9NrjNSxTX8LePzO0zHD+6gXt17UrmPalDHHzrR7tVLaNxvHahEkcJUslwtmjJ/nZwTs53cS1OH9qAa5T+kz75uTv8s20yz+PmuXuY9KlmsOHXrPZA27D8k38zNd+Yb6V5ggQV25i0GcOSSk0v5QwxtW3buofXbdtNaLnCN9tKaKFot2kereLtl32E6zB+KImnz7kM0eNxs+rRFT/rk275U9vth9FHrEVTue6OPfxhFH7cdSbU6j6OOkxbRwp0H5fsc5IJ05KRZVPW7PvTRz6Oo86z1tJEr+LiG1KZK8DU+fPjwEVqxbiPNXLKKFm7ZTbu4JEKB5P5uY6jgdvF3X7xuC01fuoamLF5Ff63eRKv3MFDwMS3AvOclyjwfhG+/9+BRWrJmI81euopWbNtFe06clL9pwAspEvuXcR5+8Q5avXAifV2/Jj1drCTVadGNFqzdISlcQ9pDtHfBZKpUPD/dePUtVOL9L2jupkNOxYXjCOGbnaT9uzfSH+MHUZsm9almpU+oQsUq9M23bWjElL9o037jVTPfH39/N506vIa6dmpHd6fPS/flLEIdB47meNyjrdTth6b0UdFC9Hah5+iVIi9QsWJFqDjr5WLFqMQrb9Ebb1dgOKxCdZt2oEUbdsunolKbM6gDFcyRnh7J9RT9OGwyrT14kH7r1YHefD4XZUtzK2XPkoGyZMlMWbJmoqxZM1P27I9S3jwv0KOPl6CG33WltbuPyK8Rz9LWedS8+Vd0Y4ZclOnlj+g3BlXzd2AG807Dazp3CnVu04gqvP8WvfRiQSrwzHP00stvU6WaDah7/9G0ip8d85m4Avtp5+pFVKVkebrtsjT0ZvGKtHDFNjmCqxIh5ybYkhUcT+2lnVtX0NSpk2n0xGm0dtseQeCkfjos+mfgKF85Btejh3fQ+jVLac6cv+nv2XN4+w/N+ecf+ou3s/6dT2s2bKLjxw/SkX2LqH+35pQ5e2569MWPaPqsZXR43TJqUuEtSnPPvfRmla9o1uad7nU+dYDWLP2b+nX9kb6oXZUqVKhI1T/9ktr3HEj/rtrAucDcEwOOjF+nt9CaJTPo9ZJl6IrbstDbFerT8vXr+fhxWrZsLg0bNpAGDOjPGkD9+/Wn/v37sX6j33jbo08/GjBiHC1avZ4O8fMMO3ZgC43u+QO9kPMBzoc5qV3fYbTm0FHJXebaHKTtS//g/FKQUl5yGeUo8BaN/Wdd+HXbtZJaVHmXHvjf7fR6pZr057qtNHrMNCqS+1l6Ksuj1H/IONrDyeLivxo+zXmOj+2mFYtm0egRg6h37z40ZMRoWrB8FR08qX/xIL8YrqfPan5Gd9+ZhT5+tyJtmPsnDfq5IWV44D7K9cwbNGLmCtq19yAtW7yY5v09g/6dM5P+mTOb/uH7NZs165+5NH3OXPp7/iLauHEDndi/nvp89zk9cs9tlPvpYjRy+jKaPO5Peu2JpyhX2vTU6sfOtIrLYrzWutcF/+LOJNcTE1hggcVnsXkc2dZv3EFDx06n7gMnUZdBk6nz4KnUacg0FrZTqaNsse/EDZ1GHYbNpPYj5lC7YX/TmH/W0A5+2lHRbN17mEZNmUeN2w+iT9sNpdqdxlHNzhOoTqcJDIsTqGK7cVS6xVAq13Y4tRkzj/7ZcUCKM4DjqN/nULW2g+mDjr9Th9lbacMRvwIj/sJkw8at1LH3UKrZqit1mTifVnNphApbzPnxx06cphWb9tLQaYuoWbcRVKVFdyrfrAvV7TCUuk5YQDPX7qPtx0/LeYIP7kVLnOF8+QzzvY/zBy5auY3adh9B9Vv/Sv2n/EvrDx6WQj/p4IhzUYVspRVzR1Dlj0vR3VmeoDKftaHZ/DfDDWkP0D4GzBqvPku33/A/er1cQ5q7xXwXA464Alxh791Ag3t3ohIvPU8Pp3uAMjycjjJkfJjSZMhMzxZ7m7r0G0tb9h9xfiHO3sHguIp6dGlP92d+mtLke5U6Dp4gn3jw0Hb6ucU39Gr+x6lgvtxU4IlH6emnHqP8T+WjZ57MyxVsXrr7wRyU6o5s9MpHn9MCBkdj+2nu4F+oaN5HKOujz9MPI6bQmsOHaOjgPvT+qwXp8ezp6MnH8tDjjz/KyktP8DZv9nyU7q4sdPfNj1DN2s1ow25cG9gpOrpvBX3fpjndku1Jyvx6Jfrtj7nO98e3ZBBmaFzy92SqVaksZc+cgR5++CF69LFH6YknHqe8ufLQg/enpVyPPUfN2/eiZVuNlwvXas+aRVSrVGW696pM9O6rNWjRqh1yRZCfDE6EW9IBMLGGv8vf6OQumvH7UCpetCjlfrIYDZ88T57nhBnnllPHaf+enbRx/TravmsnHT55ygIBP8MReDz30vb1C6hr++/pzZJvUbHX3qQSr75JL5d4jQoXe4WKvfEete/ci3bzi8ux/QtoWM8WlOfRp+jpV6vSn3+vpqPrllPLym9ThgfTUskajWnm1l3y6egXuHr+n/RVnSqUO1tmSpvmAXrkkQz0UPqMlDHHE1Txs2Y0c+E6OiTQBDFGnt5E65bOoLdLf0Sp7slLZao2pFUb19OpU7up7Q/N6MF0aej2O++h+x9MR2nSpGU9yHqA7k+Thm6560HK8fiL1KnPCNp5wJQ6xw9tofG9WlPxfA/Sk5wn2/UbxWXSMbm+Jr/spz3LptGnZQrTDddcS48W+ZDGzdso/RhPHj9KJ4/toeMb5lLzqqUoXboH6Y2a9enPjdtp7Ljp9Mqjhen5nE/TgGET+TVN/KU+1xt/BbHH+fP20aJZv1OdSh9QjkfS0p2330rpM2alirW+oD/+XSp9OXE/Th7aSl/Va0hpHnycKn1YkzbOn0FDf2lI2fiZf/zF92jk32to+j9LGMRr0rvFCtKbRZ+nd15/hd595x1+4StNL71eigoUf4fe/LAy/fprd9q/aT4N//kryvPQffTEC2/SqJmr6PcJM+ntAs/SExkyUet23WnFvqNcEtnfH//iu5urFFhggZ15i9LHUR9IU4UtW7mRfuw8mOoyPNX69leq0ao3Vf+uD6s3VfseQtioJsfV4G2l7wdR2Taj6P3vhlO7sfNo/ZHTdIQ/a//xU7R++yGav2o3zVqzh/5cv4+ms2Zs3Ed/8Lbb1NVU7eeJVL71cPp+9FyaY4HjaAbH6j8OpQ87M6wyOK63wRFf2ZQm8dri5Rupcbu+9GHjzvTjxMW0jDkB303tFH/sig276OfB/JbfZgiV/bYffdC4O73fuBt92Pw3Kv/dEGrQeypNWrmLtvGXA2bEX/lpARftS+I48IG/z4lTNOXfdfTVT0Opequ+1OP3BbSKKxpUJidCnxfjD/aaDKpAFbKZVs0dRpXLvUN3ZXqMSn3+A/29crskUTNd9BkcF0ykmq89R3emvpfeLN+Y5m1VcMTd4crr4DqaMLAjvfpSIXowQzYq8vq71KBxQ2re9Ct6tcTLlCZdFnqu8FvUj0EOf9kA5246zeD4a9ef6cEs+Snto68zOE6Wa3mKAWPb5nW0fNF8WrJwHi1etIAWL+bt4jm0eO4U6tmtPVfAheiKe/JQ2fqtac1ufCpsL80d0p6K5ctE2R4rRK0YRLfyDd29ZzetWbmEli6aS0uXLmItZCG8hMb0H0ivPVGc0l2Xjj6r8iVt3q4QepT27lxO37ZuQTdnL0BZ36xigSP+3UvrFk2hJp9WpsyZc1Kep1+ib1q2oz/+mk0LF86lKSP7Uc2yJemhdGkpy5NFqU3v0bTjEHLaEdqzbgnVKl2F7r8mC5V6rSYtXukPjvF5DRPrVfSegz1VuCGGv5GA4zAqVuQlyvFYERoxeb6TU43hZcaci39xbSD700z4yL6dNLx3Nyrzxmv03Q/taM2u/fL84DfbqV3D5/A1O72dNi2fTl9+WonuejANpb4vLW8fov/dn4ZuvfsBuueh7PRlw1a0fdtaBseFNKJXK3r0iQL0zOs1aMbsNXRkPYNjlXcoQ9p09HaNJvT3NvjfiDYtm03f1q9K2bLloCx5ClCF6rWpZcumVLN6Zcqd61F6KEMeqlm3GS1Zv8P5frhDW2jdspn0TpmydP19+ej9ag1o7cbV/FW30bctGtDNd99HN9+bnh7NX5CKFi9OL730IhUp8iIVLlKUnnq+CL3xXkXqP2oK7T5o0FvAsTeD46Np6Mkn8tHP/UeHwFH+5un9tGsJw1yZFyj1tdfS4y99ROPmbqTNO/fTvBlT6e/xA2hKvw70yZtF6P70D9ObtRswOO4QcHz1sRepYK78NHB4JHBECDFAsoO0YsFM+qxqRcrOL3x5smWg5wo8RpkyZ6Z0mfJS5c+a0IKlKzjdMTpxeDvV/6IxpXnoaapYrg6D40wa1qERZc+Qnp546QMaOXstjZs2m0q/Voyy3HMjZbj9Gnrk3tso7QMP0P8efIRueTA7Xf2/zJTx0YLU6vtWtGf9XBrZoSHle/gBeurFkjR6lgHHd555jp58JDO1+bkbg+NhDzgGFlhgZ9tiBsdNW/fS6CkLqNfIOdR11FzqPGYBdRy7kDqOm08dWB3HLaBO4xaJuo5fSO2GzaHPu02lkq3G0svNRtB3nHYd1zKoMvcdO0lrtu6nf5dtoVnLt9Gfq3bSDNasNTtoOm97TF5GNduNo4pthlEbBsd/tzvgeMQBx7ZD6aNOkcExrCLF1gmqHTx+msbPXMGA24fKNO9DP0xbTUu4LlAfE2zPngM0ZOIcqtp6EL3ReADV7jGduk5bRb1mrKRGv/1F7zcbRO9/O4hajviH/t6+T/oOhQp5X8MRv8rUa5qOaOfh09STgbsS/53q7UZT9+kraPmh4/I9TYUd7XPiM/wNNMBtouWzB1LFj0rSPVmfpPfq/0SzV4eDo0lrwLEWg+NdN91Lb5RvFPI4yvHTB2jXsqlUr2wJuueuO+nJl9+jPhP/og1bNtPWLRto9MA+9MoLRSjNvQ9T1U+b0JKtexxQ30+nj6x2wfGx16gTg6OB45N04uQxvoXmehjDXzxIh7Yvpp5dfqDMjz5LaZ56i1r3nUA7OV8Z2xMGji0GjiPjW4pshzdtosolPqCsqR+muhU+oxEjR1Gjxl9RnRrlqGblMpT/hUJ0bcbHKXepWtSXwdH8Jf73+Baa2LMFPZsrEz34yOP0Ob9EreT84NouWvDHAPq4zFt0S5pcVLz81zTTqXj3rl/G4Fg1XnB0DffbX/aeMQ6d5k9xngPf4549b5xriOM7cmoP7diynCaMH0uDRk2gVXwPTQVuzjMvGLbc72XM7B3cvpE6Nf+asj54H1Wo9hkt3Lw7HhjA1TBevs3LJlHNKu8zNKahnAVL0BfNv6cu3bpThy7dqdOvfWjG3//S4cN76Oi+RTSsZyvK93gBeva16nHA8Z2aTekfAcdjDGw/0DM5H6Z702ejao3b09yVa2j79i20csm/1KR+XXokTUZ6/MnC9NvoP2jXUXwX/LbttNbxOF53X176oNrXtH4j39dTW+jb7xrSPRlzUv4SZahj7wE0c9YsmjHjT9YM+nPGTJoyfQbNmDOP1m3dSUfhMsS3OLiFxvH3KP5oegbHx6jdAAOOuCaw0yd204qZQ6nCawXouquvptzPl6SBkxfRuMkz6LNKH9Ibz2Sn4o89QjnT30P3PPwIvfVpI5qxKQZw5H/M84WncRdDPZdxHb6j3Nlz0uOPFaB2bdvQ9D8mUlt+ccqSPR9lzPo4NWjUhKZNGUuTJ4ygUh9U4uuWnyp8/JkLjg+np8cKw+O4mjZs3kYTxgyn3l1bU68fvqYPiz9Ld91yK6XP9hRVafADte7Sm7r1H0pz582jo3tW0+CfvmRwfNACxxkCjk9lyhIvOCb2BSqwwAJLmMUDjiouVo6foh37TtKmvadoPVPSOtYafoJXs7BVrWVt5jJ+waYj1HHCcnr/p8n0Sqvx9OPUFbSZPwdAsI0f/gkzF1HbX0dS8+6jqVGPCfRN17HUuBtX1l1HU52fhtGHjXvTxy360g/D/6J52/bJtzgUAsch9FHHKbGBI1yHjiFmF3+BaUu2Ucu+0+nD5v3onZZDqPUfa2mxBxyXrthILTvx3+E0lbr8ST3/3UGr+Nyt/HG/L9tLzXr9SWWb9aMK/F0HLFrP1Yip8J2/6mPOlwspumHE8oR5m+iLLpPonUYDqPIvk6jLn6tpaRg4JsVwXQCOG2n+1F/pvZIv0V2Zn6DS9dvRX/GA45033UNvftKIFu7A3TR2+uh2mjeqO732REZKmy491W3Tjda5h+nw9nXUpWUTypsxIz1X5A36bdJs2uVUWKePrA0Dx25DJvJfPMWVzirq0OEn+qxObfrqi7r01Zd16ZuvPqXvG9Whb2qWpSIF89PNabJREf4uk5ZupUNyWfGZuxkcfwmBY+uhk2jryRO0es0KmjRmMA3o25369+9Lv/XrQ7/99iurL7Vp0pwKZn+O0t2Qnmp8XIsaNWlMt91xPV1yySV0OesSrqwvT5uLHvvgcwFH/BXx++5aSp2/+JAevvsWerxIaRoye7VUagb8UBnv4Mu8lHp3/pEeyF6A0hd4m3qNGsfxGOzALy8xg2P8eca1yGlxxABewnKQdMg4BSBWlDGGW+zFQz8zR51fdXQ39W//HT2dMzvV/epb2uw8eDiKTzfX1jYcAThupM3LJ1H1Kh/SbRlzUckaDWnx5p0micdOH11JI/r+SPmeeI4KeMAxY9q0VKq2Acf9+7dR68/L0yP33ErPl3iXhv293Pr7J2jRH+Ppg1eLUcYMmalWo7Y0lyHX2G4Gx5kMjmUZHPM54Licv/xmatKyAd2T5VF6q9IXtHBdrANmjtPUod2p+JPZ6LEnn6afBowRcNTvcvLgRhrW/Tsq+kQWuvqKq+ihHM9Qk59+o579hlOdqhWoWP4c9GKe9JQr7Z10/8MZGRwb0ozNsYIjri/HnubydNEEql3hfUqbPgdVqdOE1m40ZcGmNYup/PulKO0991C+HFnozddeopdLFKeHsj1Ndz1UgD75pC5tXDCLhnVszOD4MOUrVIaG/7VKzg3Zia30S4PqdN/td9JThd/hcniLc0DtoPSRzJvhIXrixXcCcAwssPPUooBjuOFxRCGGIgZVDh5cW6hAIK2Otu85RH0mLaSyP42j11qPp/Z/rkIVKsc37T5Efcf+RdWad2f46k0V242k6h0YGH8ZQZ+1H06fth9JNdqNoPoMk79OXUgr9gJwGD5CTdWD6aNOv1OnOdsi9HF0DF+a4eTUyZMyP+DybXtp9NyN1KTPDCrbahi98+0wevv7UQyO62gx1/EKjujbOPWvZfRpq1+pTNM+1GL8KprDdSa8ivj9O7mMHTZ1OVX9tjeVadaHfp6xilbwDzMetEQaf9eTJ0/Rnv0HafnGvTSMP/PrbpPow+9G0hvNhtMnHX+nzjPWxAVH+Y2OEmS4bqgsNtL0ET9RiReeoNsfzkev1/yOpi3daJKEDGktcEx9N71R/huat9V03ocd2rGWBrdrTM9nfYAKFS5KfSfNom34Tc5xdLafP24AvZY/D2XMlpcadBpAG47jbE5xZD2DY3sBx3SPvka/Dp3A8Sdo8aKZ9NH7JSkzVyT5cmalR/NkpSfyZaU8mR+itHfdTnfcfg+lzfMiNegymtYx1xhO5c88vUv6OBZ7NBNlf7wg/TRqGq09dID6/tqOijz2EN1zyxV0/wP30X1p09EDaR+kB9PcT2nuS08P3JWF0tydg2rV/Io6du1MxYo/T4/mTENPcIV8f4aH6ar0eSlvmTrUd9pc53KfoJNbF1Dbmu9SujtuoWdfLUsj56+Ve2OO4xvtYlBaTQN6d6IHubK/N19x6jRwKMcfEXCsUaYq3ZfKgGPkPo78aVy5H+PfsHXDOtqxDQNADtGBA3to/brVtGzJYlq+ciWt3bKN9h83Z544to+2bVpFK5cvoSVLl9LKdetp6779Th7FtztCx47so82bN9HW7Tvo6LFjdGDfbtqwdiUtXbKIli5fQas2bKRdBw85v4c/9/Q+OnpoK23dupH/1vbQ1CjGjtPRgztp84bltHzpQlq2dAm/fK2kNZu3SDqx00dp1451tGjmBGpZrwbly5yZypWvQ6OmzqWFazfwc3UklLfN9VPDbzLguGn571Slanm6MeNj9HLVxjRrpZtXT586QUeP7KHDBzfTrk1/UZ+O31LOR5+lAk5TNfo4tqryNmVM9yCV/rQJzd66m5YsW0DV332ZcmdIQ3UatqJ/N++Su6b37+iWpfRj/UqUKd399FKZKjRy3goH5vbSumWz6J3S5ei6ex+1wHELg2NDujsLf7+yn9G0ecv43ZWvHpdBRid4/xhvj3J5xtd/0zpasWI5LVkwm7q2aUIFcj9Cjz79HIPjOFrjzCaBK7J15d/0WaVSlDndPXTLzbfTPfzC9PI7FahL3+E046/ZNG3iKBrf9xeq+NrzlO6hh+it2l9JH8cxY/+gVx4rHE9TtVMWnFhPM0d3ojeKPE8Zcj5P33H5u8MpFA/vXke/NPucns1yH6W9/Rp6+KH7KF3mbHRLmjx0+0PP0McV69HGhX/T8I5NKEeGDAyO79EwBkc3H3PO276YWtf+gP53862U9zkGw7/W0HH+EocP7ae9uzbS7o0LqFPTOpQ1fXp6/MV3GRxX0xQHHGNpqvYFR+yqAgsssGSxmMExobZj+17qPfov+qjtKHqn/e/UY85GGdGH53fj7iPUc/RsqtD0V/rouyHUbMIK6rt0Lw1cvIeGLGAt3EuDFu2lEUv30fTNR2jt0VNSAB3AqOrJs6la20H0IYMjPI42OPq+bXLcvj37aPIfs6lpx/5Us+0AhsYh9G6LofRmy5H0VuvRIXBU8Nuz/xgNmzSXqjTrTmWa96VOs9fSOv5oVOgw/JW/5m+gem1+o9LN+lLTsctoNv84g7fmOCo/FG7RhDSQFq47d+6nwSMmUdOf+tCnbfpTuRaD+HuOojdY5TtNoU4zkxsc+ZNObqDRvzamZ3JnpFsezEHPlPqMoXWhHHU/FnsGHGu/9gz9L/Wt9OJb1WnAlGX0z6pttG3XHtqwdB61rVeVnnz4Hnrvg3I0dSkDDp+FayYDeU4foO1zxlH5l5+mB9NnosrfdqSVfD/FjmwMDY5J++ir1H3weI48SXt3r6dJY4dSn+6daFCfbjT0t27Uv2dHqlTuI7rv3jR01/2ZqeynLWna8q1SmZhrwlc2DBy5EmZwXHNgL3Xv0IwKZLqZ7rkpJeV+7HF6rugrVLj4/9t76+gsknXt+/zxnbP2e/bes985s2UcDyQECO4ECy6Du7s7DDqDuwQIHiy4BkgCIZ4QI8Hj7u7uv6+q+3lihEFmZs9Z682Vdefpri65y+66uruqehgDBg1i8OCRDPthKiME+Tt28hIhERGEhvkLAuTFU3dLVqxbw+cGhrQct5TrT15p6qyEstxIru5bhX7dr2jWsR+mll7KDYZabtJXFqkxL9i9YzPf6nej4/B5WDzxEO6FZAiS9WHEUUCQjXBBLtYunMm6lUuwd3Tg4tUrzJw5jW6dO9CzVy9mL1yOjYsnaekZuDvbsXHNUgb17UXHju0ZPGIse0zO4xelfUKXQ1jAM5YvXcKylRuws3/ClYuiP06eSFfh39CwO6PGTuL0pdtEJsscSWTw5qkNyxcvZsKMlTh5h5SXQ25KNI/MbzJ/1nS6d+1Kt67d6NHTiGlzRHmJG4GMrAJK87K5cuoAo4w60EmvPjrffksTvfboth3AqFmrcHrur7Ttih6thUxF1LAgjjHBTixctoC/6ndl4JKdPAmMVn0U5hLs8wyrW6KNnN3DZZMNLJszjvpN29N73CpBHEMFcQxUiGPTRvWYunYHTwVJdHJxZELfbnRr1QKTC7cIzSkqJ1ZKTeRGc9d4gyCW9eg0eCKXXF9prmURJYjjxMlz+KxOpwriWBLHngPb+KZpW7oMmYLx2Ws4OLtia2+Hra2tEBvs7W15ItK1tXnIsqUL6dSxLb26tqOrQWMafvU5hn36c+LOY2Ly1ZTyM2O4d/kY3Tu3Qk9PT9R1P9q17YKefltWrtvOm+BoiosKKYwPZvfSKTRp3ICxKzbhFq0ujqn8xFFO2ZB2SsZcYTJkiYtcixscizNbMGzZHP2OwzC18CFD46k4L06ZgzmmayNaN/ycqdPGs3b7XnoOn8uXjXsze/5aot88xeLkdlo30aVjv+mCOIYpJFxBWQ55YZ5snz+SL/78F/Q7jeSKbSABESmib19k7/qF7Fo+mSn9O1Lv2+/pNHAyjwSx/BjiWCOkJ63Uoha1+E3wCcTxw3phXEwKZ287McP4PrMuuHPLN1np8BKxgjheefScBbvFwGdswR6HaK6HlnAnuAjzwELuCbkbkM+111mc907kons43sLAyH36LJ2fs/joXaYJIvXuVdVVkZyYwrU7j5i+Zi+j1xgzbrMZE3bdZtze+4w7ZKm+qtYQR5mzmMRsLlt4smiXGXOM73LdNwq5zlhLLCUCguPYecqcqXtvsMHcB+e4IrJLy8jOzSMyMROfuGzeJORVkdeVj+Nz8U3IJTStkLRidXlJdFw6h09cZvrybUxad5gJQs+Ju+8JPS1YIIiyaU3EsUZo6+iX6kleEzHlBnNl72Ja1fuSL77WQ7frGI7fclAGF2n0VWKgEsesN/asGdWD+l/8X3Sad6PL0Bn0Hb+Ao+eu4GJny7aFs+nSsC7z5y0V9ZWoDFIqcZThc8jycWDZmN40bNSUuVuPEZhTiTieO0EdZXHMSEzv2Il0pX5yhWcWZSWy5QhdcxJweywI/5jxfN+kAyOmrcbKw5dMUX5yIFF1FUfViaOlII5ZGVw6LV9Hf03PLq3Ze9wUGw9vPLyf4eklyKHXc7yevuKp92siY6u+XiwrjOXIMWP+3qo7zccsqjTHUeRLpPXM5hLjB/fg+3o6jJu9ikcu7iSkpJCRnkxshB+XTx+iW7fufNmkC0t2mBKSJEumkPSoQPVV9Z9bMHnUSoU4ynzIdqbGXwmleQR5PmZUrzY0rv89w8ZPY9C4KYyeOIEJY4dh2KUdTfWaMG7cBJYtW8OESTMYLcpp8oQxDBnQC/0WrWhtOJgdRy4RFStfEWYR+MKRwf36UK9Bc0aOnckPIycqq5Qnjh3JwF5d0G3UkM69h3H8ijWZ4uZNEkdPm2v069UbvbaDuWfrq7aitEgsr5kycsQo2nQ0YuDQMYwfP55+ffqiL8iNUd/RnL94i8T4eCzNrzN/yij6dWyJbp3vaNXWkB7DZjH/pyN4+Ecp7UVpuVWariyNt4njgMU7cQmMUnzIp51WN88zbVgPOuv+i27Nv6RZ42/57Osm9Ju8Ho9nclW1JI4TBHGsy7S12wRxTMHyoRU/dG4nbpzacv6mFVEFZeXESmm9BfFYn9hCZ/2GtOs3jvNOzzXXVOKoPHFUXlX/VE4cjQ8J4tiwKV83akm7bn0w6j8Qoz5GGBn1pnfv3so2TWPHT2HP3oOMnzARnQZ1aa5Th2bf/5O6X/w3vYz6YGr+kDTFtJXiYnWb0YP68E3dBoyfvYTb9yw5vGcH7Zs3Ra9pazZsMcbXJ4SiuDAOrZmNbpN3E0ftE0fFfpSXsUxIuOaGcG3/Sto1akS7XhO55Rqm2BqJ4vx4ntw5zjjDRvRoW5/jpsdw9wth0YYjfKfTi/lz1MUxDzTEsUNfQRw9RZlrwlOcTswzK1ZP7MVnf/ovGrQZxOHrbti4v2H14lkYfPPf6P3tP9D7x3/xr39+SadBU7H2iqhEHOWrarmqOv/jiGMtalGL3xwfSRxlV5VG5v1dNiI8gSNmgqwdNGfpjedYhWYpBksiLjWXy5aegjycY+KO68w748yqq89Ze+Up68zcWS9k3cUnLBHkcPoRGybvt+S8gz+R6fk8cHnBAuNbTDlhy+mncYI4vjXEVoMYCLJz8H4dwIUHDhy/78gRCw82mjkzdd9dxu+//xZxDI1J4+ydJyzcfYmFxx5wJyCm/OmZFuFhcew/94Dp+2+x6sYz7CJzySwqISQsijs2Xhwx98TY4iWHq4nW7dCD55hYPee2ZyiBojxk3KmCGDu6PePiPWtMHzhifN+VVWfsmbLHgsWn7DnrHkbgBxNHWU/KyFMD5HUpueRGeInBdAz1//Yn/vLnL/l7nXas3n2esOyC8gFUJX4qcfxxdHcaffEXvqunx3fNulGntRFrdhzmkaU1m+fPoWuDegpx9ApLUAYpST41z4vJ8XNk5dg+6OjoM3fbcZEXTYlqiGNdhTiO5vQdx2rEKY/osFdYXjrBtFGDaaLfhkFTlnPD/hnpmsUFEuqRKJmytBqJ48WTe+ll8B1DBvblnrMXlZewKBBspahIELrMLGLiE0mIj6GoIIGsxDfs27+dv7fsSovqxFHEkp7oy61zh+jToyv1GzRiwOAfWL9pI1u3/MSapQsxbNeWb77T4Yepq7D0CNK0o3zSIvxZ9cHEMYtIb2tmD+vG//ztr+h16se8jfuwtLUTpOEFt66cZNSAHjT69isaNGjKD+PmYnr1Di9ePsPbw47NQp+G+l0wHDCFRzb2ShlF+D5h4phR/PdnX6Hbsifz1mzj7iNb/P1e42J9ndWLZlK3SVuGz9zEm/AkSktTeO1yg9HDhtGu9xSsnNQ5bP5u95g3YSgG7QxZvu0obs998PPzxdHWluWLV9GgTnN69hoq2rYnKRnpvHr6hN3rltFBX5dpc5Zwx/kFzyOTSc5TP4mnWJiKahVQ28/bxHFHOXEsykvD9dFN1s8by/h+bRk3sC1dBTn9XKTdd9I6PJ7LV9WVieNWhTg+sLRiSId29GjTlrPXLZU501WeOBYmYHNyG131dQQZGs8FpxeavpepIY5yjqNcHLOpnDgePrSF7xvo8I2oh7adutOjlxE9eojfHoYYdu9Ox849GDluFhevPMD8gRXnz53l3PFD/Dh3Mh0af0fvXoacun4LT/8g7t25I/LSj2//IecFjuaqtZuyBU9ChA/71i+lSYPG1GvYnk3rdxLwxJ79q+egq9uIcYI4umuJY+eqxFHaD6V9lZexLHGR65wQLu1cSlvRhrv0n4aFd3j5E8OivHgcb5kwsksD+nXTx9z6Pikiki3GV6in05NFs9TteCoTxwceYeV2qjQvAec7J5jUx4DP/s9/8rVeV5btPsdjt+dcu3SGlfMmsmTKEEb0aE2d7+sI4ijaaZUnjpI4XhTEsfp2PLWoRS3+3fgI4ii7qTQwilmXDr+IwMAYdp26y7T9t9n4wB/nuOJy4piYnoO5rTcbDl1TVi0vOvaQxccfsuzEQ1YJWa2RFaesWXbGljXnHJQvysRmF2Lt4cPak/dZKtwuP4sl7peIo1RTWYChPpHKFqNRmpAYcXL3aTRzhW7j9tzG2EVdHKMljkHRqZy+5SKI42UWmjzgtr9KHMtfuwhEhMZx4Ox9hTguvebF4/Bs0guK8PR6yfajV5i+5TRTdpgxbeelcpkuZKrmePK2C8zabcbua3Y8jUxU0pZGVuopF3nkCj3D8ws5+ciH2YI4Ljluwzm3UGVVtdbvu1G5rqpDXpOpiHIrSsfN4jpT+hui84/P0aunw1ffNGbQhEXcc/dRnhjK0lW/oSKJox1rRnWn7ud/pVvvYWzafw7jC3exdX/Ji6fe7F25mK5iUJ41cz6uQTHIl6LlxLFMEKyXNiweLoinfFW9+zQh+RrimBfDhbPHFeLYqNNozt11IF8QuNSUJCLDfLGxvMWPi+fSyUAfPR0dJs1chLmjFynlpFEuzyjTlIlwK8sQxPFUFeIYlpXJ+RP76NbsG9oY6LJ6617O3bPllpU9d++JOr59iwsXLnD8xEl27jvCxu37OHHqFHGRLyhM82X/ga38UxBHg9GLuO5SeR9HSa9zSI8N4sLpo/wwuB9NmzYWoqe8Vmyu34w2LdsydeYSLBxfkqJkWYYT7SXcVxDHiu14fvlVtSAqXlbMHtqZOt99y4w12/GKyixvB2nxwRzZuo62Og3p2/cHbjx0JVUz31HG+NTViT79xmLQZgBm581EfEmE+T9hjCCOf/uyMePnrMMrOF4TXwllRbG4O9yne9+RdBg4m4cuzyksiMXXTRDH4cNo23s6Vs7him/HmyYM7NyMHn2GcPmhs4Z0qQjwC2HF8o2MHjcda0cXJV8FmcmYGe+ia8tmrFi3GZ/Eil0JZPpqj60MGept4lj5VTWlglAkhRPt50akuMF543aHAzvX00QQpp5jVuJe/sRRvqquy9S12xXiaGNnx6junTFs1ZITZncJyylWalQtB1ETom1aHtlER72GdBk0kcuuLzXXMsqJ42eSOC77iWgNcdy/fzN1dJtjOHA0xifPizQcsLa25tGjRzwUYmH5GAcXb2ISs8r3fi3ITuLhlRMM6tRU2f7mqNkVLj6wYeLkmdT/8luMevbj5JV7RGXI3i9QmkNswHN2bd5Kf0Eo16/ayGsnG3Ysn0Odut8xatEqPCMTsLV+Iohj1TmONRNH4ZobytV9K2nfqBEdjCZxxy1csTUSWuI4tlsjerSuxyGTg9h6vWL2j/v4rnFP5s9ZVYU4dhTE0cIzrDyJnGTRPretoGuL+vzjfz7nH4LQD5ywABu3F8r1UlF/pflxXDq8BQM9XToNlHMcQ3G0cVf2cawljrWoxf8e/C5zHGWHfv46gk1HrjNt7w322IbzIkMlZhJZOQW8DojC0uklN538uOoSzLUnodx5GoXVq0Ss3yTx6HUSj/1ScQ7PxCsum+i8QtIKi/Hwi+Lso+ectPPHLiRdDI5a86H+vmVMqjlIEykHKWvvKBbtvc6E3TcEcQyvkTgu2nWZRUcfcEdDHLX6S0jiuF8Qx2ka4mgdkUOaQhxfsOvYJWZvOcGMHeeZtVMQRI3MFjJTczxj21nm7TnPvmuP8RYGXpKF6rqnlpRy4dEr5u+6yzKTx1x0DSW4OnGUgarLL0KGlEOjIC4xAWxZJefnNWZoTyN2rVuFkWEX6ui1ZuH2E7xJKVIGczXKPM3iGHWO4+jpq/EITiIlO4+8gkJSYsO5uG8TPfXrM3L0BCy9/JXX++UkoiiFIIcbTOjVCt1mrdh4/BpRhfKqqJH86PInjjpy7tN9WxKTI7ly6TiTxw+nXctWNG6kR8s2Xfjxp114vPYnR7QFqVd2cgKR/j6EBAYSl5pFocLocnkliOPgDk0x6GTEUcsnhGVncdHUGKO2Dfj+n39Gr0VLWnTsRuuOXWjXrgNt27aldevWNDdoTX39tjRqbcjkOXMJ8HGhNCuQfQdrIo4SsjylFJGdkcTzp65cPH+azZt/Yu3adezZc0AQ04cEhESTU6QNJfOdRXqE30cQxywinz5kxuDOdOjYkcNXLZQbIC3yMxO5ceIwvVoYMH3qXF5HJFVpr4E+Lxg3eiad2vXn0pmzIoEkgv1cGTpqDI3a9me/qTkp5TdhUoMkgt64MGjERFr2nsjNh47k5Ubh635TEMcfaGs0DYsnKnF8YXeDKYO7YdC8JUvX7sDLJ1zkVbmkLH6ITUwmODyS9Cx1rmRhRgKXjXdi2FKfles345eUpbRITWuoATUTx0FLd+EarF0cI1uDjEHSokxBTn24fcmYNl16073K4piJ6uKYH+XimFRevPRm3oj+dGrWhO3GpqLN5yg3uGpJFFIiPze5eQEtG31P/wlzufciQKNjBXGsuqo6Xtx4bOXbZh0ZOnMVTi/8KCoqFiL6kmjvhZrfouJqORU3cXY3TjK0cxN6Grbj9E1z3ASR33fsAosXrRQ3NveJTc1Q9FL7ozgqKSA+Oornnl4EvnqpfPJvx+olNBQ3V5OXreZlZDz2gsiP6GCEUStDbr1vcUx+GA9O/YyhQTNadBnFBetAxVZKFOfGYnf1EBMNddH913/S0qAJrbv24mv9HvyjiZxfu45o36dYnt5BG109OvWbgeXTME3oXEJe2jN1zBD0BSls07ojTRq3omXrbhw7d11pbSrkqupttNXToeuA8VVWVdfu41iLWvzvwS8SR+1ik8odVJoYeS5Fa/q05xLyV46PLt6hrN5/WRDH65i4RxIoero0WDJMsSBEcjPv+LQcXoWl4eqfxpPADNxCs3kalYdXdD7e4ve5+PVJyCcgOY/g5Gz8Y9LwCEwU5DIeK/8MXiQVk6lY+AoNtHq8CzL9bMGGbDxCWLrnEpN2XedwNeIYFpvBOXM3Fu2+zGKTB9zVvKquPBBrX1VL4rjy1gseR+aRJfKVnJLKM/8QbF8GYP06mMfVROtm/SoI2zdBeIXFEpeTpxA0dbCSGqjDQ5ogy5csn7F4521WHv01xFF7QeZemukCCrMjuHflNIadeqDbpBOH95kQ9tqTo7s3oqvfXBC4AWw9dZvQVO1z4mJljqK6Afi3jF2wnQB1EpaC0rxkntw6IchaY1q3bc/By/eJr6RLUVYc987up2crHTr37MeZB04ki/KSQ0CZsqr6JPUEcWzccTjX7luTnROP5b3zjBw6gO7djFi+ZjNmdx4RGB1f3u5KCzKwuX2FVTOnsnzJcu7auJGSJ0umBK87Z8RgqYNe664cvmtHrCC3rs4PObh5CSvmTmDZorksWLCAWXPmMXXGLGbNncfy5StZ9eN6Vm/Zx87jZty3sSU1JYK8VD/2HdjKvwy60HL0Qm64vCjXoSYUF+WTlJRAbGwcKWnijqlGFJMTH86qacup86HE0fMR0wZ1prdRHy5ZuxJbXKK0G4ns1ERunTxG31ZtWDhvKUGJmcoAW6p5jhfw5pkYuGfSs31/rpqaigSSCPB1Y8CocbToMwkzS8/yFdmSFFEaS+BrZwaPnCSI4wRuWNkL4hgpiKN84vgDbXpP555zuFIOGYmBXD22kx6dO6Gj24qe/Ucxe9Fq9h85wWNHV1KyKqiBRG5yDGYHtwni2JQV637idXy6TLHSTUp1SL1EbkoFcQxyUFdV63di+IpdvIiWPbMGFIVgfu0w7TTE0e1ZOPla4ii341m9k2eJaSQkR7Nt6TSaN/iaCXOW4hAYVdG3RLrRr1xYPXUYzRs3YM7abbhFJGh0TFc3AK+BOG7ft52vDboyYuFPPBf9+0NQlJuM9ZUjDO3YiO5d2nL6tgURuSWExCXhHxQm+oMkxCrU9DUlVZRHoiCMz51t8bB7zEPze1y7eRNHD0+SxU3dwztW9G/Zhc5N23HjnZ8clLUo+nlRFM53jjKkZ1d0Ww/gkJkTiRqjV5gZjdmhnxjYqgFf/ek/+P/kFlVS/lyH/xHEcebiDUT7eQniKJ84NqFT36k81BDH3NQwLpjsoFUrA3oMGMG2HQdYPHMeBo2bMnL8LByei3KTKEvn5sH1dGjSgG7Kdjxh5cSxiyCOh06cJ6iWONaiFn843vPE8dO6Zrbo1Q9d5XY1l5h18A6XfGKQ5rPq8CEJXAmO3sKoWLzk1IOXmNx/gfF9L4zvCQJj7s7Ru24cvePK0dsuHL3lzLFbTzgurh+2esOpJ1HYh+donjhq5f0ay+vyYw227kEs322mrIquThxjk3K4YvVUWRwz79BdbmgWx1TWPzA4ll2nzQUxvsmG+744xhYpT020kKZYGufKIo1ddTetuxSVjEgNVLOYnluobLi+5FcTRxmzjFMlEUW5STy+Z8aIIf2p08iAaWKA8w0QRr4kjzBfD1YumkWdeg1p2dmIXSevERyjDs5Zfk9YMcqIf33+HSPmbuNFXJ4Sq5KoIDaxr6xZOLYndb/9kjGzluD8Ooj8/AKKiwt45uHCnKlTaSDinTx3JZ7BccoAJgcsdR/Hk8p2PDodR3BRWVVdRGpSJI8sH2Bl+Zio+FRN+UhIIlFEYVoYe1YvoMHnn6HTqBlr954hWNyMSLy0v8+MUYMYMnIilx49Ub4rnpYaT1TwM3w8bHlifR87SwucXT3xeuOPX0goMXHxgkikkpZbXFG+otbT4l+zc+cm/ibKSn/wFG46eqrFXFZEXmYqGckJpCcnivjFb1oymZnp5ORkk5ubS1ZOjjJnMjk1lfj4OCIjQwkN8yU49A1ujnbMHDWPun9txcQPJY4DJXE0wkwQx2hB9MqJY4ogjsdV4rhg7mIC4tOUp0Wqj2L8X3szddQMerXryzXTM+KCShz7jxpPi75TuGjlpWzMryJTXI8h4KWT8sSxjdFEbj90ID8vogpxvOsUqal/UVexgaIOTzNDkPBuhj2Vr7C0FLr0HzCUH9dvw9L2CUk5KgvJEfVgdmiHQhyXC+L4ShBHdSvudzTfcuIYTVyQHSuXzuAfOs3pOW4O5+5Y4P3sOd7e3nh5eePi7MgzLyeC/Oy5dPEwrQ0HYDh6Oa7lxFHu49iICSslcUwXN7n5gnDvpEPT72jRpgN7Ta8Rm5pOSUkRGWnxnDt+lE4GrWndpgsmVy2IVhZ0SS2TayCOgULHOHbv28K3zdoxaMoSHj3xJj0jk1RR/wkJov1FhhMeHkpIcDAvXr7CxfMZgRGxZKSnYn3tJEM7NRbEsT0nbj4gIk/D2t6CTF/t09kJIdw/Z8zsccOZNX0eTh7+ig8tXO2dWDljPgumzsXBRV3x/3b7knGJtEoTCHlmyaLpE2jYpB1L1u0nIk7WDCTFBLNkzkx069ajZ+f2LFkwnQWL5tHGcDBfNpbb8awl2kezqlqnId36T8LpZbQyV9XZ6jYjBxnRUL8Va3aZEBQSgYulOSN6G1K/QVORzl5CIuJFdtK4e3Qz7QRx7FoDcTx44oIgjrWLY2pRiz8a/1G991XvjCWlpRQUl5BXVEyO+M0WkiMGLCnZ8lfjJkV+sD+7uJTw1CIuP37F/N1XmHfUkuv+8UQKS5VaXKb4L9Z8CSQ5K5/zgiAu33ObubvuMuegBfNMHrLomCVLj95n6RFzZbPvpYfV3+XG5sw7eFfZtHvuuSec96o0x1HzdPR9kL7KiaMgttWJo0RaViH37NTteKbtvsbZZxHIKfiViaPX6yg2Hr7BlN3X2WkdhFea+gJYC5lDqdn7ROtPLREJqaFqFlPlE0eL5yzeeefdxLEyZNAai0EdGEqKkkmKes2Dq6cZO3wIDRrp0m/0TG47eFXkrSSLp/bmLJg0lMYN6qLbrjc/H7lKUoIY3H3cWT2mv0oc51T+VrUaf2F6ANeP/0yPds3Qb9aKJcvXcv3aNe7dvc6yZStopNuJFu0HceziA9JEHah5zqAsLxyzsyeop2zHMwrTOw4150+BzKCkGGnE+jqycNwg/vV//kuZm/nDrPU4BKhz3hIigjG/ZobZ1Zs8C6yY5C9rMcrfm6smBzm0dSvWds4kiAZRM2mRLrlkJAZw3GQ/zbr3p+/0ZTzyeKZcLc5JxMniFmcO7OX0oYOcOHKIY0cPY2JyRJWjRzlqckzIcQ4ZH2bXrh2sW7+GpSsXsHzNYqVM+ncbRcMvOjBh1Mc8cTTioiDD0YLoafOVI4jjbQ1xnD/nA4mjnzv9Rwvi2GcSFyw9yVC+iiIhQlYhjpO4/ciR/NyqxPGOUzQFSqHJcKLNlhYSHxuDi5M9J48eYM608Rh2aIteYz2Gj53GfZdnZIr+n5WRgpnxbrpL4rh2kyCOaQpxfDcZkPGL3lUWQ1yALWsWTeRv//g7/2qgS7c+Axg2ciTDhw3nhyE/YNilC3NnjOfG1eOcPGtCK6PhdB29QiGO6qtqlTiOX7EDb80nB4O8rFk+fZiyityo/3CMjx7nwf3bnDppQp/+w/imXhsmzl6Hh3+0oqPS/soSlG9Vy08OqsRxsyCOwULVOPbu2chXdRvQokNPVq79meMnT3PkyBF2797Jxo1rWbNmOUsWL2T02In0HDKB3aduEilujKxvXlBeVRt27SCIoyVhuernRauWidZiyJaST8RLBzbOGUWdL/7KV983Y+eJ+6RWGBMSomPwdHTBzdmV2IRkpb5kHqq2L5mCbHVp5KcFc/bwbgyataRXr4HcunGdmOggLl82o3XHPjQSN3eHj5tSWJhGQX4Kazdsp772k4OvPBXi2K5JPQz7jMJc2FB3zzfMnz4dXZ0mDBk3C0uP10qK2YlBnNy5jpZ6LWgq4ty324TEwFfcObaN1k116DxQfVWtXRzTpWlzDh6/KIhjtTmO8p9WalGLWvxbUCNx1L6ilqQxMSUDn6BIPN8E4+4bgatfJK6+URUizzXi5hfNE79YZRuGPZcdmS1I17yjVhx1DONRcCYO/gk8DYomPlNdzyq31zG948GC7beZs9eCdVe8OSIGI1MPcaf/JILzLmFCwhW55BrFWfsQNl5yY9wBS6acduGUsqq6kpX8AMicvYs4al8GFRaV4eQZwOp96gbg+2xDeSHGUmmwpMFNE8zN0jWYpXuvMkWEP/YklCBhySpeJn0ElALXiAJ5oJrFKsRRM8fxF1dVV4mnMqRjAVnxfpw+sAGjTi1p1KARgwUpuP7IjaQCdS6jWpJFFOUn8Nz2OrMmjuDrhgb0m7AUd1dvkl+68KMgal/+z/eMlJ8cTKj8rWqhVWkK6ZHPBSFbRzsDA/TEYNGmVXPatTGgfiN9dFv34+f9VwiKzdKkJcOlUporPzkoiKMYQBp0GsOpu47KMPZ2VqR/qakYPFL8uX5qB0bt9fnHZ3/l83/Wo5EgpQcuPSIxu4TSUnEjk5NNenY2WXJOWXlspbx2fczSccPp1749h03OEJWZr5T425C5y6MgJ46nT59w5MJ1TM3tCIyR2/WI+okLZOPSOWKgbEQ7PV1aN9fHwKBFJTHQSEtatDCgWbOm6OrpUL/x97Rs35whQ4fRs/0QdP7ZmUmjP2BVtSCOUwd0omfv3ipxrPTEURLHW8dM6Nuy9ccTx76TuWj5lMxy4iifOEYL4uioEMfWRhO5JZ84CuLo53aDMcMEcTSazl3naHGzKGowPpbIYD8yMtKVUi4tKRLkMJGYcF/sBQGbOmo0+i3as2LHYXwTUsnOzeSC8V5BHPUFsfqJNwkZMsVKbbA6pKsolbIk4oKc2bRiJl99/U+++PJLvqtbj7r161FP/Nb5ri5f/v3vjB81iLu3z3D6/AlaCuLYTRBH7RzHfYvUL8eMX7Gdp0IXieKCJDytbzBR3Ew1aahDC/2mdGhnIOqsBd/Ub8GgsUu5b/+adHUCrYBo62XiZlhDHJVvVS/bSmRspFA1WVlVXUfo9K9vxI1X0xa0FHUi20FzUf9yyyRdXR0a6zTk+3oN+aphK1btPEFkXCqPb11UiGM3hThWfKtarRWZtjySLUS6ChF63zHdT/8Ouvzrsz/z2d/rM3rWTzg8Cy5vz6XChhcVFgopolgcyxYtY6rat+SZjFNYuLJsXrnbM2fyJJo31qGPYScmjBlGu45dBFFvz4QFW3kRoM5tle1ky8870GnQhcUzVhDz0h2LU1vp2LQ+7bsOYv2e88ycv44GdRvTzbAvZ28+Il6zN6VcwBYf+JS1S5dTv54Bw/qPwPXuZa7uX0ebZk3oMlD9ckwtcaxFLf734R2vqtVemF9YzIs3IZhetWSbyVW2nDTn5zMP+Om0RYXI83KxYNMZK348/oAF+28ydccVpu69xcLjj1l9zpF1ptbsvfoYr1B1C43EnALO3vNi4Y67LD/mwGnXOLzECBImrEKYYA7yayARmt9EYdeCMkq44BDMzGO2TDV15ZT3e74cUwNkzrTEcdnumomjhL8guHtO31U+ObjovDtXXqUSLvSSX0NxFiR4z1UPZu2+ybwj97n5puJV9q+yX0pg+U81i2li4Pgo4lgN6g2AFFlGReSnR2Bx/TSTxo1gwuSZ3LVyIjVf3TFRDhtqScq0CynLT+Kpqz1bdh7CxPQmUZHRpL92YvXovnz5+XeMmre96reqlRikZnlEB/tw1uQIc6ZNYcjA/vTvP4ApMxdicv4OAVFpShj1M3UyTDKleaHlcxwrE0c5TKo6Sb8ylNSthKLsBCyvn2FYv27oN9Vh9MSJjJs6S3nt3mewIDkWjuRWahbysFjzX9aSl605U4260LrOd+zcbUyEII5vEbVyqGkXFReQnJNHcp4oR2UpbBnpKVGYmhxk3tRJzBN5nTNjBrNmzWLmzFnMm7+QVavWsG7dOiFrWbt2LevXr2fHzu2YnNjPpaumXDc7z+ShM6j/f9swuRpxLK9fmZSE9omjQhw1TxyrEcfbJib0a9GKBbMXfRpxLH9VnSGuS+LowKCREwRxnKCsPi8njsMFkeg7kwcuURTklfDoyhlWzJmC6YXLxGdX7kUCZfmc3r1DkLFWTF6yAc/wOLLyszh/SD5x1OPHDVsISs1VWo5au2qWtdlWodaB3EQ6NyOa555OXL1ixsVLZpiZmXHh4kUuCrlwQch5UxzsHhAa6MwVs6O07jaA7qNW4OFV8cSxqYY4ugviqOa4jKKcRJwfP+DntasYPWwoA/v3Y9iI0azetJtHLq9Iz1efq6utSRKsuIonjt93YNKS7QTHxAn3Ap642rJj1w42bPqZ9Rs2KnW/VmkH69i06Sf27z/A2bOmnDt/gXOXb+Dx3Jd05VX1KYZ00hHEsSPHqxBHmX+pqTyTpSR0yEvgidU1xgw1QlfcuHTu3E2Q0pZC2rNk5RaeC3JXU5t+u2wltOWrtpW8rBTcbCxYOG0COt99xZ/+8z/56jsdxs/5EasnPuQpBFrcUGXG8NO6zTRu0FUQx5XEvJKrqiVxbEinHiPYbnKfWUvEzV2fkZiYnCcyMV0pvQqLk8+zp085sOcIZw4fJszbhuvG4qZT9Gn1VXXF4ph3Esda1KIW/3a8lzg+ex3GqcuP+PnITTactGDtmUf8WKNYa+SxIIg2rD9nx4YLjqwXsuacPSvO2LHqjA3brzngESa/Wg0JuZI4erJo521WHLXlpEMYbvFZBKbnEJyaSWhqhiJhQmLFuX9sChcev2Du0YfMMHXhjHf8rySOFwVxvMoRQRz9qxHHtLRs7tp4s/jgXUbvuM2aS+5cdAvn2tNwdt7yZvruu0zbc4e9gth5JWUog7Q0hb/KmCmB5T/VLCpzHC3UOY6rTKwxcw0hSLh9HHFUTbWiXVk2ORlxuLs/wdnjmbJISEL6qNBbO0Cp5ZqcLL/nK6lMGVk+jiwf2UsljvKJYzlxlJAxyLBquPzMVHxePsPR0QFbO0de+gaSpVkBr2ol/0t6KImjfOJ4kvot5LeqK4ijqleFZkV5iQS+ceP80b0MNepJg3r1GD9jFjYeHiI/nswTx00b6NCn7w8cPXeTF0ER5FYZPaW2+Ty3N2fuwO50alSPn37egXdINDHpWSSlpZOSmkpqSjIpKUlCEklNTSI1LUWZp5aWlUOqkJz8AkX/wuI8YqMjCPB9I0iYD/5+fvj7++Pr509wSBjxCYkijlQRZwpJyckkp6aRXyBrT81TfnI0q6avUBbHTB75PuKYTcRT9VV1r3cQR/nEsZ+BShwD41M1T8iljxJBHJ8xZdR0ekriKEiLfDIW4OehEEeDPpMEcfSsNscxViGOg0eOp43ReG5b2QniGImvm1xVPYz2faZj5RJBaUEJd0/sokuz+hj2HsThS7cJDI8hRZRlclIMAV6urJ4xhVbNWrJh3wkCRT/Oys3gvPFOOjdryNwFS3H2DSc6SxCCEnXbrKrtUQvhqnxT+e0rb6OM4jx/7lw6QLtOPek5cqkgjnI7HnVxTFPlVfV23ARxrGjpMv4C4iJDcH/ijL2dPS5uHkQLP+p1NWV10yfR28tiy4njXwRxHL94O77R6nedc/KzlXaUnJyi1n9KCslSkkXbSsug0ufzy1F5cYxKHK0U4qgtDy3KitIJ8nXj+vFdjBlgSAOdRvwweTYnzl9l75Zt9G7dmqaNmjJr8VpuWjsTIdpB5RJT81AdGldlCpHMn/gtTOe5mz37dmxjwfxF7NxjzJNnvmSXN8xscSMaxU9rBXFs2JlFM1doiOM22umKPPSdwE27AGzdfLlv5UBsrOjnmpBq31fPiuX0pows8jLErXdeJLeObhTh69O1/7hKcxzV7XgkcazdjqcWtfjj8YvEsaikVFko8jIgDufXUdj7JmDjl/wOSakitv7JQtRfG/Fr7Z/KI79UnIJTiRKDhEwhITsPU7nR9rZrzNt1izWCWO4198TEwpMT5s6cNncU4iTEmbPmLpy46cimk/eYsucas07Zcc4zipj8ckumQJIlrdQE6SqJo40waIu3n2bSZlNMHAIJFON5ZeIojXtwVCrHbgv9BHmctecGM3ZcVEQ+hZxzwJyfLzvjEJpOkohUS+ZqTvUDoQTWGm8U4njJ3J1Fm81YKXQwc/IlNEed91Q1178EGamWDKqURLrIVKS8ra/WfxXGJZBPxht7Fg3vxRd/+ZIRM3/iVVxeha8qEcmY5RX5q156W+R/SQ9TBHEM54LpMerodaJe2x84ectOuaJCfkM5gRDfp9y5fIp508ZioNeEJo31GT95Jg+dXZVcFZWW8FIQ4iWCpDSuVx/9lh2VwfPS3ce8DolRCJ/6zKgIL9s7zBzQheZff8EPg4eyYddB9hw/w8GjxzE2PizkYCU5hPHhoxw6fJwDxqcxNjmPs/sz8kUDUXP34ZA5ViFzl01apD9LJy7k6/9qzLhhi/EJSVLqVV6tXvpy374Qz0eMMWpH565duWApBmNB9LTtICs5kStHjOmqp8fMabMJjEtW5tyWaoZY35fejBk6no4tunHp9CnhlIqvrzs9hwxHr+sILtx3IbNAG1uuCJiA3wtH+g4cTouuP3DL4rEgjtG8cr3NkAEDaNFlNBYO6mrYiDdP2LxiLq1btad9j8EsWLWBfQeN2btrJwunT6d723aMHDkWSxd10/V8Qazum52gd9umdOvWkwVrd3H86kMCYiq+E11RVh8LWXI54sbFh5vn92HQuj3dBs/C42kQ+ZGB7FowHp269Rm7dAsecSlKWau5linKsPJMTV2rh5SKviKvS+IYT4S/G2MnTONPX7di7MIt+ESpxFH193EoyInn4aVDDGxbn04d23HsxgPCxY211Eh+gzsrI4lQX2/uXT3L4hnjaavbEP3GjRgzdQa3bF3ETRlkJMRjdngfA7p3obFuczr1Gsy67cY8cnpKYGS08r3+iny8Awp5lLUgLFqZ6FkibeVb28JF5lxtl/Ioh7z0aNatXE+dbw2YN3UBMS/duHd8Oy0a1Kd9r9FYegZXCvM+iDQLY7lyYC0t6n9Dh17DeCRu7h1tXBnTrRsdGutyQPS9UEEcZbuuJY61qMUfh1/ejkdIYUkZeUWlZAuRn3aTX+p4twiyIyRDHGslvUjzq7mWJY4LNItjkjJzuShI4YpdV5m/8wrz9l9nwcFbLDp0gyUHr7Ls4BWWHRC/B66xXMiy/cLfviuCOF5hkeljrjwNr5gz8xHIEzbK3sOHNbtPMXf7Kc45+BIu7GQ5WdFYpEKha2BMBrccXrHtzD0W7j7H7O3nWHPsLqetX+IWnkmSyJ8kLtLUViYSkhipRKWSeZOH77R28oL0L0U1tRli4Lj+wJXVO86x8chNbjq/JionXzHGldN6P2TcMtSHhtTqUhn5pPs6sWhUH/7x+deMmbOJN3G56sCmeqgE6fK2q0SFqzySJS7nOEZiZnqCBvpd0Gk/lDO3bZWBQUUWXva3WTZjLB1aNee77+vSumN31m3Zi/urIGX+ohYlRbmEvPHiwNb19OjcjoY6jdEx6MKUJT9j7fZK2VNQpuvlYM7cEUY0//Z/aFjnW/RaGNC0VRuat2xJC4PmGLRoTosWzRRR5yq2olnz9ujqd6ZFmz7sFwNYtmgbH1cHWkgl5BZHmaRE+LF0yny+/bMOE0Yuxi8kUSnPqm1JU2Kl+QR52zN+cE/liePVh/YkFaov4CWyU5O5euIYPVq3Zt7cBco2LrJdarX0e/2CiaMnY9i+F1fOnRUXMvD392LgqDG0NRrFVQtnsgu0ZSkJQxr+r1wZOnwMHXoPx/yhLfl5CYKcWzJy2DA69hqDpZOfEntJUQ6hrz3Yv30rPQ170FgM8s30m9O8eUu6dO3F4mXrsLRxUVZVy9xIIhTs7cjKWRMxaNqcr+o0Z8DoWdg/9VF0/rRy1UK28QLys0Iwv3KCTl27M2DUHF48F8QxKohdiyfTpEEjJi7bzNP4FKWdVRCbmlNWdNaI6lsu1EkkMsCDiZNm8Nl3bZi4aAt+H00cldJTjgqy47G6fJiBHXTo2qUjJ29aEK35slJJQSautveZNuYHDHR10G3YmI6derB+y25cX/iQVSBbjEQZ2elxuDy6w9K502mhr0/dhs1o1aU/c5ZvwvNVoFI6v6yfvKq1Fe/yKa/lkZeZyM8bt6Cv24GVC5YR5+OJ+amdGOg0omOfcVh5BavePwiiHIqSuH58B51b6tFn6BgcvPxxtnVmTI/udNTT5+Cx84RniHSFb1lvH17OtahFLX5LvGc7nt8L0lgKI5dXhMercG7ZvOGyjR/nbf05Y+vLaRsfTtv6iGMfTG18y0VeO2Pnx0n7AMw8I3GNyhJk9OOGGWls5D6TMUlpuL8OwP6lP6/j0kiVdkv1UgUy9sSMHF6FRuPsE4Ld62Bcg6IJSs1RtniRJlT6qayFTOPXEUf5MkcQ0uISQqIScBMG390vjMCEVNKEm9SzcnofBm3i71SgGir7k8f55IS/4NiWNYwaNo6txmaEpmieiCh+quN9aclrcsCTq6pjsXt4nymzVjJ50WYsnLXfA5a5zCDSx4mjO9YzYewElqz+mav3Hyv7OWrrS5ZVRXpFJMUFYnX7PGtXLmbg8Ems2XmKl2FxSl3Jthcb8pIHF49xZNs6tm5cw4YN61gnZP16OQ+xukh3OU9tK6t+3M2Pmw7xwNadHKGatu7VdNUXcFp5N2SJyaEvi6z4cE7sOcKEITPYtfU44bEZSpxvE0dxVlZIRlIkjjYPsHr0kKCYOLJL1Y85yvwXFeQS6ueHlfl9nri6k5abr9By1UeJsk2Qk50zVvcfEhoYIALlkpGRiLW9PXce2REUFS9uEtV2pzxpKssiIy0GGzt77onr4TExlBRnkZoUip3dY+HmQFh8mhK7grI84iKCsLW6x4WzpzE9fZozZ89z3dyCZ/7BZBZqn9DK/BRRmBXHGy8Xbl+/wfHjZ7l+x4LQ2IovKCnl+I63Br8MqZFol4XJRIa94YGVJY8cXElLzaQ4KYprR3YyfdIUth+7iF+a+uWdqmX9bqhXpW/5NC6FhMg37N59gKHjFrPj8GXCE9U9O6WPD9Nc+lJTL8pNwdPmJhsXTWb50sXcs3cnUXNTXFaci/9zF9Yumc+YEaNYv3EHty0dRB9IKO8DleOiJJOgN25cOn2U2TPmMmLCPHYfvUBAZILiQ6vfu8tXuVpJKkOey1RFGYsbhhfPX3D3rgVeHk/JS43E6f4F5k2bxuK1e3ALiFN8Vo/hbQgfZcJncSbh4mbG8v5NrO0ciE1O54XnU7YtW8rSmbO4ec+amGxxUyBCqH1Z4BfeLtWiFrX4ffA7EUfZkWsQ+aP8k8ZdDGmlZWTkFpOQKQbzLIjOhghxM19FpJtGwsV5uPgNlee5gtAJW5OnxPnh0GhSBdK4ycG6fBD8BUijK42WDFN10KmAmob6VyW1mhIvh/aiKtrQlSH1k3rKtGtKt2Zo4/w1kOELhV1PIOCZG/a2DjzzDSOtoETR6dNil6FkCeaJgTGD2KhwnJ54Ye/2krC4VM3AIHMpKr0kg5TYMJ55vyBKkBVt3qUfKRXlLM+0tCuP+Kgw3Dxf4heRWGkAK6K0IJP8tHiykmPISIkXpCJJmdeYmlqTpAhJIzklk8SUXBJT80jPK1ZImZq2hJq+VgvVrTIqu0jdpI75FOdmEPDSD6fHrrx6ESj6QlF5nirqV4YVpVwmXau2UG0bVG9QKkJIyFAV1+RRNciBuopeagyKf7lIQpLHanGqelfEpdFM4B1pVIL0URG/LD0Z19uQWmnb1KcRApmKWr5qLJWQn0nYG2+cHBzw9gsmuaCwWom+C4o2mtg08Zdlk5eVyKtXb3js4Mkzn1Cl/rQ+Plbz0qJckqICee5qi4e7G6ExiWQrRF6imJKCDIL93vDy2QsSkis2lZdpqXRf+pS50daRuCIIZ3BgEF7i5jg2JYtC4UX60ur36eUr49fWVGXkExvmg5uTE67evsRkaHddeB+kYsJn6dt1lhQXx0s3VzydXQiJEP1VM6+3POUqxFH+vj+1WtSiFr8Of9ATx4oOLv9LUyQNgdYc/ZJIo1FZZLiKIfvDoQ2hGl5V3heDVk8pHxrmfdDqUY5KDpXd5bE2zSrpav1X9lwFv4WmIqxcmFCJvMgYteXw6dDGIuNVY5JayqPyeJUFERXXtXjLnwJxpviXUpFfrT/VRXu9wuVjIUNWTUFFzQOxdKuclvzV6CCnbFQK8m7NKoXRQLpIf1LUs6ohJFSXqj4rUDWVijP5X5tWxXUVVXVQYpV5VvJdUxoqtFfV2OR/bTxv+5dXVX+fCm38FW21HMoUGemm0um3NNAmXkUBeSJ9aX3WHL/iQ1yqErz84EMgYpD9S7MASMan6icj0Z5VhTatimS0/rQiz1Vo/VT1/ymQoWW8UqrHJNOU5VJBYys0eB+Ez5oWPyltSxUZV3nOtN7E9Yp+9y69alGLWvyW+IOI4/tQYSx+CerV399YSMOkNU41pVL5+sdChqoS8i2Hd0NJU+tfE+ZtXf7fMqa/pi5+H0hdtHWgQqm2d6gonX9b7d9OvzK06b0rzbd1fZfP3wJaPX9tGjL8J8QlvWqlHJXjqsB7Y30rnt8an5C/X42309Rm81O1+Nj+Knz/Qlp/RJnUohb/7+E/tJ2+Sler0bFmfITXd6Lm8B8a64f6q8DH+NbGXjVMVVd1cK3q41NRkyFVzj85fhmuWnyVpDJqcquOX6VKObQpfVxEFb4rwqvlpTj+G1CRrnKmFEZlpyonCirqs8LtY1A5xg/JZ0V6laGNoeL6235+C2jT+aW4f+laTQP/h8RZM97K43ujepeHt90+pfi0sXxC0Gr49TF9WuiqoX6/dqTFh2ip9VNZalGLWvye+MOJ468N/yn4mDRr9ivPtC9NxJk4/a0MaE3G+Lc20DImrVRGTW7V8dvoIsN//NMBrX5CA/FfDa/qIw7/Laiqs1IOqkIap7fz9GvLq3L0HxLP+9LTXv+QuD4eb+f/bSg5UQ/fQk3h5bHW/ePwVh61SVdzrkBN6deMTym/9yb/XsiQH6bf+/Dr9FDx+7UjiQ/Nq9aflFrUohb/DvwhxLGywfmY8L+VkfqoNCtJBeRZidCnhjk5vwK/nxGuCm1+qqdWk1tNqFx/nwYZVmvsPyAeTXpa/dSjjwj/m6GGNCuUEvjtdaoS/R+ED6/vD8n/L+WmpvDyWOv+4ahRX23Smktv+6kp/d8O1ZJXULls31/G8kZJ2p2PKwstKsdfXY//XZCafWhdVPZbi1rU4vcH/P9mKZuIO0HD1gAAAABJRU5ErkJggg==)"
      ],
      "metadata": {
        "id": "hRhw5K0w5PLL"
      },
      "id": "hRhw5K0w5PLL"
    },
    {
      "cell_type": "markdown",
      "source": [
        "- 컴퓨터는 이미지를 각 픽셀 색상 값을 숫자로 인식\n",
        "- 이미지를 일종의 점 (dot)으로 생각하면 m x n만큼의 공간이 존재하고, 그 공간 안에서 색깔이 진할수록 높은 값, 색깔이 옅을수록 낮은 값을 가짐\n"
      ],
      "metadata": {
        "id": "sLKtFelb5lam"
      },
      "id": "sLKtFelb5lam"
    },
    {
      "cell_type": "code",
      "source": [
        "from sklearn import datasets\n",
        "digit_dataset = datasets.load_digits()\n",
        "digit_dataset.keys()"
      ],
      "metadata": {
        "id": "P3WGe9aP5Ioe",
        "colab": {
          "base_uri": "https://localhost:8080/"
        },
        "outputId": "ed8397aa-846d-4f1c-c6b0-2d76ed421e73"
      },
      "id": "P3WGe9aP5Ioe",
      "execution_count": 19,
      "outputs": [
        {
          "output_type": "execute_result",
          "data": {
            "text/plain": [
              "dict_keys(['data', 'target', 'frame', 'feature_names', 'target_names', 'images', 'DESCR'])"
            ]
          },
          "metadata": {},
          "execution_count": 19
        }
      ]
    },
    {
      "cell_type": "markdown",
      "source": [
        "- datasets 모듈의 load_digits함수로 dataset을 python dictionary 형태로 받을 수 있습니다.\n",
        "- data에는 입력 (독립변수)이 저장되어 있으며, target이 클래스 / 레이블 (종속변수)를 가지고 있습니다.\n",
        "- data와 image의 차이는 입력으로 쓰기 좋도록 1차원으로 만들었는가? 이미지 크기로 제공하는가에 달려있습니다."
      ],
      "metadata": {
        "id": "XxzKgw-H5Uth"
      },
      "id": "XxzKgw-H5Uth"
    },
    {
      "cell_type": "code",
      "source": [
        "digit_dataset[\"data\"].shape, digit_dataset[\"images\"].shape, digit_dataset[\"target\"].shape"
      ],
      "metadata": {
        "id": "MeqidxPL50M7",
        "colab": {
          "base_uri": "https://localhost:8080/"
        },
        "outputId": "929415f9-619a-47f0-f6a5-f3fb00739f21"
      },
      "id": "MeqidxPL50M7",
      "execution_count": 20,
      "outputs": [
        {
          "output_type": "execute_result",
          "data": {
            "text/plain": [
              "((1797, 64), (1797, 8, 8), (1797,))"
            ]
          },
          "metadata": {},
          "execution_count": 20
        }
      ]
    },
    {
      "cell_type": "markdown",
      "source": [
        "- 데이터가 1797개 있으며, 입력 데이터의 크기는 8x8, 출력 데이터의 크기 1을 확인할 수 있습니다."
      ],
      "metadata": {
        "id": "t46HWFf361Yc"
      },
      "id": "t46HWFf361Yc"
    },
    {
      "cell_type": "code",
      "source": [
        "digit_dataset[\"images\"][0]"
      ],
      "metadata": {
        "id": "pnoPxCFo56_j"
      },
      "id": "pnoPxCFo56_j",
      "execution_count": null,
      "outputs": []
    },
    {
      "cell_type": "code",
      "source": [
        "digit_dataset[\"data\"][0]"
      ],
      "metadata": {
        "id": "HvTH-bwx8GeY"
      },
      "id": "HvTH-bwx8GeY",
      "execution_count": null,
      "outputs": []
    },
    {
      "cell_type": "markdown",
      "source": [
        "- 입력은 8x8 이미지 (0-255 배열), 출력은 숫자에 해당하는 0-9 값을 가집니다."
      ],
      "metadata": {
        "id": "LsSByMnT7InG"
      },
      "id": "LsSByMnT7InG"
    },
    {
      "cell_type": "code",
      "source": [
        "digit_dataset[\"target\"], digit_dataset[\"target\"].min(), digit_dataset[\"target\"].max()"
      ],
      "metadata": {
        "id": "z6AZJ2Js53oP"
      },
      "id": "z6AZJ2Js53oP",
      "execution_count": null,
      "outputs": []
    },
    {
      "cell_type": "code",
      "source": [
        "import matplotlib.pyplot as plt\n",
        "from random import randint\n",
        "_, axes = plt.subplots(nrows=1, ncols=4)\n",
        "\n",
        "for ax in axes:\n",
        "    num = randint(1, digit_dataset[\"target\"].max())\n",
        "    image = digit_dataset[\"images\"][num]\n",
        "    label = digit_dataset[\"target\"][num]\n",
        "    ax.set_axis_off()\n",
        "    ax.imshow(image, cmap=plt.cm.gray_r)\n",
        "    ax.set_title('Training: %i' % label)"
      ],
      "metadata": {
        "id": "jtCXXLBw6zES"
      },
      "id": "jtCXXLBw6zES",
      "execution_count": null,
      "outputs": []
    },
    {
      "cell_type": "markdown",
      "source": [
        "- matplotlib에서 회색을 회색으로 보려면 color map을 gray_r (gray reverse)로 해줘야하는 것을 기억해주세요."
      ],
      "metadata": {
        "id": "g06uHYDv90St"
      },
      "id": "g06uHYDv90St"
    },
    {
      "cell_type": "code",
      "source": [
        "_, axes = plt.subplots(nrows=1, ncols=4)\n",
        "\n",
        "for ax in axes:\n",
        "    num = randint(1, digit_dataset[\"target\"].max())\n",
        "    image = digit_dataset[\"images\"][num]\n",
        "    label = digit_dataset[\"target\"][num]\n",
        "    ax.set_axis_off()\n",
        "    ax.imshow(image)\n",
        "    ax.set_title('Training: %i' % label)"
      ],
      "metadata": {
        "id": "N0RcFjyh8ZsX"
      },
      "id": "N0RcFjyh8ZsX",
      "execution_count": null,
      "outputs": []
    },
    {
      "cell_type": "markdown",
      "source": [
        "- 학습 데이터를 준비하고, train/test set으로 나눕니다.\n",
        "- 입력값으로는 차원 정보가 없는 images 값 대신 data 값을 사용합니다."
      ],
      "metadata": {
        "id": "qH4snaOz-H9-"
      },
      "id": "qH4snaOz-H9-"
    },
    {
      "cell_type": "code",
      "source": [
        "from sklearn.model_selection import train_test_split\n",
        "\n",
        "X = digit_dataset[\"data\"]\n",
        "y = digit_dataset[\"target\"]\n",
        "X_train, X_test, y_train, y_test = train_test_split(X, y)\n",
        "\n",
        "X_train.shape, X_test.shape, y_train.shape, y_test.shape"
      ],
      "metadata": {
        "id": "IR60oLYd7W7M"
      },
      "id": "IR60oLYd7W7M",
      "execution_count": null,
      "outputs": []
    },
    {
      "cell_type": "markdown",
      "source": [
        "- LogisticRegression을 학습시킵니다.\n",
        "- Logistic Regression Softmax 방식"
      ],
      "metadata": {
        "id": "gG8p0Jhq_l2T"
      },
      "id": "gG8p0Jhq_l2T"
    },
    {
      "cell_type": "code",
      "source": [
        "from sklearn.linear_model import LogisticRegression\n",
        "\n",
        "logreg = LogisticRegression(max_iter=5000)\n",
        "logreg.fit(X_train, y_train)"
      ],
      "metadata": {
        "id": "Aj3A1vJ57W3i"
      },
      "id": "Aj3A1vJ57W3i",
      "execution_count": null,
      "outputs": []
    },
    {
      "cell_type": "code",
      "source": [
        "from sklearn.metrics import confusion_matrix\n",
        "y_pred = logreg.predict(X_test).copy()\n",
        "y_true = y_test.copy()\n",
        "confusion_matrix(y_true, y_pred)"
      ],
      "metadata": {
        "id": "wotqijzn7Wyg"
      },
      "id": "wotqijzn7Wyg",
      "execution_count": null,
      "outputs": []
    },
    {
      "cell_type": "code",
      "source": [
        "from sklearn.metrics import accuracy_score\n",
        "accuracy_score(y_true, y_pred)"
      ],
      "metadata": {
        "id": "x89ot3aQFPww"
      },
      "id": "x89ot3aQFPww",
      "execution_count": null,
      "outputs": []
    },
    {
      "cell_type": "markdown",
      "source": [
        "- **정밀도(precision)** : 인공지능 모델이 1이라고 예측했을 때 얼마나 잘 맞을지에 대한 비율\n",
        "- Multi-classification 의 precision 평가 함수의 average 방식을 지정해줘야합니다.\n",
        "- Multi-classification 평가 함수의 인자 average에 따라 모든 데이터 셋에 대해서 평가하는가? 또는 각 라벨평 평가를 해서 평균을 짓는가를 결정할 수 있습니다.\n",
        "- micro를 선택하면 전체 평균값, macro를 선택하면 각 라벨별 결과의 합에 대한 평균을 나타내며, weighted는 개수에 따른 가중 평균을 구하며, None은 class 별 결과를 보여줍니다."
      ],
      "metadata": {
        "id": "AFCKXX8TCvg2"
      },
      "id": "AFCKXX8TCvg2"
    },
    {
      "cell_type": "code",
      "source": [
        "from sklearn.metrics import precision_score\n",
        "precision_score(y_true, y_pred)"
      ],
      "metadata": {
        "id": "9U5D1G08Dk1W"
      },
      "id": "9U5D1G08Dk1W",
      "execution_count": null,
      "outputs": []
    },
    {
      "cell_type": "code",
      "source": [
        "from sklearn.metrics import precision_score\n",
        "precision_score(y_true, y_pred, average=\"micro\")"
      ],
      "metadata": {
        "id": "z9-Jpt0O7Wea"
      },
      "id": "z9-Jpt0O7Wea",
      "execution_count": null,
      "outputs": []
    },
    {
      "cell_type": "code",
      "source": [
        "precision_score(y_true, y_pred, average=\"macro\")"
      ],
      "metadata": {
        "id": "cUvMfpIw7icg"
      },
      "id": "cUvMfpIw7icg",
      "execution_count": null,
      "outputs": []
    },
    {
      "cell_type": "code",
      "source": [
        "precision_score(y_true, y_pred, average=None)"
      ],
      "metadata": {
        "id": "bn6uGOTo7iV4"
      },
      "id": "bn6uGOTo7iV4",
      "execution_count": null,
      "outputs": []
    },
    {
      "cell_type": "markdown",
      "source": [
        "- **classification_report** 함수를 사용하면 클래스 별로 분류 성능을 표현할 수 있습니다."
      ],
      "metadata": {
        "id": "ZAj3cvykFyOs"
      },
      "id": "ZAj3cvykFyOs"
    },
    {
      "cell_type": "code",
      "source": [
        "from sklearn.metrics import classification_report\n",
        "print(classification_report(y_true, y_pred))"
      ],
      "metadata": {
        "id": "byURo9Dz7Wtc"
      },
      "id": "byURo9Dz7Wtc",
      "execution_count": null,
      "outputs": []
    }
  ],
  "metadata": {
    "kernelspec": {
      "display_name": "Python 3 (ipykernel)",
      "language": "python",
      "name": "python3"
    },
    "language_info": {
      "codemirror_mode": {
        "name": "ipython",
        "version": 3
      },
      "file_extension": ".py",
      "mimetype": "text/x-python",
      "name": "python",
      "nbconvert_exporter": "python",
      "pygments_lexer": "ipython3",
      "version": "3.9.7"
    },
    "colab": {
      "provenance": [],
      "include_colab_link": true
    }
  },
  "nbformat": 4,
  "nbformat_minor": 5
}