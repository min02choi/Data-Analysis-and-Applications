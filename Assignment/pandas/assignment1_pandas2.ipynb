{
 "cells": [
  {
   "cell_type": "markdown",
   "source": [
    "## 데이터분석및활용 - Assignment1: pandas실습"
   ],
   "metadata": {
    "collapsed": false
   },
   "id": "1a7ccedf7e68bb92"
  },
  {
   "cell_type": "markdown",
   "source": [
    "### 데이터프레임 만들기, 데이터프레임 확인\n",
    "* DataFrame\n",
    "* head()"
   ],
   "metadata": {
    "collapsed": false
   },
   "id": "8c67530ad630be80"
  },
  {
   "cell_type": "code",
   "execution_count": 1,
   "id": "initial_id",
   "metadata": {
    "collapsed": true,
    "ExecuteTime": {
     "end_time": "2023-10-05T06:52:41.539483Z",
     "start_time": "2023-10-05T06:52:40.044701Z"
    }
   },
   "outputs": [
    {
     "data": {
      "text/plain": "  first_name last_name  age city\n0         주환         최   36   분당\n1         현수         김   39   서울\n2         병헌         민   38   경주\n3         용찬         이   38   대구\n4         승환         오   42   천안",
      "text/html": "<div>\n<style scoped>\n    .dataframe tbody tr th:only-of-type {\n        vertical-align: middle;\n    }\n\n    .dataframe tbody tr th {\n        vertical-align: top;\n    }\n\n    .dataframe thead th {\n        text-align: right;\n    }\n</style>\n<table border=\"1\" class=\"dataframe\">\n  <thead>\n    <tr style=\"text-align: right;\">\n      <th></th>\n      <th>first_name</th>\n      <th>last_name</th>\n      <th>age</th>\n      <th>city</th>\n    </tr>\n  </thead>\n  <tbody>\n    <tr>\n      <th>0</th>\n      <td>주환</td>\n      <td>최</td>\n      <td>36</td>\n      <td>분당</td>\n    </tr>\n    <tr>\n      <th>1</th>\n      <td>현수</td>\n      <td>김</td>\n      <td>39</td>\n      <td>서울</td>\n    </tr>\n    <tr>\n      <th>2</th>\n      <td>병헌</td>\n      <td>민</td>\n      <td>38</td>\n      <td>경주</td>\n    </tr>\n    <tr>\n      <th>3</th>\n      <td>용찬</td>\n      <td>이</td>\n      <td>38</td>\n      <td>대구</td>\n    </tr>\n    <tr>\n      <th>4</th>\n      <td>승환</td>\n      <td>오</td>\n      <td>42</td>\n      <td>천안</td>\n    </tr>\n  </tbody>\n</table>\n</div>"
     },
     "execution_count": 1,
     "metadata": {},
     "output_type": "execute_result"
    }
   ],
   "source": [
    "import pandas as pd\n",
    "\n",
    "raw_data = {\n",
    "      'first_name': ['주환', '현수', '병헌', '용찬', '승환'],\n",
    "      'last_name': ['최', '김', '민', '이', '오'],\n",
    "      'age': [36, 39, 38, 38, 42],\n",
    "      'city': ['분당', '서울', '경주', '대구', '천안']\n",
    "    }\n",
    "\n",
    "df = pd.DataFrame(raw_data, columns = ['first_name', 'last_name', 'age', 'city'])\n",
    "df"
   ]
  },
  {
   "cell_type": "code",
   "execution_count": 2,
   "outputs": [
    {
     "data": {
      "text/plain": "  first_name last_name  age city\n0         주환         최   36   분당\n1         현수         김   39   서울",
      "text/html": "<div>\n<style scoped>\n    .dataframe tbody tr th:only-of-type {\n        vertical-align: middle;\n    }\n\n    .dataframe tbody tr th {\n        vertical-align: top;\n    }\n\n    .dataframe thead th {\n        text-align: right;\n    }\n</style>\n<table border=\"1\" class=\"dataframe\">\n  <thead>\n    <tr style=\"text-align: right;\">\n      <th></th>\n      <th>first_name</th>\n      <th>last_name</th>\n      <th>age</th>\n      <th>city</th>\n    </tr>\n  </thead>\n  <tbody>\n    <tr>\n      <th>0</th>\n      <td>주환</td>\n      <td>최</td>\n      <td>36</td>\n      <td>분당</td>\n    </tr>\n    <tr>\n      <th>1</th>\n      <td>현수</td>\n      <td>김</td>\n      <td>39</td>\n      <td>서울</td>\n    </tr>\n  </tbody>\n</table>\n</div>"
     },
     "execution_count": 2,
     "metadata": {},
     "output_type": "execute_result"
    }
   ],
   "source": [
    "df.head(2)      # 데이터프레임 상단의 두개의 데이터 확인"
   ],
   "metadata": {
    "collapsed": false,
    "ExecuteTime": {
     "end_time": "2023-10-05T06:53:08.295053Z",
     "start_time": "2023-10-05T06:53:08.273921Z"
    }
   },
   "id": "20b69b5d09e7a78e"
  },
  {
   "cell_type": "markdown",
   "source": [
    "### 엑셀파일 읽기, 데이터 전치하기\n",
    "* read_excel()\n",
    "* .T"
   ],
   "metadata": {
    "collapsed": false
   },
   "id": "8017fbd4deb3e98"
  },
  {
   "cell_type": "code",
   "execution_count": 4,
   "outputs": [
    {
     "data": {
      "text/plain": "    account                              name  \\\n0    211829        Kerluke, Koepp and Hilpert   \n1    320563                    Walter-Trantow   \n2    648336        Bashirian, Kunde and Price   \n3    109996       D'Amore, Gleichner and Bode   \n4    121213                     Bauch-Goldner   \n5    132971  Williamson, Schumm and Hettinger   \n6    145068                        Casper LLC   \n7    205217                  Kovacek-Johnston   \n8    209744                    Champlin-Morar   \n9    212303                    Gerhold-Maggio   \n10   214098       Goodwin, Homenick and Jerde   \n11   231907                        Hahn-Moore   \n12   242368      Frami, Anderson and Donnelly   \n13   268755                       Walsh-Haley   \n14   273274                     McDermott PLC   \n\n                                  street               city          state  \\\n0                     34456 Sean Highway         New Jaycob          Texas   \n1                      1311 Alvis Tunnel      Port Khadijah  NorthCarolina   \n2   62184 Schamberger Underpass Apt. 231     New Lilianland           Iowa   \n3            155 Fadel Crescent Apt. 144         Hyattburgh          Maine   \n4                    7274 Marissa Common    Shanahanchester     California   \n5                   89403 Casimer Spring       Jeremieburgh       Arkansas   \n6           340 Consuela Bridge Apt. 400  Lake Gabriellaton     Mississipi   \n7           91971 Cronin Vista Suite 601         Deronville    RhodeIsland   \n8                       26739 Grant Lock    Lake Juliannton   Pennsylvania   \n9              366 Maggio Grove Apt. 998          North Ras          Idaho   \n10             649 Cierra Forks Apt. 078           Rosaberg       Tenessee   \n11              18115 Olivine Throughway      Norbertomouth    NorthDakota   \n12                       182 Bertie Road        East Davian           Iowa   \n13                  2624 Beatty Parkways       Goodwinmouth    RhodeIsland   \n14                 8917 Bergstrom Meadow    Kathryneborough       Delaware   \n\n    postal-code     Jan     Feb     Mar  \n0         28752   10000   62000   35000  \n1         38365   95000   45000   35000  \n2         76517   91000  120000   35000  \n3         46021   45000  120000   10000  \n4         49681  162000  120000   35000  \n5         62785  150000  120000   35000  \n6         18008   62000  120000   70000  \n7         53461  145000   95000   35000  \n8         64415   70000   95000   35000  \n9         46308   70000  120000   35000  \n10        47743   45000  120000   55000  \n11        31415  150000   10000  162000  \n12        72686  162000  120000   35000  \n13        31919   55000  120000   35000  \n14        27933  150000  120000   70000  ",
      "text/html": "<div>\n<style scoped>\n    .dataframe tbody tr th:only-of-type {\n        vertical-align: middle;\n    }\n\n    .dataframe tbody tr th {\n        vertical-align: top;\n    }\n\n    .dataframe thead th {\n        text-align: right;\n    }\n</style>\n<table border=\"1\" class=\"dataframe\">\n  <thead>\n    <tr style=\"text-align: right;\">\n      <th></th>\n      <th>account</th>\n      <th>name</th>\n      <th>street</th>\n      <th>city</th>\n      <th>state</th>\n      <th>postal-code</th>\n      <th>Jan</th>\n      <th>Feb</th>\n      <th>Mar</th>\n    </tr>\n  </thead>\n  <tbody>\n    <tr>\n      <th>0</th>\n      <td>211829</td>\n      <td>Kerluke, Koepp and Hilpert</td>\n      <td>34456 Sean Highway</td>\n      <td>New Jaycob</td>\n      <td>Texas</td>\n      <td>28752</td>\n      <td>10000</td>\n      <td>62000</td>\n      <td>35000</td>\n    </tr>\n    <tr>\n      <th>1</th>\n      <td>320563</td>\n      <td>Walter-Trantow</td>\n      <td>1311 Alvis Tunnel</td>\n      <td>Port Khadijah</td>\n      <td>NorthCarolina</td>\n      <td>38365</td>\n      <td>95000</td>\n      <td>45000</td>\n      <td>35000</td>\n    </tr>\n    <tr>\n      <th>2</th>\n      <td>648336</td>\n      <td>Bashirian, Kunde and Price</td>\n      <td>62184 Schamberger Underpass Apt. 231</td>\n      <td>New Lilianland</td>\n      <td>Iowa</td>\n      <td>76517</td>\n      <td>91000</td>\n      <td>120000</td>\n      <td>35000</td>\n    </tr>\n    <tr>\n      <th>3</th>\n      <td>109996</td>\n      <td>D'Amore, Gleichner and Bode</td>\n      <td>155 Fadel Crescent Apt. 144</td>\n      <td>Hyattburgh</td>\n      <td>Maine</td>\n      <td>46021</td>\n      <td>45000</td>\n      <td>120000</td>\n      <td>10000</td>\n    </tr>\n    <tr>\n      <th>4</th>\n      <td>121213</td>\n      <td>Bauch-Goldner</td>\n      <td>7274 Marissa Common</td>\n      <td>Shanahanchester</td>\n      <td>California</td>\n      <td>49681</td>\n      <td>162000</td>\n      <td>120000</td>\n      <td>35000</td>\n    </tr>\n    <tr>\n      <th>5</th>\n      <td>132971</td>\n      <td>Williamson, Schumm and Hettinger</td>\n      <td>89403 Casimer Spring</td>\n      <td>Jeremieburgh</td>\n      <td>Arkansas</td>\n      <td>62785</td>\n      <td>150000</td>\n      <td>120000</td>\n      <td>35000</td>\n    </tr>\n    <tr>\n      <th>6</th>\n      <td>145068</td>\n      <td>Casper LLC</td>\n      <td>340 Consuela Bridge Apt. 400</td>\n      <td>Lake Gabriellaton</td>\n      <td>Mississipi</td>\n      <td>18008</td>\n      <td>62000</td>\n      <td>120000</td>\n      <td>70000</td>\n    </tr>\n    <tr>\n      <th>7</th>\n      <td>205217</td>\n      <td>Kovacek-Johnston</td>\n      <td>91971 Cronin Vista Suite 601</td>\n      <td>Deronville</td>\n      <td>RhodeIsland</td>\n      <td>53461</td>\n      <td>145000</td>\n      <td>95000</td>\n      <td>35000</td>\n    </tr>\n    <tr>\n      <th>8</th>\n      <td>209744</td>\n      <td>Champlin-Morar</td>\n      <td>26739 Grant Lock</td>\n      <td>Lake Juliannton</td>\n      <td>Pennsylvania</td>\n      <td>64415</td>\n      <td>70000</td>\n      <td>95000</td>\n      <td>35000</td>\n    </tr>\n    <tr>\n      <th>9</th>\n      <td>212303</td>\n      <td>Gerhold-Maggio</td>\n      <td>366 Maggio Grove Apt. 998</td>\n      <td>North Ras</td>\n      <td>Idaho</td>\n      <td>46308</td>\n      <td>70000</td>\n      <td>120000</td>\n      <td>35000</td>\n    </tr>\n    <tr>\n      <th>10</th>\n      <td>214098</td>\n      <td>Goodwin, Homenick and Jerde</td>\n      <td>649 Cierra Forks Apt. 078</td>\n      <td>Rosaberg</td>\n      <td>Tenessee</td>\n      <td>47743</td>\n      <td>45000</td>\n      <td>120000</td>\n      <td>55000</td>\n    </tr>\n    <tr>\n      <th>11</th>\n      <td>231907</td>\n      <td>Hahn-Moore</td>\n      <td>18115 Olivine Throughway</td>\n      <td>Norbertomouth</td>\n      <td>NorthDakota</td>\n      <td>31415</td>\n      <td>150000</td>\n      <td>10000</td>\n      <td>162000</td>\n    </tr>\n    <tr>\n      <th>12</th>\n      <td>242368</td>\n      <td>Frami, Anderson and Donnelly</td>\n      <td>182 Bertie Road</td>\n      <td>East Davian</td>\n      <td>Iowa</td>\n      <td>72686</td>\n      <td>162000</td>\n      <td>120000</td>\n      <td>35000</td>\n    </tr>\n    <tr>\n      <th>13</th>\n      <td>268755</td>\n      <td>Walsh-Haley</td>\n      <td>2624 Beatty Parkways</td>\n      <td>Goodwinmouth</td>\n      <td>RhodeIsland</td>\n      <td>31919</td>\n      <td>55000</td>\n      <td>120000</td>\n      <td>35000</td>\n    </tr>\n    <tr>\n      <th>14</th>\n      <td>273274</td>\n      <td>McDermott PLC</td>\n      <td>8917 Bergstrom Meadow</td>\n      <td>Kathryneborough</td>\n      <td>Delaware</td>\n      <td>27933</td>\n      <td>150000</td>\n      <td>120000</td>\n      <td>70000</td>\n    </tr>\n  </tbody>\n</table>\n</div>"
     },
     "execution_count": 4,
     "metadata": {},
     "output_type": "execute_result"
    }
   ],
   "source": [
    "# 데이터 불러오기 \n",
    "df = pd.read_excel(\"excel-comp-data.xlsx\") # excel 데이터 로드\n",
    "df"
   ],
   "metadata": {
    "collapsed": false,
    "ExecuteTime": {
     "end_time": "2023-10-05T06:54:38.264897Z",
     "start_time": "2023-10-05T06:54:38.229781Z"
    }
   },
   "id": "56ff497670c54620"
  },
  {
   "cell_type": "code",
   "execution_count": 5,
   "outputs": [
    {
     "data": {
      "text/plain": "                                      10                        11  \\\naccount                           214098                    231907   \nname         Goodwin, Homenick and Jerde                Hahn-Moore   \nstreet         649 Cierra Forks Apt. 078  18115 Olivine Throughway   \ncity                            Rosaberg             Norbertomouth   \nstate                           Tenessee               NorthDakota   \npostal-code                        47743                     31415   \nJan                                45000                    150000   \nFeb                               120000                     10000   \nMar                                55000                    162000   \n\n                                       12                    13  \\\naccount                            242368                268755   \nname         Frami, Anderson and Donnelly           Walsh-Haley   \nstreet                    182 Bertie Road  2624 Beatty Parkways   \ncity                          East Davian          Goodwinmouth   \nstate                                Iowa           RhodeIsland   \npostal-code                         72686                 31919   \nJan                                162000                 55000   \nFeb                                120000                120000   \nMar                                 35000                 35000   \n\n                                14  \naccount                     273274  \nname                 McDermott PLC  \nstreet       8917 Bergstrom Meadow  \ncity               Kathryneborough  \nstate                     Delaware  \npostal-code                  27933  \nJan                         150000  \nFeb                         120000  \nMar                          70000  ",
      "text/html": "<div>\n<style scoped>\n    .dataframe tbody tr th:only-of-type {\n        vertical-align: middle;\n    }\n\n    .dataframe tbody tr th {\n        vertical-align: top;\n    }\n\n    .dataframe thead th {\n        text-align: right;\n    }\n</style>\n<table border=\"1\" class=\"dataframe\">\n  <thead>\n    <tr style=\"text-align: right;\">\n      <th></th>\n      <th>10</th>\n      <th>11</th>\n      <th>12</th>\n      <th>13</th>\n      <th>14</th>\n    </tr>\n  </thead>\n  <tbody>\n    <tr>\n      <th>account</th>\n      <td>214098</td>\n      <td>231907</td>\n      <td>242368</td>\n      <td>268755</td>\n      <td>273274</td>\n    </tr>\n    <tr>\n      <th>name</th>\n      <td>Goodwin, Homenick and Jerde</td>\n      <td>Hahn-Moore</td>\n      <td>Frami, Anderson and Donnelly</td>\n      <td>Walsh-Haley</td>\n      <td>McDermott PLC</td>\n    </tr>\n    <tr>\n      <th>street</th>\n      <td>649 Cierra Forks Apt. 078</td>\n      <td>18115 Olivine Throughway</td>\n      <td>182 Bertie Road</td>\n      <td>2624 Beatty Parkways</td>\n      <td>8917 Bergstrom Meadow</td>\n    </tr>\n    <tr>\n      <th>city</th>\n      <td>Rosaberg</td>\n      <td>Norbertomouth</td>\n      <td>East Davian</td>\n      <td>Goodwinmouth</td>\n      <td>Kathryneborough</td>\n    </tr>\n    <tr>\n      <th>state</th>\n      <td>Tenessee</td>\n      <td>NorthDakota</td>\n      <td>Iowa</td>\n      <td>RhodeIsland</td>\n      <td>Delaware</td>\n    </tr>\n    <tr>\n      <th>postal-code</th>\n      <td>47743</td>\n      <td>31415</td>\n      <td>72686</td>\n      <td>31919</td>\n      <td>27933</td>\n    </tr>\n    <tr>\n      <th>Jan</th>\n      <td>45000</td>\n      <td>150000</td>\n      <td>162000</td>\n      <td>55000</td>\n      <td>150000</td>\n    </tr>\n    <tr>\n      <th>Feb</th>\n      <td>120000</td>\n      <td>10000</td>\n      <td>120000</td>\n      <td>120000</td>\n      <td>120000</td>\n    </tr>\n    <tr>\n      <th>Mar</th>\n      <td>55000</td>\n      <td>162000</td>\n      <td>35000</td>\n      <td>35000</td>\n      <td>70000</td>\n    </tr>\n  </tbody>\n</table>\n</div>"
     },
     "execution_count": 5,
     "metadata": {},
     "output_type": "execute_result"
    }
   ],
   "source": [
    "df.tail().T"
   ],
   "metadata": {
    "collapsed": false,
    "ExecuteTime": {
     "end_time": "2023-10-05T06:54:45.608072Z",
     "start_time": "2023-10-05T06:54:45.588881Z"
    }
   },
   "id": "bc5a92a48e7d0d79"
  },
  {
   "cell_type": "markdown",
   "source": [
    "### 데이터 추출\n",
    "* loc()\n",
    "* iloc()"
   ],
   "metadata": {
    "collapsed": false
   },
   "id": "1cc97de1a61966f5"
  },
  {
   "cell_type": "code",
   "execution_count": 6,
   "outputs": [
    {
     "data": {
      "text/plain": "   account             city\n1   320563    Port Khadijah\n3   109996       Hyattburgh\n4   121213  Shanahanchester",
      "text/html": "<div>\n<style scoped>\n    .dataframe tbody tr th:only-of-type {\n        vertical-align: middle;\n    }\n\n    .dataframe tbody tr th {\n        vertical-align: top;\n    }\n\n    .dataframe thead th {\n        text-align: right;\n    }\n</style>\n<table border=\"1\" class=\"dataframe\">\n  <thead>\n    <tr style=\"text-align: right;\">\n      <th></th>\n      <th>account</th>\n      <th>city</th>\n    </tr>\n  </thead>\n  <tbody>\n    <tr>\n      <th>1</th>\n      <td>320563</td>\n      <td>Port Khadijah</td>\n    </tr>\n    <tr>\n      <th>3</th>\n      <td>109996</td>\n      <td>Hyattburgh</td>\n    </tr>\n    <tr>\n      <th>4</th>\n      <td>121213</td>\n      <td>Shanahanchester</td>\n    </tr>\n  </tbody>\n</table>\n</div>"
     },
     "execution_count": 6,
     "metadata": {},
     "output_type": "execute_result"
    }
   ],
   "source": [
    "# loc함수: index이름과 열 이름으로 데이터 추출\n",
    "# 1, 3, 4번쨰 인덱스의 account, city column을 추출\n",
    "df.loc[[1, 3, 4], [\"account\", \"city\"]]"
   ],
   "metadata": {
    "collapsed": false,
    "ExecuteTime": {
     "end_time": "2023-10-05T06:55:29.759760Z",
     "start_time": "2023-10-05T06:55:29.737027Z"
    }
   },
   "id": "44160c120a1533eb"
  },
  {
   "cell_type": "code",
   "execution_count": 7,
   "outputs": [
    {
     "data": {
      "text/plain": "                               name                                street  \\\n0        Kerluke, Koepp and Hilpert                    34456 Sean Highway   \n1                    Walter-Trantow                     1311 Alvis Tunnel   \n2        Bashirian, Kunde and Price  62184 Schamberger Underpass Apt. 231   \n3       D'Amore, Gleichner and Bode           155 Fadel Crescent Apt. 144   \n4                     Bauch-Goldner                   7274 Marissa Common   \n5  Williamson, Schumm and Hettinger                  89403 Casimer Spring   \n6                        Casper LLC          340 Consuela Bridge Apt. 400   \n\n                city  \n0         New Jaycob  \n1      Port Khadijah  \n2     New Lilianland  \n3         Hyattburgh  \n4    Shanahanchester  \n5       Jeremieburgh  \n6  Lake Gabriellaton  ",
      "text/html": "<div>\n<style scoped>\n    .dataframe tbody tr th:only-of-type {\n        vertical-align: middle;\n    }\n\n    .dataframe tbody tr th {\n        vertical-align: top;\n    }\n\n    .dataframe thead th {\n        text-align: right;\n    }\n</style>\n<table border=\"1\" class=\"dataframe\">\n  <thead>\n    <tr style=\"text-align: right;\">\n      <th></th>\n      <th>name</th>\n      <th>street</th>\n      <th>city</th>\n    </tr>\n  </thead>\n  <tbody>\n    <tr>\n      <th>0</th>\n      <td>Kerluke, Koepp and Hilpert</td>\n      <td>34456 Sean Highway</td>\n      <td>New Jaycob</td>\n    </tr>\n    <tr>\n      <th>1</th>\n      <td>Walter-Trantow</td>\n      <td>1311 Alvis Tunnel</td>\n      <td>Port Khadijah</td>\n    </tr>\n    <tr>\n      <th>2</th>\n      <td>Bashirian, Kunde and Price</td>\n      <td>62184 Schamberger Underpass Apt. 231</td>\n      <td>New Lilianland</td>\n    </tr>\n    <tr>\n      <th>3</th>\n      <td>D'Amore, Gleichner and Bode</td>\n      <td>155 Fadel Crescent Apt. 144</td>\n      <td>Hyattburgh</td>\n    </tr>\n    <tr>\n      <th>4</th>\n      <td>Bauch-Goldner</td>\n      <td>7274 Marissa Common</td>\n      <td>Shanahanchester</td>\n    </tr>\n    <tr>\n      <th>5</th>\n      <td>Williamson, Schumm and Hettinger</td>\n      <td>89403 Casimer Spring</td>\n      <td>Jeremieburgh</td>\n    </tr>\n    <tr>\n      <th>6</th>\n      <td>Casper LLC</td>\n      <td>340 Consuela Bridge Apt. 400</td>\n      <td>Lake Gabriellaton</td>\n    </tr>\n  </tbody>\n</table>\n</div>"
     },
     "execution_count": 7,
     "metadata": {},
     "output_type": "execute_result"
    }
   ],
   "source": [
    "# iloc함수: index위치로 호출\n",
    "# 행 방향으로 0~6번째 인덱스, 열 기준으로 1~3번쨰 인덱스까지 출력\n",
    "df_test = df.iloc[:7, 1:4]\n",
    "df_test"
   ],
   "metadata": {
    "collapsed": false,
    "ExecuteTime": {
     "end_time": "2023-10-05T06:56:12.378617Z",
     "start_time": "2023-10-05T06:56:12.348823Z"
    }
   },
   "id": "d69ed20a2171b3e6"
  },
  {
   "cell_type": "markdown",
   "source": [
    "### 열 삭제하기\n",
    "* del"
   ],
   "metadata": {
    "collapsed": false
   },
   "id": "6edd43d8f6776026"
  },
  {
   "cell_type": "code",
   "execution_count": 8,
   "outputs": [
    {
     "data": {
      "text/plain": "   account                         name                                street  \\\n0   211829   Kerluke, Koepp and Hilpert                    34456 Sean Highway   \n1   320563               Walter-Trantow                     1311 Alvis Tunnel   \n2   648336   Bashirian, Kunde and Price  62184 Schamberger Underpass Apt. 231   \n3   109996  D'Amore, Gleichner and Bode           155 Fadel Crescent Apt. 144   \n4   121213                Bauch-Goldner                   7274 Marissa Common   \n\n           state  postal-code     Jan     Feb    Mar  \n0          Texas        28752   10000   62000  35000  \n1  NorthCarolina        38365   95000   45000  35000  \n2           Iowa        76517   91000  120000  35000  \n3          Maine        46021   45000  120000  10000  \n4     California        49681  162000  120000  35000  ",
      "text/html": "<div>\n<style scoped>\n    .dataframe tbody tr th:only-of-type {\n        vertical-align: middle;\n    }\n\n    .dataframe tbody tr th {\n        vertical-align: top;\n    }\n\n    .dataframe thead th {\n        text-align: right;\n    }\n</style>\n<table border=\"1\" class=\"dataframe\">\n  <thead>\n    <tr style=\"text-align: right;\">\n      <th></th>\n      <th>account</th>\n      <th>name</th>\n      <th>street</th>\n      <th>state</th>\n      <th>postal-code</th>\n      <th>Jan</th>\n      <th>Feb</th>\n      <th>Mar</th>\n    </tr>\n  </thead>\n  <tbody>\n    <tr>\n      <th>0</th>\n      <td>211829</td>\n      <td>Kerluke, Koepp and Hilpert</td>\n      <td>34456 Sean Highway</td>\n      <td>Texas</td>\n      <td>28752</td>\n      <td>10000</td>\n      <td>62000</td>\n      <td>35000</td>\n    </tr>\n    <tr>\n      <th>1</th>\n      <td>320563</td>\n      <td>Walter-Trantow</td>\n      <td>1311 Alvis Tunnel</td>\n      <td>NorthCarolina</td>\n      <td>38365</td>\n      <td>95000</td>\n      <td>45000</td>\n      <td>35000</td>\n    </tr>\n    <tr>\n      <th>2</th>\n      <td>648336</td>\n      <td>Bashirian, Kunde and Price</td>\n      <td>62184 Schamberger Underpass Apt. 231</td>\n      <td>Iowa</td>\n      <td>76517</td>\n      <td>91000</td>\n      <td>120000</td>\n      <td>35000</td>\n    </tr>\n    <tr>\n      <th>3</th>\n      <td>109996</td>\n      <td>D'Amore, Gleichner and Bode</td>\n      <td>155 Fadel Crescent Apt. 144</td>\n      <td>Maine</td>\n      <td>46021</td>\n      <td>45000</td>\n      <td>120000</td>\n      <td>10000</td>\n    </tr>\n    <tr>\n      <th>4</th>\n      <td>121213</td>\n      <td>Bauch-Goldner</td>\n      <td>7274 Marissa Common</td>\n      <td>California</td>\n      <td>49681</td>\n      <td>162000</td>\n      <td>120000</td>\n      <td>35000</td>\n    </tr>\n  </tbody>\n</table>\n</div>"
     },
     "execution_count": 8,
     "metadata": {},
     "output_type": "execute_result"
    }
   ],
   "source": [
    "# del함수: 원하는 열 하나 삭제\n",
    "# 'city' 칼럼 삭제\n",
    "del df[\"city\"]\n",
    "df.head()"
   ],
   "metadata": {
    "collapsed": false,
    "ExecuteTime": {
     "end_time": "2023-10-05T06:57:01.723649Z",
     "start_time": "2023-10-05T06:57:01.700066Z"
    }
   },
   "id": "8808a2b85591844d"
  },
  {
   "cell_type": "markdown",
   "source": [
    "### 인덱스로 데이터 추출하기, 정렬\n",
    "* index\n",
    "* sort_index()"
   ],
   "metadata": {
    "collapsed": false
   },
   "id": "f98b2dc55a056d82"
  },
  {
   "cell_type": "code",
   "execution_count": 10,
   "outputs": [
    {
     "data": {
      "text/plain": "         account                              name  \\\naccount                                              \n211829    211829        Kerluke, Koepp and Hilpert   \n320563    320563                    Walter-Trantow   \n648336    648336        Bashirian, Kunde and Price   \n109996    109996       D'Amore, Gleichner and Bode   \n121213    121213                     Bauch-Goldner   \n132971    132971  Williamson, Schumm and Hettinger   \n145068    145068                        Casper LLC   \n205217    205217                  Kovacek-Johnston   \n209744    209744                    Champlin-Morar   \n212303    212303                    Gerhold-Maggio   \n214098    214098       Goodwin, Homenick and Jerde   \n231907    231907                        Hahn-Moore   \n242368    242368      Frami, Anderson and Donnelly   \n268755    268755                       Walsh-Haley   \n273274    273274                     McDermott PLC   \n\n                                       street          state  postal-code  \\\naccount                                                                     \n211829                     34456 Sean Highway          Texas        28752   \n320563                      1311 Alvis Tunnel  NorthCarolina        38365   \n648336   62184 Schamberger Underpass Apt. 231           Iowa        76517   \n109996            155 Fadel Crescent Apt. 144          Maine        46021   \n121213                    7274 Marissa Common     California        49681   \n132971                   89403 Casimer Spring       Arkansas        62785   \n145068           340 Consuela Bridge Apt. 400     Mississipi        18008   \n205217           91971 Cronin Vista Suite 601    RhodeIsland        53461   \n209744                       26739 Grant Lock   Pennsylvania        64415   \n212303              366 Maggio Grove Apt. 998          Idaho        46308   \n214098              649 Cierra Forks Apt. 078       Tenessee        47743   \n231907               18115 Olivine Throughway    NorthDakota        31415   \n242368                        182 Bertie Road           Iowa        72686   \n268755                   2624 Beatty Parkways    RhodeIsland        31919   \n273274                  8917 Bergstrom Meadow       Delaware        27933   \n\n            Jan     Feb     Mar  \naccount                          \n211829    10000   62000   35000  \n320563    95000   45000   35000  \n648336    91000  120000   35000  \n109996    45000  120000   10000  \n121213   162000  120000   35000  \n132971   150000  120000   35000  \n145068    62000  120000   70000  \n205217   145000   95000   35000  \n209744    70000   95000   35000  \n212303    70000  120000   35000  \n214098    45000  120000   55000  \n231907   150000   10000  162000  \n242368   162000  120000   35000  \n268755    55000  120000   35000  \n273274   150000  120000   70000  ",
      "text/html": "<div>\n<style scoped>\n    .dataframe tbody tr th:only-of-type {\n        vertical-align: middle;\n    }\n\n    .dataframe tbody tr th {\n        vertical-align: top;\n    }\n\n    .dataframe thead th {\n        text-align: right;\n    }\n</style>\n<table border=\"1\" class=\"dataframe\">\n  <thead>\n    <tr style=\"text-align: right;\">\n      <th></th>\n      <th>account</th>\n      <th>name</th>\n      <th>street</th>\n      <th>state</th>\n      <th>postal-code</th>\n      <th>Jan</th>\n      <th>Feb</th>\n      <th>Mar</th>\n    </tr>\n    <tr>\n      <th>account</th>\n      <th></th>\n      <th></th>\n      <th></th>\n      <th></th>\n      <th></th>\n      <th></th>\n      <th></th>\n      <th></th>\n    </tr>\n  </thead>\n  <tbody>\n    <tr>\n      <th>211829</th>\n      <td>211829</td>\n      <td>Kerluke, Koepp and Hilpert</td>\n      <td>34456 Sean Highway</td>\n      <td>Texas</td>\n      <td>28752</td>\n      <td>10000</td>\n      <td>62000</td>\n      <td>35000</td>\n    </tr>\n    <tr>\n      <th>320563</th>\n      <td>320563</td>\n      <td>Walter-Trantow</td>\n      <td>1311 Alvis Tunnel</td>\n      <td>NorthCarolina</td>\n      <td>38365</td>\n      <td>95000</td>\n      <td>45000</td>\n      <td>35000</td>\n    </tr>\n    <tr>\n      <th>648336</th>\n      <td>648336</td>\n      <td>Bashirian, Kunde and Price</td>\n      <td>62184 Schamberger Underpass Apt. 231</td>\n      <td>Iowa</td>\n      <td>76517</td>\n      <td>91000</td>\n      <td>120000</td>\n      <td>35000</td>\n    </tr>\n    <tr>\n      <th>109996</th>\n      <td>109996</td>\n      <td>D'Amore, Gleichner and Bode</td>\n      <td>155 Fadel Crescent Apt. 144</td>\n      <td>Maine</td>\n      <td>46021</td>\n      <td>45000</td>\n      <td>120000</td>\n      <td>10000</td>\n    </tr>\n    <tr>\n      <th>121213</th>\n      <td>121213</td>\n      <td>Bauch-Goldner</td>\n      <td>7274 Marissa Common</td>\n      <td>California</td>\n      <td>49681</td>\n      <td>162000</td>\n      <td>120000</td>\n      <td>35000</td>\n    </tr>\n    <tr>\n      <th>132971</th>\n      <td>132971</td>\n      <td>Williamson, Schumm and Hettinger</td>\n      <td>89403 Casimer Spring</td>\n      <td>Arkansas</td>\n      <td>62785</td>\n      <td>150000</td>\n      <td>120000</td>\n      <td>35000</td>\n    </tr>\n    <tr>\n      <th>145068</th>\n      <td>145068</td>\n      <td>Casper LLC</td>\n      <td>340 Consuela Bridge Apt. 400</td>\n      <td>Mississipi</td>\n      <td>18008</td>\n      <td>62000</td>\n      <td>120000</td>\n      <td>70000</td>\n    </tr>\n    <tr>\n      <th>205217</th>\n      <td>205217</td>\n      <td>Kovacek-Johnston</td>\n      <td>91971 Cronin Vista Suite 601</td>\n      <td>RhodeIsland</td>\n      <td>53461</td>\n      <td>145000</td>\n      <td>95000</td>\n      <td>35000</td>\n    </tr>\n    <tr>\n      <th>209744</th>\n      <td>209744</td>\n      <td>Champlin-Morar</td>\n      <td>26739 Grant Lock</td>\n      <td>Pennsylvania</td>\n      <td>64415</td>\n      <td>70000</td>\n      <td>95000</td>\n      <td>35000</td>\n    </tr>\n    <tr>\n      <th>212303</th>\n      <td>212303</td>\n      <td>Gerhold-Maggio</td>\n      <td>366 Maggio Grove Apt. 998</td>\n      <td>Idaho</td>\n      <td>46308</td>\n      <td>70000</td>\n      <td>120000</td>\n      <td>35000</td>\n    </tr>\n    <tr>\n      <th>214098</th>\n      <td>214098</td>\n      <td>Goodwin, Homenick and Jerde</td>\n      <td>649 Cierra Forks Apt. 078</td>\n      <td>Tenessee</td>\n      <td>47743</td>\n      <td>45000</td>\n      <td>120000</td>\n      <td>55000</td>\n    </tr>\n    <tr>\n      <th>231907</th>\n      <td>231907</td>\n      <td>Hahn-Moore</td>\n      <td>18115 Olivine Throughway</td>\n      <td>NorthDakota</td>\n      <td>31415</td>\n      <td>150000</td>\n      <td>10000</td>\n      <td>162000</td>\n    </tr>\n    <tr>\n      <th>242368</th>\n      <td>242368</td>\n      <td>Frami, Anderson and Donnelly</td>\n      <td>182 Bertie Road</td>\n      <td>Iowa</td>\n      <td>72686</td>\n      <td>162000</td>\n      <td>120000</td>\n      <td>35000</td>\n    </tr>\n    <tr>\n      <th>268755</th>\n      <td>268755</td>\n      <td>Walsh-Haley</td>\n      <td>2624 Beatty Parkways</td>\n      <td>RhodeIsland</td>\n      <td>31919</td>\n      <td>55000</td>\n      <td>120000</td>\n      <td>35000</td>\n    </tr>\n    <tr>\n      <th>273274</th>\n      <td>273274</td>\n      <td>McDermott PLC</td>\n      <td>8917 Bergstrom Meadow</td>\n      <td>Delaware</td>\n      <td>27933</td>\n      <td>150000</td>\n      <td>120000</td>\n      <td>70000</td>\n    </tr>\n  </tbody>\n</table>\n</div>"
     },
     "execution_count": 10,
     "metadata": {},
     "output_type": "execute_result"
    }
   ],
   "source": [
    "# index함수: 인덱스의 값을 우리가 원하는 값으로 변경\n",
    "# 해당 데이터의 인덱스의 값을 account로 변환시킴\n",
    "df.index = df[\"account\"]\n",
    "df"
   ],
   "metadata": {
    "collapsed": false,
    "ExecuteTime": {
     "end_time": "2023-10-05T06:58:44.790531Z",
     "start_time": "2023-10-05T06:58:44.780095Z"
    }
   },
   "id": "ee0e1f940f94acad"
  },
  {
   "cell_type": "code",
   "execution_count": 11,
   "outputs": [
    {
     "data": {
      "text/plain": "         account                              name  \\\naccount                                              \n109996    109996       D'Amore, Gleichner and Bode   \n121213    121213                     Bauch-Goldner   \n132971    132971  Williamson, Schumm and Hettinger   \n145068    145068                        Casper LLC   \n205217    205217                  Kovacek-Johnston   \n209744    209744                    Champlin-Morar   \n211829    211829        Kerluke, Koepp and Hilpert   \n212303    212303                    Gerhold-Maggio   \n214098    214098       Goodwin, Homenick and Jerde   \n231907    231907                        Hahn-Moore   \n242368    242368      Frami, Anderson and Donnelly   \n268755    268755                       Walsh-Haley   \n273274    273274                     McDermott PLC   \n320563    320563                    Walter-Trantow   \n648336    648336        Bashirian, Kunde and Price   \n\n                                       street          state  postal-code  \\\naccount                                                                     \n109996            155 Fadel Crescent Apt. 144          Maine        46021   \n121213                    7274 Marissa Common     California        49681   \n132971                   89403 Casimer Spring       Arkansas        62785   \n145068           340 Consuela Bridge Apt. 400     Mississipi        18008   \n205217           91971 Cronin Vista Suite 601    RhodeIsland        53461   \n209744                       26739 Grant Lock   Pennsylvania        64415   \n211829                     34456 Sean Highway          Texas        28752   \n212303              366 Maggio Grove Apt. 998          Idaho        46308   \n214098              649 Cierra Forks Apt. 078       Tenessee        47743   \n231907               18115 Olivine Throughway    NorthDakota        31415   \n242368                        182 Bertie Road           Iowa        72686   \n268755                   2624 Beatty Parkways    RhodeIsland        31919   \n273274                  8917 Bergstrom Meadow       Delaware        27933   \n320563                      1311 Alvis Tunnel  NorthCarolina        38365   \n648336   62184 Schamberger Underpass Apt. 231           Iowa        76517   \n\n            Jan     Feb     Mar  \naccount                          \n109996    45000  120000   10000  \n121213   162000  120000   35000  \n132971   150000  120000   35000  \n145068    62000  120000   70000  \n205217   145000   95000   35000  \n209744    70000   95000   35000  \n211829    10000   62000   35000  \n212303    70000  120000   35000  \n214098    45000  120000   55000  \n231907   150000   10000  162000  \n242368   162000  120000   35000  \n268755    55000  120000   35000  \n273274   150000  120000   70000  \n320563    95000   45000   35000  \n648336    91000  120000   35000  ",
      "text/html": "<div>\n<style scoped>\n    .dataframe tbody tr th:only-of-type {\n        vertical-align: middle;\n    }\n\n    .dataframe tbody tr th {\n        vertical-align: top;\n    }\n\n    .dataframe thead th {\n        text-align: right;\n    }\n</style>\n<table border=\"1\" class=\"dataframe\">\n  <thead>\n    <tr style=\"text-align: right;\">\n      <th></th>\n      <th>account</th>\n      <th>name</th>\n      <th>street</th>\n      <th>state</th>\n      <th>postal-code</th>\n      <th>Jan</th>\n      <th>Feb</th>\n      <th>Mar</th>\n    </tr>\n    <tr>\n      <th>account</th>\n      <th></th>\n      <th></th>\n      <th></th>\n      <th></th>\n      <th></th>\n      <th></th>\n      <th></th>\n      <th></th>\n    </tr>\n  </thead>\n  <tbody>\n    <tr>\n      <th>109996</th>\n      <td>109996</td>\n      <td>D'Amore, Gleichner and Bode</td>\n      <td>155 Fadel Crescent Apt. 144</td>\n      <td>Maine</td>\n      <td>46021</td>\n      <td>45000</td>\n      <td>120000</td>\n      <td>10000</td>\n    </tr>\n    <tr>\n      <th>121213</th>\n      <td>121213</td>\n      <td>Bauch-Goldner</td>\n      <td>7274 Marissa Common</td>\n      <td>California</td>\n      <td>49681</td>\n      <td>162000</td>\n      <td>120000</td>\n      <td>35000</td>\n    </tr>\n    <tr>\n      <th>132971</th>\n      <td>132971</td>\n      <td>Williamson, Schumm and Hettinger</td>\n      <td>89403 Casimer Spring</td>\n      <td>Arkansas</td>\n      <td>62785</td>\n      <td>150000</td>\n      <td>120000</td>\n      <td>35000</td>\n    </tr>\n    <tr>\n      <th>145068</th>\n      <td>145068</td>\n      <td>Casper LLC</td>\n      <td>340 Consuela Bridge Apt. 400</td>\n      <td>Mississipi</td>\n      <td>18008</td>\n      <td>62000</td>\n      <td>120000</td>\n      <td>70000</td>\n    </tr>\n    <tr>\n      <th>205217</th>\n      <td>205217</td>\n      <td>Kovacek-Johnston</td>\n      <td>91971 Cronin Vista Suite 601</td>\n      <td>RhodeIsland</td>\n      <td>53461</td>\n      <td>145000</td>\n      <td>95000</td>\n      <td>35000</td>\n    </tr>\n    <tr>\n      <th>209744</th>\n      <td>209744</td>\n      <td>Champlin-Morar</td>\n      <td>26739 Grant Lock</td>\n      <td>Pennsylvania</td>\n      <td>64415</td>\n      <td>70000</td>\n      <td>95000</td>\n      <td>35000</td>\n    </tr>\n    <tr>\n      <th>211829</th>\n      <td>211829</td>\n      <td>Kerluke, Koepp and Hilpert</td>\n      <td>34456 Sean Highway</td>\n      <td>Texas</td>\n      <td>28752</td>\n      <td>10000</td>\n      <td>62000</td>\n      <td>35000</td>\n    </tr>\n    <tr>\n      <th>212303</th>\n      <td>212303</td>\n      <td>Gerhold-Maggio</td>\n      <td>366 Maggio Grove Apt. 998</td>\n      <td>Idaho</td>\n      <td>46308</td>\n      <td>70000</td>\n      <td>120000</td>\n      <td>35000</td>\n    </tr>\n    <tr>\n      <th>214098</th>\n      <td>214098</td>\n      <td>Goodwin, Homenick and Jerde</td>\n      <td>649 Cierra Forks Apt. 078</td>\n      <td>Tenessee</td>\n      <td>47743</td>\n      <td>45000</td>\n      <td>120000</td>\n      <td>55000</td>\n    </tr>\n    <tr>\n      <th>231907</th>\n      <td>231907</td>\n      <td>Hahn-Moore</td>\n      <td>18115 Olivine Throughway</td>\n      <td>NorthDakota</td>\n      <td>31415</td>\n      <td>150000</td>\n      <td>10000</td>\n      <td>162000</td>\n    </tr>\n    <tr>\n      <th>242368</th>\n      <td>242368</td>\n      <td>Frami, Anderson and Donnelly</td>\n      <td>182 Bertie Road</td>\n      <td>Iowa</td>\n      <td>72686</td>\n      <td>162000</td>\n      <td>120000</td>\n      <td>35000</td>\n    </tr>\n    <tr>\n      <th>268755</th>\n      <td>268755</td>\n      <td>Walsh-Haley</td>\n      <td>2624 Beatty Parkways</td>\n      <td>RhodeIsland</td>\n      <td>31919</td>\n      <td>55000</td>\n      <td>120000</td>\n      <td>35000</td>\n    </tr>\n    <tr>\n      <th>273274</th>\n      <td>273274</td>\n      <td>McDermott PLC</td>\n      <td>8917 Bergstrom Meadow</td>\n      <td>Delaware</td>\n      <td>27933</td>\n      <td>150000</td>\n      <td>120000</td>\n      <td>70000</td>\n    </tr>\n    <tr>\n      <th>320563</th>\n      <td>320563</td>\n      <td>Walter-Trantow</td>\n      <td>1311 Alvis Tunnel</td>\n      <td>NorthCarolina</td>\n      <td>38365</td>\n      <td>95000</td>\n      <td>45000</td>\n      <td>35000</td>\n    </tr>\n    <tr>\n      <th>648336</th>\n      <td>648336</td>\n      <td>Bashirian, Kunde and Price</td>\n      <td>62184 Schamberger Underpass Apt. 231</td>\n      <td>Iowa</td>\n      <td>76517</td>\n      <td>91000</td>\n      <td>120000</td>\n      <td>35000</td>\n    </tr>\n  </tbody>\n</table>\n</div>"
     },
     "execution_count": 11,
     "metadata": {},
     "output_type": "execute_result"
    }
   ],
   "source": [
    "# sort_index함수: index을 기준으로 정렬\n",
    "df.sort_index()"
   ],
   "metadata": {
    "collapsed": false,
    "ExecuteTime": {
     "end_time": "2023-10-05T06:58:57.325815Z",
     "start_time": "2023-10-05T06:58:57.300143Z"
    }
   },
   "id": "95127188454b7eba"
  }
 ],
 "metadata": {
  "kernelspec": {
   "display_name": "Python 3",
   "language": "python",
   "name": "python3"
  },
  "language_info": {
   "codemirror_mode": {
    "name": "ipython",
    "version": 2
   },
   "file_extension": ".py",
   "mimetype": "text/x-python",
   "name": "python",
   "nbconvert_exporter": "python",
   "pygments_lexer": "ipython2",
   "version": "2.7.6"
  }
 },
 "nbformat": 4,
 "nbformat_minor": 5
}
