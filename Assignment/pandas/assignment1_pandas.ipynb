{
 "cells": [
  {
   "cell_type": "markdown",
   "source": [
    "## 데이터 분석 및 활용 Assignment1 - Pandas 실습"
   ],
   "metadata": {
    "collapsed": false
   },
   "id": "a186884507a61548"
  },
  {
   "cell_type": "code",
   "execution_count": 1,
   "outputs": [],
   "source": [
    "import pandas as pd\n",
    "import numpy as np\n",
    "\n",
    "from pandas import Series, DataFrame"
   ],
   "metadata": {
    "collapsed": false,
    "ExecuteTime": {
     "end_time": "2023-10-05T06:14:34.212990Z",
     "start_time": "2023-10-05T06:14:30.673958Z"
    }
   },
   "id": "a2df21ac0202aa17"
  },
  {
   "cell_type": "markdown",
   "source": [
    "### 1. 데이터프레임을 직접 생성하기\n",
    "* pandas의 DataFrame 메소드 사용"
   ],
   "metadata": {
    "collapsed": false
   },
   "id": "be3c09b47ed579a9"
  },
  {
   "cell_type": "code",
   "execution_count": 4,
   "outputs": [
    {
     "data": {
      "text/plain": "  first_name last_name  age city\n0         주환         최   36   분당\n1         현수         김   39   서울\n2         병헌         민   38   경주\n3         용찬         이   38   대구\n4         승환         오   42   천안",
      "text/html": "<div>\n<style scoped>\n    .dataframe tbody tr th:only-of-type {\n        vertical-align: middle;\n    }\n\n    .dataframe tbody tr th {\n        vertical-align: top;\n    }\n\n    .dataframe thead th {\n        text-align: right;\n    }\n</style>\n<table border=\"1\" class=\"dataframe\">\n  <thead>\n    <tr style=\"text-align: right;\">\n      <th></th>\n      <th>first_name</th>\n      <th>last_name</th>\n      <th>age</th>\n      <th>city</th>\n    </tr>\n  </thead>\n  <tbody>\n    <tr>\n      <th>0</th>\n      <td>주환</td>\n      <td>최</td>\n      <td>36</td>\n      <td>분당</td>\n    </tr>\n    <tr>\n      <th>1</th>\n      <td>현수</td>\n      <td>김</td>\n      <td>39</td>\n      <td>서울</td>\n    </tr>\n    <tr>\n      <th>2</th>\n      <td>병헌</td>\n      <td>민</td>\n      <td>38</td>\n      <td>경주</td>\n    </tr>\n    <tr>\n      <th>3</th>\n      <td>용찬</td>\n      <td>이</td>\n      <td>38</td>\n      <td>대구</td>\n    </tr>\n    <tr>\n      <th>4</th>\n      <td>승환</td>\n      <td>오</td>\n      <td>42</td>\n      <td>천안</td>\n    </tr>\n  </tbody>\n</table>\n</div>"
     },
     "execution_count": 4,
     "metadata": {},
     "output_type": "execute_result"
    }
   ],
   "source": [
    "from pandas import Series, DataFrame\n",
    "\n",
    "raw_data = {\n",
    "      'first_name': ['주환', '현수', '병헌', '용찬', '승환'],\n",
    "      'last_name': ['최', '김', '민', '이', '오'],\n",
    "      'age': [36, 39, 38, 38, 42],\n",
    "      'city': ['분당', '서울', '경주', '대구', '천안']\n",
    "    }\n",
    "\n",
    "df = pd.DataFrame(raw_data, columns = ['first_name', 'last_name', 'age', 'city'])\n",
    "df"
   ],
   "metadata": {
    "collapsed": false,
    "ExecuteTime": {
     "end_time": "2023-10-05T06:20:37.870742Z",
     "start_time": "2023-10-05T06:20:37.834617Z"
    }
   },
   "id": "71809e2ce2d05d30"
  },
  {
   "cell_type": "code",
   "execution_count": 5,
   "outputs": [
    {
     "data": {
      "text/plain": "  first_name last_name  age city\n0         주환         최   36   분당\n1         현수         김   39   서울",
      "text/html": "<div>\n<style scoped>\n    .dataframe tbody tr th:only-of-type {\n        vertical-align: middle;\n    }\n\n    .dataframe tbody tr th {\n        vertical-align: top;\n    }\n\n    .dataframe thead th {\n        text-align: right;\n    }\n</style>\n<table border=\"1\" class=\"dataframe\">\n  <thead>\n    <tr style=\"text-align: right;\">\n      <th></th>\n      <th>first_name</th>\n      <th>last_name</th>\n      <th>age</th>\n      <th>city</th>\n    </tr>\n  </thead>\n  <tbody>\n    <tr>\n      <th>0</th>\n      <td>주환</td>\n      <td>최</td>\n      <td>36</td>\n      <td>분당</td>\n    </tr>\n    <tr>\n      <th>1</th>\n      <td>현수</td>\n      <td>김</td>\n      <td>39</td>\n      <td>서울</td>\n    </tr>\n  </tbody>\n</table>\n</div>"
     },
     "execution_count": 5,
     "metadata": {},
     "output_type": "execute_result"
    }
   ],
   "source": [
    "# 상단의 두개의 데이터만 확인하기\n",
    "df.head(2)"
   ],
   "metadata": {
    "collapsed": false,
    "ExecuteTime": {
     "end_time": "2023-10-05T06:23:32.778093Z",
     "start_time": "2023-10-05T06:23:32.769290Z"
    }
   },
   "id": "ebed87fdc749bcf7"
  },
  {
   "cell_type": "markdown",
   "source": [
    "### 2. "
   ],
   "metadata": {
    "collapsed": false
   },
   "id": "e36b64aa2ccf66b1"
  },
  {
   "cell_type": "code",
   "execution_count": 11,
   "id": "initial_id",
   "metadata": {
    "collapsed": true,
    "ExecuteTime": {
     "end_time": "2023-10-05T06:32:48.357232Z",
     "start_time": "2023-10-05T06:32:46.967777Z"
    }
   },
   "outputs": [
    {
     "data": {
      "text/plain": "    account                              name  \\\n0    211829        Kerluke, Koepp and Hilpert   \n1    320563                    Walter-Trantow   \n2    648336        Bashirian, Kunde and Price   \n3    109996       D'Amore, Gleichner and Bode   \n4    121213                     Bauch-Goldner   \n5    132971  Williamson, Schumm and Hettinger   \n6    145068                        Casper LLC   \n7    205217                  Kovacek-Johnston   \n8    209744                    Champlin-Morar   \n9    212303                    Gerhold-Maggio   \n10   214098       Goodwin, Homenick and Jerde   \n11   231907                        Hahn-Moore   \n12   242368      Frami, Anderson and Donnelly   \n13   268755                       Walsh-Haley   \n14   273274                     McDermott PLC   \n\n                                  street               city          state  \\\n0                     34456 Sean Highway         New Jaycob          Texas   \n1                      1311 Alvis Tunnel      Port Khadijah  NorthCarolina   \n2   62184 Schamberger Underpass Apt. 231     New Lilianland           Iowa   \n3            155 Fadel Crescent Apt. 144         Hyattburgh          Maine   \n4                    7274 Marissa Common    Shanahanchester     California   \n5                   89403 Casimer Spring       Jeremieburgh       Arkansas   \n6           340 Consuela Bridge Apt. 400  Lake Gabriellaton     Mississipi   \n7           91971 Cronin Vista Suite 601         Deronville    RhodeIsland   \n8                       26739 Grant Lock    Lake Juliannton   Pennsylvania   \n9              366 Maggio Grove Apt. 998          North Ras          Idaho   \n10             649 Cierra Forks Apt. 078           Rosaberg       Tenessee   \n11              18115 Olivine Throughway      Norbertomouth    NorthDakota   \n12                       182 Bertie Road        East Davian           Iowa   \n13                  2624 Beatty Parkways       Goodwinmouth    RhodeIsland   \n14                 8917 Bergstrom Meadow    Kathryneborough       Delaware   \n\n    postal-code     Jan     Feb     Mar  \n0         28752   10000   62000   35000  \n1         38365   95000   45000   35000  \n2         76517   91000  120000   35000  \n3         46021   45000  120000   10000  \n4         49681  162000  120000   35000  \n5         62785  150000  120000   35000  \n6         18008   62000  120000   70000  \n7         53461  145000   95000   35000  \n8         64415   70000   95000   35000  \n9         46308   70000  120000   35000  \n10        47743   45000  120000   55000  \n11        31415  150000   10000  162000  \n12        72686  162000  120000   35000  \n13        31919   55000  120000   35000  \n14        27933  150000  120000   70000  ",
      "text/html": "<div>\n<style scoped>\n    .dataframe tbody tr th:only-of-type {\n        vertical-align: middle;\n    }\n\n    .dataframe tbody tr th {\n        vertical-align: top;\n    }\n\n    .dataframe thead th {\n        text-align: right;\n    }\n</style>\n<table border=\"1\" class=\"dataframe\">\n  <thead>\n    <tr style=\"text-align: right;\">\n      <th></th>\n      <th>account</th>\n      <th>name</th>\n      <th>street</th>\n      <th>city</th>\n      <th>state</th>\n      <th>postal-code</th>\n      <th>Jan</th>\n      <th>Feb</th>\n      <th>Mar</th>\n    </tr>\n  </thead>\n  <tbody>\n    <tr>\n      <th>0</th>\n      <td>211829</td>\n      <td>Kerluke, Koepp and Hilpert</td>\n      <td>34456 Sean Highway</td>\n      <td>New Jaycob</td>\n      <td>Texas</td>\n      <td>28752</td>\n      <td>10000</td>\n      <td>62000</td>\n      <td>35000</td>\n    </tr>\n    <tr>\n      <th>1</th>\n      <td>320563</td>\n      <td>Walter-Trantow</td>\n      <td>1311 Alvis Tunnel</td>\n      <td>Port Khadijah</td>\n      <td>NorthCarolina</td>\n      <td>38365</td>\n      <td>95000</td>\n      <td>45000</td>\n      <td>35000</td>\n    </tr>\n    <tr>\n      <th>2</th>\n      <td>648336</td>\n      <td>Bashirian, Kunde and Price</td>\n      <td>62184 Schamberger Underpass Apt. 231</td>\n      <td>New Lilianland</td>\n      <td>Iowa</td>\n      <td>76517</td>\n      <td>91000</td>\n      <td>120000</td>\n      <td>35000</td>\n    </tr>\n    <tr>\n      <th>3</th>\n      <td>109996</td>\n      <td>D'Amore, Gleichner and Bode</td>\n      <td>155 Fadel Crescent Apt. 144</td>\n      <td>Hyattburgh</td>\n      <td>Maine</td>\n      <td>46021</td>\n      <td>45000</td>\n      <td>120000</td>\n      <td>10000</td>\n    </tr>\n    <tr>\n      <th>4</th>\n      <td>121213</td>\n      <td>Bauch-Goldner</td>\n      <td>7274 Marissa Common</td>\n      <td>Shanahanchester</td>\n      <td>California</td>\n      <td>49681</td>\n      <td>162000</td>\n      <td>120000</td>\n      <td>35000</td>\n    </tr>\n    <tr>\n      <th>5</th>\n      <td>132971</td>\n      <td>Williamson, Schumm and Hettinger</td>\n      <td>89403 Casimer Spring</td>\n      <td>Jeremieburgh</td>\n      <td>Arkansas</td>\n      <td>62785</td>\n      <td>150000</td>\n      <td>120000</td>\n      <td>35000</td>\n    </tr>\n    <tr>\n      <th>6</th>\n      <td>145068</td>\n      <td>Casper LLC</td>\n      <td>340 Consuela Bridge Apt. 400</td>\n      <td>Lake Gabriellaton</td>\n      <td>Mississipi</td>\n      <td>18008</td>\n      <td>62000</td>\n      <td>120000</td>\n      <td>70000</td>\n    </tr>\n    <tr>\n      <th>7</th>\n      <td>205217</td>\n      <td>Kovacek-Johnston</td>\n      <td>91971 Cronin Vista Suite 601</td>\n      <td>Deronville</td>\n      <td>RhodeIsland</td>\n      <td>53461</td>\n      <td>145000</td>\n      <td>95000</td>\n      <td>35000</td>\n    </tr>\n    <tr>\n      <th>8</th>\n      <td>209744</td>\n      <td>Champlin-Morar</td>\n      <td>26739 Grant Lock</td>\n      <td>Lake Juliannton</td>\n      <td>Pennsylvania</td>\n      <td>64415</td>\n      <td>70000</td>\n      <td>95000</td>\n      <td>35000</td>\n    </tr>\n    <tr>\n      <th>9</th>\n      <td>212303</td>\n      <td>Gerhold-Maggio</td>\n      <td>366 Maggio Grove Apt. 998</td>\n      <td>North Ras</td>\n      <td>Idaho</td>\n      <td>46308</td>\n      <td>70000</td>\n      <td>120000</td>\n      <td>35000</td>\n    </tr>\n    <tr>\n      <th>10</th>\n      <td>214098</td>\n      <td>Goodwin, Homenick and Jerde</td>\n      <td>649 Cierra Forks Apt. 078</td>\n      <td>Rosaberg</td>\n      <td>Tenessee</td>\n      <td>47743</td>\n      <td>45000</td>\n      <td>120000</td>\n      <td>55000</td>\n    </tr>\n    <tr>\n      <th>11</th>\n      <td>231907</td>\n      <td>Hahn-Moore</td>\n      <td>18115 Olivine Throughway</td>\n      <td>Norbertomouth</td>\n      <td>NorthDakota</td>\n      <td>31415</td>\n      <td>150000</td>\n      <td>10000</td>\n      <td>162000</td>\n    </tr>\n    <tr>\n      <th>12</th>\n      <td>242368</td>\n      <td>Frami, Anderson and Donnelly</td>\n      <td>182 Bertie Road</td>\n      <td>East Davian</td>\n      <td>Iowa</td>\n      <td>72686</td>\n      <td>162000</td>\n      <td>120000</td>\n      <td>35000</td>\n    </tr>\n    <tr>\n      <th>13</th>\n      <td>268755</td>\n      <td>Walsh-Haley</td>\n      <td>2624 Beatty Parkways</td>\n      <td>Goodwinmouth</td>\n      <td>RhodeIsland</td>\n      <td>31919</td>\n      <td>55000</td>\n      <td>120000</td>\n      <td>35000</td>\n    </tr>\n    <tr>\n      <th>14</th>\n      <td>273274</td>\n      <td>McDermott PLC</td>\n      <td>8917 Bergstrom Meadow</td>\n      <td>Kathryneborough</td>\n      <td>Delaware</td>\n      <td>27933</td>\n      <td>150000</td>\n      <td>120000</td>\n      <td>70000</td>\n    </tr>\n  </tbody>\n</table>\n</div>"
     },
     "execution_count": 11,
     "metadata": {},
     "output_type": "execute_result"
    }
   ],
   "source": [
    "# 데이터 불러오기 \n",
    "df_data = pd.read_excel(\"excel-comp-data.xlsx\") # excel 데이터 로드\n",
    "df_data"
   ]
  },
  {
   "cell_type": "code",
   "execution_count": 13,
   "outputs": [
    {
     "data": {
      "text/plain": "                                      10                        11  \\\naccount                           214098                    231907   \nname         Goodwin, Homenick and Jerde                Hahn-Moore   \nstreet         649 Cierra Forks Apt. 078  18115 Olivine Throughway   \ncity                            Rosaberg             Norbertomouth   \nstate                           Tenessee               NorthDakota   \npostal-code                        47743                     31415   \nJan                                45000                    150000   \nFeb                               120000                     10000   \nMar                                55000                    162000   \n\n                                       12                    13  \\\naccount                            242368                268755   \nname         Frami, Anderson and Donnelly           Walsh-Haley   \nstreet                    182 Bertie Road  2624 Beatty Parkways   \ncity                          East Davian          Goodwinmouth   \nstate                                Iowa           RhodeIsland   \npostal-code                         72686                 31919   \nJan                                162000                 55000   \nFeb                                120000                120000   \nMar                                 35000                 35000   \n\n                                14  \naccount                     273274  \nname                 McDermott PLC  \nstreet       8917 Bergstrom Meadow  \ncity               Kathryneborough  \nstate                     Delaware  \npostal-code                  27933  \nJan                         150000  \nFeb                         120000  \nMar                          70000  ",
      "text/html": "<div>\n<style scoped>\n    .dataframe tbody tr th:only-of-type {\n        vertical-align: middle;\n    }\n\n    .dataframe tbody tr th {\n        vertical-align: top;\n    }\n\n    .dataframe thead th {\n        text-align: right;\n    }\n</style>\n<table border=\"1\" class=\"dataframe\">\n  <thead>\n    <tr style=\"text-align: right;\">\n      <th></th>\n      <th>10</th>\n      <th>11</th>\n      <th>12</th>\n      <th>13</th>\n      <th>14</th>\n    </tr>\n  </thead>\n  <tbody>\n    <tr>\n      <th>account</th>\n      <td>214098</td>\n      <td>231907</td>\n      <td>242368</td>\n      <td>268755</td>\n      <td>273274</td>\n    </tr>\n    <tr>\n      <th>name</th>\n      <td>Goodwin, Homenick and Jerde</td>\n      <td>Hahn-Moore</td>\n      <td>Frami, Anderson and Donnelly</td>\n      <td>Walsh-Haley</td>\n      <td>McDermott PLC</td>\n    </tr>\n    <tr>\n      <th>street</th>\n      <td>649 Cierra Forks Apt. 078</td>\n      <td>18115 Olivine Throughway</td>\n      <td>182 Bertie Road</td>\n      <td>2624 Beatty Parkways</td>\n      <td>8917 Bergstrom Meadow</td>\n    </tr>\n    <tr>\n      <th>city</th>\n      <td>Rosaberg</td>\n      <td>Norbertomouth</td>\n      <td>East Davian</td>\n      <td>Goodwinmouth</td>\n      <td>Kathryneborough</td>\n    </tr>\n    <tr>\n      <th>state</th>\n      <td>Tenessee</td>\n      <td>NorthDakota</td>\n      <td>Iowa</td>\n      <td>RhodeIsland</td>\n      <td>Delaware</td>\n    </tr>\n    <tr>\n      <th>postal-code</th>\n      <td>47743</td>\n      <td>31415</td>\n      <td>72686</td>\n      <td>31919</td>\n      <td>27933</td>\n    </tr>\n    <tr>\n      <th>Jan</th>\n      <td>45000</td>\n      <td>150000</td>\n      <td>162000</td>\n      <td>55000</td>\n      <td>150000</td>\n    </tr>\n    <tr>\n      <th>Feb</th>\n      <td>120000</td>\n      <td>10000</td>\n      <td>120000</td>\n      <td>120000</td>\n      <td>120000</td>\n    </tr>\n    <tr>\n      <th>Mar</th>\n      <td>55000</td>\n      <td>162000</td>\n      <td>35000</td>\n      <td>35000</td>\n      <td>70000</td>\n    </tr>\n  </tbody>\n</table>\n</div>"
     },
     "execution_count": 13,
     "metadata": {},
     "output_type": "execute_result"
    }
   ],
   "source": [
    "# 행과 열의 전치 -> T사용\n",
    "df_data.tail().T"
   ],
   "metadata": {
    "collapsed": false,
    "ExecuteTime": {
     "end_time": "2023-10-05T06:34:09.969146Z",
     "start_time": "2023-10-05T06:34:09.965408Z"
    }
   },
   "id": "edd1974806fd895d"
  },
  {
   "cell_type": "code",
   "execution_count": 14,
   "outputs": [
    {
     "data": {
      "text/plain": "   account             city\n1   320563    Port Khadijah\n3   109996       Hyattburgh\n4   121213  Shanahanchester",
      "text/html": "<div>\n<style scoped>\n    .dataframe tbody tr th:only-of-type {\n        vertical-align: middle;\n    }\n\n    .dataframe tbody tr th {\n        vertical-align: top;\n    }\n\n    .dataframe thead th {\n        text-align: right;\n    }\n</style>\n<table border=\"1\" class=\"dataframe\">\n  <thead>\n    <tr style=\"text-align: right;\">\n      <th></th>\n      <th>account</th>\n      <th>city</th>\n    </tr>\n  </thead>\n  <tbody>\n    <tr>\n      <th>1</th>\n      <td>320563</td>\n      <td>Port Khadijah</td>\n    </tr>\n    <tr>\n      <th>3</th>\n      <td>109996</td>\n      <td>Hyattburgh</td>\n    </tr>\n    <tr>\n      <th>4</th>\n      <td>121213</td>\n      <td>Shanahanchester</td>\n    </tr>\n  </tbody>\n</table>\n</div>"
     },
     "execution_count": 14,
     "metadata": {},
     "output_type": "execute_result"
    }
   ],
   "source": [
    "# loc함수: index이름과 열 이름으로 데이터 추출\n",
    "# 1, 3, 4번쨰 인덱스의 account, city column을 추출\n",
    "df_data.loc[[1, 3, 4], [\"account\", \"city\"]]"
   ],
   "metadata": {
    "collapsed": false,
    "ExecuteTime": {
     "end_time": "2023-10-05T06:35:43.821468Z",
     "start_time": "2023-10-05T06:35:43.803674Z"
    }
   },
   "id": "db7821e53548925c"
  },
  {
   "cell_type": "code",
   "execution_count": 17,
   "outputs": [
    {
     "data": {
      "text/plain": "         account                         name  \\\naccount                                         \n211829    211829   Kerluke, Koepp and Hilpert   \n320563    320563               Walter-Trantow   \n648336    648336   Bashirian, Kunde and Price   \n109996    109996  D'Amore, Gleichner and Bode   \n121213    121213                Bauch-Goldner   \n\n                                       street             city          state  \\\naccount                                                                         \n211829                     34456 Sean Highway       New Jaycob          Texas   \n320563                      1311 Alvis Tunnel    Port Khadijah  NorthCarolina   \n648336   62184 Schamberger Underpass Apt. 231   New Lilianland           Iowa   \n109996            155 Fadel Crescent Apt. 144       Hyattburgh          Maine   \n121213                    7274 Marissa Common  Shanahanchester     California   \n\n         postal-code     Jan     Feb    Mar  \naccount                                      \n211829         28752   10000   62000  35000  \n320563         38365   95000   45000  35000  \n648336         76517   91000  120000  35000  \n109996         46021   45000  120000  10000  \n121213         49681  162000  120000  35000  ",
      "text/html": "<div>\n<style scoped>\n    .dataframe tbody tr th:only-of-type {\n        vertical-align: middle;\n    }\n\n    .dataframe tbody tr th {\n        vertical-align: top;\n    }\n\n    .dataframe thead th {\n        text-align: right;\n    }\n</style>\n<table border=\"1\" class=\"dataframe\">\n  <thead>\n    <tr style=\"text-align: right;\">\n      <th></th>\n      <th>account</th>\n      <th>name</th>\n      <th>street</th>\n      <th>city</th>\n      <th>state</th>\n      <th>postal-code</th>\n      <th>Jan</th>\n      <th>Feb</th>\n      <th>Mar</th>\n    </tr>\n    <tr>\n      <th>account</th>\n      <th></th>\n      <th></th>\n      <th></th>\n      <th></th>\n      <th></th>\n      <th></th>\n      <th></th>\n      <th></th>\n      <th></th>\n    </tr>\n  </thead>\n  <tbody>\n    <tr>\n      <th>211829</th>\n      <td>211829</td>\n      <td>Kerluke, Koepp and Hilpert</td>\n      <td>34456 Sean Highway</td>\n      <td>New Jaycob</td>\n      <td>Texas</td>\n      <td>28752</td>\n      <td>10000</td>\n      <td>62000</td>\n      <td>35000</td>\n    </tr>\n    <tr>\n      <th>320563</th>\n      <td>320563</td>\n      <td>Walter-Trantow</td>\n      <td>1311 Alvis Tunnel</td>\n      <td>Port Khadijah</td>\n      <td>NorthCarolina</td>\n      <td>38365</td>\n      <td>95000</td>\n      <td>45000</td>\n      <td>35000</td>\n    </tr>\n    <tr>\n      <th>648336</th>\n      <td>648336</td>\n      <td>Bashirian, Kunde and Price</td>\n      <td>62184 Schamberger Underpass Apt. 231</td>\n      <td>New Lilianland</td>\n      <td>Iowa</td>\n      <td>76517</td>\n      <td>91000</td>\n      <td>120000</td>\n      <td>35000</td>\n    </tr>\n    <tr>\n      <th>109996</th>\n      <td>109996</td>\n      <td>D'Amore, Gleichner and Bode</td>\n      <td>155 Fadel Crescent Apt. 144</td>\n      <td>Hyattburgh</td>\n      <td>Maine</td>\n      <td>46021</td>\n      <td>45000</td>\n      <td>120000</td>\n      <td>10000</td>\n    </tr>\n    <tr>\n      <th>121213</th>\n      <td>121213</td>\n      <td>Bauch-Goldner</td>\n      <td>7274 Marissa Common</td>\n      <td>Shanahanchester</td>\n      <td>California</td>\n      <td>49681</td>\n      <td>162000</td>\n      <td>120000</td>\n      <td>35000</td>\n    </tr>\n  </tbody>\n</table>\n</div>"
     },
     "execution_count": 17,
     "metadata": {},
     "output_type": "execute_result"
    }
   ],
   "source": [
    "# index함수: 인덱스의 값을 우리가 원하는 값으로 변경\n",
    "# 해당 데이터의 인덱스의 값을 account로 변환시킴\n",
    "df_data.index = df_data[\"account\"]\n",
    "df_data.head()"
   ],
   "metadata": {
    "collapsed": false,
    "ExecuteTime": {
     "end_time": "2023-10-05T06:38:11.335836Z",
     "start_time": "2023-10-05T06:38:11.330950Z"
    }
   },
   "id": "774d425f963acda8"
  },
  {
   "cell_type": "code",
   "execution_count": 18,
   "outputs": [
    {
     "data": {
      "text/plain": "         account                         name  \\\naccount                                         \n211829    211829   Kerluke, Koepp and Hilpert   \n320563    320563               Walter-Trantow   \n648336    648336   Bashirian, Kunde and Price   \n109996    109996  D'Amore, Gleichner and Bode   \n121213    121213                Bauch-Goldner   \n\n                                       street          state  postal-code  \\\naccount                                                                     \n211829                     34456 Sean Highway          Texas        28752   \n320563                      1311 Alvis Tunnel  NorthCarolina        38365   \n648336   62184 Schamberger Underpass Apt. 231           Iowa        76517   \n109996            155 Fadel Crescent Apt. 144          Maine        46021   \n121213                    7274 Marissa Common     California        49681   \n\n            Jan     Feb    Mar  \naccount                         \n211829    10000   62000  35000  \n320563    95000   45000  35000  \n648336    91000  120000  35000  \n109996    45000  120000  10000  \n121213   162000  120000  35000  ",
      "text/html": "<div>\n<style scoped>\n    .dataframe tbody tr th:only-of-type {\n        vertical-align: middle;\n    }\n\n    .dataframe tbody tr th {\n        vertical-align: top;\n    }\n\n    .dataframe thead th {\n        text-align: right;\n    }\n</style>\n<table border=\"1\" class=\"dataframe\">\n  <thead>\n    <tr style=\"text-align: right;\">\n      <th></th>\n      <th>account</th>\n      <th>name</th>\n      <th>street</th>\n      <th>state</th>\n      <th>postal-code</th>\n      <th>Jan</th>\n      <th>Feb</th>\n      <th>Mar</th>\n    </tr>\n    <tr>\n      <th>account</th>\n      <th></th>\n      <th></th>\n      <th></th>\n      <th></th>\n      <th></th>\n      <th></th>\n      <th></th>\n      <th></th>\n    </tr>\n  </thead>\n  <tbody>\n    <tr>\n      <th>211829</th>\n      <td>211829</td>\n      <td>Kerluke, Koepp and Hilpert</td>\n      <td>34456 Sean Highway</td>\n      <td>Texas</td>\n      <td>28752</td>\n      <td>10000</td>\n      <td>62000</td>\n      <td>35000</td>\n    </tr>\n    <tr>\n      <th>320563</th>\n      <td>320563</td>\n      <td>Walter-Trantow</td>\n      <td>1311 Alvis Tunnel</td>\n      <td>NorthCarolina</td>\n      <td>38365</td>\n      <td>95000</td>\n      <td>45000</td>\n      <td>35000</td>\n    </tr>\n    <tr>\n      <th>648336</th>\n      <td>648336</td>\n      <td>Bashirian, Kunde and Price</td>\n      <td>62184 Schamberger Underpass Apt. 231</td>\n      <td>Iowa</td>\n      <td>76517</td>\n      <td>91000</td>\n      <td>120000</td>\n      <td>35000</td>\n    </tr>\n    <tr>\n      <th>109996</th>\n      <td>109996</td>\n      <td>D'Amore, Gleichner and Bode</td>\n      <td>155 Fadel Crescent Apt. 144</td>\n      <td>Maine</td>\n      <td>46021</td>\n      <td>45000</td>\n      <td>120000</td>\n      <td>10000</td>\n    </tr>\n    <tr>\n      <th>121213</th>\n      <td>121213</td>\n      <td>Bauch-Goldner</td>\n      <td>7274 Marissa Common</td>\n      <td>California</td>\n      <td>49681</td>\n      <td>162000</td>\n      <td>120000</td>\n      <td>35000</td>\n    </tr>\n  </tbody>\n</table>\n</div>"
     },
     "execution_count": 18,
     "metadata": {},
     "output_type": "execute_result"
    }
   ],
   "source": [
    "# del함수: 원하는 열 하나 삭제\n",
    "# 'city' 칼럼 삭제\n",
    "del df_data[\"city\"]\n",
    "df_data.head()"
   ],
   "metadata": {
    "collapsed": false,
    "ExecuteTime": {
     "end_time": "2023-10-05T06:40:00.394332Z",
     "start_time": "2023-10-05T06:40:00.373516Z"
    }
   },
   "id": "da57388411bfb129"
  },
  {
   "cell_type": "code",
   "execution_count": 20,
   "outputs": [
    {
     "data": {
      "text/plain": "                                     name  \\\naccount                                     \n211829         Kerluke, Koepp and Hilpert   \n320563                     Walter-Trantow   \n648336         Bashirian, Kunde and Price   \n109996        D'Amore, Gleichner and Bode   \n121213                      Bauch-Goldner   \n132971   Williamson, Schumm and Hettinger   \n145068                         Casper LLC   \n\n                                       street          state  \naccount                                                       \n211829                     34456 Sean Highway          Texas  \n320563                      1311 Alvis Tunnel  NorthCarolina  \n648336   62184 Schamberger Underpass Apt. 231           Iowa  \n109996            155 Fadel Crescent Apt. 144          Maine  \n121213                    7274 Marissa Common     California  \n132971                   89403 Casimer Spring       Arkansas  \n145068           340 Consuela Bridge Apt. 400     Mississipi  ",
      "text/html": "<div>\n<style scoped>\n    .dataframe tbody tr th:only-of-type {\n        vertical-align: middle;\n    }\n\n    .dataframe tbody tr th {\n        vertical-align: top;\n    }\n\n    .dataframe thead th {\n        text-align: right;\n    }\n</style>\n<table border=\"1\" class=\"dataframe\">\n  <thead>\n    <tr style=\"text-align: right;\">\n      <th></th>\n      <th>name</th>\n      <th>street</th>\n      <th>state</th>\n    </tr>\n    <tr>\n      <th>account</th>\n      <th></th>\n      <th></th>\n      <th></th>\n    </tr>\n  </thead>\n  <tbody>\n    <tr>\n      <th>211829</th>\n      <td>Kerluke, Koepp and Hilpert</td>\n      <td>34456 Sean Highway</td>\n      <td>Texas</td>\n    </tr>\n    <tr>\n      <th>320563</th>\n      <td>Walter-Trantow</td>\n      <td>1311 Alvis Tunnel</td>\n      <td>NorthCarolina</td>\n    </tr>\n    <tr>\n      <th>648336</th>\n      <td>Bashirian, Kunde and Price</td>\n      <td>62184 Schamberger Underpass Apt. 231</td>\n      <td>Iowa</td>\n    </tr>\n    <tr>\n      <th>109996</th>\n      <td>D'Amore, Gleichner and Bode</td>\n      <td>155 Fadel Crescent Apt. 144</td>\n      <td>Maine</td>\n    </tr>\n    <tr>\n      <th>121213</th>\n      <td>Bauch-Goldner</td>\n      <td>7274 Marissa Common</td>\n      <td>California</td>\n    </tr>\n    <tr>\n      <th>132971</th>\n      <td>Williamson, Schumm and Hettinger</td>\n      <td>89403 Casimer Spring</td>\n      <td>Arkansas</td>\n    </tr>\n    <tr>\n      <th>145068</th>\n      <td>Casper LLC</td>\n      <td>340 Consuela Bridge Apt. 400</td>\n      <td>Mississipi</td>\n    </tr>\n  </tbody>\n</table>\n</div>"
     },
     "execution_count": 20,
     "metadata": {},
     "output_type": "execute_result"
    }
   ],
   "source": [
    "# iloc함수: index위치로 호출\n",
    "# 행 방향으로 0~6번째 인덱스, 열 기준으로 1~3번쨰 인덱스까지 출력\n",
    "df_test = df_data.iloc[:7, 1:4]\n",
    "df_test"
   ],
   "metadata": {
    "collapsed": false,
    "ExecuteTime": {
     "end_time": "2023-10-05T06:43:58.796596Z",
     "start_time": "2023-10-05T06:43:58.789178Z"
    }
   },
   "id": "e301f1f5228b4126"
  },
  {
   "cell_type": "code",
   "execution_count": 21,
   "outputs": [
    {
     "data": {
      "text/plain": "                                     name  \\\naccount                                     \n109996        D'Amore, Gleichner and Bode   \n121213                      Bauch-Goldner   \n132971   Williamson, Schumm and Hettinger   \n145068                         Casper LLC   \n211829         Kerluke, Koepp and Hilpert   \n320563                     Walter-Trantow   \n648336         Bashirian, Kunde and Price   \n\n                                       street          state  \naccount                                                       \n109996            155 Fadel Crescent Apt. 144          Maine  \n121213                    7274 Marissa Common     California  \n132971                   89403 Casimer Spring       Arkansas  \n145068           340 Consuela Bridge Apt. 400     Mississipi  \n211829                     34456 Sean Highway          Texas  \n320563                      1311 Alvis Tunnel  NorthCarolina  \n648336   62184 Schamberger Underpass Apt. 231           Iowa  ",
      "text/html": "<div>\n<style scoped>\n    .dataframe tbody tr th:only-of-type {\n        vertical-align: middle;\n    }\n\n    .dataframe tbody tr th {\n        vertical-align: top;\n    }\n\n    .dataframe thead th {\n        text-align: right;\n    }\n</style>\n<table border=\"1\" class=\"dataframe\">\n  <thead>\n    <tr style=\"text-align: right;\">\n      <th></th>\n      <th>name</th>\n      <th>street</th>\n      <th>state</th>\n    </tr>\n    <tr>\n      <th>account</th>\n      <th></th>\n      <th></th>\n      <th></th>\n    </tr>\n  </thead>\n  <tbody>\n    <tr>\n      <th>109996</th>\n      <td>D'Amore, Gleichner and Bode</td>\n      <td>155 Fadel Crescent Apt. 144</td>\n      <td>Maine</td>\n    </tr>\n    <tr>\n      <th>121213</th>\n      <td>Bauch-Goldner</td>\n      <td>7274 Marissa Common</td>\n      <td>California</td>\n    </tr>\n    <tr>\n      <th>132971</th>\n      <td>Williamson, Schumm and Hettinger</td>\n      <td>89403 Casimer Spring</td>\n      <td>Arkansas</td>\n    </tr>\n    <tr>\n      <th>145068</th>\n      <td>Casper LLC</td>\n      <td>340 Consuela Bridge Apt. 400</td>\n      <td>Mississipi</td>\n    </tr>\n    <tr>\n      <th>211829</th>\n      <td>Kerluke, Koepp and Hilpert</td>\n      <td>34456 Sean Highway</td>\n      <td>Texas</td>\n    </tr>\n    <tr>\n      <th>320563</th>\n      <td>Walter-Trantow</td>\n      <td>1311 Alvis Tunnel</td>\n      <td>NorthCarolina</td>\n    </tr>\n    <tr>\n      <th>648336</th>\n      <td>Bashirian, Kunde and Price</td>\n      <td>62184 Schamberger Underpass Apt. 231</td>\n      <td>Iowa</td>\n    </tr>\n  </tbody>\n</table>\n</div>"
     },
     "execution_count": 21,
     "metadata": {},
     "output_type": "execute_result"
    }
   ],
   "source": [
    "# sort_index함수: index을 기준으로 정렬\n",
    "df_test.sort_index()"
   ],
   "metadata": {
    "collapsed": false,
    "ExecuteTime": {
     "end_time": "2023-10-05T06:44:26.247513Z",
     "start_time": "2023-10-05T06:44:26.225739Z"
    }
   },
   "id": "7d0bab6ff4e5e371"
  },
  {
   "cell_type": "code",
   "execution_count": null,
   "outputs": [],
   "source": [],
   "metadata": {
    "collapsed": false
   },
   "id": "7756b1ad71f38c32"
  }
 ],
 "metadata": {
  "kernelspec": {
   "display_name": "Python 3",
   "language": "python",
   "name": "python3"
  },
  "language_info": {
   "codemirror_mode": {
    "name": "ipython",
    "version": 2
   },
   "file_extension": ".py",
   "mimetype": "text/x-python",
   "name": "python",
   "nbconvert_exporter": "python",
   "pygments_lexer": "ipython2",
   "version": "2.7.6"
  }
 },
 "nbformat": 4,
 "nbformat_minor": 5
}
